{
 "cells": [
  {
   "cell_type": "markdown",
   "metadata": {},
   "source": [
    "<center>\n",
    "<h1><b>Mario Ferreyra | Emiliano Kokic</b></h1>\n",
    "<h4>Diplomatura AACSyA 2018 - FaMAF - UNC</h4>\n",
    "<h3>Análisis y visualización de datos</h3>\n",
    "</center>\n",
    "\n",
    "# Resolucion de Tarea integradora - Parte 1\n",
    "\n",
    "En esta notebook presentamos una serie de ejercicios para trabajar con variables aleatorias discretas, tanto númericas como cátegoricas, ejemplificando los conceptos de probabilidad explicados en clase. Lo primero es determinar si todas las librerías están correctamente instaladas."
   ]
  },
  {
   "cell_type": "code",
   "execution_count": 1,
   "metadata": {},
   "outputs": [],
   "source": [
    "# %matplotlib notebook\n",
    "%matplotlib inline\n",
    "import pandas as pd\n",
    "import numpy as np\n",
    "import seaborn as sns\n",
    "import matplotlib.pyplot as plt"
   ]
  },
  {
   "cell_type": "code",
   "execution_count": 2,
   "metadata": {},
   "outputs": [],
   "source": [
    "sns.set_style('whitegrid')\n",
    "sns.set_context('talk')"
   ]
  },
  {
   "cell_type": "markdown",
   "metadata": {},
   "source": [
    "## Cargar el dataset en un dataframe de pandas\n",
    "\n",
    "Los dataframes son tablas con un montón de operaciones ya programadas. Prácticamente todas las funciones de SQL se pueden realizar en pandas con pocas líneas. Además de eso, tiene funciones para leer y escribir archivos en numerosos formatos.\n",
    "\n",
    "Ahora leemos directamente el archivo .csv"
   ]
  },
  {
   "cell_type": "code",
   "execution_count": 3,
   "metadata": {},
   "outputs": [
    {
     "name": "stdout",
     "output_type": "stream",
     "text": [
      "<module 'pandas' from '/home/mferreyra/.virtualenvs/diplodatos-ayv/lib/python3.6/site-packages/pandas/__init__.py'>\n"
     ]
    }
   ],
   "source": [
    "print(pd)"
   ]
  },
  {
   "cell_type": "code",
   "execution_count": 4,
   "metadata": {},
   "outputs": [],
   "source": [
    "#dataset = pd.read_csv('https://cs.famaf.unc.edu.ar/~mteruel/datasets/diplodatos/violencia-institucional-2018-01.csv',\n",
    "#                      encoding='utf8')\n",
    "dataset = pd.read_csv('/home/mferreyra/Desktop/DiploDatos_2018/Analisis_Visualizacion_Datos/Datasets/violencia-institucional-2018-01.csv',\n",
    "                      encoding='utf8')"
   ]
  },
  {
   "cell_type": "code",
   "execution_count": 5,
   "metadata": {},
   "outputs": [
    {
     "data": {
      "text/html": [
       "<div>\n",
       "<style scoped>\n",
       "    .dataframe tbody tr th:only-of-type {\n",
       "        vertical-align: middle;\n",
       "    }\n",
       "\n",
       "    .dataframe tbody tr th {\n",
       "        vertical-align: top;\n",
       "    }\n",
       "\n",
       "    .dataframe thead th {\n",
       "        text-align: right;\n",
       "    }\n",
       "</style>\n",
       "<table border=\"1\" class=\"dataframe\">\n",
       "  <thead>\n",
       "    <tr style=\"text-align: right;\">\n",
       "      <th></th>\n",
       "      <th>area</th>\n",
       "      <th>organismo_origen</th>\n",
       "      <th>via_acceso</th>\n",
       "      <th>año</th>\n",
       "      <th>provincia</th>\n",
       "      <th>contexto</th>\n",
       "      <th>contexto1</th>\n",
       "      <th>circunstancia</th>\n",
       "      <th>alojamiento</th>\n",
       "      <th>violencia_fisica</th>\n",
       "      <th>violencia_psiquica</th>\n",
       "      <th>violencia_genero</th>\n",
       "      <th>violencia_salud</th>\n",
       "      <th>resumen_hecho</th>\n",
       "      <th>descripcion_institucion</th>\n",
       "      <th>establecimiento</th>\n",
       "      <th>Unnamed: 16</th>\n",
       "    </tr>\n",
       "  </thead>\n",
       "  <tbody>\n",
       "    <tr>\n",
       "      <th>0</th>\n",
       "      <td>DNPCVI</td>\n",
       "      <td>SECRETARIA DE DDHH</td>\n",
       "      <td>Telefónica</td>\n",
       "      <td>2017,00</td>\n",
       "      <td>Buenos Aires</td>\n",
       "      <td>Situaciones de Detención</td>\n",
       "      <td>Penal / Complejo Penitenciario PROVINCIAL</td>\n",
       "      <td>NaN</td>\n",
       "      <td>NaN</td>\n",
       "      <td>NaN</td>\n",
       "      <td>NaN</td>\n",
       "      <td>NaN</td>\n",
       "      <td>Denegación acceso atención médica</td>\n",
       "      <td>NaN</td>\n",
       "      <td>Servicio Penitenciario Provincial</td>\n",
       "      <td>UPP Nº 13 Junin</td>\n",
       "      <td>NaN</td>\n",
       "    </tr>\n",
       "    <tr>\n",
       "      <th>1</th>\n",
       "      <td>DNPCVI</td>\n",
       "      <td>SECRETARIA DE DDHH</td>\n",
       "      <td>Telefónica</td>\n",
       "      <td>2017,00</td>\n",
       "      <td>Buenos Aires</td>\n",
       "      <td>Situaciones de Detención</td>\n",
       "      <td>Penal / Complejo Penitenciario PROVINCIAL</td>\n",
       "      <td>NaN</td>\n",
       "      <td>Malas condiciones de alojamiento (higiene), Hu...</td>\n",
       "      <td>NaN</td>\n",
       "      <td>NaN</td>\n",
       "      <td>NaN</td>\n",
       "      <td>Denegación acceso atención médica</td>\n",
       "      <td>NaN</td>\n",
       "      <td>Servicio Penitenciario Provincial</td>\n",
       "      <td>UPP Nº 13 DE JUNIN</td>\n",
       "      <td>NaN</td>\n",
       "    </tr>\n",
       "    <tr>\n",
       "      <th>2</th>\n",
       "      <td>DNPCVI</td>\n",
       "      <td>SECRETARIA DE DDHH</td>\n",
       "      <td>Telefónica</td>\n",
       "      <td>2017,00</td>\n",
       "      <td>Buenos Aires</td>\n",
       "      <td>Situaciones de Detención</td>\n",
       "      <td>Penal / Complejo Penitenciario PROVINCIAL</td>\n",
       "      <td>NaN</td>\n",
       "      <td>Malas condiciones de alojamiento (higiene)</td>\n",
       "      <td>NaN</td>\n",
       "      <td>NaN</td>\n",
       "      <td>NaN</td>\n",
       "      <td>NaN</td>\n",
       "      <td>NaN</td>\n",
       "      <td>Servicio Penitenciario Provincial</td>\n",
       "      <td>UPP Nº 36 de Magdalena</td>\n",
       "      <td>NaN</td>\n",
       "    </tr>\n",
       "    <tr>\n",
       "      <th>3</th>\n",
       "      <td>DNPCVI</td>\n",
       "      <td>SECRETARIA DE DDHH</td>\n",
       "      <td>Telefónica</td>\n",
       "      <td>2017,00</td>\n",
       "      <td>Buenos Aires</td>\n",
       "      <td>Situaciones de Detención</td>\n",
       "      <td>Comisaría</td>\n",
       "      <td>NaN</td>\n",
       "      <td>Mala alimentación, Malas condiciones de alojam...</td>\n",
       "      <td>NaN</td>\n",
       "      <td>Alejamiento de vínculos</td>\n",
       "      <td>NaN</td>\n",
       "      <td>NaN</td>\n",
       "      <td>NaN</td>\n",
       "      <td>Policia Provincial</td>\n",
       "      <td>Comisaria Nº 3 de Rafael Castillo</td>\n",
       "      <td>NaN</td>\n",
       "    </tr>\n",
       "    <tr>\n",
       "      <th>4</th>\n",
       "      <td>DNPCVI</td>\n",
       "      <td>SECRETARIA DE DDHH</td>\n",
       "      <td>Telefónica</td>\n",
       "      <td>2017,00</td>\n",
       "      <td>Buenos Aires</td>\n",
       "      <td>Situaciones de Detención</td>\n",
       "      <td>Penal / Complejo Penitenciario PROVINCIAL</td>\n",
       "      <td>NaN</td>\n",
       "      <td>NaN</td>\n",
       "      <td>Golpes</td>\n",
       "      <td>NaN</td>\n",
       "      <td>NaN</td>\n",
       "      <td>NaN</td>\n",
       "      <td>NaN</td>\n",
       "      <td>Servicio Penitenciario Provincial</td>\n",
       "      <td>NaN</td>\n",
       "      <td>NaN</td>\n",
       "    </tr>\n",
       "  </tbody>\n",
       "</table>\n",
       "</div>"
      ],
      "text/plain": [
       "     area    organismo_origen  via_acceso      año     provincia  \\\n",
       "0  DNPCVI  SECRETARIA DE DDHH  Telefónica  2017,00  Buenos Aires   \n",
       "1  DNPCVI  SECRETARIA DE DDHH  Telefónica  2017,00  Buenos Aires   \n",
       "2  DNPCVI  SECRETARIA DE DDHH  Telefónica  2017,00  Buenos Aires   \n",
       "3  DNPCVI  SECRETARIA DE DDHH  Telefónica  2017,00  Buenos Aires   \n",
       "4  DNPCVI  SECRETARIA DE DDHH  Telefónica  2017,00  Buenos Aires   \n",
       "\n",
       "                   contexto                                  contexto1  \\\n",
       "0  Situaciones de Detención  Penal / Complejo Penitenciario PROVINCIAL   \n",
       "1  Situaciones de Detención  Penal / Complejo Penitenciario PROVINCIAL   \n",
       "2  Situaciones de Detención  Penal / Complejo Penitenciario PROVINCIAL   \n",
       "3  Situaciones de Detención                                  Comisaría   \n",
       "4  Situaciones de Detención  Penal / Complejo Penitenciario PROVINCIAL   \n",
       "\n",
       "  circunstancia                                        alojamiento  \\\n",
       "0           NaN                                                NaN   \n",
       "1           NaN  Malas condiciones de alojamiento (higiene), Hu...   \n",
       "2           NaN         Malas condiciones de alojamiento (higiene)   \n",
       "3           NaN  Mala alimentación, Malas condiciones de alojam...   \n",
       "4           NaN                                                NaN   \n",
       "\n",
       "  violencia_fisica       violencia_psiquica violencia_genero  \\\n",
       "0              NaN                      NaN              NaN   \n",
       "1              NaN                      NaN              NaN   \n",
       "2              NaN                      NaN              NaN   \n",
       "3              NaN  Alejamiento de vínculos              NaN   \n",
       "4           Golpes                      NaN              NaN   \n",
       "\n",
       "                     violencia_salud  resumen_hecho  \\\n",
       "0  Denegación acceso atención médica            NaN   \n",
       "1  Denegación acceso atención médica            NaN   \n",
       "2                                NaN            NaN   \n",
       "3                                NaN            NaN   \n",
       "4                                NaN            NaN   \n",
       "\n",
       "             descripcion_institucion                    establecimiento  \\\n",
       "0  Servicio Penitenciario Provincial                    UPP Nº 13 Junin   \n",
       "1  Servicio Penitenciario Provincial                 UPP Nº 13 DE JUNIN   \n",
       "2  Servicio Penitenciario Provincial             UPP Nº 36 de Magdalena   \n",
       "3                 Policia Provincial  Comisaria Nº 3 de Rafael Castillo   \n",
       "4  Servicio Penitenciario Provincial                                NaN   \n",
       "\n",
       "   Unnamed: 16  \n",
       "0          NaN  \n",
       "1          NaN  \n",
       "2          NaN  \n",
       "3          NaN  \n",
       "4          NaN  "
      ]
     },
     "execution_count": 5,
     "metadata": {},
     "output_type": "execute_result"
    }
   ],
   "source": [
    "dataset[:5]"
   ]
  },
  {
   "cell_type": "markdown",
   "metadata": {},
   "source": [
    "Los valores para los años no tienen un formato consistente en todas las filas, por lo que los procesaremos antes de comenzar. Los valores de año faltantes son reemplazados por NaN, y como la representación de enteros de numpy no soporta este tipo de valores, convertiremos cada año a tipo numpy.float. Otras decisiones pueden ser tomadas en este punto, como reemplazar los valores faltantes por 0 o elminarlos del dataset, dependiendo del tipo de datos que se requiera.\n",
    "\n",
    "También cambiaremos el nombre de la columna año, ya que el caracter ñ no permite utilizar el syntax sugar de pandas donde se obtienen los valores de la columna con la sintáxis de llamar a un método."
   ]
  },
  {
   "cell_type": "code",
   "execution_count": 6,
   "metadata": {},
   "outputs": [],
   "source": [
    "import six\n",
    "def convert_to_int(row):\n",
    "    try:\n",
    "        return float(row)\n",
    "    except ValueError:\n",
    "        if isinstance(row, six.string_types):\n",
    "            return float(row.split(',')[0])\n",
    "        return row\n",
    "\n",
    "dataset.loc[:,'year'] = dataset[u'año'].apply(convert_to_int)\n",
    "# Se podrían también decodicar los nombres de provincias\n",
    "# dataset.loc[:,'provincia'] = dataset.provincia.apply(lambda x: x.decode(\"utf-8\"))"
   ]
  },
  {
   "cell_type": "code",
   "execution_count": 7,
   "metadata": {},
   "outputs": [
    {
     "data": {
      "text/plain": [
       "((1439, 18), (1316,))"
      ]
     },
     "execution_count": 7,
     "metadata": {},
     "output_type": "execute_result"
    }
   ],
   "source": [
    "dataset.shape, dataset.year.dropna().shape"
   ]
  },
  {
   "cell_type": "markdown",
   "metadata": {},
   "source": [
    "---\n",
    "# Resolucion de Ejercicios"
   ]
  },
  {
   "cell_type": "markdown",
   "metadata": {},
   "source": [
    "### Ejercicio 1"
   ]
  },
  {
   "cell_type": "markdown",
   "metadata": {},
   "source": [
    "* Crear una imagen mostrando la distribución de los eventos por año"
   ]
  },
  {
   "cell_type": "code",
   "execution_count": 8,
   "metadata": {},
   "outputs": [
    {
     "name": "stderr",
     "output_type": "stream",
     "text": [
      "/home/mferreyra/.virtualenvs/diplodatos-ayv/lib/python3.6/site-packages/matplotlib/axes/_axes.py:6462: UserWarning: The 'normed' kwarg is deprecated, and has been replaced by the 'density' kwarg.\n",
      "  warnings.warn(\"The 'normed' kwarg is deprecated, and has been \"\n"
     ]
    },
    {
     "data": {
      "text/plain": [
       "[]"
      ]
     },
     "execution_count": 8,
     "metadata": {},
     "output_type": "execute_result"
    },
    {
     "data": {
      "image/png": "[encoded data removed]",
      "text/plain": [
       "<Figure size 432x288 with 1 Axes>"
      ]
     },
     "metadata": {},
     "output_type": "display_data"
    }
   ],
   "source": [
    "ax = sns.distplot(dataset.year.dropna(), norm_hist=True)\n",
    "ax.set_xlabel(\"Years\")\n",
    "ax.set_ylabel(\"Events\")\n",
    "ax.plot()"
   ]
  },
  {
   "cell_type": "markdown",
   "metadata": {},
   "source": [
    "* Construir una tabla de frecuencia de probabilidades dado el evento Y = ’año en el que ocurrió’\n",
    "\n",
    "$$fdp(Y)$$"
   ]
  },
  {
   "cell_type": "code",
   "execution_count": 9,
   "metadata": {},
   "outputs": [
    {
     "data": {
      "text/plain": [
       "1988.0    0.000760\n",
       "1989.0    0.000760\n",
       "1990.0    0.003799\n",
       "1991.0    0.003799\n",
       "1993.0    0.001520\n",
       "1994.0    0.002280\n",
       "1996.0    0.000760\n",
       "1997.0    0.000760\n",
       "1998.0    0.001520\n",
       "1999.0    0.001520\n",
       "2000.0    0.002280\n",
       "2001.0    0.002280\n",
       "2002.0    0.005319\n",
       "2003.0    0.006839\n",
       "2004.0    0.001520\n",
       "2005.0    0.002280\n",
       "2006.0    0.002280\n",
       "2007.0    0.003799\n",
       "2008.0    0.003799\n",
       "2009.0    0.007599\n",
       "2010.0    0.015957\n",
       "2011.0    0.012158\n",
       "2012.0    0.047112\n",
       "2013.0    0.216565\n",
       "2014.0    0.183131\n",
       "2015.0    0.066109\n",
       "2016.0    0.225684\n",
       "2017.0    0.177812\n",
       "Name: year, dtype: float64"
      ]
     },
     "execution_count": 9,
     "metadata": {},
     "output_type": "execute_result"
    }
   ],
   "source": [
    "fdp = dataset.year.dropna()\n",
    "fdp = fdp.value_counts(normalize=True)\n",
    "fdp = fdp.sort_index()\n",
    "fdp"
   ]
  },
  {
   "cell_type": "markdown",
   "metadata": {},
   "source": [
    "* Crear una imagen de dichas probabilidades con el gráfico que considere adecuado.  \n",
    "¿Son ambos gráficos iguales?  \n",
    "¿Cuál considera que es más útil?\n",
    "\n",
    "Consideramos el segundo grafico (de barras) mas util, siempre que se quiera \n",
    "visualizar con mayor detalle la frecuencia de eventos ocurridos en cada year particular."
   ]
  },
  {
   "cell_type": "code",
   "execution_count": 10,
   "metadata": {},
   "outputs": [
    {
     "data": {
      "image/png": "[encoded data removed]",
      "text/plain": [
       "<Figure size 432x288 with 1 Axes>"
      ]
     },
     "metadata": {},
     "output_type": "display_data"
    }
   ],
   "source": [
    "ax = sns.barplot(data=fdp.to_frame().reset_index(), x='index', y='year')\n",
    "ax.set_xlabel(\"Year\")\n",
    "ax.set_ylabel(\"Frequency\")\n",
    "ax.set_xticklabels(ax.get_xticklabels(), rotation=90, ha=\"right\")\n",
    "\n",
    "sns.despine()"
   ]
  },
  {
   "cell_type": "markdown",
   "metadata": {},
   "source": [
    "* ¿A qué se debe la forma de la distribución?  \n",
    "¿Qué tendencia muestra?\n",
    "¿Ha aumentado la violencia institucional en los últimos años?\n",
    "\n",
    "Muestra justamente que los casos de violencia institucional han aumentado en el ultimo tiempo.\n",
    "De manera notable en 2013 y 2016."
   ]
  },
  {
   "cell_type": "markdown",
   "metadata": {},
   "source": [
    "* Calcular la función de distribución acumulada de la variable Y y graficarla.  \n",
    "¿Cuál es la probabilidad de que haya dado un acto de violencia antes del último cambio de gobierno?"
   ]
  },
  {
   "cell_type": "code",
   "execution_count": 11,
   "metadata": {},
   "outputs": [],
   "source": [
    "# Funcion de distribucion acumulada de Y = \"año en el que ocurrio\"\n",
    "def Fda(x, fdp):\n",
    "    cumulative = 0\n",
    "    for year, prob in fdp.items():\n",
    "        if (year <= x):\n",
    "            cumulative += prob\n",
    "    return cumulative"
   ]
  },
  {
   "cell_type": "code",
   "execution_count": 12,
   "metadata": {},
   "outputs": [],
   "source": [
    "df_fdp = fdp.to_frame()\n",
    "x = df_fdp.index.values"
   ]
  },
  {
   "cell_type": "code",
   "execution_count": 13,
   "metadata": {},
   "outputs": [
    {
     "data": {
      "text/plain": [
       "[<matplotlib.lines.Line2D at 0x7f0639569160>]"
      ]
     },
     "execution_count": 13,
     "metadata": {},
     "output_type": "execute_result"
    },
    {
     "data": {
      "image/png": "[encoded data removed]",
      "text/plain": [
       "<Figure size 432x288 with 1 Axes>"
      ]
     },
     "metadata": {},
     "output_type": "display_data"
    }
   ],
   "source": [
    "# Forma 1 de graficar funcion de distribucion acumulada (f.d.a.)\n",
    "y1 = [Fda(i, fdp) for i in x]\n",
    "plt.plot(x, y1)"
   ]
  },
  {
   "cell_type": "code",
   "execution_count": 14,
   "metadata": {},
   "outputs": [
    {
     "data": {
      "text/plain": [
       "[<matplotlib.lines.Line2D at 0x7f0639543390>]"
      ]
     },
     "execution_count": 14,
     "metadata": {},
     "output_type": "execute_result"
    },
    {
     "data": {
      "image/png": "[encoded data removed]",
      "text/plain": [
       "<Figure size 432x288 with 1 Axes>"
      ]
     },
     "metadata": {},
     "output_type": "display_data"
    }
   ],
   "source": [
    "# Forma 2 de graficar funcion de distribucion acumulada (f.d.a.)\n",
    "# https://stackoverflow.com/questions/15889131/how-to-find-the-cumulative-sum-of-numbers-in-a-list\n",
    "y2 = np.cumsum(df_fdp.values)\n",
    "plt.plot(x, y2)"
   ]
  },
  {
   "cell_type": "code",
   "execution_count": 15,
   "metadata": {},
   "outputs": [
    {
     "data": {
      "text/plain": [
       "0.5965045592705167"
      ]
     },
     "execution_count": 15,
     "metadata": {},
     "output_type": "execute_result"
    }
   ],
   "source": [
    "# Nota: El ultimo cambio de gobierno se produjo en el año 2015 (Mauricio Macri)\n",
    "# Prob de que se haya dado un acto de violencia antes del último cambio de gobierno.\n",
    "Fda(2015, fdp)"
   ]
  },
  {
   "cell_type": "markdown",
   "metadata": {},
   "source": [
    "IMPORTANTE: ¿Qué hacemos con los datos faltantes?"
   ]
  },
  {
   "cell_type": "markdown",
   "metadata": {},
   "source": [
    "Notar que en todo el dataset tenemos un total de 1439 filas pero en algunas no hay datos (NaN), por lo que quitando aquellas vacias (NaN) nos quedan 1316 filas.  \n",
    "Eliminamos unas 123 filas correspondientes al 8.55%, es decir, nos quedamos con el 91.45% de las filas.  \n",
    "Como no pocos los datos que eliminamos, no afectan de forma significativa a los calculos que estamos haciendo."
   ]
  },
  {
   "cell_type": "markdown",
   "metadata": {},
   "source": [
    "## Ejercicio 2"
   ]
  },
  {
   "cell_type": "markdown",
   "metadata": {},
   "source": [
    "* Construir una tabla de frecuencia de probabilidades dado el evento X = ’provincia donde se desarrollo el hecho’\n",
    "\n",
    "$$fdp(X)$$"
   ]
  },
  {
   "cell_type": "code",
   "execution_count": 16,
   "metadata": {},
   "outputs": [
    {
     "data": {
      "text/plain": [
       "Buenos Aires              0.693182\n",
       "Ciudad de Buenos Aires    0.083097\n",
       "Córdoba                   0.036932\n",
       "Chubut                    0.026278\n",
       "Chaco                     0.020597\n",
       "Rio Negro                 0.019176\n",
       "Neuquen                   0.014915\n",
       "Santa Fe                  0.014205\n",
       "Mendoza                   0.012074\n",
       "Salta                     0.012074\n",
       "Misiones                  0.007812\n",
       "Santiago del Estero       0.007102\n",
       "La Pampa                  0.007102\n",
       "Tucuman                   0.007102\n",
       "Formosa                   0.007102\n",
       "Jujuy                     0.006392\n",
       "Entre Rios                0.006392\n",
       "La Rioja                  0.004261\n",
       "Corrientes                0.003551\n",
       "Santa Cruz                0.002841\n",
       "San Luis                  0.002841\n",
       "San Juan                  0.002131\n",
       "Catamarca                 0.001420\n",
       "Tierra del Fuego          0.001420\n",
       "Name: provincia, dtype: float64"
      ]
     },
     "execution_count": 16,
     "metadata": {},
     "output_type": "execute_result"
    }
   ],
   "source": [
    "fdp = dataset.provincia\n",
    "fdp = fdp.dropna()\n",
    "fdp = fdp.value_counts(normalize=True)\n",
    "#fdp = fdp.sort_index()\n",
    "fdp"
   ]
  },
  {
   "cell_type": "markdown",
   "metadata": {},
   "source": [
    "* ¿Qué información adicional es necesaria para mostrar estos datos de manera más adecuada?"
   ]
  },
  {
   "cell_type": "markdown",
   "metadata": {},
   "source": [
    "La informacion que falta agregar es la de la poblacion de cada provincia.  \n",
    "Ya que podemos apreciar, mirando la tabla de frecuencias, que en Bs.As. hay mas casos de violencia institucional. Pero agregando la poblacion veremos que los datos se equiparan."
   ]
  },
  {
   "cell_type": "markdown",
   "metadata": {},
   "source": [
    "* Muestre la distribución de los eventos visualmente.  \n",
    "¿Qué tipo de gráfico es más adecuado para mostrar esta información?"
   ]
  },
  {
   "cell_type": "code",
   "execution_count": 17,
   "metadata": {},
   "outputs": [
    {
     "data": {
      "image/png": "[encoded data removed]",
      "text/plain": [
       "<Figure size 432x288 with 1 Axes>"
      ]
     },
     "metadata": {},
     "output_type": "display_data"
    }
   ],
   "source": [
    "ax = sns.barplot(data=fdp.to_frame().reset_index(), x='index', y='provincia')\n",
    "ax.set_xlabel(\"Provincia\")\n",
    "ax.set_ylabel(\"Frequency\")\n",
    "ax.set_xticklabels(ax.get_xticklabels(), rotation=90, ha=\"right\")\n",
    "\n",
    "sns.despine()"
   ]
  },
  {
   "cell_type": "markdown",
   "metadata": {},
   "source": [
    "### Ejercicio 3"
   ]
  },
  {
   "cell_type": "markdown",
   "metadata": {},
   "source": [
    "* Construir una tabla de doble entrada donde se observen las función de distribución de probabilidades con las 2 variables aleatorias anteriores.  \n",
    "¿Son eventos independientes?\n",
    "\n",
    "Si, son eventos independientes."
   ]
  },
  {
   "cell_type": "code",
   "execution_count": 18,
   "metadata": {},
   "outputs": [
    {
     "data": {
      "text/html": [
       "<div>\n",
       "<style scoped>\n",
       "    .dataframe tbody tr th:only-of-type {\n",
       "        vertical-align: middle;\n",
       "    }\n",
       "\n",
       "    .dataframe tbody tr th {\n",
       "        vertical-align: top;\n",
       "    }\n",
       "\n",
       "    .dataframe thead th {\n",
       "        text-align: right;\n",
       "    }\n",
       "</style>\n",
       "<table border=\"1\" class=\"dataframe\">\n",
       "  <thead>\n",
       "    <tr style=\"text-align: right;\">\n",
       "      <th>year</th>\n",
       "      <th>1988.0</th>\n",
       "      <th>1989.0</th>\n",
       "      <th>1990.0</th>\n",
       "      <th>1991.0</th>\n",
       "      <th>1993.0</th>\n",
       "      <th>1994.0</th>\n",
       "      <th>1996.0</th>\n",
       "      <th>1997.0</th>\n",
       "      <th>1998.0</th>\n",
       "      <th>1999.0</th>\n",
       "      <th>...</th>\n",
       "      <th>2008.0</th>\n",
       "      <th>2009.0</th>\n",
       "      <th>2010.0</th>\n",
       "      <th>2011.0</th>\n",
       "      <th>2012.0</th>\n",
       "      <th>2013.0</th>\n",
       "      <th>2014.0</th>\n",
       "      <th>2015.0</th>\n",
       "      <th>2016.0</th>\n",
       "      <th>2017.0</th>\n",
       "    </tr>\n",
       "    <tr>\n",
       "      <th>provincia</th>\n",
       "      <th></th>\n",
       "      <th></th>\n",
       "      <th></th>\n",
       "      <th></th>\n",
       "      <th></th>\n",
       "      <th></th>\n",
       "      <th></th>\n",
       "      <th></th>\n",
       "      <th></th>\n",
       "      <th></th>\n",
       "      <th></th>\n",
       "      <th></th>\n",
       "      <th></th>\n",
       "      <th></th>\n",
       "      <th></th>\n",
       "      <th></th>\n",
       "      <th></th>\n",
       "      <th></th>\n",
       "      <th></th>\n",
       "      <th></th>\n",
       "      <th></th>\n",
       "    </tr>\n",
       "  </thead>\n",
       "  <tbody>\n",
       "    <tr>\n",
       "      <th>Buenos Aires</th>\n",
       "      <td>0.000000</td>\n",
       "      <td>0.000766</td>\n",
       "      <td>0.000000</td>\n",
       "      <td>0.002299</td>\n",
       "      <td>0.0</td>\n",
       "      <td>0.000766</td>\n",
       "      <td>0.000000</td>\n",
       "      <td>0.000000</td>\n",
       "      <td>0.000000</td>\n",
       "      <td>0.0</td>\n",
       "      <td>...</td>\n",
       "      <td>0.002299</td>\n",
       "      <td>0.003065</td>\n",
       "      <td>0.006130</td>\n",
       "      <td>0.006897</td>\n",
       "      <td>0.016092</td>\n",
       "      <td>0.150192</td>\n",
       "      <td>0.125670</td>\n",
       "      <td>0.037548</td>\n",
       "      <td>0.178544</td>\n",
       "      <td>0.143295</td>\n",
       "    </tr>\n",
       "    <tr>\n",
       "      <th>Catamarca</th>\n",
       "      <td>0.000000</td>\n",
       "      <td>0.000000</td>\n",
       "      <td>0.000000</td>\n",
       "      <td>0.000000</td>\n",
       "      <td>0.0</td>\n",
       "      <td>0.000000</td>\n",
       "      <td>0.000000</td>\n",
       "      <td>0.000000</td>\n",
       "      <td>0.000000</td>\n",
       "      <td>0.0</td>\n",
       "      <td>...</td>\n",
       "      <td>0.000000</td>\n",
       "      <td>0.000000</td>\n",
       "      <td>0.000000</td>\n",
       "      <td>0.000000</td>\n",
       "      <td>0.000000</td>\n",
       "      <td>0.000000</td>\n",
       "      <td>0.000000</td>\n",
       "      <td>0.000000</td>\n",
       "      <td>0.000766</td>\n",
       "      <td>0.000000</td>\n",
       "    </tr>\n",
       "    <tr>\n",
       "      <th>Chaco</th>\n",
       "      <td>0.000000</td>\n",
       "      <td>0.000000</td>\n",
       "      <td>0.003065</td>\n",
       "      <td>0.000000</td>\n",
       "      <td>0.0</td>\n",
       "      <td>0.000000</td>\n",
       "      <td>0.000000</td>\n",
       "      <td>0.000000</td>\n",
       "      <td>0.000000</td>\n",
       "      <td>0.0</td>\n",
       "      <td>...</td>\n",
       "      <td>0.000000</td>\n",
       "      <td>0.000000</td>\n",
       "      <td>0.000000</td>\n",
       "      <td>0.000000</td>\n",
       "      <td>0.005364</td>\n",
       "      <td>0.006130</td>\n",
       "      <td>0.002299</td>\n",
       "      <td>0.002299</td>\n",
       "      <td>0.002299</td>\n",
       "      <td>0.000766</td>\n",
       "    </tr>\n",
       "    <tr>\n",
       "      <th>Chubut</th>\n",
       "      <td>0.000000</td>\n",
       "      <td>0.000000</td>\n",
       "      <td>0.000000</td>\n",
       "      <td>0.000000</td>\n",
       "      <td>0.0</td>\n",
       "      <td>0.000000</td>\n",
       "      <td>0.000000</td>\n",
       "      <td>0.000000</td>\n",
       "      <td>0.000000</td>\n",
       "      <td>0.0</td>\n",
       "      <td>...</td>\n",
       "      <td>0.000000</td>\n",
       "      <td>0.000000</td>\n",
       "      <td>0.002299</td>\n",
       "      <td>0.000000</td>\n",
       "      <td>0.002299</td>\n",
       "      <td>0.004598</td>\n",
       "      <td>0.006897</td>\n",
       "      <td>0.001533</td>\n",
       "      <td>0.001533</td>\n",
       "      <td>0.005364</td>\n",
       "    </tr>\n",
       "    <tr>\n",
       "      <th>Ciudad de Buenos Aires</th>\n",
       "      <td>0.000766</td>\n",
       "      <td>0.000000</td>\n",
       "      <td>0.000000</td>\n",
       "      <td>0.001533</td>\n",
       "      <td>0.0</td>\n",
       "      <td>0.000000</td>\n",
       "      <td>0.000766</td>\n",
       "      <td>0.000766</td>\n",
       "      <td>0.000766</td>\n",
       "      <td>0.0</td>\n",
       "      <td>...</td>\n",
       "      <td>0.000766</td>\n",
       "      <td>0.003831</td>\n",
       "      <td>0.000766</td>\n",
       "      <td>0.001533</td>\n",
       "      <td>0.007663</td>\n",
       "      <td>0.017625</td>\n",
       "      <td>0.018391</td>\n",
       "      <td>0.007663</td>\n",
       "      <td>0.008429</td>\n",
       "      <td>0.009195</td>\n",
       "    </tr>\n",
       "    <tr>\n",
       "      <th>Corrientes</th>\n",
       "      <td>0.000000</td>\n",
       "      <td>0.000000</td>\n",
       "      <td>0.000000</td>\n",
       "      <td>0.000000</td>\n",
       "      <td>0.0</td>\n",
       "      <td>0.000000</td>\n",
       "      <td>0.000000</td>\n",
       "      <td>0.000000</td>\n",
       "      <td>0.000000</td>\n",
       "      <td>0.0</td>\n",
       "      <td>...</td>\n",
       "      <td>0.000000</td>\n",
       "      <td>0.000000</td>\n",
       "      <td>0.000000</td>\n",
       "      <td>0.000000</td>\n",
       "      <td>0.000000</td>\n",
       "      <td>0.001533</td>\n",
       "      <td>0.000000</td>\n",
       "      <td>0.000766</td>\n",
       "      <td>0.000766</td>\n",
       "      <td>0.000000</td>\n",
       "    </tr>\n",
       "    <tr>\n",
       "      <th>Córdoba</th>\n",
       "      <td>0.000000</td>\n",
       "      <td>0.000000</td>\n",
       "      <td>0.000000</td>\n",
       "      <td>0.000000</td>\n",
       "      <td>0.0</td>\n",
       "      <td>0.000000</td>\n",
       "      <td>0.000000</td>\n",
       "      <td>0.000000</td>\n",
       "      <td>0.000000</td>\n",
       "      <td>0.0</td>\n",
       "      <td>...</td>\n",
       "      <td>0.000000</td>\n",
       "      <td>0.000000</td>\n",
       "      <td>0.001533</td>\n",
       "      <td>0.002299</td>\n",
       "      <td>0.003065</td>\n",
       "      <td>0.003831</td>\n",
       "      <td>0.003065</td>\n",
       "      <td>0.009962</td>\n",
       "      <td>0.008429</td>\n",
       "      <td>0.007663</td>\n",
       "    </tr>\n",
       "    <tr>\n",
       "      <th>Entre Rios</th>\n",
       "      <td>0.000000</td>\n",
       "      <td>0.000000</td>\n",
       "      <td>0.000000</td>\n",
       "      <td>0.000000</td>\n",
       "      <td>0.0</td>\n",
       "      <td>0.000000</td>\n",
       "      <td>0.000000</td>\n",
       "      <td>0.000000</td>\n",
       "      <td>0.000000</td>\n",
       "      <td>0.0</td>\n",
       "      <td>...</td>\n",
       "      <td>0.000000</td>\n",
       "      <td>0.000000</td>\n",
       "      <td>0.000000</td>\n",
       "      <td>0.000000</td>\n",
       "      <td>0.000766</td>\n",
       "      <td>0.000000</td>\n",
       "      <td>0.006130</td>\n",
       "      <td>0.000000</td>\n",
       "      <td>0.000000</td>\n",
       "      <td>0.000000</td>\n",
       "    </tr>\n",
       "    <tr>\n",
       "      <th>Formosa</th>\n",
       "      <td>0.000000</td>\n",
       "      <td>0.000000</td>\n",
       "      <td>0.000000</td>\n",
       "      <td>0.000000</td>\n",
       "      <td>0.0</td>\n",
       "      <td>0.000000</td>\n",
       "      <td>0.000000</td>\n",
       "      <td>0.000000</td>\n",
       "      <td>0.000000</td>\n",
       "      <td>0.0</td>\n",
       "      <td>...</td>\n",
       "      <td>0.000000</td>\n",
       "      <td>0.000000</td>\n",
       "      <td>0.000000</td>\n",
       "      <td>0.000000</td>\n",
       "      <td>0.000000</td>\n",
       "      <td>0.002299</td>\n",
       "      <td>0.002299</td>\n",
       "      <td>0.000766</td>\n",
       "      <td>0.000766</td>\n",
       "      <td>0.000766</td>\n",
       "    </tr>\n",
       "    <tr>\n",
       "      <th>Jujuy</th>\n",
       "      <td>0.000000</td>\n",
       "      <td>0.000000</td>\n",
       "      <td>0.000000</td>\n",
       "      <td>0.000000</td>\n",
       "      <td>0.0</td>\n",
       "      <td>0.000000</td>\n",
       "      <td>0.000000</td>\n",
       "      <td>0.000000</td>\n",
       "      <td>0.000000</td>\n",
       "      <td>0.0</td>\n",
       "      <td>...</td>\n",
       "      <td>0.000766</td>\n",
       "      <td>0.000000</td>\n",
       "      <td>0.000766</td>\n",
       "      <td>0.000000</td>\n",
       "      <td>0.000766</td>\n",
       "      <td>0.000766</td>\n",
       "      <td>0.000766</td>\n",
       "      <td>0.000766</td>\n",
       "      <td>0.000000</td>\n",
       "      <td>0.000000</td>\n",
       "    </tr>\n",
       "  </tbody>\n",
       "</table>\n",
       "<p>10 rows × 28 columns</p>\n",
       "</div>"
      ],
      "text/plain": [
       "year                      1988.0    1989.0    1990.0    1991.0  1993.0  \\\n",
       "provincia                                                                \n",
       "Buenos Aires            0.000000  0.000766  0.000000  0.002299     0.0   \n",
       "Catamarca               0.000000  0.000000  0.000000  0.000000     0.0   \n",
       "Chaco                   0.000000  0.000000  0.003065  0.000000     0.0   \n",
       "Chubut                  0.000000  0.000000  0.000000  0.000000     0.0   \n",
       "Ciudad de Buenos Aires  0.000766  0.000000  0.000000  0.001533     0.0   \n",
       "Corrientes              0.000000  0.000000  0.000000  0.000000     0.0   \n",
       "Córdoba                 0.000000  0.000000  0.000000  0.000000     0.0   \n",
       "Entre Rios              0.000000  0.000000  0.000000  0.000000     0.0   \n",
       "Formosa                 0.000000  0.000000  0.000000  0.000000     0.0   \n",
       "Jujuy                   0.000000  0.000000  0.000000  0.000000     0.0   \n",
       "\n",
       "year                      1994.0    1996.0    1997.0    1998.0  1999.0  \\\n",
       "provincia                                                                \n",
       "Buenos Aires            0.000766  0.000000  0.000000  0.000000     0.0   \n",
       "Catamarca               0.000000  0.000000  0.000000  0.000000     0.0   \n",
       "Chaco                   0.000000  0.000000  0.000000  0.000000     0.0   \n",
       "Chubut                  0.000000  0.000000  0.000000  0.000000     0.0   \n",
       "Ciudad de Buenos Aires  0.000000  0.000766  0.000766  0.000766     0.0   \n",
       "Corrientes              0.000000  0.000000  0.000000  0.000000     0.0   \n",
       "Córdoba                 0.000000  0.000000  0.000000  0.000000     0.0   \n",
       "Entre Rios              0.000000  0.000000  0.000000  0.000000     0.0   \n",
       "Formosa                 0.000000  0.000000  0.000000  0.000000     0.0   \n",
       "Jujuy                   0.000000  0.000000  0.000000  0.000000     0.0   \n",
       "\n",
       "year                      ...       2008.0    2009.0    2010.0    2011.0  \\\n",
       "provincia                 ...                                              \n",
       "Buenos Aires              ...     0.002299  0.003065  0.006130  0.006897   \n",
       "Catamarca                 ...     0.000000  0.000000  0.000000  0.000000   \n",
       "Chaco                     ...     0.000000  0.000000  0.000000  0.000000   \n",
       "Chubut                    ...     0.000000  0.000000  0.002299  0.000000   \n",
       "Ciudad de Buenos Aires    ...     0.000766  0.003831  0.000766  0.001533   \n",
       "Corrientes                ...     0.000000  0.000000  0.000000  0.000000   \n",
       "Córdoba                   ...     0.000000  0.000000  0.001533  0.002299   \n",
       "Entre Rios                ...     0.000000  0.000000  0.000000  0.000000   \n",
       "Formosa                   ...     0.000000  0.000000  0.000000  0.000000   \n",
       "Jujuy                     ...     0.000766  0.000000  0.000766  0.000000   \n",
       "\n",
       "year                      2012.0    2013.0    2014.0    2015.0    2016.0  \\\n",
       "provincia                                                                  \n",
       "Buenos Aires            0.016092  0.150192  0.125670  0.037548  0.178544   \n",
       "Catamarca               0.000000  0.000000  0.000000  0.000000  0.000766   \n",
       "Chaco                   0.005364  0.006130  0.002299  0.002299  0.002299   \n",
       "Chubut                  0.002299  0.004598  0.006897  0.001533  0.001533   \n",
       "Ciudad de Buenos Aires  0.007663  0.017625  0.018391  0.007663  0.008429   \n",
       "Corrientes              0.000000  0.001533  0.000000  0.000766  0.000766   \n",
       "Córdoba                 0.003065  0.003831  0.003065  0.009962  0.008429   \n",
       "Entre Rios              0.000766  0.000000  0.006130  0.000000  0.000000   \n",
       "Formosa                 0.000000  0.002299  0.002299  0.000766  0.000766   \n",
       "Jujuy                   0.000766  0.000766  0.000766  0.000766  0.000000   \n",
       "\n",
       "year                      2017.0  \n",
       "provincia                         \n",
       "Buenos Aires            0.143295  \n",
       "Catamarca               0.000000  \n",
       "Chaco                   0.000766  \n",
       "Chubut                  0.005364  \n",
       "Ciudad de Buenos Aires  0.009195  \n",
       "Corrientes              0.000000  \n",
       "Córdoba                 0.007663  \n",
       "Entre Rios              0.000000  \n",
       "Formosa                 0.000766  \n",
       "Jujuy                   0.000000  \n",
       "\n",
       "[10 rows x 28 columns]"
      ]
     },
     "execution_count": 18,
     "metadata": {},
     "output_type": "execute_result"
    }
   ],
   "source": [
    "#https://stackoverflow.com/questions/33271098/python-get-a-frequency-count-based-on-two-columns-variables-in-pandas-datafra?utm_medium=organic&utm_source=google_rich_qa&utm_campaign=google_rich_qa\n",
    "df = dataset[['year', 'provincia']]\n",
    "df = df.dropna()\n",
    "\n",
    "cross = pd.crosstab(index=dataset['provincia'], columns=dataset['year'], normalize=True)\n",
    "cross.head(10)"
   ]
  },
  {
   "cell_type": "markdown",
   "metadata": {},
   "source": [
    "* Crear una imagen de dichas probabilidades con el gráfico que considere adecuado."
   ]
  },
  {
   "cell_type": "code",
   "execution_count": 19,
   "metadata": {},
   "outputs": [
    {
     "data": {
      "text/plain": [
       "<matplotlib.axes._subplots.AxesSubplot at 0x7f06393ebef0>"
      ]
     },
     "execution_count": 19,
     "metadata": {},
     "output_type": "execute_result"
    },
    {
     "data": {
      "image/png": "[encoded data removed]",
      "text/plain": [
       "<Figure size 432x288 with 2 Axes>"
      ]
     },
     "metadata": {},
     "output_type": "display_data"
    }
   ],
   "source": [
    "sns.heatmap(cross)"
   ]
  },
  {
   "cell_type": "markdown",
   "metadata": {},
   "source": [
    "**Recordar lo siguiente**:  \n",
    "$$\n",
    "P(A | B) = \\frac{P(A \\cap B)}{P(B)} \\hspace{1cm} si \\hspace{0.2cm} P(B) > 0\n",
    "$$\n",
    "\n",
    "* Si A y B son independientes $\\longrightarrow$ $P(A \\cap B)$ = $P(A) * P(B)$\n",
    "* Si A y B son independientes $\\longrightarrow$ $P(A | B)$ = $P(A)$"
   ]
  },
  {
   "cell_type": "code",
   "execution_count": 20,
   "metadata": {},
   "outputs": [
    {
     "name": "stdout",
     "output_type": "stream",
     "text": [
      "Total de eventos de violencia institucional = 1439\n",
      "\n",
      "Total de eventos en todas las 'provincias' = 1408\n",
      "P('provincia') = 0.9784572619874913\n",
      "\n",
      "Total de eventos en todos los years = 1316\n",
      "P('year') = 0.9145239749826268\n",
      "\n",
      "P('provincia') * P('year') = 0.894822624583418\n",
      "\n",
      "Total de eventos en las 'provincias' y en los 'years' = 1305\n",
      "P(provincia intersec year) = 0.9068797776233496\n",
      "\n",
      "================================================================\n",
      "Supongamos que 'provincia' y 'year' son independientes ==> P('provincia' intersec 'year') = P('provincia') * P('year')\n",
      "Tenemos los siguientes datos:\n",
      "\t * P('provincia' intersec 'year') = 0.9068797776233496\n",
      "\t * P('provincia') * P('year') = 0.894822624583418\n",
      "Por lo que:\n",
      "\t   P('provincia' intersec 'year') = 0.9068797776233496 ~= 0.894822624583418 = P('provincia') * P('year')\n",
      "\t   Hay un error de 0.0120571530399316 \n",
      "\n",
      "Por lo que podemos concluir que 'provincia' y 'year' son independientes\n",
      "================================================================\n"
     ]
    }
   ],
   "source": [
    "# Veamos que las v.a. 'provincia' y 'year' son independientes\n",
    "\n",
    "# Cada fila en el dataset original representa un evento de violencia institucional\n",
    "total_events = dataset.shape[0]\n",
    "print(\"Total de eventos de violencia institucional = {}\".format(total_events))\n",
    "print(\"\")\n",
    "\n",
    "df_prov = dataset['provincia'].dropna()\n",
    "prov_events = df_prov.shape[0]\n",
    "print(\"Total de eventos en todas las 'provincias' = {}\".format(prov_events))\n",
    "\n",
    "#print(df_prov)\n",
    "\n",
    "P_prov = prov_events / total_events\n",
    "print(\"P('provincia') = {}\".format(P_prov))\n",
    "print(\"\")\n",
    "\n",
    "year_vp = dataset['year'].dropna()\n",
    "year_events = year_vp.shape[0]\n",
    "print(\"Total de eventos en todos los years = {}\".format(year_events))\n",
    "\n",
    "P_year = year_events / total_events\n",
    "print(\"P('year') = {}\".format(P_year))\n",
    "print(\"\")\n",
    "\n",
    "print(\"P('provincia') * P('year') = {}\".format(P_prov * P_year))\n",
    "print(\"\")\n",
    "\n",
    "df_prov_year = dataset.loc[:, ['provincia', 'year']]\n",
    "df_prov_year = df_prov_year.dropna() # con NaN = (1439, 2) | sin NaN = (1305, 2)\n",
    "prov_year_events = df_prov_year.shape[0]\n",
    "print(\"Total de eventos en las 'provincias' y en los 'years' = {}\".format(prov_year_events))\n",
    "\n",
    "P_PROVinterYEAR = prov_year_events / total_events\n",
    "print(\"P(provincia intersec year) = {}\".format(P_PROVinterYEAR))\n",
    "print(\"\")\n",
    "\n",
    "# ------------------------------------------------------------------- #\n",
    "# Veamos que las v.a. 'provincia' y 'year' son independientes #\n",
    "# ------------------------------------------------------------------- #\n",
    "print(\"================================================================\")\n",
    "print(\"Supongamos que 'provincia' y 'year' son independientes ==> P('provincia' intersec 'year') = P('provincia') * P('year')\")\n",
    "print(\"Tenemos los siguientes datos:\")\n",
    "print(\"\\t * P('provincia' intersec 'year') = {}\".format(P_PROVinterYEAR))\n",
    "print(\"\\t * P('provincia') * P('year') = {}\".format(P_prov * P_year))\n",
    "print(\"Por lo que:\")\n",
    "print(\"\\t   P('provincia' intersec 'year') = {} ~= {} = P('provincia') * P('year')\".format(P_PROVinterYEAR, P_prov * P_year))\n",
    "print(\"\\t   Hay un error de {} \".format(np.absolute((P_prov * P_year) - P_PROVinterYEAR)))\n",
    "print(\"\\nPor lo que podemos concluir que 'provincia' y 'year' son independientes\")\n",
    "print(\"================================================================\")"
   ]
  },
  {
   "cell_type": "markdown",
   "metadata": {},
   "source": [
    "## Ejercicio 4"
   ]
  },
  {
   "cell_type": "markdown",
   "metadata": {},
   "source": [
    "Dada la variable aleatoria Z = ’contexto1 en el que se produjo el hecho’, calcular la probabilidad que el hecho sea producido en una dependencia de una fuerza de seguridad (penal, comisaría, etc)\n",
    "\n",
    "$$ fdp(z=penal ~~ |~~  z=comisaria ~~ | ...) $$"
   ]
  },
  {
   "cell_type": "code",
   "execution_count": 21,
   "metadata": {},
   "outputs": [
    {
     "name": "stdout",
     "output_type": "stream",
     "text": [
      "Penal / Complejo Penitenciario PROVINCIAL                              0.365343\n",
      "Penal / Complejo Penitenciario FEDERAL                                 0.321300\n",
      "Comisaría                                                              0.091697\n",
      "Centros de Detención Previos al Juicio (Alcaidia)                      0.011552\n",
      "Centros de Detención Preventiva                                        0.004332\n",
      "Instalaciones de la Gendarmería Nacional                               0.002888\n",
      "Instalaciones de las Fuerzas Armadas (cuarteles, regimientos, etc.)    0.001444\n",
      "Name: contexto1, dtype: float64\n",
      "\n",
      "* P(hecho sea producido en una dependencia de una fuerza de seguridad) = 0.7985559566787004\n"
     ]
    }
   ],
   "source": [
    "fdp_Z = dataset.contexto1.dropna().value_counts(normalize=True)\n",
    "\n",
    "df = fdp_Z.filter(items=['Penal / Complejo Penitenciario PROVINCIAL', \n",
    "                         'Penal / Complejo Penitenciario FEDERAL', \n",
    "                         'Comisaría',\n",
    "                         'Centros de Detención Previos al Juicio (Alcaidia)',\n",
    "                         'Centros de Detención Preventiva',\n",
    "                         'Instalaciones de la Gendarmería Nacional',\n",
    "                         'Instalaciones de las Fuerzas Armadas (cuarteles, regimientos, etc.)'])\n",
    "\n",
    "print(df)\n",
    "\n",
    "# Probabilidad:\n",
    "print(\"\")\n",
    "prob = np.sum(df.values)\n",
    "print('* P(hecho sea producido en una dependencia de una fuerza de seguridad) = {}'.format(prob))"
   ]
  },
  {
   "cell_type": "markdown",
   "metadata": {},
   "source": [
    "## Ejercicio 5\n",
    "\n",
    "Dada la variable aleatoria M = ‘existió violencia física’:"
   ]
  },
  {
   "cell_type": "markdown",
   "metadata": {},
   "source": [
    "* ¿Que probabilidad existe que también tenga violencia psíquica? N = ‘existió violencia psíquica’\n",
    "\n",
    "$$P(N~~|~~M)$$"
   ]
  },
  {
   "cell_type": "markdown",
   "metadata": {},
   "source": [
    "**Recordar lo siguiente**:  \n",
    "\n",
    "Sea:  \n",
    "* N = existió violencia psíquica\n",
    "* M = existió violencia física\n",
    "\n",
    "$$\n",
    "P(N | M) = \\frac{P(N \\cap M)}{P(M)} \\hspace{1cm} si \\hspace{0.2cm} P(M) > 0\n",
    "$$\n",
    "\n",
    "* Si N y M son independientes $\\longrightarrow$ $P(N \\cap M)$ = $P(N) * P(M)$\n",
    "* Si N y M son independientes $\\longrightarrow$ $P(N | M)$ = $P(N)$"
   ]
  },
  {
   "cell_type": "code",
   "execution_count": 22,
   "metadata": {},
   "outputs": [
    {
     "name": "stdout",
     "output_type": "stream",
     "text": [
      "Total de eventos de violencia institucional = 1439\n",
      "\n",
      "Total de eventos donde existio violencia fisica = 590\n",
      "P(M) = 0.4100069492703266\n",
      "\n",
      "Total de eventos donde existio violencia psiquica = 487\n",
      "P(N) = 0.33842946490618486\n",
      "\n",
      "P(N) * P(M) = 0.13875843244937391\n",
      "\n",
      "Total de eventos donde existio violencia fisica y violencia psiquica = 126\n",
      "P(N intersec M) = 0.08756080611535788\n",
      "\n",
      "P(N | M) = 0.2135593220338983\n",
      "\n",
      "================================================================\n",
      "Supongamos que N y M son independientes ==> P(N intersec M) = P(N) * P(M)\n",
      "Tenemos los siguientes datos:\n",
      "\t * P(N intersec M) = 0.08756080611535788\n",
      "\t * P(N) * P(M) = 0.13875843244937391\n",
      "Por lo que:\n",
      "\t   P(N intersec M) = 0.08756080611535788 != 0.13875843244937391 = P(N) * P(M)\n",
      "\n",
      "Por lo tanto N y M no son eventos independientes\n",
      "================================================================\n"
     ]
    }
   ],
   "source": [
    "# Cada fila en el dataset original representa un evento de violencia institucional\n",
    "total_events = dataset.shape[0]\n",
    "print(\"Total de eventos de violencia institucional = {}\".format(total_events))\n",
    "print(\"\")\n",
    "\n",
    "df_vf = dataset['violencia_fisica'].dropna()\n",
    "vf_events = df_vf.shape[0]\n",
    "print(\"Total de eventos donde existio violencia fisica = {}\".format(vf_events))\n",
    "\n",
    "P_M = vf_events / total_events\n",
    "print(\"P(M) = {}\".format(P_M))\n",
    "print(\"\")\n",
    "\n",
    "df_vp = dataset['violencia_psiquica'].dropna()\n",
    "vp_events = df_vp.shape[0]\n",
    "print(\"Total de eventos donde existio violencia psiquica = {}\".format(vp_events))\n",
    "\n",
    "P_N = vp_events / total_events\n",
    "print(\"P(N) = {}\".format(P_N))\n",
    "print(\"\")\n",
    "\n",
    "print(\"P(N) * P(M) = {}\".format(P_N * P_M))\n",
    "print(\"\")\n",
    "\n",
    "df_vf_vp = dataset.loc[:, ['violencia_fisica', 'violencia_psiquica']]\n",
    "df_vf_vp = df_vf_vp.dropna() # con NaN = (1439, 2) | sin NaN = (126, 2)\n",
    "vf_vp_events = df_vf_vp.shape[0]\n",
    "print(\"Total de eventos donde existio violencia fisica y violencia psiquica = {}\".format(vf_vp_events))\n",
    "\n",
    "P_NinterM = vf_vp_events / total_events\n",
    "print(\"P(N intersec M) = {}\".format(P_NinterM))\n",
    "print(\"\")\n",
    "\n",
    "print(\"P(N | M) = {}\".format(P_NinterM / P_M))\n",
    "print(\"\")\n",
    "\n",
    "# ---------------------------------------------- #\n",
    "# Veamos que N y M no son eventos independientes #\n",
    "# ---------------------------------------------- #\n",
    "print(\"================================================================\")\n",
    "print(\"Supongamos que N y M son independientes ==> P(N intersec M) = P(N) * P(M)\")\n",
    "print(\"Tenemos los siguientes datos:\")\n",
    "print(\"\\t * P(N intersec M) = {}\".format(P_NinterM))\n",
    "print(\"\\t * P(N) * P(M) = {}\".format(P_N * P_M))\n",
    "print(\"Por lo que:\")\n",
    "print(\"\\t   P(N intersec M) = {} != {} = P(N) * P(M)\".format(P_NinterM, P_N * P_M))\n",
    "print(\"\\nPor lo tanto N y M no son eventos independientes\")\n",
    "print(\"================================================================\")"
   ]
  },
  {
   "cell_type": "markdown",
   "metadata": {},
   "source": [
    "* ¿Qué conclusión se puede formular de los datos que tenemos y los datos que obtenemos de los métodos probabilísticos?"
   ]
  },
  {
   "cell_type": "markdown",
   "metadata": {},
   "source": [
    "Las conclusiones que observamos son las siguientes:  \n",
    "* Hay mas probabilidad de que ocurra un evento de violencia fisica (M) que de violencia psiquica (N)\n",
    "* Por otro lado vemos que la probabilidad de que ocurra un evento de violencia psiquica dado que ocurrio un evento de violencia fisica esta cerca del 22%"
   ]
  },
  {
   "cell_type": "markdown",
   "metadata": {},
   "source": [
    "* ¿Podemos concluir en que son eventos independientes dadas las muestras?"
   ]
  },
  {
   "cell_type": "markdown",
   "metadata": {},
   "source": [
    "Notar que:  \n",
    "* P(N) * P(M) = 0.13875843244937391 es distinto a\n",
    "* P(N $\\cap$ M)= 0.046560111188325225  \n",
    "\n",
    "Por lo que: P(N) * P(M) es distinto a P(N $\\cap$ M)  \n",
    "Entonces por definicion, las v.a. N y M no son independientes. "
   ]
  },
  {
   "cell_type": "code",
   "execution_count": null,
   "metadata": {},
   "outputs": [],
   "source": []
  }
 ],
 "metadata": {
  "kernelspec": {
   "display_name": "Python 3",
   "language": "python",
   "name": "python3"
  },
  "language_info": {
   "codemirror_mode": {
    "name": "ipython",
    "version": 3
   },
   "file_extension": ".py",
   "mimetype": "text/x-python",
   "name": "python",
   "nbconvert_exporter": "python",
   "pygments_lexer": "ipython3",
   "version": "3.6.5"
  }
 },
 "nbformat": 4,
 "nbformat_minor": 2
}
