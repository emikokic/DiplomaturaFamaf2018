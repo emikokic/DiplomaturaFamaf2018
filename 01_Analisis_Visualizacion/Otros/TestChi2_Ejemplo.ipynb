{
 "cells": [
  {
   "cell_type": "code",
   "execution_count": 1,
   "metadata": {},
   "outputs": [],
   "source": [
    "%matplotlib inline\n",
    "import pandas as pd\n",
    "import numpy as np\n",
    "import matplotlib.pyplot as plt\n",
    "import seaborn as sns\n",
    "import scipy as sp\n",
    "import scipy.stats as ss\n",
    "from collections import OrderedDict\n",
    "from IPython.display import display"
   ]
  },
  {
   "cell_type": "markdown",
   "metadata": {},
   "source": [
    "En primer lugar vamos a plantear nuestra hipótesis\n",
    "* **H0** = \"las dos variables en estudio son independientes\"\n",
    "* **H1** = \"las dos variables en estudio están relacionadas\"\n",
    "\n",
    "Como en los juicios, en estadística, las variables son independientes hasta que demostremos lo contrario."
   ]
  },
  {
   "cell_type": "code",
   "execution_count": 2,
   "metadata": {},
   "outputs": [
    {
     "data": {
      "text/html": [
       "<div>\n",
       "<style scoped>\n",
       "    .dataframe tbody tr th:only-of-type {\n",
       "        vertical-align: middle;\n",
       "    }\n",
       "\n",
       "    .dataframe tbody tr th {\n",
       "        vertical-align: top;\n",
       "    }\n",
       "\n",
       "    .dataframe thead th {\n",
       "        text-align: right;\n",
       "    }\n",
       "</style>\n",
       "<table border=\"1\" class=\"dataframe\">\n",
       "  <thead>\n",
       "    <tr style=\"text-align: right;\">\n",
       "      <th></th>\n",
       "      <th>Peor</th>\n",
       "      <th>Igual</th>\n",
       "      <th>Mejor</th>\n",
       "    </tr>\n",
       "  </thead>\n",
       "  <tbody>\n",
       "    <tr>\n",
       "      <th>Tratamiento1</th>\n",
       "      <td>7</td>\n",
       "      <td>28</td>\n",
       "      <td>115</td>\n",
       "    </tr>\n",
       "    <tr>\n",
       "      <th>Tratamiento2</th>\n",
       "      <td>15</td>\n",
       "      <td>20</td>\n",
       "      <td>85</td>\n",
       "    </tr>\n",
       "    <tr>\n",
       "      <th>Tratamiento3</th>\n",
       "      <td>10</td>\n",
       "      <td>30</td>\n",
       "      <td>90</td>\n",
       "    </tr>\n",
       "    <tr>\n",
       "      <th>Tratamiento4</th>\n",
       "      <td>5</td>\n",
       "      <td>40</td>\n",
       "      <td>115</td>\n",
       "    </tr>\n",
       "  </tbody>\n",
       "</table>\n",
       "</div>"
      ],
      "text/plain": [
       "              Peor  Igual  Mejor\n",
       "Tratamiento1     7     28    115\n",
       "Tratamiento2    15     20     85\n",
       "Tratamiento3    10     30     90\n",
       "Tratamiento4     5     40    115"
      ]
     },
     "execution_count": 2,
     "metadata": {},
     "output_type": "execute_result"
    }
   ],
   "source": [
    "d = OrderedDict()\n",
    "d['Peor'] = [7, 15, 10, 5]\n",
    "d['Igual'] = [28, 20, 30, 40]\n",
    "d['Mejor'] = [115, 85, 90, 115]\n",
    "\n",
    "df = pd.DataFrame(data=d)\n",
    "df = df.rename({0: 'Tratamiento1', 1: 'Tratamiento2', 2: 'Tratamiento3', 3: 'Tratamiento4'})\n",
    "df"
   ]
  },
  {
   "cell_type": "code",
   "execution_count": 3,
   "metadata": {},
   "outputs": [
    {
     "data": {
      "text/plain": [
       "array([[  9.91071429,  31.60714286, 108.48214286],\n",
       "       [  7.92857143,  25.28571429,  86.78571429],\n",
       "       [  8.58928571,  27.39285714,  94.01785714],\n",
       "       [ 10.57142857,  33.71428571, 115.71428571]])"
      ]
     },
     "execution_count": 3,
     "metadata": {},
     "output_type": "execute_result"
    }
   ],
   "source": [
    "#https://docs.scipy.org/doc/scipy-0.15.1/reference/generated/scipy.stats.contingency.expected_freq.html#scipy.stats.contingency.expected_freq\n",
    "ndarray_fe = ss.contingency.expected_freq(df)\n",
    "ndarray_fe"
   ]
  },
  {
   "cell_type": "code",
   "execution_count": 4,
   "metadata": {},
   "outputs": [
    {
     "name": "stdout",
     "output_type": "stream",
     "text": [
      "Chi2 = 13.870898712706621\n",
      "P-value = 0.031112017842916905\n",
      "DoF = 6\n",
      "Exp = [[  9.91071429  31.60714286 108.48214286]\n",
      " [  7.92857143  25.28571429  86.78571429]\n",
      " [  8.58928571  27.39285714  94.01785714]\n",
      " [ 10.57142857  33.71428571 115.71428571]]\n"
     ]
    }
   ],
   "source": [
    "#https://docs.scipy.org/doc/scipy-0.15.1/reference/generated/scipy.stats.chi2_contingency.html\n",
    "#chi2(float) : The test statistic.\n",
    "#p(float) : The p-value of the test\n",
    "#dof(int) : Degrees of freedom\n",
    "#expected(ndarray, same shape as observed) : The expected frequencies, based on the marginal sums of the table.\n",
    "\n",
    "chi2, p, dof, ex = ss.chi2_contingency(df.values, correction=False)\n",
    "print(\"Chi2 =\", chi2)\n",
    "print(\"P-value =\", p)\n",
    "print(\"DoF =\", dof)\n",
    "print(\"Exp =\", ex)"
   ]
  },
  {
   "cell_type": "code",
   "execution_count": 5,
   "metadata": {},
   "outputs": [
    {
     "name": "stdout",
     "output_type": "stream",
     "text": [
      "Rechazo H0 ==> Las Variables Estan Correlacionadas\n"
     ]
    }
   ],
   "source": [
    "def calc_conf(confianza):\n",
    "    return (100 - confianza) / 100\n",
    "\n",
    "# Queremos confianza al 95%\n",
    "if p < calc_conf(95):\n",
    "    print(\"Rechazo H0 ==> Las Variables Estan Correlacionadas\")\n",
    "else:\n",
    "    print(\"Acepto H0 ==> Las Variables Son Independientes\")"
   ]
  },
  {
   "cell_type": "code",
   "execution_count": null,
   "metadata": {},
   "outputs": [],
   "source": [
    "#https://www.uoc.edu/in3/emath/docs/Chi_cuadrado.pdf"
   ]
  }
 ],
 "metadata": {
  "kernelspec": {
   "display_name": "Python 3",
   "language": "python",
   "name": "python3"
  },
  "language_info": {
   "codemirror_mode": {
    "name": "ipython",
    "version": 3
   },
   "file_extension": ".py",
   "mimetype": "text/x-python",
   "name": "python",
   "nbconvert_exporter": "python",
   "pygments_lexer": "ipython3",
   "version": "3.6.3"
  }
 },
 "nbformat": 4,
 "nbformat_minor": 2
}
