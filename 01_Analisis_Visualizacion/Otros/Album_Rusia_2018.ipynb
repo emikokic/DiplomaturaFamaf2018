{
 "cells": [
  {
   "cell_type": "markdown",
   "metadata": {},
   "source": [
    "Source:\n",
    "=======\n",
    "* https://www.lanacion.com.ar/2125275-rusia-2018-cuantos-sobres-de-figuritas-hacen-falta-para-llenar-el-album-del-mundial\n",
    "* http://blogs.lanacion.com.ar/data/visualizaciones/simulando-cuantos-sobres-hacen-falta-para-llenar-el-album-del-mundial/\n",
    "____________________________________________________"
   ]
  },
  {
   "cell_type": "markdown",
   "metadata": {},
   "source": [
    "# **Simulando cuántos sobres hacen falta para llenar el álbum del mundial**\n",
    "\n",
    "¿Cuántos sobres son necesarios para llenarlo?  \n",
    "Para averiguarlo tenemos 2 maneras, acudir a la teoría estadística -cosa que no nos asusta, pero implica tener bastante conocimiento previo- o hacer una simulación con un programa de computadoras.  \n",
    "Vamos por la segunda."
   ]
  },
  {
   "cell_type": "markdown",
   "metadata": {},
   "source": [
    "## **Comencemos la simulación**\n",
    "Una [simulación](https://es.wikipedia.org/wiki/Simulaci%C3%B3n) -según Wikipedia- es un artificio contextual que referencia la investigación de una hipótesis o un conjunto de hipótesis de trabajo utilizando modelos para la enseñanza y el aprendizaje. En nuestro caso, la simulación tendrá como objetivo medir cuántos sobres (de 5 figuritas cada uno) se necesitan para llenar un álbum de 669. Y para ello necesitaremos construir un modelo computacional que contemplen los sobres, las figuritas y el álbum."
   ]
  },
  {
   "cell_type": "markdown",
   "metadata": {},
   "source": [
    "## **Python**\n",
    "Haremos un pequeño programa en [Python](https://www.python.org/), un lenguaje de programación muy popular que tiene una sintaxis muy simple de entender (para quienes necesiten una ayuda extra, pueden leer estos [recursos introductorios](http://www.python.org.ar/wiki/AprendiendoPython) preparados por la [PyAr - Comunidad Python Argentina](http://www.python.org.ar/))."
   ]
  },
  {
   "cell_type": "code",
   "execution_count": 8,
   "metadata": {},
   "outputs": [
    {
     "name": "stdout",
     "output_type": "stream",
     "text": [
      "Cuántos sobres se necesitan para llenar el album usando Python\n"
     ]
    }
   ],
   "source": [
    "print(\"Cuántos sobres se necesitan para llenar el album usando Python\")"
   ]
  },
  {
   "cell_type": "markdown",
   "metadata": {},
   "source": [
    "## **El azar y la computadora**\n",
    "La simulación consiste en realizar numerosas corridas de un sistema estocástico, es decir, una situación que está regulada por la aleatoriedad o la suerte, como nuestro caso de ir abriendo sobres de figuritas sin saber de ante mano cuales son las que te van a tocar. Necesitaremos entonces alguna forma que simular el contenido de los sobres de manera azarosa utilizando nuestro modelo computacional. Y eso es todo un tema, porque las computadoras no saben de azar: justamente, son aparatos guiados por el determinismo de los ceros y unos.\n",
    "\n",
    "Pero no desesperemos, este tema ha sido tratado desde hace mucho tiempo y Python implementa un módulo de generación de números pseudo-aleatorios, que a los efectos de nuestra simulación nos alcanza de sobra."
   ]
  },
  {
   "cell_type": "code",
   "execution_count": 9,
   "metadata": {},
   "outputs": [
    {
     "name": "stdout",
     "output_type": "stream",
     "text": [
      "6\n"
     ]
    }
   ],
   "source": [
    "import random as rnd\n",
    "\n",
    "\"\"\"\n",
    "La funcion randint(a, b) devuelve un numero entero pseudo-aleatorio N talque \n",
    "a <= N <= b. \n",
    "\"\"\"\n",
    "dado = rnd.randint(1, 6)\n",
    "\n",
    "print(dado)"
   ]
  },
  {
   "cell_type": "markdown",
   "metadata": {},
   "source": [
    "Para modelar el sobre de figuritas utilizaremos la funcion `sample(seq, k)`, que toma  k elementos de la secuencia seq; en nuestro caso 5 números del intervalo [0, 660).  \n",
    "La forma de extraer los números es _sin reposición_, es decir, los sobres estarán compuestos por figuritas no repetidas."
   ]
  },
  {
   "cell_type": "code",
   "execution_count": 10,
   "metadata": {},
   "outputs": [
    {
     "name": "stdout",
     "output_type": "stream",
     "text": [
      "[458, 399, 498, 303, 488]\n"
     ]
    }
   ],
   "source": [
    "# Para modelar el sobre utilizaremos la funcion sample. \n",
    "sobre = rnd.sample(range(669), 5)\n",
    "\n",
    "print(sobre)"
   ]
  },
  {
   "cell_type": "markdown",
   "metadata": {},
   "source": [
    "### **Otras librerías**\n",
    "Para esta simulación vamos a incluir otras 2 librerías muy utilizadas en análisis de datos:\n",
    "* [NumPy](http://www.numpy.org/) para el manejo de estructuras de datos eficiente (listas o vectores).\n",
    "* [Matplotlib](https://matplotlib.org/) para realizar las gráficas."
   ]
  },
  {
   "cell_type": "code",
   "execution_count": 11,
   "metadata": {},
   "outputs": [],
   "source": [
    "import numpy as np\n",
    "import matplotlib.pyplot as plt"
   ]
  },
  {
   "cell_type": "markdown",
   "metadata": {},
   "source": [
    "Seteamos las constantes de la simulación, en nuestro caso las `FIGURITAS_POR_PAQUETE`, las `FIGURITAS_POR_ALBUM` y la `CANTIDAD_DE_CORRIDAS` que tendrá nuestra simulación.\n",
    "\n",
    "Cuántas más corridas hagamos, más preciso será nuestro resultado, pero también más costoso computacionalmente será.  \n",
    "Unas 10000 corridas está OK, y la simulación tardará unos 5-10 minutos."
   ]
  },
  {
   "cell_type": "code",
   "execution_count": 12,
   "metadata": {},
   "outputs": [],
   "source": [
    "# Las constantes de la simulacion\n",
    "FIGURITAS_POR_PAQUETE = 5\n",
    "FIGURITAS_POR_ALBUM = 669\n",
    "CANTIDAD_DE_CORRIDAS = 1000"
   ]
  },
  {
   "cell_type": "markdown",
   "metadata": {},
   "source": [
    "Iremos registrando cuántos sobres serán necesarios en cada corrida."
   ]
  },
  {
   "cell_type": "code",
   "execution_count": 13,
   "metadata": {},
   "outputs": [],
   "source": [
    "\"\"\"\n",
    "Inicializo el vector simulacion\n",
    "alli voy a ir registrando cuantos sobres necesito en cada corrida\n",
    "\"\"\"\n",
    "simulacion = np.empty(CANTIDAD_DE_CORRIDAS)"
   ]
  },
  {
   "cell_type": "markdown",
   "metadata": {},
   "source": [
    "#### **Ciclo principal de la simulación**\n",
    "El siguiente bloque es el ciclo principal de la simulación. Cuántas más corridas hacemos, más preciso será nuestra estimación."
   ]
  },
  {
   "cell_type": "code",
   "execution_count": 14,
   "metadata": {},
   "outputs": [],
   "source": [
    "# Voy a realizar tantas corridas como dice la constante CANTIDAD_DE_CORRIDAS\n",
    "for i in range(CANTIDAD_DE_CORRIDAS):\n",
    "\n",
    "    # Modelo el album vacio como un vector lleno de ceros\n",
    "    album = np.zeros(FIGURITAS_POR_ALBUM, dtype=int)\n",
    "\n",
    "    # En esta variable contabilizare cuantos sobres se necesitan\n",
    "    cantidad_de_sobres = 0\n",
    "\n",
    "    \"\"\"\n",
    "    Voy abriendo sobres nuevos hasta llenar el album.\n",
    "    Si el vector contiene algun 0 en alguna posicion significa\n",
    "    que aun no esta completo esa condicion la podemos expresar\n",
    "    de muchas formas, la que elegi es min(album) == 0,\n",
    "    tambien podria ser len(album[album == 0]) > 0\n",
    "    \"\"\"\n",
    "    while min(album) == 0:\n",
    "        # Un nuevo sobre formado por figuritas tomadas de manera aleatoria\n",
    "        sobre = rnd.sample(range(FIGURITAS_POR_ALBUM),\n",
    "                           FIGURITAS_POR_PAQUETE)\n",
    "\n",
    "        \"\"\"\n",
    "        Voy llenando el album.\n",
    "        Sumo 1 en cada posicion correspondiente a cada una de las\n",
    "        figuritas del sobre\n",
    "        \"\"\"\n",
    "\n",
    "        \"\"\"\n",
    "        Nota: para quienes conocen otros lenguajes de programacion, esta \n",
    "        operacion puede llegar a causar confusion. La libreria NumPy permite\n",
    "        realizar operaciones sobre multiples indices a la vez.\n",
    "        Aprovechenla, es muy util.\n",
    "        \"\"\"\n",
    "        album[sobre] += 1\n",
    "\n",
    "        # Incremento la cantidad de sobres en 1\n",
    "        cantidad_de_sobres += 1\n",
    "\n",
    "    \"\"\"\n",
    "    Para llenar este album he necesitado tantos sobres como\n",
    "    lo dice cantidad_de_sobres\n",
    "    \"\"\"\n",
    "    simulacion[i] = cantidad_de_sobres"
   ]
  },
  {
   "cell_type": "markdown",
   "metadata": {},
   "source": [
    "### **Presentación visual de los resultados**\n",
    "Luego de finalizar las corridas, tenemos muchos resultados.  \n",
    "Presentaremos la información de una manera visual utilizando un histograma."
   ]
  },
  {
   "cell_type": "code",
   "execution_count": 15,
   "metadata": {},
   "outputs": [
    {
     "data": {
      "image/png": "[encoded data removed]",
      "text/plain": [
       "<Figure size 432x288 with 1 Axes>"
      ]
     },
     "metadata": {},
     "output_type": "display_data"
    }
   ],
   "source": [
    "# Cuantos sobres necesitamos en promedio para llenar el album\n",
    "sobres_promedio = simulacion.mean()\n",
    "\n",
    "# Visualizamos la simulacion con un histograma de las corridas\n",
    "plt.hist(simulacion, bins=50)\n",
    "plt.axvline(sobres_promedio, color='r')\n",
    "plt.legend([\"%.2f sobres\" % sobres_promedio])\n",
    "plt.title(\"Cantidad de sobres en promedio para llenar 1 album\")\n",
    "plt.show()"
   ]
  },
  {
   "cell_type": "markdown",
   "metadata": {},
   "source": [
    "### **Llenar el álbum costará...**\n",
    "Por su condición de experimentos aleatorios, las simulaciones darán resultados levemente distintos, pero sí podemos ver que para llenar el álbum se necesitarán aproximadamente **941 sobres**. A $15 por sobre, llenar el álbum de esta manera costará... un ojo de la cara!"
   ]
  },
  {
   "cell_type": "code",
   "execution_count": 32,
   "metadata": {},
   "outputs": [
    {
     "name": "stdout",
     "output_type": "stream",
     "text": [
      "Llenar el album costará... 3710 pesos. Y qué hago con las 567 repetidas!\n"
     ]
    }
   ],
   "source": [
    "print(\"Llenar el album costará... %2.f pesos. Y qué hago con las %d repetidas!\" %\n",
    "      (sobres_promedio * 15, sobres_promedio * FIGURITAS_POR_PAQUETE - FIGURITAS_POR_ALBUM))"
   ]
  },
  {
   "cell_type": "markdown",
   "metadata": {},
   "source": [
    "...más el costo de álbum en sí, que ya a esta altura parecen monedas."
   ]
  },
  {
   "cell_type": "markdown",
   "metadata": {},
   "source": [
    "### **Con amigos todo es mejor**\n",
    "Como vimos, para llenar un álbum de **669 figuritas** necesitaremos aproximadamente **941 sobres** y nos sobrarán **4000 figuritas repetidas**. Con tantas repetidas estamos muy cerca de llenar un 2º y 3º álbum; y las que nos sobran las podemos cambiar con algún otro amigo que las necesite. Sin duda si nos juntamos con otros amigos, llenar todos los álbumes es mucho más rápido, barato y divertido."
   ]
  },
  {
   "cell_type": "markdown",
   "metadata": {},
   "source": [
    "#### **Cuánto costará llenar n álbumes**\n",
    "Démosle una vuelta al problema y pensemos cuántos sobres son necesarios para llenar n álbumes.\n",
    "\n",
    "Agreguemos la constante `CANTIDAD_DE_ALBUMES`"
   ]
  },
  {
   "cell_type": "code",
   "execution_count": 19,
   "metadata": {},
   "outputs": [],
   "source": [
    "# Pensemos un grupo de 20 amigos que se juntan para llenar cada uno su album\n",
    "CANTIDAD_DE_ALBUMES = 20"
   ]
  },
  {
   "cell_type": "markdown",
   "metadata": {},
   "source": [
    "El vector simulación ahora registrará cuántos sobres se necesitan para llenar 1, 2, 3, ... , 20 álbumens. Ésto lo haremos con un vector de 2 dimensiones (cuando el vector tiene 2 dimensiones suele llamarse matriz, aunque cuando tiene 3 dimensiones o más, vuelve a llamarse vector, cosas que pasan...)."
   ]
  },
  {
   "cell_type": "code",
   "execution_count": 20,
   "metadata": {},
   "outputs": [],
   "source": [
    "# Inicializo el vector simulacion_grupo con 2 dimensiones \n",
    "simulacion_grupo = np.zeros([CANTIDAD_DE_ALBUMES+1,\n",
    "                             CANTIDAD_DE_CORRIDAS],\n",
    "                            dtype=int)"
   ]
  },
  {
   "cell_type": "markdown",
   "metadata": {},
   "source": [
    "#### **Ciclo principal de la simulación de grupo**\n",
    "Con algunas pocos agregados podemos calcular cuántos sobres se necesitan para llenar *n* álbumes"
   ]
  },
  {
   "cell_type": "code",
   "execution_count": 23,
   "metadata": {},
   "outputs": [],
   "source": [
    "\"\"\"\n",
    "Voy a realizar muchas corridas, tantas como dice\n",
    "la constante CANTIDAD_DE_CORRIDAS\n",
    "\"\"\"\n",
    "for i in range(CANTIDAD_DE_CORRIDAS):\n",
    "    # Modelo el album vacio como un vector lleno de ceros\n",
    "    album = np.zeros(FIGURITAS_POR_ALBUM, dtype=int)\n",
    "\n",
    "    \"\"\"\n",
    "    En esta variable contabilizare cuantos sobres se necesitan\n",
    "    para llenar 1...n albumes\n",
    "    \"\"\"\n",
    "    cantidad_de_sobres = 0\n",
    "\n",
    "    # Aqui voy a contabilizar cuando albumes estan llenos\n",
    "    albumes_llenos = 0\n",
    "\n",
    "    \"\"\"\n",
    "    A diferencia de la simulacion anterior, la condicion de corte sera\n",
    "    cuando se llenen los n albumes. Eso lo podemos expresar asi:\n",
    "\n",
    "      albumes_llenos < CANTIDAD_DE_ALBUMES\n",
    "    \"\"\"\n",
    "    while albumes_llenos < CANTIDAD_DE_ALBUMES:\n",
    "        # Un nuevo sobre formado por figuritas tomadas de manera aleatoria\n",
    "        sobre = rnd.sample(range(FIGURITAS_POR_ALBUM),\n",
    "                           FIGURITAS_POR_PAQUETE)\n",
    "\n",
    "        # Voy llenando los albumes\n",
    "        album[sobre] += 1\n",
    "\n",
    "        # Incremento la cantidad de sobres en 1\n",
    "        cantidad_de_sobres += 1\n",
    "\n",
    "        # Si el min(album) se incremento, significa que se ha llenado un nuevo album.\n",
    "        if albumes_llenos < min(album):\n",
    "          # Hemos llenado un album nuevo\n",
    "          albumes_llenos = min(album)\n",
    "\n",
    "          # Registramos la cantidad de sobres\n",
    "          simulacion_grupo[albumes_llenos, i] = cantidad_de_sobres\n"
   ]
  },
  {
   "cell_type": "markdown",
   "metadata": {},
   "source": [
    "#### **Presentación visual de la simulación de grupos de amigos**\n",
    "Ya recopilamos los resultados de muchas corridas, veamos qué tal nos fue para llenar *n* álbumes."
   ]
  },
  {
   "cell_type": "code",
   "execution_count": 24,
   "metadata": {},
   "outputs": [
    {
     "data": {
      "image/png": "[encoded data removed]",
      "text/plain": [
       "<Figure size 432x288 with 4 Axes>"
      ]
     },
     "metadata": {},
     "output_type": "display_data"
    }
   ],
   "source": [
    "# Cuantos sobres necesitamos en promedio para llenar n-albumes usamos una matriz de histogramas\n",
    "amigos = [2, 5, 10, 20]\n",
    "\n",
    "fig, axes = plt.subplots(nrows=2, ncols=2, sharey=True, sharex=True)\n",
    "\n",
    "for ax, q in zip(axes.flat, amigos):\n",
    "    simulacion = simulacion_grupo[q] / q\n",
    "    sobres_promedio = simulacion.mean()\n",
    "    ax.set_title('$albumes=%d $' % (q))\n",
    "    ax.hist(simulacion, bins=50)\n",
    "    ax.axvline(sobres_promedio, color='r')\n",
    "    ax.legend([\"%.2f sobres\" % sobres_promedio])\n",
    "\n",
    "fig.suptitle(\"Cantidad de sobres en promedio para llenar $n$ albumes\")\n",
    "plt.show()"
   ]
  },
  {
   "cell_type": "markdown",
   "metadata": {},
   "source": [
    "Algo que suponíamos: cuántos más amigos tenemos, la cantidad de sobres por integrante del grupo para llenar su álbum disminuye. Y se acerca a la cantidad óptima de (`FIGURITAS_POR_ALBUM /  FIGURITAS_POR_PAQUETE`). No hace falta tener mucha suerte, sino muchos amigos. (Aunque tener muchos amigos es ser muy afortunado)."
   ]
  },
  {
   "cell_type": "code",
   "execution_count": 34,
   "metadata": {},
   "outputs": [
    {
     "data": {
      "image/png": "[encoded data removed]",
      "text/plain": [
       "<Figure size 432x288 with 1 Axes>"
      ]
     },
     "metadata": {},
     "output_type": "display_data"
    }
   ],
   "source": [
    "# Otra forma de visualizar la cantidad promedio de sobres para llenar n-albumes\n",
    "\n",
    "plt.boxplot([simulacion_grupo[i] / i for i in range(1, CANTIDAD_DE_ALBUMES + 1)])\n",
    "plt.title(\"Cantidad de sobres para llenar $n$ albumes\")\n",
    "plt.grid()\n",
    "plt.show()"
   ]
  },
  {
   "cell_type": "markdown",
   "metadata": {},
   "source": [
    "### **Conclusiones**\n",
    "Como pudimos ver, para llenar **un álbum** necesitaremos aproximadamente **941 sobres**; pero para llenar **20 álbumes**, se necesitan un poco más de **4940 sobres**, lo que nos da **247 sobres por integrante**. Muchísimo menos."
   ]
  },
  {
   "cell_type": "code",
   "execution_count": 33,
   "metadata": {},
   "outputs": [
    {
     "name": "stdout",
     "output_type": "stream",
     "text": [
      "Llenar 20 albumes costara... 3710 pesos por integrante. Que bueno es tener amigos!\n"
     ]
    }
   ],
   "source": [
    "print(\"Llenar %d albumes costara... %2.f pesos por integrante. Que bueno es tener amigos!\" % (CANTIDAD_DE_ALBUMES, (simulacion_grupo[CANTIDAD_DE_ALBUMES]/CANTIDAD_DE_ALBUMES).mean() * 15))"
   ]
  },
  {
   "cell_type": "markdown",
   "metadata": {},
   "source": [
    "Gracias por la atención y ¡Vamos Argentina!"
   ]
  },
  {
   "cell_type": "code",
   "execution_count": null,
   "metadata": {},
   "outputs": [],
   "source": []
  }
 ],
 "metadata": {
  "kernelspec": {
   "display_name": "Python 3",
   "language": "python",
   "name": "python3"
  },
  "language_info": {
   "codemirror_mode": {
    "name": "ipython",
    "version": 3
   },
   "file_extension": ".py",
   "mimetype": "text/x-python",
   "name": "python",
   "nbconvert_exporter": "python",
   "pygments_lexer": "ipython3",
   "version": "3.6.3"
  }
 },
 "nbformat": 4,
 "nbformat_minor": 2
}
