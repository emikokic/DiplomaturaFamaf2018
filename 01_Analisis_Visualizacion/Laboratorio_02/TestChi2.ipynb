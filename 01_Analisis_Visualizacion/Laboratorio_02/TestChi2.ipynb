{
 "cells": [
  {
   "cell_type": "code",
   "execution_count": 1,
   "metadata": {},
   "outputs": [],
   "source": [
    "%matplotlib inline\n",
    "import pandas as pd\n",
    "import numpy as np\n",
    "import matplotlib.pyplot as plt\n",
    "import seaborn as sns\n",
    "import scipy as sp\n",
    "import scipy.stats as ss\n",
    "from IPython.display import display"
   ]
  },
  {
   "cell_type": "code",
   "execution_count": 2,
   "metadata": {},
   "outputs": [],
   "source": [
    "sns.set_style(\"whitegrid\")\n",
    "\n",
    "responses = pd.read_csv('../Laboratorio_01/Dataset/responses.csv')"
   ]
  },
  {
   "cell_type": "code",
   "execution_count": 3,
   "metadata": {},
   "outputs": [
    {
     "name": "stdout",
     "output_type": "stream",
     "text": [
      "Shape response sin drop = (1010, 150)\n",
      "Shape response con drop = (674, 150)\n"
     ]
    }
   ],
   "source": [
    "print(\"Shape response sin drop = {}\".format(responses.shape))\n",
    "print(\"Shape response con drop = {}\".format(responses.dropna().shape))"
   ]
  },
  {
   "cell_type": "markdown",
   "metadata": {},
   "source": [
    "# **La prueba de $\\chi^2$ (chi cuadrado) para independencia de variables categóricas**\n",
    "\n",
    "Esto prueba si la distribución de datos categóricos de muestra coincide con una distribución esperada.\n",
    "\n",
    "En primer lugar vamos a plantear nuestra hipótesis\n",
    "* **$H_0$** = Las dos variables en estudio son independientes\n",
    "* **$H_1$** = Las dos variables en estudio están relacionadas\n",
    "\n",
    "Como en los juicios, en estadística, las variables son independientes hasta que demostremos lo contrario."
   ]
  },
  {
   "cell_type": "markdown",
   "metadata": {},
   "source": [
    "## Tabla de Contingencia"
   ]
  },
  {
   "cell_type": "code",
   "execution_count": 4,
   "metadata": {},
   "outputs": [
    {
     "data": {
      "text/plain": [
       "(3, 4)"
      ]
     },
     "metadata": {},
     "output_type": "display_data"
    },
    {
     "data": {
      "text/html": [
       "<div>\n",
       "<style scoped>\n",
       "    .dataframe tbody tr th:only-of-type {\n",
       "        vertical-align: middle;\n",
       "    }\n",
       "\n",
       "    .dataframe tbody tr th {\n",
       "        vertical-align: top;\n",
       "    }\n",
       "\n",
       "    .dataframe thead th {\n",
       "        text-align: right;\n",
       "    }\n",
       "</style>\n",
       "<table border=\"1\" class=\"dataframe\">\n",
       "  <thead>\n",
       "    <tr style=\"text-align: right;\">\n",
       "      <th>Smoking</th>\n",
       "      <th>current smoker</th>\n",
       "      <th>former smoker</th>\n",
       "      <th>never smoked</th>\n",
       "      <th>tried smoking</th>\n",
       "    </tr>\n",
       "    <tr>\n",
       "      <th>Alcohol</th>\n",
       "      <th></th>\n",
       "      <th></th>\n",
       "      <th></th>\n",
       "      <th></th>\n",
       "    </tr>\n",
       "  </thead>\n",
       "  <tbody>\n",
       "    <tr>\n",
       "      <th>drink a lot</th>\n",
       "      <td>78</td>\n",
       "      <td>55</td>\n",
       "      <td>15</td>\n",
       "      <td>72</td>\n",
       "    </tr>\n",
       "    <tr>\n",
       "      <th>never</th>\n",
       "      <td>11</td>\n",
       "      <td>11</td>\n",
       "      <td>61</td>\n",
       "      <td>39</td>\n",
       "    </tr>\n",
       "    <tr>\n",
       "      <th>social drinker</th>\n",
       "      <td>99</td>\n",
       "      <td>109</td>\n",
       "      <td>131</td>\n",
       "      <td>319</td>\n",
       "    </tr>\n",
       "  </tbody>\n",
       "</table>\n",
       "</div>"
      ],
      "text/plain": [
       "Smoking         current smoker  former smoker  never smoked  tried smoking\n",
       "Alcohol                                                                   \n",
       "drink a lot                 78             55            15             72\n",
       "never                       11             11            61             39\n",
       "social drinker              99            109           131            319"
      ]
     },
     "execution_count": 4,
     "metadata": {},
     "output_type": "execute_result"
    }
   ],
   "source": [
    "cross = pd.crosstab(index=responses.Alcohol.dropna(),\n",
    "                    columns=responses.Smoking.dropna(),\n",
    "                    margins=False,\n",
    "                    normalize=False)\n",
    "\n",
    "display(cross.shape)\n",
    "cross"
   ]
  },
  {
   "cell_type": "markdown",
   "metadata": {},
   "source": [
    "## Para tener un análisis certero debemos calcular las frecuencias marginales\n",
    "\n",
    "Las pruebas que tratan con variables categóricas se basan en recuentos de variables en lugar del valor real de las variables mismas."
   ]
  },
  {
   "cell_type": "code",
   "execution_count": 5,
   "metadata": {},
   "outputs": [
    {
     "data": {
      "text/html": [
       "<div>\n",
       "<style scoped>\n",
       "    .dataframe tbody tr th:only-of-type {\n",
       "        vertical-align: middle;\n",
       "    }\n",
       "\n",
       "    .dataframe tbody tr th {\n",
       "        vertical-align: top;\n",
       "    }\n",
       "\n",
       "    .dataframe thead th {\n",
       "        text-align: right;\n",
       "    }\n",
       "</style>\n",
       "<table border=\"1\" class=\"dataframe\">\n",
       "  <thead>\n",
       "    <tr style=\"text-align: right;\">\n",
       "      <th>Smoking</th>\n",
       "      <th>current smoker</th>\n",
       "      <th>former smoker</th>\n",
       "      <th>never smoked</th>\n",
       "      <th>tried smoking</th>\n",
       "      <th>All</th>\n",
       "    </tr>\n",
       "    <tr>\n",
       "      <th>Alcohol</th>\n",
       "      <th></th>\n",
       "      <th></th>\n",
       "      <th></th>\n",
       "      <th></th>\n",
       "      <th></th>\n",
       "    </tr>\n",
       "  </thead>\n",
       "  <tbody>\n",
       "    <tr>\n",
       "      <th>drink a lot</th>\n",
       "      <td>78</td>\n",
       "      <td>55</td>\n",
       "      <td>15</td>\n",
       "      <td>72</td>\n",
       "      <td>220</td>\n",
       "    </tr>\n",
       "    <tr>\n",
       "      <th>never</th>\n",
       "      <td>11</td>\n",
       "      <td>11</td>\n",
       "      <td>61</td>\n",
       "      <td>39</td>\n",
       "      <td>122</td>\n",
       "    </tr>\n",
       "    <tr>\n",
       "      <th>social drinker</th>\n",
       "      <td>99</td>\n",
       "      <td>109</td>\n",
       "      <td>131</td>\n",
       "      <td>319</td>\n",
       "      <td>658</td>\n",
       "    </tr>\n",
       "    <tr>\n",
       "      <th>All</th>\n",
       "      <td>188</td>\n",
       "      <td>175</td>\n",
       "      <td>207</td>\n",
       "      <td>430</td>\n",
       "      <td>1000</td>\n",
       "    </tr>\n",
       "  </tbody>\n",
       "</table>\n",
       "</div>"
      ],
      "text/plain": [
       "Smoking         current smoker  former smoker  never smoked  tried smoking  \\\n",
       "Alcohol                                                                      \n",
       "drink a lot                 78             55            15             72   \n",
       "never                       11             11            61             39   \n",
       "social drinker              99            109           131            319   \n",
       "All                        188            175           207            430   \n",
       "\n",
       "Smoking          All  \n",
       "Alcohol               \n",
       "drink a lot      220  \n",
       "never            122  \n",
       "social drinker   658  \n",
       "All             1000  "
      ]
     },
     "execution_count": 5,
     "metadata": {},
     "output_type": "execute_result"
    }
   ],
   "source": [
    "pd.crosstab(index=responses.Alcohol.dropna(),\n",
    "            columns=responses.Smoking.dropna(),\n",
    "            margins=True,\n",
    "            normalize=False)"
   ]
  },
  {
   "cell_type": "markdown",
   "metadata": {},
   "source": [
    "## La frecuencia esperada\n",
    "\n",
    "¿Cómo se contrasta la $H_0$?\n",
    "\n",
    "$$ fe_{i j} = \\frac{(total fila i-ésima) * (total columna j-ésima)}{gran total} $$\n",
    "\n",
    "**Nota 1:** Se calculan las frecuencias que cabría esperar si las 2 variables fueran independientes\n",
    "\n",
    "**Nota 2:** $fe_{i j}$ es nuestro estadistico"
   ]
  },
  {
   "cell_type": "code",
   "execution_count": 6,
   "metadata": {},
   "outputs": [
    {
     "data": {
      "text/plain": [
       "array([[ 41.36 ,  38.5  ,  45.54 ,  94.6  ],\n",
       "       [ 22.936,  21.35 ,  25.254,  52.46 ],\n",
       "       [123.704, 115.15 , 136.206, 282.94 ]])"
      ]
     },
     "execution_count": 6,
     "metadata": {},
     "output_type": "execute_result"
    }
   ],
   "source": [
    "ndarray_fe = ss.contingency.expected_freq(cross)\n",
    "ndarray_fe"
   ]
  },
  {
   "cell_type": "code",
   "execution_count": 7,
   "metadata": {},
   "outputs": [
    {
     "name": "stdout",
     "output_type": "stream",
     "text": [
      "Chi2 = 140.7461035508088\n",
      "P-value = 6.974221284156533e-28\n",
      "DoF = 6\n",
      "Exp = [[ 41.36   38.5    45.54   94.6  ]\n",
      " [ 22.936  21.35   25.254  52.46 ]\n",
      " [123.704 115.15  136.206 282.94 ]]\n"
     ]
    }
   ],
   "source": [
    "chi2, p, dof, ex  = ss.chi2_contingency(cross.values, correction=False)\n",
    "print(\"Chi2 =\", chi2)\n",
    "print(\"P-value =\", p)\n",
    "print(\"DoF =\", dof)\n",
    "print(\"Exp =\", ex)"
   ]
  },
  {
   "cell_type": "markdown",
   "metadata": {},
   "source": [
    "Matemáticamente se ha demostrado que sila $H_0$ (hipótesis nula) es cierta el estadístico sigue una distribución o modelo $\\chi^2$ (chi cuadrado) con $(i-1)(j-1)$ grados de libertad que tienen que ver con las dimensiones de la tabla.  \n",
    "Como se ajusta a un modelo podemos establecer un nivel de riesgo y compara el experimental con el valor crítico del modelo."
   ]
  },
  {
   "cell_type": "code",
   "execution_count": 8,
   "metadata": {},
   "outputs": [
    {
     "name": "stdout",
     "output_type": "stream",
     "text": [
      "Rechazo H0 ==> Las Variables Estan Correlacionadas\n"
     ]
    }
   ],
   "source": [
    "def calc_conf(confianza):\n",
    "    \"\"\"\n",
    "    Retorna el nivel de significancia.\n",
    "    \"\"\"\n",
    "    return (100 - confianza) / 100\n",
    "\n",
    "# Queremos confianza al 95%\n",
    "if p < calc_conf(95):\n",
    "    print(\"Rechazo H0 ==> Las Variables Estan Correlacionadas\")\n",
    "else:\n",
    "    print(\"Acepto H0 ==> Las Variables Son Independientes\")"
   ]
  },
  {
   "cell_type": "code",
   "execution_count": null,
   "metadata": {},
   "outputs": [],
   "source": []
  }
 ],
 "metadata": {
  "kernelspec": {
   "display_name": "Python 3",
   "language": "python",
   "name": "python3"
  },
  "language_info": {
   "codemirror_mode": {
    "name": "ipython",
    "version": 3
   },
   "file_extension": ".py",
   "mimetype": "text/x-python",
   "name": "python",
   "nbconvert_exporter": "python",
   "pygments_lexer": "ipython3",
   "version": "3.6.3"
  }
 },
 "nbformat": 4,
 "nbformat_minor": 2
}
