{
 "cells": [
  {
   "cell_type": "markdown",
   "metadata": {},
   "source": [
    "# Aprendizaje Supervisado: Laboratorio 1"
   ]
  },
  {
   "cell_type": "markdown",
   "metadata": {},
   "source": [
    "---\n",
    "---\n",
    "## Ejercicio 1: SVM con Kernel y Regularización\n",
    "\n",
    "En este ejercicio se trabajará con datos que esconden un patrón. Los datos mezclan columnas con valores enteros, flotantes y booleanos.\n",
    "\n",
    "Debe analizar los datos de entrenamiento para encontrar el patrón, y luego entrenar una SVM que explique a la perfección esos datos (accuracy 1.0 en train).\n",
    "\n",
    "Por último, deberá evaluar la SVM en los datos de test, y modificar los parámetros de regularización hasta encontrar una configuración que dé una accuracy mayor a 0.9."
   ]
  },
  {
   "cell_type": "code",
   "execution_count": 1,
   "metadata": {},
   "outputs": [],
   "source": [
    "import pandas as pd\n",
    "import numpy as np\n",
    "\n",
    "from sklearn.svm import LinearSVC, SVC\n",
    "from sklearn.decomposition import PCA\n",
    "from sklearn.ensemble import RandomForestClassifier\n",
    "from sklearn.metrics import accuracy_score\n",
    "from sklearn.model_selection import GridSearchCV\n",
    "\n",
    "import matplotlib.pyplot as plt\n",
    "import seaborn as sns\n",
    "\n",
    "from collections import Counter\n",
    "\n",
    "%matplotlib inline"
   ]
  },
  {
   "cell_type": "markdown",
   "metadata": {},
   "source": [
    "### Ejercicio 1a:"
   ]
  },
  {
   "cell_type": "code",
   "execution_count": 2,
   "metadata": {},
   "outputs": [],
   "source": [
    "# Cargar datos de entrenamiento y evaluacion\n",
    "train = pd.read_csv('lab1/ej1_train.csv')\n",
    "X_train = train.iloc[:, :-1]\n",
    "y_train = train['TARGET']\n",
    "test = pd.read_csv('lab1/ej1_test.csv')\n",
    "X_test = test.iloc[:, :-1]\n",
    "y_test = test['TARGET']"
   ]
  },
  {
   "cell_type": "markdown",
   "metadata": {},
   "source": [
    "Primero imprima una descripción básica de los datos."
   ]
  },
  {
   "cell_type": "code",
   "execution_count": 3,
   "metadata": {},
   "outputs": [
    {
     "name": "stdout",
     "output_type": "stream",
     "text": [
      "(400, 18)\n",
      "(100, 18)\n"
     ]
    }
   ],
   "source": [
    "print(train.shape)\n",
    "print(test.shape)"
   ]
  },
  {
   "cell_type": "code",
   "execution_count": 4,
   "metadata": {
    "scrolled": true
   },
   "outputs": [
    {
     "data": {
      "text/html": [
       "<div>\n",
       "<style scoped>\n",
       "    .dataframe tbody tr th:only-of-type {\n",
       "        vertical-align: middle;\n",
       "    }\n",
       "\n",
       "    .dataframe tbody tr th {\n",
       "        vertical-align: top;\n",
       "    }\n",
       "\n",
       "    .dataframe thead th {\n",
       "        text-align: right;\n",
       "    }\n",
       "</style>\n",
       "<table border=\"1\" class=\"dataframe\">\n",
       "  <thead>\n",
       "    <tr style=\"text-align: right;\">\n",
       "      <th></th>\n",
       "      <th>0</th>\n",
       "      <th>1</th>\n",
       "      <th>2</th>\n",
       "      <th>3</th>\n",
       "      <th>4</th>\n",
       "      <th>5</th>\n",
       "      <th>6</th>\n",
       "      <th>7</th>\n",
       "      <th>8</th>\n",
       "      <th>9</th>\n",
       "      <th>10</th>\n",
       "      <th>11</th>\n",
       "      <th>12</th>\n",
       "      <th>13</th>\n",
       "      <th>14</th>\n",
       "      <th>15</th>\n",
       "      <th>16</th>\n",
       "    </tr>\n",
       "  </thead>\n",
       "  <tbody>\n",
       "    <tr>\n",
       "      <th>0</th>\n",
       "      <td>-15.0</td>\n",
       "      <td>20.0</td>\n",
       "      <td>26.0</td>\n",
       "      <td>17.0</td>\n",
       "      <td>117.0</td>\n",
       "      <td>-1.099921</td>\n",
       "      <td>-0.366696</td>\n",
       "      <td>0.136307</td>\n",
       "      <td>-0.777322</td>\n",
       "      <td>0.0</td>\n",
       "      <td>0.0</td>\n",
       "      <td>0.0</td>\n",
       "      <td>0.0</td>\n",
       "      <td>1.0</td>\n",
       "      <td>0.0</td>\n",
       "      <td>0.0</td>\n",
       "      <td>0.0</td>\n",
       "    </tr>\n",
       "    <tr>\n",
       "      <th>1</th>\n",
       "      <td>35.0</td>\n",
       "      <td>87.0</td>\n",
       "      <td>-17.0</td>\n",
       "      <td>54.0</td>\n",
       "      <td>38.0</td>\n",
       "      <td>-0.507798</td>\n",
       "      <td>-0.774667</td>\n",
       "      <td>-0.879107</td>\n",
       "      <td>-1.159231</td>\n",
       "      <td>0.0</td>\n",
       "      <td>1.0</td>\n",
       "      <td>0.0</td>\n",
       "      <td>0.0</td>\n",
       "      <td>0.0</td>\n",
       "      <td>0.0</td>\n",
       "      <td>0.0</td>\n",
       "      <td>0.0</td>\n",
       "    </tr>\n",
       "    <tr>\n",
       "      <th>2</th>\n",
       "      <td>82.0</td>\n",
       "      <td>75.0</td>\n",
       "      <td>116.0</td>\n",
       "      <td>87.0</td>\n",
       "      <td>130.0</td>\n",
       "      <td>-0.219868</td>\n",
       "      <td>0.157875</td>\n",
       "      <td>0.386982</td>\n",
       "      <td>0.150254</td>\n",
       "      <td>0.0</td>\n",
       "      <td>0.0</td>\n",
       "      <td>0.0</td>\n",
       "      <td>0.0</td>\n",
       "      <td>0.0</td>\n",
       "      <td>1.0</td>\n",
       "      <td>0.0</td>\n",
       "      <td>0.0</td>\n",
       "    </tr>\n",
       "    <tr>\n",
       "      <th>3</th>\n",
       "      <td>133.0</td>\n",
       "      <td>138.0</td>\n",
       "      <td>87.0</td>\n",
       "      <td>124.0</td>\n",
       "      <td>61.0</td>\n",
       "      <td>0.371992</td>\n",
       "      <td>-0.157556</td>\n",
       "      <td>-0.484258</td>\n",
       "      <td>-0.109378</td>\n",
       "      <td>0.0</td>\n",
       "      <td>0.0</td>\n",
       "      <td>1.0</td>\n",
       "      <td>0.0</td>\n",
       "      <td>0.0</td>\n",
       "      <td>0.0</td>\n",
       "      <td>0.0</td>\n",
       "      <td>0.0</td>\n",
       "    </tr>\n",
       "    <tr>\n",
       "      <th>4</th>\n",
       "      <td>-17.0</td>\n",
       "      <td>23.0</td>\n",
       "      <td>17.0</td>\n",
       "      <td>16.0</td>\n",
       "      <td>109.0</td>\n",
       "      <td>-1.099966</td>\n",
       "      <td>-0.436268</td>\n",
       "      <td>0.028073</td>\n",
       "      <td>-0.869315</td>\n",
       "      <td>0.0</td>\n",
       "      <td>0.0</td>\n",
       "      <td>0.0</td>\n",
       "      <td>1.0</td>\n",
       "      <td>0.0</td>\n",
       "      <td>0.0</td>\n",
       "      <td>0.0</td>\n",
       "      <td>0.0</td>\n",
       "    </tr>\n",
       "  </tbody>\n",
       "</table>\n",
       "</div>"
      ],
      "text/plain": [
       "       0      1      2      3      4         5         6         7         8  \\\n",
       "0  -15.0   20.0   26.0   17.0  117.0 -1.099921 -0.366696  0.136307 -0.777322   \n",
       "1   35.0   87.0  -17.0   54.0   38.0 -0.507798 -0.774667 -0.879107 -1.159231   \n",
       "2   82.0   75.0  116.0   87.0  130.0 -0.219868  0.157875  0.386982  0.150254   \n",
       "3  133.0  138.0   87.0  124.0   61.0  0.371992 -0.157556 -0.484258 -0.109378   \n",
       "4  -17.0   23.0   17.0   16.0  109.0 -1.099966 -0.436268  0.028073 -0.869315   \n",
       "\n",
       "     9   10   11   12   13   14   15   16  \n",
       "0  0.0  0.0  0.0  0.0  1.0  0.0  0.0  0.0  \n",
       "1  0.0  1.0  0.0  0.0  0.0  0.0  0.0  0.0  \n",
       "2  0.0  0.0  0.0  0.0  0.0  1.0  0.0  0.0  \n",
       "3  0.0  0.0  1.0  0.0  0.0  0.0  0.0  0.0  \n",
       "4  0.0  0.0  0.0  1.0  0.0  0.0  0.0  0.0  "
      ]
     },
     "metadata": {},
     "output_type": "display_data"
    }
   ],
   "source": [
    "display(X_train.head())"
   ]
  },
  {
   "cell_type": "code",
   "execution_count": 5,
   "metadata": {},
   "outputs": [
    {
     "data": {
      "text/plain": [
       "0   -1.0\n",
       "1   -1.0\n",
       "2    1.0\n",
       "3   -1.0\n",
       "4   -1.0\n",
       "Name: TARGET, dtype: float64"
      ]
     },
     "metadata": {},
     "output_type": "display_data"
    }
   ],
   "source": [
    "display(y_train.head())"
   ]
  },
  {
   "cell_type": "code",
   "execution_count": 6,
   "metadata": {},
   "outputs": [
    {
     "data": {
      "text/html": [
       "<div>\n",
       "<style scoped>\n",
       "    .dataframe tbody tr th:only-of-type {\n",
       "        vertical-align: middle;\n",
       "    }\n",
       "\n",
       "    .dataframe tbody tr th {\n",
       "        vertical-align: top;\n",
       "    }\n",
       "\n",
       "    .dataframe thead th {\n",
       "        text-align: right;\n",
       "    }\n",
       "</style>\n",
       "<table border=\"1\" class=\"dataframe\">\n",
       "  <thead>\n",
       "    <tr style=\"text-align: right;\">\n",
       "      <th></th>\n",
       "      <th>0</th>\n",
       "      <th>1</th>\n",
       "      <th>2</th>\n",
       "      <th>3</th>\n",
       "      <th>4</th>\n",
       "      <th>5</th>\n",
       "      <th>6</th>\n",
       "      <th>7</th>\n",
       "      <th>8</th>\n",
       "      <th>9</th>\n",
       "      <th>10</th>\n",
       "      <th>11</th>\n",
       "      <th>12</th>\n",
       "      <th>13</th>\n",
       "      <th>14</th>\n",
       "      <th>15</th>\n",
       "      <th>16</th>\n",
       "      <th>TARGET</th>\n",
       "    </tr>\n",
       "  </thead>\n",
       "  <tbody>\n",
       "    <tr>\n",
       "      <th>count</th>\n",
       "      <td>400.000000</td>\n",
       "      <td>400.000000</td>\n",
       "      <td>400.000000</td>\n",
       "      <td>400.000000</td>\n",
       "      <td>400.000000</td>\n",
       "      <td>400.000000</td>\n",
       "      <td>400.000000</td>\n",
       "      <td>400.000000</td>\n",
       "      <td>400.000000</td>\n",
       "      <td>400.00000</td>\n",
       "      <td>400.00000</td>\n",
       "      <td>400.000000</td>\n",
       "      <td>400.000000</td>\n",
       "      <td>400.000000</td>\n",
       "      <td>400.000000</td>\n",
       "      <td>400.000000</td>\n",
       "      <td>400.000000</td>\n",
       "      <td>400.00000</td>\n",
       "    </tr>\n",
       "    <tr>\n",
       "      <th>mean</th>\n",
       "      <td>100.567500</td>\n",
       "      <td>101.035000</td>\n",
       "      <td>98.930000</td>\n",
       "      <td>100.445000</td>\n",
       "      <td>98.487500</td>\n",
       "      <td>0.007970</td>\n",
       "      <td>-0.009065</td>\n",
       "      <td>-0.019228</td>\n",
       "      <td>-0.009865</td>\n",
       "      <td>0.03500</td>\n",
       "      <td>0.08750</td>\n",
       "      <td>0.172500</td>\n",
       "      <td>0.237500</td>\n",
       "      <td>0.220000</td>\n",
       "      <td>0.132500</td>\n",
       "      <td>0.075000</td>\n",
       "      <td>0.040000</td>\n",
       "      <td>-0.00500</td>\n",
       "    </tr>\n",
       "    <tr>\n",
       "      <th>std</th>\n",
       "      <td>86.549654</td>\n",
       "      <td>49.517155</td>\n",
       "      <td>91.403921</td>\n",
       "      <td>62.199267</td>\n",
       "      <td>36.299366</td>\n",
       "      <td>0.782708</td>\n",
       "      <td>0.560037</td>\n",
       "      <td>0.514925</td>\n",
       "      <td>0.924287</td>\n",
       "      <td>0.18401</td>\n",
       "      <td>0.28292</td>\n",
       "      <td>0.378288</td>\n",
       "      <td>0.426084</td>\n",
       "      <td>0.414765</td>\n",
       "      <td>0.339458</td>\n",
       "      <td>0.263721</td>\n",
       "      <td>0.196205</td>\n",
       "      <td>1.00124</td>\n",
       "    </tr>\n",
       "    <tr>\n",
       "      <th>min</th>\n",
       "      <td>-93.000000</td>\n",
       "      <td>-10.000000</td>\n",
       "      <td>-115.000000</td>\n",
       "      <td>-39.000000</td>\n",
       "      <td>11.000000</td>\n",
       "      <td>-1.725988</td>\n",
       "      <td>-1.300851</td>\n",
       "      <td>-1.244842</td>\n",
       "      <td>-2.168412</td>\n",
       "      <td>0.00000</td>\n",
       "      <td>0.00000</td>\n",
       "      <td>0.000000</td>\n",
       "      <td>0.000000</td>\n",
       "      <td>0.000000</td>\n",
       "      <td>0.000000</td>\n",
       "      <td>0.000000</td>\n",
       "      <td>0.000000</td>\n",
       "      <td>-1.00000</td>\n",
       "    </tr>\n",
       "    <tr>\n",
       "      <th>25%</th>\n",
       "      <td>46.000000</td>\n",
       "      <td>73.000000</td>\n",
       "      <td>37.500000</td>\n",
       "      <td>61.750000</td>\n",
       "      <td>73.000000</td>\n",
       "      <td>-0.488926</td>\n",
       "      <td>-0.366255</td>\n",
       "      <td>-0.382066</td>\n",
       "      <td>-0.646990</td>\n",
       "      <td>0.00000</td>\n",
       "      <td>0.00000</td>\n",
       "      <td>0.000000</td>\n",
       "      <td>0.000000</td>\n",
       "      <td>0.000000</td>\n",
       "      <td>0.000000</td>\n",
       "      <td>0.000000</td>\n",
       "      <td>0.000000</td>\n",
       "      <td>-1.00000</td>\n",
       "    </tr>\n",
       "    <tr>\n",
       "      <th>50%</th>\n",
       "      <td>100.500000</td>\n",
       "      <td>100.000000</td>\n",
       "      <td>100.000000</td>\n",
       "      <td>100.000000</td>\n",
       "      <td>99.500000</td>\n",
       "      <td>0.005970</td>\n",
       "      <td>-0.010120</td>\n",
       "      <td>-0.013890</td>\n",
       "      <td>0.000883</td>\n",
       "      <td>0.00000</td>\n",
       "      <td>0.00000</td>\n",
       "      <td>0.000000</td>\n",
       "      <td>0.000000</td>\n",
       "      <td>0.000000</td>\n",
       "      <td>0.000000</td>\n",
       "      <td>0.000000</td>\n",
       "      <td>0.000000</td>\n",
       "      <td>-1.00000</td>\n",
       "    </tr>\n",
       "    <tr>\n",
       "      <th>75%</th>\n",
       "      <td>155.250000</td>\n",
       "      <td>133.250000</td>\n",
       "      <td>153.250000</td>\n",
       "      <td>140.000000</td>\n",
       "      <td>122.000000</td>\n",
       "      <td>0.510675</td>\n",
       "      <td>0.314739</td>\n",
       "      <td>0.300218</td>\n",
       "      <td>0.544438</td>\n",
       "      <td>0.00000</td>\n",
       "      <td>0.00000</td>\n",
       "      <td>0.000000</td>\n",
       "      <td>0.000000</td>\n",
       "      <td>0.000000</td>\n",
       "      <td>0.000000</td>\n",
       "      <td>0.000000</td>\n",
       "      <td>0.000000</td>\n",
       "      <td>1.00000</td>\n",
       "    </tr>\n",
       "    <tr>\n",
       "      <th>max</th>\n",
       "      <td>299.000000</td>\n",
       "      <td>217.000000</td>\n",
       "      <td>323.000000</td>\n",
       "      <td>243.000000</td>\n",
       "      <td>185.000000</td>\n",
       "      <td>1.785821</td>\n",
       "      <td>1.369928</td>\n",
       "      <td>1.217912</td>\n",
       "      <td>2.240643</td>\n",
       "      <td>1.00000</td>\n",
       "      <td>1.00000</td>\n",
       "      <td>1.000000</td>\n",
       "      <td>1.000000</td>\n",
       "      <td>1.000000</td>\n",
       "      <td>1.000000</td>\n",
       "      <td>1.000000</td>\n",
       "      <td>1.000000</td>\n",
       "      <td>1.00000</td>\n",
       "    </tr>\n",
       "  </tbody>\n",
       "</table>\n",
       "</div>"
      ],
      "text/plain": [
       "                0           1           2           3           4           5  \\\n",
       "count  400.000000  400.000000  400.000000  400.000000  400.000000  400.000000   \n",
       "mean   100.567500  101.035000   98.930000  100.445000   98.487500    0.007970   \n",
       "std     86.549654   49.517155   91.403921   62.199267   36.299366    0.782708   \n",
       "min    -93.000000  -10.000000 -115.000000  -39.000000   11.000000   -1.725988   \n",
       "25%     46.000000   73.000000   37.500000   61.750000   73.000000   -0.488926   \n",
       "50%    100.500000  100.000000  100.000000  100.000000   99.500000    0.005970   \n",
       "75%    155.250000  133.250000  153.250000  140.000000  122.000000    0.510675   \n",
       "max    299.000000  217.000000  323.000000  243.000000  185.000000    1.785821   \n",
       "\n",
       "                6           7           8          9         10          11  \\\n",
       "count  400.000000  400.000000  400.000000  400.00000  400.00000  400.000000   \n",
       "mean    -0.009065   -0.019228   -0.009865    0.03500    0.08750    0.172500   \n",
       "std      0.560037    0.514925    0.924287    0.18401    0.28292    0.378288   \n",
       "min     -1.300851   -1.244842   -2.168412    0.00000    0.00000    0.000000   \n",
       "25%     -0.366255   -0.382066   -0.646990    0.00000    0.00000    0.000000   \n",
       "50%     -0.010120   -0.013890    0.000883    0.00000    0.00000    0.000000   \n",
       "75%      0.314739    0.300218    0.544438    0.00000    0.00000    0.000000   \n",
       "max      1.369928    1.217912    2.240643    1.00000    1.00000    1.000000   \n",
       "\n",
       "               12          13          14          15          16     TARGET  \n",
       "count  400.000000  400.000000  400.000000  400.000000  400.000000  400.00000  \n",
       "mean     0.237500    0.220000    0.132500    0.075000    0.040000   -0.00500  \n",
       "std      0.426084    0.414765    0.339458    0.263721    0.196205    1.00124  \n",
       "min      0.000000    0.000000    0.000000    0.000000    0.000000   -1.00000  \n",
       "25%      0.000000    0.000000    0.000000    0.000000    0.000000   -1.00000  \n",
       "50%      0.000000    0.000000    0.000000    0.000000    0.000000   -1.00000  \n",
       "75%      0.000000    0.000000    0.000000    0.000000    0.000000    1.00000  \n",
       "max      1.000000    1.000000    1.000000    1.000000    1.000000    1.00000  "
      ]
     },
     "metadata": {},
     "output_type": "display_data"
    }
   ],
   "source": [
    "display(train.describe())"
   ]
  },
  {
   "cell_type": "markdown",
   "metadata": {},
   "source": [
    "Luego, calcule y grafique un mapa de calor con la correlación entre los distintos features."
   ]
  },
  {
   "cell_type": "code",
   "execution_count": 7,
   "metadata": {},
   "outputs": [
    {
     "data": {
      "text/plain": [
       "Text(0.5,1,'Heatmap Correlation')"
      ]
     },
     "execution_count": 7,
     "metadata": {},
     "output_type": "execute_result"
    },
    {
     "data": {
      "image/png": "[encoded data removed]",
      "text/plain": [
       "<Figure size 576x576 with 2 Axes>"
      ]
     },
     "metadata": {},
     "output_type": "display_data"
    }
   ],
   "source": [
    "# Calcular y graficar correlación entre features\n",
    "# AYUDA: https://www.kaggle.com/pierra/credit-card-dataset-svm-classification\n",
    "sns.set(font_scale=2, style='white')\n",
    "# Generate a mask for the upper triangle\n",
    "mask = np.zeros_like(train.corr(), dtype=np.bool)\n",
    "mask[np.triu_indices_from(mask)] = True\n",
    "fig, ax = plt.subplots(figsize=(8, 8))\n",
    "sns.heatmap(train.corr(), mask=mask, cmap=\"YlGnBu\", ax=ax)\n",
    "ax.set_title('Heatmap Correlation')"
   ]
  },
  {
   "cell_type": "markdown",
   "metadata": {},
   "source": [
    "**Preguntas:**\n",
    "- ¿Qué observa?\n",
    "\n",
    "En la zona superior del mapa de calor se observa colores mas oscuros manifestando \"mas calor\" entre esos features.\n",
    "\n",
    "- ¿Qué conclusiones puede extraer?\n",
    "\n",
    "Existe una gran correlacion entre los primeros 9 features."
   ]
  },
  {
   "cell_type": "markdown",
   "metadata": {},
   "source": [
    "Por último, reduzca la dimensionalidad de los datos a dos dimensiones y grafique los puntos."
   ]
  },
  {
   "cell_type": "code",
   "execution_count": 8,
   "metadata": {},
   "outputs": [
    {
     "data": {
      "image/png": "[encoded data removed]",
      "text/plain": [
       "<Figure size 576x576 with 1 Axes>"
      ]
     },
     "metadata": {},
     "output_type": "display_data"
    }
   ],
   "source": [
    "# Reducir dimensionalidad y graficar\n",
    "pca = PCA(n_components=2)\n",
    "pca_ft = pca.fit_transform(X_train)\n",
    "\n",
    "pca_df = pd.DataFrame(data=pca_ft, columns=['PCA_1', 'PCA_2'])\n",
    "pca_df = pd.concat([pca_df, y_train], axis=1)\n",
    "\n",
    "fig = plt.figure(figsize=(8, 8))\n",
    "ax = fig.add_subplot(1, 1, 1)\n",
    "ax.set_xlabel('PCA 1', fontsize=10)\n",
    "ax.set_ylabel('PCA 2', fontsize=10)\n",
    "ax.set_title('PCA en Datos de Entrenamiento', fontsize=20)\n",
    "ax.scatter(pca_df['PCA_1'], pca_df['PCA_2'], c=pca_df['TARGET'], cmap=plt.cm.Spectral)\n",
    "ax.grid()"
   ]
  },
  {
   "cell_type": "markdown",
   "metadata": {},
   "source": [
    "**Preguntas:**\n",
    "- ¿Qué observa?\n",
    "\n",
    "Practicamente la totalidad de valores de una de las clases esta \"contenida\" por la otra ubicandose en el centro del plano. Los valores de la otra clase se ubican alrededor de la clase nombrada anteriormente.\n",
    "\n",
    "- ¿Qué conclusiones puede extraer?\n",
    "\n",
    "Los datos no son linealmente separables, ya que en este caso, el hiperplano que deberia poder separar los datos es una linea. Por la disposicion de los datos no existe ninguna linea que pueda lograr ese cometido. \n",
    "Para poder realizar una buena clasificacion, deberiamos llevar los datos a un espacio donde sean linealmente separables."
   ]
  },
  {
   "cell_type": "markdown",
   "metadata": {},
   "source": [
    "### Ejercico 1b:\n",
    "\n",
    "Primero calcule la accuracy sobre train para una SVM con kernel lineal."
   ]
  },
  {
   "cell_type": "code",
   "execution_count": 9,
   "metadata": {},
   "outputs": [
    {
     "name": "stdout",
     "output_type": "stream",
     "text": [
      "Accuracy in Train = 0.6125\n"
     ]
    }
   ],
   "source": [
    "clf = LinearSVC(random_state=0)\n",
    "clf.fit(X_train, y_train)\n",
    "y_pred = clf.predict(X_train)\n",
    "print('Accuracy in Train =', accuracy_score(y_train, y_pred))"
   ]
  },
  {
   "cell_type": "markdown",
   "metadata": {},
   "source": [
    "**Preguntas:**\n",
    "- ¿Cuál es la accuracy?\n",
    "\n",
    "La accuracy es del 50.25%\n",
    "\n",
    "- ¿Qué problema tiene el modelo? ¿De sesgo (bias) o de varianza?\n",
    "\n",
    "El accuracy es bajo, por lo que el error del training set es alto. A su vez, el error del training set es similar al error del test set.\n",
    "\n",
    "Estos son indicadores de que el modelo tiene un problema de sesgo (bias). "
   ]
  },
  {
   "cell_type": "markdown",
   "metadata": {},
   "source": [
    "Modifique la SVM para lograr una accuracy en train de 1.0."
   ]
  },
  {
   "cell_type": "code",
   "execution_count": 10,
   "metadata": {},
   "outputs": [
    {
     "name": "stdout",
     "output_type": "stream",
     "text": [
      "Accuracy in Train = 1.0\n"
     ]
    }
   ],
   "source": [
    "clf = SVC(random_state=0, kernel='rbf')\n",
    "clf.fit(X_train, y_train)\n",
    "y_pred = clf.predict(X_train)\n",
    "print('Accuracy in Train =', accuracy_score(y_train, y_pred))"
   ]
  },
  {
   "cell_type": "markdown",
   "metadata": {},
   "source": [
    "### Ejercicio 1c:\n",
    "\n",
    "Evalúe la SVM del ítem anterior sobre los datos de test."
   ]
  },
  {
   "cell_type": "code",
   "execution_count": 11,
   "metadata": {},
   "outputs": [
    {
     "data": {
      "image/png": "[encoded data removed]",
      "text/plain": [
       "<Figure size 576x576 with 1 Axes>"
      ]
     },
     "metadata": {},
     "output_type": "display_data"
    }
   ],
   "source": [
    "# Primero aplicamos PCA a los datos de test para llevarlos a la misma dimensionalidad\n",
    "pca = PCA(n_components=2)\n",
    "pca_ft = pca.fit_transform(X_test)\n",
    "pca_df = pd.DataFrame(data=pca_ft, columns=['PCA_1', 'PCA_2'])\n",
    "pca_df = pd.concat([pca_df, y_test], axis=1)\n",
    "\n",
    "fig = plt.figure(figsize=(8, 8))\n",
    "ax = fig.add_subplot(1, 1, 1)\n",
    "ax.set_xlabel('PCA 1', fontsize=10)\n",
    "ax.set_ylabel('PCA 2', fontsize=10)\n",
    "ax.set_title('PCA en Datos de Test', fontsize=20)\n",
    "ax.scatter(pca_df['PCA_1'], pca_df['PCA_2'], c=pca_df['TARGET'], cmap=plt.cm.Spectral)\n",
    "ax.grid()"
   ]
  },
  {
   "cell_type": "code",
   "execution_count": 12,
   "metadata": {},
   "outputs": [
    {
     "name": "stdout",
     "output_type": "stream",
     "text": [
      "Accuracy in Test = 0.7\n"
     ]
    }
   ],
   "source": [
    "y_pred = clf.predict(X_test)\n",
    "print('Accuracy in Test =', accuracy_score(y_test, y_pred))"
   ]
  },
  {
   "cell_type": "markdown",
   "metadata": {},
   "source": [
    "**Preguntas:**\n",
    "- ¿Cuál es la accuracy en test?\n",
    "\n",
    "La accuracy es de 70%\n",
    "\n",
    "- ¿Qué problema tiene el modelo? ¿De sesgo (bias) o de varianza?\n",
    "\n",
    "El modelo actual tiene un problema de varianza (overfitting). Esto se determina al observar que el modelo se ajusta perfectamente a los datos de entrenamiento pero no se ajusta bien a los datos del test. En otra palabras, tenemos un modelo que no generaliza bien ya que cuando se encuentra con nuevos ejemplos no los clasifica tan bien."
   ]
  },
  {
   "cell_type": "markdown",
   "metadata": {},
   "source": [
    "Modifique parámetros de la SVM para lograr una accuracy en test mayor a 0.9.  \n",
    "La accuracy en train puede ser menos de 1.0.  \n",
    "Puede buscar los valores apropiados a mano o usar grid search."
   ]
  },
  {
   "cell_type": "code",
   "execution_count": 13,
   "metadata": {},
   "outputs": [
    {
     "name": "stdout",
     "output_type": "stream",
     "text": [
      "\tPuntajes de la grilla:\n",
      "\t\tAccuracy: 0.855 (+/- 0.001) para los parámetros {'C': 0.1, 'decision_function_shape': 'ovo', 'gamma': 0.0001, 'shrinking': True}\n",
      "\t\tAccuracy: 0.895 (+/- 0.001) para los parámetros {'C': 0.1, 'decision_function_shape': 'ovo', 'gamma': 0.0005, 'shrinking': True}\n",
      "\t\tAccuracy: 0.868 (+/- 0.000) para los parámetros {'C': 0.1, 'decision_function_shape': 'ovo', 'gamma': 0.001, 'shrinking': True}\n",
      "\t\tAccuracy: 0.590 (+/- 0.000) para los parámetros {'C': 0.1, 'decision_function_shape': 'ovo', 'gamma': 0.005, 'shrinking': True}\n",
      "\t\tAccuracy: 0.522 (+/- 0.000) para los parámetros {'C': 0.1, 'decision_function_shape': 'ovo', 'gamma': 0.01, 'shrinking': True}\n",
      "\t\tAccuracy: 0.502 (+/- 0.000) para los parámetros {'C': 0.1, 'decision_function_shape': 'ovo', 'gamma': 0.05, 'shrinking': True}\n",
      "\t\tAccuracy: 0.502 (+/- 0.000) para los parámetros {'C': 0.1, 'decision_function_shape': 'ovo', 'gamma': 0.1, 'shrinking': True}\n",
      "\t\tAccuracy: 0.502 (+/- 0.000) para los parámetros {'C': 0.1, 'decision_function_shape': 'ovo', 'gamma': 0.5, 'shrinking': True}\n",
      "\t\tAccuracy: 0.502 (+/- 0.000) para los parámetros {'C': 0.1, 'decision_function_shape': 'ovo', 'gamma': 1, 'shrinking': True}\n",
      "\t\tAccuracy: 0.855 (+/- 0.001) para los parámetros {'C': 0.1, 'decision_function_shape': 'ovr', 'gamma': 0.0001, 'shrinking': True}\n",
      "\t\tAccuracy: 0.895 (+/- 0.001) para los parámetros {'C': 0.1, 'decision_function_shape': 'ovr', 'gamma': 0.0005, 'shrinking': True}\n",
      "\t\tAccuracy: 0.868 (+/- 0.000) para los parámetros {'C': 0.1, 'decision_function_shape': 'ovr', 'gamma': 0.001, 'shrinking': True}\n",
      "\t\tAccuracy: 0.590 (+/- 0.000) para los parámetros {'C': 0.1, 'decision_function_shape': 'ovr', 'gamma': 0.005, 'shrinking': True}\n",
      "\t\tAccuracy: 0.522 (+/- 0.000) para los parámetros {'C': 0.1, 'decision_function_shape': 'ovr', 'gamma': 0.01, 'shrinking': True}\n",
      "\t\tAccuracy: 0.502 (+/- 0.000) para los parámetros {'C': 0.1, 'decision_function_shape': 'ovr', 'gamma': 0.05, 'shrinking': True}\n",
      "\t\tAccuracy: 0.502 (+/- 0.000) para los parámetros {'C': 0.1, 'decision_function_shape': 'ovr', 'gamma': 0.1, 'shrinking': True}\n",
      "\t\tAccuracy: 0.502 (+/- 0.000) para los parámetros {'C': 0.1, 'decision_function_shape': 'ovr', 'gamma': 0.5, 'shrinking': True}\n",
      "\t\tAccuracy: 0.502 (+/- 0.000) para los parámetros {'C': 0.1, 'decision_function_shape': 'ovr', 'gamma': 1, 'shrinking': True}\n",
      "\t\tAccuracy: 0.882 (+/- 0.001) para los parámetros {'C': 0.3, 'decision_function_shape': 'ovo', 'gamma': 0.0001, 'shrinking': True}\n",
      "\t\tAccuracy: 0.915 (+/- 0.001) para los parámetros {'C': 0.3, 'decision_function_shape': 'ovo', 'gamma': 0.0005, 'shrinking': True}\n",
      "\t\tAccuracy: 0.917 (+/- 0.001) para los parámetros {'C': 0.3, 'decision_function_shape': 'ovo', 'gamma': 0.001, 'shrinking': True}\n",
      "\t\tAccuracy: 0.828 (+/- 0.001) para los parámetros {'C': 0.3, 'decision_function_shape': 'ovo', 'gamma': 0.005, 'shrinking': True}\n",
      "\t\tAccuracy: 0.705 (+/- 0.000) para los parámetros {'C': 0.3, 'decision_function_shape': 'ovo', 'gamma': 0.01, 'shrinking': True}\n",
      "\t\tAccuracy: 0.532 (+/- 0.000) para los parámetros {'C': 0.3, 'decision_function_shape': 'ovo', 'gamma': 0.05, 'shrinking': True}\n",
      "\t\tAccuracy: 0.505 (+/- 0.000) para los parámetros {'C': 0.3, 'decision_function_shape': 'ovo', 'gamma': 0.1, 'shrinking': True}\n",
      "\t\tAccuracy: 0.502 (+/- 0.000) para los parámetros {'C': 0.3, 'decision_function_shape': 'ovo', 'gamma': 0.5, 'shrinking': True}\n",
      "\t\tAccuracy: 0.502 (+/- 0.000) para los parámetros {'C': 0.3, 'decision_function_shape': 'ovo', 'gamma': 1, 'shrinking': True}\n",
      "\t\tAccuracy: 0.882 (+/- 0.001) para los parámetros {'C': 0.3, 'decision_function_shape': 'ovr', 'gamma': 0.0001, 'shrinking': True}\n",
      "\t\tAccuracy: 0.915 (+/- 0.001) para los parámetros {'C': 0.3, 'decision_function_shape': 'ovr', 'gamma': 0.0005, 'shrinking': True}\n",
      "\t\tAccuracy: 0.917 (+/- 0.001) para los parámetros {'C': 0.3, 'decision_function_shape': 'ovr', 'gamma': 0.001, 'shrinking': True}\n",
      "\t\tAccuracy: 0.828 (+/- 0.001) para los parámetros {'C': 0.3, 'decision_function_shape': 'ovr', 'gamma': 0.005, 'shrinking': True}\n",
      "\t\tAccuracy: 0.705 (+/- 0.000) para los parámetros {'C': 0.3, 'decision_function_shape': 'ovr', 'gamma': 0.01, 'shrinking': True}\n",
      "\t\tAccuracy: 0.532 (+/- 0.000) para los parámetros {'C': 0.3, 'decision_function_shape': 'ovr', 'gamma': 0.05, 'shrinking': True}\n",
      "\t\tAccuracy: 0.505 (+/- 0.000) para los parámetros {'C': 0.3, 'decision_function_shape': 'ovr', 'gamma': 0.1, 'shrinking': True}\n",
      "\t\tAccuracy: 0.502 (+/- 0.000) para los parámetros {'C': 0.3, 'decision_function_shape': 'ovr', 'gamma': 0.5, 'shrinking': True}\n",
      "\t\tAccuracy: 0.502 (+/- 0.000) para los parámetros {'C': 0.3, 'decision_function_shape': 'ovr', 'gamma': 1, 'shrinking': True}\n",
      "\t\tAccuracy: 0.890 (+/- 0.001) para los parámetros {'C': 0.5, 'decision_function_shape': 'ovo', 'gamma': 0.0001, 'shrinking': True}\n",
      "\t\tAccuracy: 0.907 (+/- 0.001) para los parámetros {'C': 0.5, 'decision_function_shape': 'ovo', 'gamma': 0.0005, 'shrinking': True}\n",
      "\t\tAccuracy: 0.915 (+/- 0.001) para los parámetros {'C': 0.5, 'decision_function_shape': 'ovo', 'gamma': 0.001, 'shrinking': True}\n",
      "\t\tAccuracy: 0.892 (+/- 0.001) para los parámetros {'C': 0.5, 'decision_function_shape': 'ovo', 'gamma': 0.005, 'shrinking': True}\n",
      "\t\tAccuracy: 0.828 (+/- 0.000) para los parámetros {'C': 0.5, 'decision_function_shape': 'ovo', 'gamma': 0.01, 'shrinking': True}\n",
      "\t\tAccuracy: 0.620 (+/- 0.001) para los parámetros {'C': 0.5, 'decision_function_shape': 'ovo', 'gamma': 0.05, 'shrinking': True}\n",
      "\t\tAccuracy: 0.575 (+/- 0.000) para los parámetros {'C': 0.5, 'decision_function_shape': 'ovo', 'gamma': 0.1, 'shrinking': True}\n",
      "\t\tAccuracy: 0.502 (+/- 0.000) para los parámetros {'C': 0.5, 'decision_function_shape': 'ovo', 'gamma': 0.5, 'shrinking': True}\n",
      "\t\tAccuracy: 0.502 (+/- 0.000) para los parámetros {'C': 0.5, 'decision_function_shape': 'ovo', 'gamma': 1, 'shrinking': True}\n",
      "\t\tAccuracy: 0.890 (+/- 0.001) para los parámetros {'C': 0.5, 'decision_function_shape': 'ovr', 'gamma': 0.0001, 'shrinking': True}\n",
      "\t\tAccuracy: 0.907 (+/- 0.001) para los parámetros {'C': 0.5, 'decision_function_shape': 'ovr', 'gamma': 0.0005, 'shrinking': True}\n",
      "\t\tAccuracy: 0.915 (+/- 0.001) para los parámetros {'C': 0.5, 'decision_function_shape': 'ovr', 'gamma': 0.001, 'shrinking': True}\n",
      "\t\tAccuracy: 0.892 (+/- 0.001) para los parámetros {'C': 0.5, 'decision_function_shape': 'ovr', 'gamma': 0.005, 'shrinking': True}\n",
      "\t\tAccuracy: 0.828 (+/- 0.000) para los parámetros {'C': 0.5, 'decision_function_shape': 'ovr', 'gamma': 0.01, 'shrinking': True}\n",
      "\t\tAccuracy: 0.620 (+/- 0.001) para los parámetros {'C': 0.5, 'decision_function_shape': 'ovr', 'gamma': 0.05, 'shrinking': True}\n",
      "\t\tAccuracy: 0.575 (+/- 0.000) para los parámetros {'C': 0.5, 'decision_function_shape': 'ovr', 'gamma': 0.1, 'shrinking': True}\n",
      "\t\tAccuracy: 0.502 (+/- 0.000) para los parámetros {'C': 0.5, 'decision_function_shape': 'ovr', 'gamma': 0.5, 'shrinking': True}\n",
      "\t\tAccuracy: 0.502 (+/- 0.000) para los parámetros {'C': 0.5, 'decision_function_shape': 'ovr', 'gamma': 1, 'shrinking': True}\n",
      "\t\tAccuracy: 0.907 (+/- 0.001) para los parámetros {'C': 0.7, 'decision_function_shape': 'ovo', 'gamma': 0.0001, 'shrinking': True}\n",
      "\t\tAccuracy: 0.910 (+/- 0.001) para los parámetros {'C': 0.7, 'decision_function_shape': 'ovo', 'gamma': 0.0005, 'shrinking': True}\n",
      "\t\tAccuracy: 0.912 (+/- 0.001) para los parámetros {'C': 0.7, 'decision_function_shape': 'ovo', 'gamma': 0.001, 'shrinking': True}\n",
      "\t\tAccuracy: 0.907 (+/- 0.001) para los parámetros {'C': 0.7, 'decision_function_shape': 'ovo', 'gamma': 0.005, 'shrinking': True}\n",
      "\t\tAccuracy: 0.870 (+/- 0.001) para los parámetros {'C': 0.7, 'decision_function_shape': 'ovo', 'gamma': 0.01, 'shrinking': True}\n",
      "\t\tAccuracy: 0.655 (+/- 0.001) para los parámetros {'C': 0.7, 'decision_function_shape': 'ovo', 'gamma': 0.05, 'shrinking': True}\n",
      "\t\tAccuracy: 0.610 (+/- 0.000) para los parámetros {'C': 0.7, 'decision_function_shape': 'ovo', 'gamma': 0.1, 'shrinking': True}\n",
      "\t\tAccuracy: 0.525 (+/- 0.000) para los parámetros {'C': 0.7, 'decision_function_shape': 'ovo', 'gamma': 0.5, 'shrinking': True}\n",
      "\t\tAccuracy: 0.502 (+/- 0.000) para los parámetros {'C': 0.7, 'decision_function_shape': 'ovo', 'gamma': 1, 'shrinking': True}\n",
      "\t\tAccuracy: 0.907 (+/- 0.001) para los parámetros {'C': 0.7, 'decision_function_shape': 'ovr', 'gamma': 0.0001, 'shrinking': True}\n",
      "\t\tAccuracy: 0.910 (+/- 0.001) para los parámetros {'C': 0.7, 'decision_function_shape': 'ovr', 'gamma': 0.0005, 'shrinking': True}\n",
      "\t\tAccuracy: 0.912 (+/- 0.001) para los parámetros {'C': 0.7, 'decision_function_shape': 'ovr', 'gamma': 0.001, 'shrinking': True}\n",
      "\t\tAccuracy: 0.907 (+/- 0.001) para los parámetros {'C': 0.7, 'decision_function_shape': 'ovr', 'gamma': 0.005, 'shrinking': True}\n",
      "\t\tAccuracy: 0.870 (+/- 0.001) para los parámetros {'C': 0.7, 'decision_function_shape': 'ovr', 'gamma': 0.01, 'shrinking': True}\n",
      "\t\tAccuracy: 0.655 (+/- 0.001) para los parámetros {'C': 0.7, 'decision_function_shape': 'ovr', 'gamma': 0.05, 'shrinking': True}\n",
      "\t\tAccuracy: 0.610 (+/- 0.000) para los parámetros {'C': 0.7, 'decision_function_shape': 'ovr', 'gamma': 0.1, 'shrinking': True}\n",
      "\t\tAccuracy: 0.525 (+/- 0.000) para los parámetros {'C': 0.7, 'decision_function_shape': 'ovr', 'gamma': 0.5, 'shrinking': True}\n",
      "\t\tAccuracy: 0.502 (+/- 0.000) para los parámetros {'C': 0.7, 'decision_function_shape': 'ovr', 'gamma': 1, 'shrinking': True}\n",
      "\t\tAccuracy: 0.905 (+/- 0.001) para los parámetros {'C': 1.0, 'decision_function_shape': 'ovo', 'gamma': 0.0001, 'shrinking': True}\n",
      "\t\tAccuracy: 0.917 (+/- 0.001) para los parámetros {'C': 1.0, 'decision_function_shape': 'ovo', 'gamma': 0.0005, 'shrinking': True}\n",
      "\t\tAccuracy: 0.910 (+/- 0.001) para los parámetros {'C': 1.0, 'decision_function_shape': 'ovo', 'gamma': 0.001, 'shrinking': True}\n",
      "\t\tAccuracy: 0.907 (+/- 0.001) para los parámetros {'C': 1.0, 'decision_function_shape': 'ovo', 'gamma': 0.005, 'shrinking': True}\n",
      "\t\tAccuracy: 0.890 (+/- 0.001) para los parámetros {'C': 1.0, 'decision_function_shape': 'ovo', 'gamma': 0.01, 'shrinking': True}\n",
      "\t\tAccuracy: 0.738 (+/- 0.001) para los parámetros {'C': 1.0, 'decision_function_shape': 'ovo', 'gamma': 0.05, 'shrinking': True}\n",
      "\t\tAccuracy: 0.682 (+/- 0.001) para los parámetros {'C': 1.0, 'decision_function_shape': 'ovo', 'gamma': 0.1, 'shrinking': True}\n",
      "\t\tAccuracy: 0.585 (+/- 0.000) para los parámetros {'C': 1.0, 'decision_function_shape': 'ovo', 'gamma': 0.5, 'shrinking': True}\n",
      "\t\tAccuracy: 0.562 (+/- 0.001) para los parámetros {'C': 1.0, 'decision_function_shape': 'ovo', 'gamma': 1, 'shrinking': True}\n",
      "\t\tAccuracy: 0.905 (+/- 0.001) para los parámetros {'C': 1.0, 'decision_function_shape': 'ovr', 'gamma': 0.0001, 'shrinking': True}\n",
      "\t\tAccuracy: 0.917 (+/- 0.001) para los parámetros {'C': 1.0, 'decision_function_shape': 'ovr', 'gamma': 0.0005, 'shrinking': True}\n",
      "\t\tAccuracy: 0.910 (+/- 0.001) para los parámetros {'C': 1.0, 'decision_function_shape': 'ovr', 'gamma': 0.001, 'shrinking': True}\n",
      "\t\tAccuracy: 0.907 (+/- 0.001) para los parámetros {'C': 1.0, 'decision_function_shape': 'ovr', 'gamma': 0.005, 'shrinking': True}\n",
      "\t\tAccuracy: 0.890 (+/- 0.001) para los parámetros {'C': 1.0, 'decision_function_shape': 'ovr', 'gamma': 0.01, 'shrinking': True}\n",
      "\t\tAccuracy: 0.738 (+/- 0.001) para los parámetros {'C': 1.0, 'decision_function_shape': 'ovr', 'gamma': 0.05, 'shrinking': True}\n",
      "\t\tAccuracy: 0.682 (+/- 0.001) para los parámetros {'C': 1.0, 'decision_function_shape': 'ovr', 'gamma': 0.1, 'shrinking': True}\n",
      "\t\tAccuracy: 0.585 (+/- 0.000) para los parámetros {'C': 1.0, 'decision_function_shape': 'ovr', 'gamma': 0.5, 'shrinking': True}\n",
      "\t\tAccuracy: 0.562 (+/- 0.001) para los parámetros {'C': 1.0, 'decision_function_shape': 'ovr', 'gamma': 1, 'shrinking': True}\n",
      "\tMejor conjunto de parámetros:\n",
      "\t\t{'C': 0.3, 'decision_function_shape': 'ovo', 'gamma': 0.001, 'shrinking': True}\n"
     ]
    }
   ],
   "source": [
    "cv = 5  # 5-fold cross-validation\n",
    "\n",
    "exploring_params = {\n",
    "    'C': [0.1, 0.3, 0.5, 0.7, 1.0],\n",
    "    'gamma': [0.0001, 0.0005, 0.001, 0.005, 0.01, 0.05, 0.1, 0.5, 1],\n",
    "    'shrinking': [True],\n",
    "    'decision_function_shape': ['ovo', 'ovr']\n",
    "}\n",
    "\n",
    "clf = SVC(random_state=0, kernel='rbf')\n",
    "model = GridSearchCV(clf, exploring_params, cv=cv, scoring='accuracy')\n",
    "model.fit(X_train, y_train)\n",
    "\n",
    "print(\"\\tPuntajes de la grilla:\")\n",
    "means = model.cv_results_['mean_test_score']\n",
    "stds = model.cv_results_['std_test_score']\n",
    "for mean, std, params in zip(means, stds, model.cv_results_['params']):\n",
    "   print(\"\\t\\tAccuracy: %0.3f (+/- %0.03f) para los parámetros %r\" % (mean, std ** 2, params))\n",
    "\n",
    "\n",
    "print(\"\\tMejor conjunto de parámetros:\")\n",
    "print(\"\\t\\t{}\".format(model.best_params_))"
   ]
  },
  {
   "cell_type": "code",
   "execution_count": 14,
   "metadata": {},
   "outputs": [
    {
     "name": "stdout",
     "output_type": "stream",
     "text": [
      "Accuracy in Train = 0.9375\n",
      "Accuracy in Test  = 0.9\n"
     ]
    }
   ],
   "source": [
    "clf = SVC(random_state=0, kernel='rbf', C=0.7, gamma=0.0005, shrinking=True, decision_function_shape='ovo')\n",
    "clf.fit(X_train, y_train)\n",
    "y_pred = clf.predict(X_train)\n",
    "print('Accuracy in Train =', accuracy_score(y_train, y_pred))\n",
    "y_pred = clf.predict(X_test)\n",
    "print('Accuracy in Test  =', accuracy_score(y_test, y_pred))"
   ]
  },
  {
   "cell_type": "markdown",
   "metadata": {},
   "source": [
    "---\n",
    "---\n",
    "## Ejercicio 2: Revisitando el Titanic\n",
    "\n",
    "Este ejercicio se basa en el siguiente análisis de datos visto en clase:\n",
    "\n",
    "- https://www.kaggle.com/zlatankr/titanic-random-forest-82-78/notebook\n",
    "\n",
    "Aquí, se logra entrenar una Random Forest con un out-of-bag score de 0.8294."
   ]
  },
  {
   "cell_type": "markdown",
   "metadata": {},
   "source": [
    "---\n",
    "### Ejercicio 2a:\n",
    "\n",
    "El objetivo de este ejercicio es ver cuánto da el score si no se quiere hacer ninguna preparación de los datos.\n",
    "\n",
    "Para esto, deben eliminarse las columnas que no tienen datos numéricos y las que tienen datos incompletos, ya que los algoritmos de aprendizaje automático no saben lidiar con ellos."
   ]
  },
  {
   "cell_type": "code",
   "execution_count": 15,
   "metadata": {},
   "outputs": [
    {
     "name": "stdout",
     "output_type": "stream",
     "text": [
      "<class 'pandas.core.frame.DataFrame'>\n",
      "RangeIndex: 891 entries, 0 to 890\n",
      "Data columns (total 12 columns):\n",
      "PassengerId    891 non-null int64\n",
      "Survived       891 non-null int64\n",
      "Pclass         891 non-null int64\n",
      "Name           891 non-null object\n",
      "Sex            891 non-null object\n",
      "Age            714 non-null float64\n",
      "SibSp          891 non-null int64\n",
      "Parch          891 non-null int64\n",
      "Ticket         891 non-null object\n",
      "Fare           891 non-null float64\n",
      "Cabin          204 non-null object\n",
      "Embarked       889 non-null object\n",
      "dtypes: float64(2), int64(5), object(5)\n",
      "memory usage: 83.6+ KB\n"
     ]
    }
   ],
   "source": [
    "# Cargar los datos\n",
    "train = pd.read_csv('titanic/train.csv')\n",
    "train.info()"
   ]
  },
  {
   "cell_type": "code",
   "execution_count": 16,
   "metadata": {},
   "outputs": [
    {
     "data": {
      "text/plain": [
       "(891, 12)"
      ]
     },
     "execution_count": 16,
     "metadata": {},
     "output_type": "execute_result"
    }
   ],
   "source": [
    "train.shape"
   ]
  },
  {
   "cell_type": "code",
   "execution_count": 17,
   "metadata": {},
   "outputs": [
    {
     "data": {
      "text/html": [
       "<div>\n",
       "<style scoped>\n",
       "    .dataframe tbody tr th:only-of-type {\n",
       "        vertical-align: middle;\n",
       "    }\n",
       "\n",
       "    .dataframe tbody tr th {\n",
       "        vertical-align: top;\n",
       "    }\n",
       "\n",
       "    .dataframe thead th {\n",
       "        text-align: right;\n",
       "    }\n",
       "</style>\n",
       "<table border=\"1\" class=\"dataframe\">\n",
       "  <thead>\n",
       "    <tr style=\"text-align: right;\">\n",
       "      <th></th>\n",
       "      <th>PassengerId</th>\n",
       "      <th>Survived</th>\n",
       "      <th>Pclass</th>\n",
       "      <th>Name</th>\n",
       "      <th>Sex</th>\n",
       "      <th>Age</th>\n",
       "      <th>SibSp</th>\n",
       "      <th>Parch</th>\n",
       "      <th>Ticket</th>\n",
       "      <th>Fare</th>\n",
       "      <th>Cabin</th>\n",
       "      <th>Embarked</th>\n",
       "    </tr>\n",
       "  </thead>\n",
       "  <tbody>\n",
       "    <tr>\n",
       "      <th>0</th>\n",
       "      <td>1</td>\n",
       "      <td>0</td>\n",
       "      <td>3</td>\n",
       "      <td>Braund, Mr. Owen Harris</td>\n",
       "      <td>male</td>\n",
       "      <td>22.0</td>\n",
       "      <td>1</td>\n",
       "      <td>0</td>\n",
       "      <td>A/5 21171</td>\n",
       "      <td>7.2500</td>\n",
       "      <td>NaN</td>\n",
       "      <td>S</td>\n",
       "    </tr>\n",
       "    <tr>\n",
       "      <th>1</th>\n",
       "      <td>2</td>\n",
       "      <td>1</td>\n",
       "      <td>1</td>\n",
       "      <td>Cumings, Mrs. John Bradley (Florence Briggs Th...</td>\n",
       "      <td>female</td>\n",
       "      <td>38.0</td>\n",
       "      <td>1</td>\n",
       "      <td>0</td>\n",
       "      <td>PC 17599</td>\n",
       "      <td>71.2833</td>\n",
       "      <td>C85</td>\n",
       "      <td>C</td>\n",
       "    </tr>\n",
       "    <tr>\n",
       "      <th>2</th>\n",
       "      <td>3</td>\n",
       "      <td>1</td>\n",
       "      <td>3</td>\n",
       "      <td>Heikkinen, Miss. Laina</td>\n",
       "      <td>female</td>\n",
       "      <td>26.0</td>\n",
       "      <td>0</td>\n",
       "      <td>0</td>\n",
       "      <td>STON/O2. 3101282</td>\n",
       "      <td>7.9250</td>\n",
       "      <td>NaN</td>\n",
       "      <td>S</td>\n",
       "    </tr>\n",
       "    <tr>\n",
       "      <th>3</th>\n",
       "      <td>4</td>\n",
       "      <td>1</td>\n",
       "      <td>1</td>\n",
       "      <td>Futrelle, Mrs. Jacques Heath (Lily May Peel)</td>\n",
       "      <td>female</td>\n",
       "      <td>35.0</td>\n",
       "      <td>1</td>\n",
       "      <td>0</td>\n",
       "      <td>113803</td>\n",
       "      <td>53.1000</td>\n",
       "      <td>C123</td>\n",
       "      <td>S</td>\n",
       "    </tr>\n",
       "    <tr>\n",
       "      <th>4</th>\n",
       "      <td>5</td>\n",
       "      <td>0</td>\n",
       "      <td>3</td>\n",
       "      <td>Allen, Mr. William Henry</td>\n",
       "      <td>male</td>\n",
       "      <td>35.0</td>\n",
       "      <td>0</td>\n",
       "      <td>0</td>\n",
       "      <td>373450</td>\n",
       "      <td>8.0500</td>\n",
       "      <td>NaN</td>\n",
       "      <td>S</td>\n",
       "    </tr>\n",
       "  </tbody>\n",
       "</table>\n",
       "</div>"
      ],
      "text/plain": [
       "   PassengerId  Survived  Pclass  \\\n",
       "0            1         0       3   \n",
       "1            2         1       1   \n",
       "2            3         1       3   \n",
       "3            4         1       1   \n",
       "4            5         0       3   \n",
       "\n",
       "                                                Name     Sex   Age  SibSp  \\\n",
       "0                            Braund, Mr. Owen Harris    male  22.0      1   \n",
       "1  Cumings, Mrs. John Bradley (Florence Briggs Th...  female  38.0      1   \n",
       "2                             Heikkinen, Miss. Laina  female  26.0      0   \n",
       "3       Futrelle, Mrs. Jacques Heath (Lily May Peel)  female  35.0      1   \n",
       "4                           Allen, Mr. William Henry    male  35.0      0   \n",
       "\n",
       "   Parch            Ticket     Fare Cabin Embarked  \n",
       "0      0         A/5 21171   7.2500   NaN        S  \n",
       "1      0          PC 17599  71.2833   C85        C  \n",
       "2      0  STON/O2. 3101282   7.9250   NaN        S  \n",
       "3      0            113803  53.1000  C123        S  \n",
       "4      0            373450   8.0500   NaN        S  "
      ]
     },
     "execution_count": 17,
     "metadata": {},
     "output_type": "execute_result"
    }
   ],
   "source": [
    "train.head()"
   ]
  },
  {
   "cell_type": "code",
   "execution_count": 18,
   "metadata": {},
   "outputs": [
    {
     "name": "stdout",
     "output_type": "stream",
     "text": [
      "# NaN in 'Survived' with dropna = 891 | Type 'Survived' = int64\n",
      "# NaN in 'Pclass' with dropna   = 891 | Type 'Pclass' = int64\n",
      "# NaN in 'Name' with dropna     = 891 | Type 'Name' = object\n",
      "# NaN in 'Sex' with dropna      = 891 | Type 'Sex' = object\n",
      "# NaN in 'Age' with dropna      = 714 | Type 'Age' = float64\n",
      "# NaN in 'SibSp' with dropna    = 891 | Type 'SibSp' = int64\n",
      "# NaN in 'Parch' with dropna    = 891 | Type 'Parch' = int64\n",
      "# NaN in 'Ticket' with dropna   = 891 | Type 'Ticket' = object\n",
      "# NaN in 'Fare' with dropna     = 891 | Type 'Fare' = float64\n",
      "# NaN in 'Cabin' with dropna    = 204 | Type 'Cabin' = object\n",
      "# NaN in 'Embarked' with dropna = 889 | Type 'Embarked' = object\n"
     ]
    }
   ],
   "source": [
    "# COMPLETAR: eliminar las columnas que no tienen números, y las que tienen datos incompletos.\n",
    "\n",
    "print(\"# NaN in 'Survived' with dropna = {} | Type 'Survived' = {}\".format(train.Survived.dropna().shape[0], train.Survived.dtype))\n",
    "print(\"# NaN in 'Pclass' with dropna   = {} | Type 'Pclass' = {}\".format(train.Pclass.dropna().shape[0], train.Pclass.dtype))\n",
    "print(\"# NaN in 'Name' with dropna     = {} | Type 'Name' = {}\".format(train.Name.dropna().shape[0], train.Name.dtype))\n",
    "print(\"# NaN in 'Sex' with dropna      = {} | Type 'Sex' = {}\".format(train.Sex.dropna().shape[0], train.Sex.dtype))\n",
    "print(\"# NaN in 'Age' with dropna      = {} | Type 'Age' = {}\".format(train.Age.dropna().shape[0], train.Age.dtype))\n",
    "print(\"# NaN in 'SibSp' with dropna    = {} | Type 'SibSp' = {}\".format(train.SibSp.dropna().shape[0], train.SibSp.dtype))\n",
    "print(\"# NaN in 'Parch' with dropna    = {} | Type 'Parch' = {}\".format(train.Parch.dropna().shape[0], train.Parch.dtype))\n",
    "print(\"# NaN in 'Ticket' with dropna   = {} | Type 'Ticket' = {}\".format(train.Ticket.dropna().shape[0], train.Ticket.dtype))\n",
    "print(\"# NaN in 'Fare' with dropna     = {} | Type 'Fare' = {}\".format(train.Fare.dropna().shape[0], train.Fare.dtype))\n",
    "print(\"# NaN in 'Cabin' with dropna    = {} | Type 'Cabin' = {}\".format(train.Cabin.dropna().shape[0], train.Cabin.dtype))\n",
    "print(\"# NaN in 'Embarked' with dropna = {} | Type 'Embarked' = {}\".format(train.Embarked.dropna().shape[0], train.Embarked.dtype))"
   ]
  },
  {
   "cell_type": "code",
   "execution_count": 19,
   "metadata": {},
   "outputs": [],
   "source": [
    "del train['PassengerId']  # Eliminar ids\n",
    "del train['Name']\n",
    "del train['Sex']\n",
    "del train['Age']\n",
    "del train['Ticket']\n",
    "del train['Cabin']\n",
    "del train['Embarked']"
   ]
  },
  {
   "cell_type": "code",
   "execution_count": 20,
   "metadata": {},
   "outputs": [
    {
     "data": {
      "text/html": [
       "<div>\n",
       "<style scoped>\n",
       "    .dataframe tbody tr th:only-of-type {\n",
       "        vertical-align: middle;\n",
       "    }\n",
       "\n",
       "    .dataframe tbody tr th {\n",
       "        vertical-align: top;\n",
       "    }\n",
       "\n",
       "    .dataframe thead th {\n",
       "        text-align: right;\n",
       "    }\n",
       "</style>\n",
       "<table border=\"1\" class=\"dataframe\">\n",
       "  <thead>\n",
       "    <tr style=\"text-align: right;\">\n",
       "      <th></th>\n",
       "      <th>Survived</th>\n",
       "      <th>Pclass</th>\n",
       "      <th>SibSp</th>\n",
       "      <th>Parch</th>\n",
       "      <th>Fare</th>\n",
       "    </tr>\n",
       "  </thead>\n",
       "  <tbody>\n",
       "    <tr>\n",
       "      <th>0</th>\n",
       "      <td>0</td>\n",
       "      <td>3</td>\n",
       "      <td>1</td>\n",
       "      <td>0</td>\n",
       "      <td>7.2500</td>\n",
       "    </tr>\n",
       "    <tr>\n",
       "      <th>1</th>\n",
       "      <td>1</td>\n",
       "      <td>1</td>\n",
       "      <td>1</td>\n",
       "      <td>0</td>\n",
       "      <td>71.2833</td>\n",
       "    </tr>\n",
       "    <tr>\n",
       "      <th>2</th>\n",
       "      <td>1</td>\n",
       "      <td>3</td>\n",
       "      <td>0</td>\n",
       "      <td>0</td>\n",
       "      <td>7.9250</td>\n",
       "    </tr>\n",
       "    <tr>\n",
       "      <th>3</th>\n",
       "      <td>1</td>\n",
       "      <td>1</td>\n",
       "      <td>1</td>\n",
       "      <td>0</td>\n",
       "      <td>53.1000</td>\n",
       "    </tr>\n",
       "    <tr>\n",
       "      <th>4</th>\n",
       "      <td>0</td>\n",
       "      <td>3</td>\n",
       "      <td>0</td>\n",
       "      <td>0</td>\n",
       "      <td>8.0500</td>\n",
       "    </tr>\n",
       "  </tbody>\n",
       "</table>\n",
       "</div>"
      ],
      "text/plain": [
       "   Survived  Pclass  SibSp  Parch     Fare\n",
       "0         0       3      1      0   7.2500\n",
       "1         1       1      1      0  71.2833\n",
       "2         1       3      0      0   7.9250\n",
       "3         1       1      1      0  53.1000\n",
       "4         0       3      0      0   8.0500"
      ]
     },
     "execution_count": 20,
     "metadata": {},
     "output_type": "execute_result"
    }
   ],
   "source": [
    "train.head()"
   ]
  },
  {
   "cell_type": "code",
   "execution_count": 21,
   "metadata": {},
   "outputs": [
    {
     "name": "stdout",
     "output_type": "stream",
     "text": [
      "Out-of-bag (OOB) = 0.7172\n"
     ]
    }
   ],
   "source": [
    "# Entrenar la misma Random Forest, e imprimir el out-of-bag score\n",
    "rf = RandomForestClassifier(criterion='gini',\n",
    "                            n_estimators=700,\n",
    "                            min_samples_split=10,\n",
    "                            min_samples_leaf=1,\n",
    "                            max_features='auto',\n",
    "                            oob_score=True,\n",
    "                            random_state=1,\n",
    "                            n_jobs=-1)\n",
    "\n",
    "rf.fit(train.iloc[:, 1:], train.iloc[:, 0])\n",
    "print(\"Out-of-bag (OOB) = %.4f\" % rf.oob_score_)"
   ]
  },
  {
   "cell_type": "markdown",
   "metadata": {},
   "source": [
    "### Ejercicio 2b:\n",
    "\n",
    "En este ejercicio deberá hacer tres mejoras en la preparación de los datos:\n",
    "\n",
    "- Completar la columna \"Age\" y usarla.\n",
    "- Agregar una nueva columna con el largo del nombre.\n",
    "- Convertir la columna \"Sex\" a valores numéricos y usarla.\n",
    "\n",
    "Calcular el OOB score de cada una de las mejoras por separado."
   ]
  },
  {
   "cell_type": "markdown",
   "metadata": {},
   "source": [
    "#### Mejora 1: Completar la columna \"Age\" y usarla."
   ]
  },
  {
   "cell_type": "code",
   "execution_count": 22,
   "metadata": {},
   "outputs": [],
   "source": [
    "# Cargar nuevamente los datos\n",
    "train = pd.read_csv('titanic/train.csv')"
   ]
  },
  {
   "cell_type": "code",
   "execution_count": 23,
   "metadata": {},
   "outputs": [
    {
     "name": "stdout",
     "output_type": "stream",
     "text": [
      "# NaN in Age column = 177\n"
     ]
    }
   ],
   "source": [
    "# COMPLETAR: completar con el valor medio los datos faltantes en el campo Age\n",
    "print(\"# NaN in Age column =\", train['Age'].isnull().sum())\n",
    "#train['Age'].mean()\n",
    "train['Age'] = train['Age'].fillna(train['Age'].mean())"
   ]
  },
  {
   "cell_type": "code",
   "execution_count": 24,
   "metadata": {},
   "outputs": [],
   "source": [
    "# COMPLETAR: eliminar las columnas que deban ser eliminadas\n",
    "del train['PassengerId']\n",
    "del train['Name']\n",
    "del train['Sex']\n",
    "del train['Ticket']\n",
    "del train['Cabin']\n",
    "del train['Embarked']"
   ]
  },
  {
   "cell_type": "code",
   "execution_count": 25,
   "metadata": {},
   "outputs": [
    {
     "data": {
      "text/html": [
       "<div>\n",
       "<style scoped>\n",
       "    .dataframe tbody tr th:only-of-type {\n",
       "        vertical-align: middle;\n",
       "    }\n",
       "\n",
       "    .dataframe tbody tr th {\n",
       "        vertical-align: top;\n",
       "    }\n",
       "\n",
       "    .dataframe thead th {\n",
       "        text-align: right;\n",
       "    }\n",
       "</style>\n",
       "<table border=\"1\" class=\"dataframe\">\n",
       "  <thead>\n",
       "    <tr style=\"text-align: right;\">\n",
       "      <th></th>\n",
       "      <th>Survived</th>\n",
       "      <th>Pclass</th>\n",
       "      <th>Age</th>\n",
       "      <th>SibSp</th>\n",
       "      <th>Parch</th>\n",
       "      <th>Fare</th>\n",
       "    </tr>\n",
       "  </thead>\n",
       "  <tbody>\n",
       "    <tr>\n",
       "      <th>0</th>\n",
       "      <td>0</td>\n",
       "      <td>3</td>\n",
       "      <td>22.0</td>\n",
       "      <td>1</td>\n",
       "      <td>0</td>\n",
       "      <td>7.2500</td>\n",
       "    </tr>\n",
       "    <tr>\n",
       "      <th>1</th>\n",
       "      <td>1</td>\n",
       "      <td>1</td>\n",
       "      <td>38.0</td>\n",
       "      <td>1</td>\n",
       "      <td>0</td>\n",
       "      <td>71.2833</td>\n",
       "    </tr>\n",
       "    <tr>\n",
       "      <th>2</th>\n",
       "      <td>1</td>\n",
       "      <td>3</td>\n",
       "      <td>26.0</td>\n",
       "      <td>0</td>\n",
       "      <td>0</td>\n",
       "      <td>7.9250</td>\n",
       "    </tr>\n",
       "    <tr>\n",
       "      <th>3</th>\n",
       "      <td>1</td>\n",
       "      <td>1</td>\n",
       "      <td>35.0</td>\n",
       "      <td>1</td>\n",
       "      <td>0</td>\n",
       "      <td>53.1000</td>\n",
       "    </tr>\n",
       "    <tr>\n",
       "      <th>4</th>\n",
       "      <td>0</td>\n",
       "      <td>3</td>\n",
       "      <td>35.0</td>\n",
       "      <td>0</td>\n",
       "      <td>0</td>\n",
       "      <td>8.0500</td>\n",
       "    </tr>\n",
       "  </tbody>\n",
       "</table>\n",
       "</div>"
      ],
      "text/plain": [
       "   Survived  Pclass   Age  SibSp  Parch     Fare\n",
       "0         0       3  22.0      1      0   7.2500\n",
       "1         1       1  38.0      1      0  71.2833\n",
       "2         1       3  26.0      0      0   7.9250\n",
       "3         1       1  35.0      1      0  53.1000\n",
       "4         0       3  35.0      0      0   8.0500"
      ]
     },
     "execution_count": 25,
     "metadata": {},
     "output_type": "execute_result"
    }
   ],
   "source": [
    "train.head()"
   ]
  },
  {
   "cell_type": "code",
   "execution_count": 26,
   "metadata": {},
   "outputs": [
    {
     "name": "stdout",
     "output_type": "stream",
     "text": [
      "Out-of-bag (OOB) = 0.7250\n"
     ]
    }
   ],
   "source": [
    "# EJECUTAR ESTO TRES VECES, UNA VEZ PARA CADA MEJORA.\n",
    "# Entrenar el Random Forest, e imprimir out-of-bag score\n",
    "rf = RandomForestClassifier(criterion='gini',\n",
    "                            n_estimators=700,\n",
    "                            min_samples_split=10,\n",
    "                            min_samples_leaf=1,\n",
    "                            max_features='auto',\n",
    "                            oob_score=True,\n",
    "                            random_state=1,\n",
    "                            n_jobs=-1)\n",
    "\n",
    "rf.fit(train.iloc[:, 1:], train.iloc[:, 0])\n",
    "oob_mejora1 = rf.oob_score_\n",
    "print(\"Out-of-bag (OOB) = %.4f\" % oob_mejora1)"
   ]
  },
  {
   "cell_type": "markdown",
   "metadata": {},
   "source": [
    "#### Mejora 2: Agregar una nueva columna con el largo del nombre."
   ]
  },
  {
   "cell_type": "code",
   "execution_count": 27,
   "metadata": {},
   "outputs": [],
   "source": [
    "# Cargar nuevamente los datos\n",
    "train = pd.read_csv('titanic/train.csv')"
   ]
  },
  {
   "cell_type": "code",
   "execution_count": 28,
   "metadata": {},
   "outputs": [],
   "source": [
    "# COMPLETAR: agregar columna con el largo del nombre\n",
    "train['Name_Length'] = train['Name'].str.len()"
   ]
  },
  {
   "cell_type": "code",
   "execution_count": 29,
   "metadata": {},
   "outputs": [],
   "source": [
    "# COMPLETAR: eliminar las columnas que deban ser eliminadas\n",
    "del train['PassengerId']\n",
    "del train['Name']\n",
    "del train['Sex']\n",
    "del train['Age']\n",
    "del train['Ticket']\n",
    "del train['Cabin']\n",
    "del train['Embarked']"
   ]
  },
  {
   "cell_type": "code",
   "execution_count": 30,
   "metadata": {},
   "outputs": [
    {
     "name": "stdout",
     "output_type": "stream",
     "text": [
      "Out-of-bag (OOB) = 0.7407\n"
     ]
    }
   ],
   "source": [
    "# EJECUTAR ESTO TRES VECES, UNA VEZ PARA CADA MEJORA.\n",
    "# Entrenar el Random Forest, e imprimir out-of-bag score\n",
    "rf = RandomForestClassifier(criterion='gini',\n",
    "                            n_estimators=700,\n",
    "                            min_samples_split=10,\n",
    "                            min_samples_leaf=1,\n",
    "                            max_features='auto',\n",
    "                            oob_score=True,\n",
    "                            random_state=1,\n",
    "                            n_jobs=-1)\n",
    "\n",
    "rf.fit(train.iloc[:, 1:], train.iloc[:, 0])\n",
    "oob_mejora2 = rf.oob_score_\n",
    "print(\"Out-of-bag (OOB) = %.4f\" % oob_mejora2)"
   ]
  },
  {
   "cell_type": "markdown",
   "metadata": {},
   "source": [
    "#### Mejora 3: Convertir la columna \"Sex\" a valores numéricos y usarla."
   ]
  },
  {
   "cell_type": "code",
   "execution_count": 31,
   "metadata": {},
   "outputs": [],
   "source": [
    "# Cargar nuevamente los datos\n",
    "train = pd.read_csv('titanic/train.csv')"
   ]
  },
  {
   "cell_type": "code",
   "execution_count": 32,
   "metadata": {},
   "outputs": [
    {
     "name": "stdout",
     "output_type": "stream",
     "text": [
      "['male' 'female']\n"
     ]
    }
   ],
   "source": [
    "print(train.Sex.unique())\n",
    "\n",
    "# COMPLETAR: poner 1 en lugar de 'female' y 0 en lugar de 'male'\n",
    "# AYUDA: DEFINIR LA FUNCIÓN f Y HACER: train['Sex'] = train['Sex'].apply(f)\n",
    "train['Sex'] = train['Sex'].apply(lambda x: 1 if x == 'female' else 0)"
   ]
  },
  {
   "cell_type": "code",
   "execution_count": 33,
   "metadata": {},
   "outputs": [
    {
     "data": {
      "text/html": [
       "<div>\n",
       "<style scoped>\n",
       "    .dataframe tbody tr th:only-of-type {\n",
       "        vertical-align: middle;\n",
       "    }\n",
       "\n",
       "    .dataframe tbody tr th {\n",
       "        vertical-align: top;\n",
       "    }\n",
       "\n",
       "    .dataframe thead th {\n",
       "        text-align: right;\n",
       "    }\n",
       "</style>\n",
       "<table border=\"1\" class=\"dataframe\">\n",
       "  <thead>\n",
       "    <tr style=\"text-align: right;\">\n",
       "      <th></th>\n",
       "      <th>PassengerId</th>\n",
       "      <th>Survived</th>\n",
       "      <th>Pclass</th>\n",
       "      <th>Name</th>\n",
       "      <th>Sex</th>\n",
       "      <th>Age</th>\n",
       "      <th>SibSp</th>\n",
       "      <th>Parch</th>\n",
       "      <th>Ticket</th>\n",
       "      <th>Fare</th>\n",
       "      <th>Cabin</th>\n",
       "      <th>Embarked</th>\n",
       "    </tr>\n",
       "  </thead>\n",
       "  <tbody>\n",
       "    <tr>\n",
       "      <th>0</th>\n",
       "      <td>1</td>\n",
       "      <td>0</td>\n",
       "      <td>3</td>\n",
       "      <td>Braund, Mr. Owen Harris</td>\n",
       "      <td>0</td>\n",
       "      <td>22.0</td>\n",
       "      <td>1</td>\n",
       "      <td>0</td>\n",
       "      <td>A/5 21171</td>\n",
       "      <td>7.2500</td>\n",
       "      <td>NaN</td>\n",
       "      <td>S</td>\n",
       "    </tr>\n",
       "    <tr>\n",
       "      <th>1</th>\n",
       "      <td>2</td>\n",
       "      <td>1</td>\n",
       "      <td>1</td>\n",
       "      <td>Cumings, Mrs. John Bradley (Florence Briggs Th...</td>\n",
       "      <td>1</td>\n",
       "      <td>38.0</td>\n",
       "      <td>1</td>\n",
       "      <td>0</td>\n",
       "      <td>PC 17599</td>\n",
       "      <td>71.2833</td>\n",
       "      <td>C85</td>\n",
       "      <td>C</td>\n",
       "    </tr>\n",
       "    <tr>\n",
       "      <th>2</th>\n",
       "      <td>3</td>\n",
       "      <td>1</td>\n",
       "      <td>3</td>\n",
       "      <td>Heikkinen, Miss. Laina</td>\n",
       "      <td>1</td>\n",
       "      <td>26.0</td>\n",
       "      <td>0</td>\n",
       "      <td>0</td>\n",
       "      <td>STON/O2. 3101282</td>\n",
       "      <td>7.9250</td>\n",
       "      <td>NaN</td>\n",
       "      <td>S</td>\n",
       "    </tr>\n",
       "    <tr>\n",
       "      <th>3</th>\n",
       "      <td>4</td>\n",
       "      <td>1</td>\n",
       "      <td>1</td>\n",
       "      <td>Futrelle, Mrs. Jacques Heath (Lily May Peel)</td>\n",
       "      <td>1</td>\n",
       "      <td>35.0</td>\n",
       "      <td>1</td>\n",
       "      <td>0</td>\n",
       "      <td>113803</td>\n",
       "      <td>53.1000</td>\n",
       "      <td>C123</td>\n",
       "      <td>S</td>\n",
       "    </tr>\n",
       "    <tr>\n",
       "      <th>4</th>\n",
       "      <td>5</td>\n",
       "      <td>0</td>\n",
       "      <td>3</td>\n",
       "      <td>Allen, Mr. William Henry</td>\n",
       "      <td>0</td>\n",
       "      <td>35.0</td>\n",
       "      <td>0</td>\n",
       "      <td>0</td>\n",
       "      <td>373450</td>\n",
       "      <td>8.0500</td>\n",
       "      <td>NaN</td>\n",
       "      <td>S</td>\n",
       "    </tr>\n",
       "  </tbody>\n",
       "</table>\n",
       "</div>"
      ],
      "text/plain": [
       "   PassengerId  Survived  Pclass  \\\n",
       "0            1         0       3   \n",
       "1            2         1       1   \n",
       "2            3         1       3   \n",
       "3            4         1       1   \n",
       "4            5         0       3   \n",
       "\n",
       "                                                Name  Sex   Age  SibSp  Parch  \\\n",
       "0                            Braund, Mr. Owen Harris    0  22.0      1      0   \n",
       "1  Cumings, Mrs. John Bradley (Florence Briggs Th...    1  38.0      1      0   \n",
       "2                             Heikkinen, Miss. Laina    1  26.0      0      0   \n",
       "3       Futrelle, Mrs. Jacques Heath (Lily May Peel)    1  35.0      1      0   \n",
       "4                           Allen, Mr. William Henry    0  35.0      0      0   \n",
       "\n",
       "             Ticket     Fare Cabin Embarked  \n",
       "0         A/5 21171   7.2500   NaN        S  \n",
       "1          PC 17599  71.2833   C85        C  \n",
       "2  STON/O2. 3101282   7.9250   NaN        S  \n",
       "3            113803  53.1000  C123        S  \n",
       "4            373450   8.0500   NaN        S  "
      ]
     },
     "execution_count": 33,
     "metadata": {},
     "output_type": "execute_result"
    }
   ],
   "source": [
    "train.head()"
   ]
  },
  {
   "cell_type": "code",
   "execution_count": 34,
   "metadata": {},
   "outputs": [],
   "source": [
    "# COMPLETAR: eliminar las columnas que deban ser eliminadas\n",
    "del train['PassengerId']\n",
    "del train['Name']\n",
    "del train['Age']\n",
    "del train['Ticket']\n",
    "del train['Cabin']\n",
    "del train['Embarked']"
   ]
  },
  {
   "cell_type": "code",
   "execution_count": 35,
   "metadata": {},
   "outputs": [
    {
     "data": {
      "text/html": [
       "<div>\n",
       "<style scoped>\n",
       "    .dataframe tbody tr th:only-of-type {\n",
       "        vertical-align: middle;\n",
       "    }\n",
       "\n",
       "    .dataframe tbody tr th {\n",
       "        vertical-align: top;\n",
       "    }\n",
       "\n",
       "    .dataframe thead th {\n",
       "        text-align: right;\n",
       "    }\n",
       "</style>\n",
       "<table border=\"1\" class=\"dataframe\">\n",
       "  <thead>\n",
       "    <tr style=\"text-align: right;\">\n",
       "      <th></th>\n",
       "      <th>Survived</th>\n",
       "      <th>Pclass</th>\n",
       "      <th>Sex</th>\n",
       "      <th>SibSp</th>\n",
       "      <th>Parch</th>\n",
       "      <th>Fare</th>\n",
       "    </tr>\n",
       "  </thead>\n",
       "  <tbody>\n",
       "    <tr>\n",
       "      <th>0</th>\n",
       "      <td>0</td>\n",
       "      <td>3</td>\n",
       "      <td>0</td>\n",
       "      <td>1</td>\n",
       "      <td>0</td>\n",
       "      <td>7.2500</td>\n",
       "    </tr>\n",
       "    <tr>\n",
       "      <th>1</th>\n",
       "      <td>1</td>\n",
       "      <td>1</td>\n",
       "      <td>1</td>\n",
       "      <td>1</td>\n",
       "      <td>0</td>\n",
       "      <td>71.2833</td>\n",
       "    </tr>\n",
       "    <tr>\n",
       "      <th>2</th>\n",
       "      <td>1</td>\n",
       "      <td>3</td>\n",
       "      <td>1</td>\n",
       "      <td>0</td>\n",
       "      <td>0</td>\n",
       "      <td>7.9250</td>\n",
       "    </tr>\n",
       "    <tr>\n",
       "      <th>3</th>\n",
       "      <td>1</td>\n",
       "      <td>1</td>\n",
       "      <td>1</td>\n",
       "      <td>1</td>\n",
       "      <td>0</td>\n",
       "      <td>53.1000</td>\n",
       "    </tr>\n",
       "    <tr>\n",
       "      <th>4</th>\n",
       "      <td>0</td>\n",
       "      <td>3</td>\n",
       "      <td>0</td>\n",
       "      <td>0</td>\n",
       "      <td>0</td>\n",
       "      <td>8.0500</td>\n",
       "    </tr>\n",
       "  </tbody>\n",
       "</table>\n",
       "</div>"
      ],
      "text/plain": [
       "   Survived  Pclass  Sex  SibSp  Parch     Fare\n",
       "0         0       3    0      1      0   7.2500\n",
       "1         1       1    1      1      0  71.2833\n",
       "2         1       3    1      0      0   7.9250\n",
       "3         1       1    1      1      0  53.1000\n",
       "4         0       3    0      0      0   8.0500"
      ]
     },
     "execution_count": 35,
     "metadata": {},
     "output_type": "execute_result"
    }
   ],
   "source": [
    "train.head()"
   ]
  },
  {
   "cell_type": "code",
   "execution_count": 36,
   "metadata": {},
   "outputs": [
    {
     "name": "stdout",
     "output_type": "stream",
     "text": [
      "Out-of-bag (OOB) = 0.8025\n"
     ]
    }
   ],
   "source": [
    "# EJECUTAR ESTO TRES VECES, UNA VEZ PARA CADA MEJORA.\n",
    "# Entrenar el Random Forest, e imprimir out-of-bag score\n",
    "rf = RandomForestClassifier(criterion='gini',\n",
    "                            n_estimators=700,\n",
    "                            min_samples_split=10,\n",
    "                            min_samples_leaf=1,\n",
    "                            max_features='auto',\n",
    "                            oob_score=True,\n",
    "                            random_state=1,\n",
    "                            n_jobs=-1)\n",
    "\n",
    "rf.fit(train.iloc[:, 1:], train.iloc[:, 0])\n",
    "oob_mejora3 = rf.oob_score_\n",
    "print(\"Out-of-bag (OOB) = %.4f\" % oob_mejora3)"
   ]
  },
  {
   "cell_type": "code",
   "execution_count": 37,
   "metadata": {},
   "outputs": [
    {
     "name": "stdout",
     "output_type": "stream",
     "text": [
      "Out-of-bag (OOB):\n",
      "\tMejora 1 = 0.7250\n",
      "\tMejora 2 = 0.7407\n",
      "\tMejora 3 = 0.8025\n"
     ]
    }
   ],
   "source": [
    "print(\"Out-of-bag (OOB):\")\n",
    "print(\"\\tMejora 1 = %.4f\" % oob_mejora1)\n",
    "print(\"\\tMejora 2 = %.4f\" % oob_mejora2)\n",
    "print(\"\\tMejora 3 = %.4f\" % oob_mejora3)"
   ]
  },
  {
   "cell_type": "markdown",
   "metadata": {},
   "source": [
    "**Responda**: ¿Cuál de las tres mejoras aporta más?\n",
    "\n",
    "La tercer mejora aporta mas ya que el OOB es superior a las mejoras anteriores."
   ]
  }
 ],
 "metadata": {
  "kernelspec": {
   "display_name": "Python 3",
   "language": "python",
   "name": "python3"
  },
  "language_info": {
   "codemirror_mode": {
    "name": "ipython",
    "version": 3
   },
   "file_extension": ".py",
   "mimetype": "text/x-python",
   "name": "python",
   "nbconvert_exporter": "python",
   "pygments_lexer": "ipython3",
   "version": "3.6.5"
  }
 },
 "nbformat": 4,
 "nbformat_minor": 2
}
