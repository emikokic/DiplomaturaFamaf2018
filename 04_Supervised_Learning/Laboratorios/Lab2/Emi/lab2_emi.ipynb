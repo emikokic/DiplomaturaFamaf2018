{
 "cells": [
  {
   "cell_type": "markdown",
   "metadata": {},
   "source": [
    "### Laboratorio 2 - Aprendizaje Supervisado"
   ]
  },
  {
   "cell_type": "code",
   "execution_count": 1,
   "metadata": {},
   "outputs": [],
   "source": [
    "from utils import load_datasets_unlabeled_test\n",
    "train, dev, test = load_datasets_unlabeled_test()"
   ]
  },
  {
   "cell_type": "code",
   "execution_count": 2,
   "metadata": {},
   "outputs": [],
   "source": [
    "import pandas as pd\n",
    "data_train = pd.DataFrame({'data': train[0], 'target': train[1]})\n",
    "data_dev = pd.DataFrame({'data': dev[0], 'target': dev[1]})"
   ]
  },
  {
   "cell_type": "code",
   "execution_count": 3,
   "metadata": {},
   "outputs": [
    {
     "data": {
      "text/html": [
       "<div>\n",
       "<style scoped>\n",
       "    .dataframe tbody tr th:only-of-type {\n",
       "        vertical-align: middle;\n",
       "    }\n",
       "\n",
       "    .dataframe tbody tr th {\n",
       "        vertical-align: top;\n",
       "    }\n",
       "\n",
       "    .dataframe thead th {\n",
       "        text-align: right;\n",
       "    }\n",
       "</style>\n",
       "<table border=\"1\" class=\"dataframe\">\n",
       "  <thead>\n",
       "    <tr style=\"text-align: right;\">\n",
       "      <th></th>\n",
       "      <th>target</th>\n",
       "    </tr>\n",
       "  </thead>\n",
       "  <tbody>\n",
       "    <tr>\n",
       "      <th>count</th>\n",
       "      <td>963.000000</td>\n",
       "    </tr>\n",
       "    <tr>\n",
       "      <th>mean</th>\n",
       "      <td>0.500519</td>\n",
       "    </tr>\n",
       "    <tr>\n",
       "      <th>std</th>\n",
       "      <td>0.500260</td>\n",
       "    </tr>\n",
       "    <tr>\n",
       "      <th>min</th>\n",
       "      <td>0.000000</td>\n",
       "    </tr>\n",
       "    <tr>\n",
       "      <th>25%</th>\n",
       "      <td>0.000000</td>\n",
       "    </tr>\n",
       "    <tr>\n",
       "      <th>50%</th>\n",
       "      <td>1.000000</td>\n",
       "    </tr>\n",
       "    <tr>\n",
       "      <th>75%</th>\n",
       "      <td>1.000000</td>\n",
       "    </tr>\n",
       "    <tr>\n",
       "      <th>max</th>\n",
       "      <td>1.000000</td>\n",
       "    </tr>\n",
       "  </tbody>\n",
       "</table>\n",
       "</div>"
      ],
      "text/plain": [
       "           target\n",
       "count  963.000000\n",
       "mean     0.500519\n",
       "std      0.500260\n",
       "min      0.000000\n",
       "25%      0.000000\n",
       "50%      1.000000\n",
       "75%      1.000000\n",
       "max      1.000000"
      ]
     },
     "execution_count": 3,
     "metadata": {},
     "output_type": "execute_result"
    }
   ],
   "source": [
    "data_train.describe()"
   ]
  },
  {
   "cell_type": "code",
   "execution_count": 4,
   "metadata": {},
   "outputs": [
    {
     "data": {
      "text/html": [
       "<div>\n",
       "<style scoped>\n",
       "    .dataframe tbody tr th:only-of-type {\n",
       "        vertical-align: middle;\n",
       "    }\n",
       "\n",
       "    .dataframe tbody tr th {\n",
       "        vertical-align: top;\n",
       "    }\n",
       "\n",
       "    .dataframe thead th {\n",
       "        text-align: right;\n",
       "    }\n",
       "</style>\n",
       "<table border=\"1\" class=\"dataframe\">\n",
       "  <thead>\n",
       "    <tr style=\"text-align: right;\">\n",
       "      <th></th>\n",
       "      <th>target</th>\n",
       "    </tr>\n",
       "  </thead>\n",
       "  <tbody>\n",
       "    <tr>\n",
       "      <th>count</th>\n",
       "      <td>107.000000</td>\n",
       "    </tr>\n",
       "    <tr>\n",
       "      <th>mean</th>\n",
       "      <td>0.495327</td>\n",
       "    </tr>\n",
       "    <tr>\n",
       "      <th>std</th>\n",
       "      <td>0.502331</td>\n",
       "    </tr>\n",
       "    <tr>\n",
       "      <th>min</th>\n",
       "      <td>0.000000</td>\n",
       "    </tr>\n",
       "    <tr>\n",
       "      <th>25%</th>\n",
       "      <td>0.000000</td>\n",
       "    </tr>\n",
       "    <tr>\n",
       "      <th>50%</th>\n",
       "      <td>0.000000</td>\n",
       "    </tr>\n",
       "    <tr>\n",
       "      <th>75%</th>\n",
       "      <td>1.000000</td>\n",
       "    </tr>\n",
       "    <tr>\n",
       "      <th>max</th>\n",
       "      <td>1.000000</td>\n",
       "    </tr>\n",
       "  </tbody>\n",
       "</table>\n",
       "</div>"
      ],
      "text/plain": [
       "           target\n",
       "count  107.000000\n",
       "mean     0.495327\n",
       "std      0.502331\n",
       "min      0.000000\n",
       "25%      0.000000\n",
       "50%      0.000000\n",
       "75%      1.000000\n",
       "max      1.000000"
      ]
     },
     "execution_count": 4,
     "metadata": {},
     "output_type": "execute_result"
    }
   ],
   "source": [
    "data_dev.describe()"
   ]
  },
  {
   "cell_type": "markdown",
   "metadata": {},
   "source": [
    "## División: Train, Dev y Test\n",
    "\n",
    "Hay 1070 instancias etiquetadas, de las cuales se utilizaran:\n",
    "  - Train: 90% (963)\n",
    "  - Dev: 10% (107)\n",
    "  \n",
    "Hay 500 instancias no etiquetadas que son de test    \n",
    "  - Test: (500)\n",
    "  \n",
    "Notar que la cantidad de datos etiquetados (de train) son relativamente pocos respecto a los no etiquetados (de test). Probablemente hay que intentar aumentar los datos de train."
   ]
  },
  {
   "cell_type": "code",
   "execution_count": 5,
   "metadata": {},
   "outputs": [],
   "source": [
    "X_train, y_train = data_train['data'].tolist(), data_train['target'].tolist()\n",
    "X_dev, y_dev = data_dev['data'].tolist(), data_dev['target'].tolist()"
   ]
  },
  {
   "cell_type": "markdown",
   "metadata": {},
   "source": [
    "## CountVectorizer +  LinearSVC:"
   ]
  },
  {
   "cell_type": "code",
   "execution_count": 6,
   "metadata": {},
   "outputs": [
    {
     "data": {
      "text/plain": [
       "Pipeline(memory=None,\n",
       "     steps=[('vect', CountVectorizer(analyzer='word', binary=False, decode_error='strict',\n",
       "        dtype=<class 'numpy.int64'>, encoding='utf-8', input='content',\n",
       "        lowercase=True, max_df=1.0, max_features=None, min_df=1,\n",
       "        ngram_range=(1, 1), preprocessor=None, stop_words=None,\n",
       "        strip..., max_iter=1000,\n",
       "     multi_class='ovr', penalty='l2', random_state=0, tol=0.0001,\n",
       "     verbose=0))])"
      ]
     },
     "execution_count": 6,
     "metadata": {},
     "output_type": "execute_result"
    }
   ],
   "source": [
    "# El argumento del vectorizador debe ser una lista\n",
    "X_train, y_train = data_train['data'].tolist(), data_train['target'].tolist()\n",
    "X_dev, y_dev = data_dev['data'].tolist(), data_dev['target'].tolist()\n",
    "\n",
    "from sklearn.feature_extraction.text import CountVectorizer\n",
    "from sklearn.svm import LinearSVC\n",
    "from sklearn.pipeline import Pipeline\n",
    "\n",
    "pipeline = Pipeline([\n",
    "    ('vect', CountVectorizer()),\n",
    "    ('clf', LinearSVC(random_state=0)),\n",
    "])\n",
    "\n",
    "pipeline.fit(X_train, y_train)"
   ]
  },
  {
   "cell_type": "code",
   "execution_count": 7,
   "metadata": {},
   "outputs": [
    {
     "name": "stdout",
     "output_type": "stream",
     "text": [
      "accuracy\t1.00\tmacro f1\t1.00\n"
     ]
    }
   ],
   "source": [
    "from utils import print_short_eval\n",
    "print_short_eval(pipeline, X_train, y_train)"
   ]
  },
  {
   "cell_type": "code",
   "execution_count": 8,
   "metadata": {},
   "outputs": [
    {
     "name": "stdout",
     "output_type": "stream",
     "text": [
      "accuracy\t0.79\tmacro f1\t0.79\n"
     ]
    }
   ],
   "source": [
    "print_short_eval(pipeline, X_dev, y_dev)"
   ]
  },
  {
   "cell_type": "markdown",
   "metadata": {},
   "source": [
    "### Experimento: Binarizar Conteos"
   ]
  },
  {
   "cell_type": "code",
   "execution_count": 9,
   "metadata": {},
   "outputs": [
    {
     "data": {
      "text/plain": [
       "Pipeline(memory=None,\n",
       "     steps=[('vect', CountVectorizer(analyzer='word', binary=True, decode_error='strict',\n",
       "        dtype=<class 'numpy.int64'>, encoding='utf-8', input='content',\n",
       "        lowercase=True, max_df=1.0, max_features=None, min_df=1,\n",
       "        ngram_range=(1, 1), preprocessor=None, stop_words=None,\n",
       "        strip_..., max_iter=1000,\n",
       "     multi_class='ovr', penalty='l2', random_state=0, tol=0.0001,\n",
       "     verbose=0))])"
      ]
     },
     "execution_count": 9,
     "metadata": {},
     "output_type": "execute_result"
    }
   ],
   "source": [
    "pipeline = Pipeline([\n",
    "    ('vect', CountVectorizer(binary=True)),\n",
    "    ('clf', LinearSVC(random_state=0)),\n",
    "])\n",
    "\n",
    "pipeline.fit(X_train, y_train)"
   ]
  },
  {
   "cell_type": "code",
   "execution_count": 10,
   "metadata": {},
   "outputs": [
    {
     "name": "stdout",
     "output_type": "stream",
     "text": [
      "accuracy\t1.00\tmacro f1\t1.00\n"
     ]
    }
   ],
   "source": [
    "print_short_eval(pipeline, X_train, y_train)"
   ]
  },
  {
   "cell_type": "code",
   "execution_count": 11,
   "metadata": {},
   "outputs": [
    {
     "name": "stdout",
     "output_type": "stream",
     "text": [
      "accuracy\t0.83\tmacro f1\t0.83\n"
     ]
    }
   ],
   "source": [
    "print_short_eval(pipeline, X_dev, y_dev)"
   ]
  },
  {
   "cell_type": "markdown",
   "metadata": {},
   "source": [
    "#### Conclusión: Binarizar los conteos es una buena elección ya que aumenta notablemente la accuracy."
   ]
  },
  {
   "cell_type": "markdown",
   "metadata": {},
   "source": [
    "## Distintos Modelos de Clasificación\n",
    "\n",
    "Probamos distintos modelos de clasificación usando los valores por defecto.\n",
    "\n",
    "Evaluamos en train (bias) y en dev (variance)."
   ]
  },
  {
   "cell_type": "code",
   "execution_count": 12,
   "metadata": {},
   "outputs": [],
   "source": [
    "from sklearn.neighbors import KNeighborsClassifier\n",
    "from sklearn.naive_bayes import MultinomialNB\n",
    "from sklearn.tree import DecisionTreeClassifier\n",
    "from sklearn.linear_model import LogisticRegression\n",
    "from sklearn.svm import LinearSVC, SVC\n",
    "from sklearn.ensemble import RandomForestClassifier\n",
    "\n",
    "clfs = [\n",
    "    KNeighborsClassifier(),\n",
    "    MultinomialNB(),\n",
    "    DecisionTreeClassifier(random_state=0),\n",
    "    LogisticRegression(random_state=0),\n",
    "    LinearSVC(random_state=0),\n",
    "    SVC(random_state=0),\n",
    "    RandomForestClassifier(random_state=0),\n",
    "]"
   ]
  },
  {
   "cell_type": "code",
   "execution_count": 13,
   "metadata": {},
   "outputs": [
    {
     "name": "stdout",
     "output_type": "stream",
     "text": [
      "<class 'sklearn.neighbors.classification.KNeighborsClassifier'>\n",
      "accuracy\t0.73\tmacro f1\t0.72\n",
      "accuracy\t0.56\tmacro f1\t0.51\n",
      "<class 'sklearn.naive_bayes.MultinomialNB'>\n",
      "accuracy\t0.97\tmacro f1\t0.97\n",
      "accuracy\t0.87\tmacro f1\t0.87\n",
      "<class 'sklearn.tree.tree.DecisionTreeClassifier'>\n",
      "accuracy\t1.00\tmacro f1\t1.00\n",
      "accuracy\t0.67\tmacro f1\t0.67\n",
      "<class 'sklearn.linear_model.logistic.LogisticRegression'>\n",
      "accuracy\t1.00\tmacro f1\t1.00\n",
      "accuracy\t0.87\tmacro f1\t0.87\n",
      "<class 'sklearn.svm.classes.LinearSVC'>\n",
      "accuracy\t1.00\tmacro f1\t1.00\n",
      "accuracy\t0.83\tmacro f1\t0.83\n",
      "<class 'sklearn.svm.classes.SVC'>\n"
     ]
    },
    {
     "name": "stderr",
     "output_type": "stream",
     "text": [
      "/anaconda3/lib/python3.6/site-packages/sklearn/metrics/classification.py:1135: UndefinedMetricWarning: F-score is ill-defined and being set to 0.0 in labels with no predicted samples.\n",
      "  'precision', 'predicted', average, warn_for)\n"
     ]
    },
    {
     "name": "stdout",
     "output_type": "stream",
     "text": [
      "accuracy\t0.50\tmacro f1\t0.33\n",
      "accuracy\t0.50\tmacro f1\t0.33\n",
      "<class 'sklearn.ensemble.forest.RandomForestClassifier'>\n",
      "accuracy\t0.99\tmacro f1\t0.99\n",
      "accuracy\t0.77\tmacro f1\t0.76\n"
     ]
    }
   ],
   "source": [
    "vect = CountVectorizer(binary=True)\n",
    "\n",
    "for clf in clfs:\n",
    "    print(str(clf.__class__))\n",
    "    pipeline = Pipeline([\n",
    "        ('vect', vect),\n",
    "        ('clf', clf),\n",
    "    ])\n",
    "    pipeline.fit(X_train, y_train)\n",
    "    print_short_eval(pipeline, X_train, y_train)\n",
    "    print_short_eval(pipeline, X_dev, y_dev)"
   ]
  },
  {
   "cell_type": "markdown",
   "metadata": {},
   "source": [
    "## Ahora probamos con el Vectorizador TF-IDF"
   ]
  },
  {
   "cell_type": "code",
   "execution_count": 14,
   "metadata": {},
   "outputs": [
    {
     "name": "stdout",
     "output_type": "stream",
     "text": [
      "<class 'sklearn.neighbors.classification.KNeighborsClassifier'>\n",
      "accuracy\t0.86\tmacro f1\t0.86\n",
      "accuracy\t0.83\tmacro f1\t0.83\n",
      "<class 'sklearn.naive_bayes.MultinomialNB'>\n",
      "accuracy\t0.99\tmacro f1\t0.99\n",
      "accuracy\t0.84\tmacro f1\t0.84\n",
      "<class 'sklearn.tree.tree.DecisionTreeClassifier'>\n",
      "accuracy\t1.00\tmacro f1\t1.00\n",
      "accuracy\t0.70\tmacro f1\t0.70\n",
      "<class 'sklearn.linear_model.logistic.LogisticRegression'>\n",
      "accuracy\t0.99\tmacro f1\t0.99\n",
      "accuracy\t0.88\tmacro f1\t0.88\n",
      "<class 'sklearn.svm.classes.LinearSVC'>\n",
      "accuracy\t1.00\tmacro f1\t1.00\n",
      "accuracy\t0.87\tmacro f1\t0.87\n",
      "<class 'sklearn.svm.classes.SVC'>\n"
     ]
    },
    {
     "name": "stderr",
     "output_type": "stream",
     "text": [
      "/anaconda3/lib/python3.6/site-packages/sklearn/metrics/classification.py:1135: UndefinedMetricWarning: F-score is ill-defined and being set to 0.0 in labels with no predicted samples.\n",
      "  'precision', 'predicted', average, warn_for)\n"
     ]
    },
    {
     "name": "stdout",
     "output_type": "stream",
     "text": [
      "accuracy\t0.50\tmacro f1\t0.33\n",
      "accuracy\t0.50\tmacro f1\t0.33\n",
      "<class 'sklearn.ensemble.forest.RandomForestClassifier'>\n",
      "accuracy\t0.99\tmacro f1\t0.99\n",
      "accuracy\t0.75\tmacro f1\t0.74\n"
     ]
    }
   ],
   "source": [
    "from sklearn.feature_extraction.text import TfidfVectorizer\n",
    "\n",
    "vect = TfidfVectorizer(binary=True)\n",
    "for clf in clfs:\n",
    "    print(str(clf.__class__))\n",
    "    pipeline = Pipeline([\n",
    "        ('vect', vect),\n",
    "        ('clf', clf),\n",
    "    ])\n",
    "    pipeline.fit(X_train, y_train)\n",
    "    print_short_eval(pipeline, X_train, y_train)\n",
    "    print_short_eval(pipeline, X_dev, y_dev)"
   ]
  },
  {
   "cell_type": "markdown",
   "metadata": {},
   "source": [
    "### Conclusiones:\n",
    "\n",
    "- Utilizando el Vectorizador TF-IDF el modelo KNeighbors mejora considerablemente. (acc = 83%)\n",
    "- Para MultinomialNB conviene utilizar CountVectorizer. (acc = 87%)\n",
    "- LogisticRegression y LinearSVC mejoran con el uso de TF-IDF (acc = 88% y 87% respectivamente).\n",
    "- Es conveniente descartar los modelos restantes."
   ]
  },
  {
   "cell_type": "markdown",
   "metadata": {},
   "source": [
    "### IDEA: \n",
    "Ajustar hiperparámetros en los modelos más prometedores y luego utilizar VotingClassifier utilizando la mejor versión de cada uno de ellos."
   ]
  },
  {
   "cell_type": "markdown",
   "metadata": {},
   "source": [
    "Primero probemos VotingClassifier sin ajustar hiperparámetros"
   ]
  },
  {
   "cell_type": "code",
   "execution_count": 15,
   "metadata": {},
   "outputs": [
    {
     "name": "stdout",
     "output_type": "stream",
     "text": [
      "accuracy\t0.98\tmacro f1\t0.98\n",
      "accuracy\t0.91\tmacro f1\t0.91\n"
     ]
    },
    {
     "name": "stderr",
     "output_type": "stream",
     "text": [
      "/anaconda3/lib/python3.6/site-packages/sklearn/preprocessing/label.py:151: DeprecationWarning: The truth value of an empty array is ambiguous. Returning False, but in future this will result in an error. Use `array.size > 0` to check that an array is not empty.\n",
      "  if diff:\n",
      "/anaconda3/lib/python3.6/site-packages/sklearn/preprocessing/label.py:151: DeprecationWarning: The truth value of an empty array is ambiguous. Returning False, but in future this will result in an error. Use `array.size > 0` to check that an array is not empty.\n",
      "  if diff:\n"
     ]
    }
   ],
   "source": [
    "from sklearn.ensemble import VotingClassifier\n",
    "\n",
    "clf1 = Pipeline([\n",
    "    ('vect', CountVectorizer(binary=True)),\n",
    "    ('clf', MultinomialNB()),\n",
    "])\n",
    "\n",
    "vect = TfidfVectorizer(binary=True)\n",
    "clf2 = Pipeline([\n",
    "    ('vect', vect),\n",
    "    ('clf', KNeighborsClassifier()),\n",
    "])\n",
    "clf3 = Pipeline([\n",
    "    ('vect', vect),\n",
    "    ('clf', LogisticRegression(random_state=0)),\n",
    "])\n",
    "clf4 = Pipeline([\n",
    "    ('vect', vect),\n",
    "    ('clf', LinearSVC(random_state=0)),\n",
    "])\n",
    "\n",
    "eclf1 = VotingClassifier(estimators=[('mnb', clf1), ('knc', clf2), ('lsvc', clf4)],\n",
    "                         voting='hard')\n",
    "eclf1 = eclf1.fit(X_train, y_train)\n",
    "print_short_eval(eclf1, X_train, y_train)\n",
    "print_short_eval(eclf1, X_dev, y_dev)"
   ]
  },
  {
   "cell_type": "code",
   "execution_count": 16,
   "metadata": {},
   "outputs": [
    {
     "name": "stdout",
     "output_type": "stream",
     "text": [
      "accuracy\t0.98\tmacro f1\t0.98\n",
      "accuracy\t0.91\tmacro f1\t0.91\n"
     ]
    },
    {
     "name": "stderr",
     "output_type": "stream",
     "text": [
      "/anaconda3/lib/python3.6/site-packages/sklearn/preprocessing/label.py:151: DeprecationWarning: The truth value of an empty array is ambiguous. Returning False, but in future this will result in an error. Use `array.size > 0` to check that an array is not empty.\n",
      "  if diff:\n",
      "/anaconda3/lib/python3.6/site-packages/sklearn/preprocessing/label.py:151: DeprecationWarning: The truth value of an empty array is ambiguous. Returning False, but in future this will result in an error. Use `array.size > 0` to check that an array is not empty.\n",
      "  if diff:\n"
     ]
    }
   ],
   "source": [
    "clf1 = Pipeline([\n",
    "    ('vect', CountVectorizer(binary=True)),\n",
    "    ('clf', MultinomialNB()),\n",
    "])\n",
    "\n",
    "vect = TfidfVectorizer(binary=True)\n",
    "clf2 = Pipeline([\n",
    "    ('vect', vect),\n",
    "    ('clf', KNeighborsClassifier()),\n",
    "])\n",
    "clf3 = Pipeline([\n",
    "    ('vect', vect),\n",
    "    ('clf', LogisticRegression(random_state=0)),\n",
    "])\n",
    "clf4 = Pipeline([\n",
    "    ('vect', vect),\n",
    "    ('clf', LinearSVC(random_state=0)),\n",
    "])\n",
    "\n",
    "eclf1 = VotingClassifier(estimators=[('mnb', clf1), ('knc', clf2), ('lr', clf3)],\n",
    "                         voting='hard')\n",
    "eclf1 = eclf1.fit(X_train, y_train)\n",
    "print_short_eval(eclf1, X_train, y_train)\n",
    "print_short_eval(eclf1, X_dev, y_dev)"
   ]
  },
  {
   "cell_type": "markdown",
   "metadata": {},
   "source": [
    "# Resultados hasta el momento:\n",
    "\n",
    "Mejor accuracy es conseguida con VotingClassifier utilizando, de los 4 modelos candidatos, todos menos LogisticRegression o bien todos menos LinearSVC."
   ]
  },
  {
   "cell_type": "markdown",
   "metadata": {},
   "source": [
    "# Pasos a seguir\n",
    "\n",
    "Ajustar hiperparametros de los 4 modelos lo mejor posible y volver a intentar VotingClassifier."
   ]
  },
  {
   "cell_type": "markdown",
   "metadata": {},
   "source": [
    "Primero evaluamos test con el mejor modelo actual."
   ]
  },
  {
   "cell_type": "code",
   "execution_count": 17,
   "metadata": {},
   "outputs": [
    {
     "name": "stderr",
     "output_type": "stream",
     "text": [
      "/anaconda3/lib/python3.6/site-packages/sklearn/preprocessing/label.py:151: DeprecationWarning: The truth value of an empty array is ambiguous. Returning False, but in future this will result in an error. Use `array.size > 0` to check that an array is not empty.\n",
      "  if diff:\n"
     ]
    }
   ],
   "source": [
    "y_pred = eclf1.predict(test)"
   ]
  },
  {
   "cell_type": "code",
   "execution_count": 18,
   "metadata": {},
   "outputs": [],
   "source": [
    "predictions = y_pred.tolist()\n",
    "from utils import save_results\n",
    "save_results('results.csv', predictions)"
   ]
  },
  {
   "cell_type": "markdown",
   "metadata": {},
   "source": [
    "Obtuvimos un accuracy del 86.66% sobre los datos de test."
   ]
  },
  {
   "cell_type": "markdown",
   "metadata": {},
   "source": [
    "### Intentemos mejorar LogisticRegression (acc dev actual = 88%)"
   ]
  },
  {
   "cell_type": "code",
   "execution_count": 19,
   "metadata": {},
   "outputs": [
    {
     "name": "stdout",
     "output_type": "stream",
     "text": [
      "accuracy\t0.99\tmacro f1\t0.99\n",
      "accuracy\t0.88\tmacro f1\t0.88\n"
     ]
    }
   ],
   "source": [
    "pipeline = Pipeline([\n",
    "    ('vect', TfidfVectorizer(binary=True)),\n",
    "    ('clf', LogisticRegression(random_state=0)),\n",
    "])\n",
    "pipeline.fit(X_train, y_train)\n",
    "print_short_eval(pipeline, X_train, y_train)\n",
    "print_short_eval(pipeline, X_dev, y_dev)"
   ]
  },
  {
   "cell_type": "markdown",
   "metadata": {},
   "source": [
    "Nota: Si se utiliza stop_words en el vectorizador el modelo obtiene peor performance.\n",
    "(en este caso particular, no es una regla general)."
   ]
  },
  {
   "cell_type": "markdown",
   "metadata": {},
   "source": [
    "### Grid-Search en Dev"
   ]
  },
  {
   "cell_type": "code",
   "execution_count": 20,
   "metadata": {},
   "outputs": [
    {
     "data": {
      "text/plain": [
       "60"
      ]
     },
     "execution_count": 20,
     "metadata": {},
     "output_type": "execute_result"
    }
   ],
   "source": [
    "from sklearn.model_selection import ParameterGrid\n",
    "\n",
    "param_grid = {\n",
    "    'vect__binary': [True],\n",
    "    'vect__ngram_range': [(1, 1), (1, 2), (1, 3), (1, 4), (1, 5)],\n",
    "    'vect__min_df': [1, 3, 5, 7],\n",
    "    'vect__max_df': [0.95, 0.9, 0.7],\n",
    "    'clf__random_state': [0],\n",
    "}\n",
    "\n",
    "params_list = list(ParameterGrid(param_grid))\n",
    "len(params_list)"
   ]
  },
  {
   "cell_type": "code",
   "execution_count": 21,
   "metadata": {},
   "outputs": [],
   "source": [
    "from utils import eval\n",
    "\n",
    "pipeline = Pipeline([\n",
    "    ('vect', TfidfVectorizer()),\n",
    "    ('clf', LogisticRegression()),\n",
    "])\n",
    "results = []\n",
    "for params in params_list:\n",
    "    pipeline.set_params(**params)\n",
    "    pipeline.fit(X_train, y_train)\n",
    "    result = eval(pipeline, X_dev, y_dev)\n",
    "#    print(result)\n",
    "    results.append({\n",
    "        **result,\n",
    "        **params,\n",
    "    })"
   ]
  },
  {
   "cell_type": "code",
   "execution_count": 22,
   "metadata": {},
   "outputs": [
    {
     "data": {
      "text/html": [
       "<div>\n",
       "<style scoped>\n",
       "    .dataframe tbody tr th:only-of-type {\n",
       "        vertical-align: middle;\n",
       "    }\n",
       "\n",
       "    .dataframe tbody tr th {\n",
       "        vertical-align: top;\n",
       "    }\n",
       "\n",
       "    .dataframe thead th {\n",
       "        text-align: right;\n",
       "    }\n",
       "</style>\n",
       "<table border=\"1\" class=\"dataframe\">\n",
       "  <thead>\n",
       "    <tr style=\"text-align: right;\">\n",
       "      <th></th>\n",
       "      <th>acc</th>\n",
       "      <th>clf__random_state</th>\n",
       "      <th>f1</th>\n",
       "      <th>vect__binary</th>\n",
       "      <th>vect__max_df</th>\n",
       "      <th>vect__min_df</th>\n",
       "      <th>vect__ngram_range</th>\n",
       "    </tr>\n",
       "  </thead>\n",
       "  <tbody>\n",
       "    <tr>\n",
       "      <th>11</th>\n",
       "      <td>0.88785</td>\n",
       "      <td>0</td>\n",
       "      <td>0.887841</td>\n",
       "      <td>True</td>\n",
       "      <td>0.95</td>\n",
       "      <td>5</td>\n",
       "      <td>(1, 2)</td>\n",
       "    </tr>\n",
       "    <tr>\n",
       "      <th>31</th>\n",
       "      <td>0.88785</td>\n",
       "      <td>0</td>\n",
       "      <td>0.887841</td>\n",
       "      <td>True</td>\n",
       "      <td>0.90</td>\n",
       "      <td>5</td>\n",
       "      <td>(1, 2)</td>\n",
       "    </tr>\n",
       "    <tr>\n",
       "      <th>51</th>\n",
       "      <td>0.88785</td>\n",
       "      <td>0</td>\n",
       "      <td>0.887841</td>\n",
       "      <td>True</td>\n",
       "      <td>0.70</td>\n",
       "      <td>5</td>\n",
       "      <td>(1, 2)</td>\n",
       "    </tr>\n",
       "    <tr>\n",
       "      <th>17</th>\n",
       "      <td>0.88785</td>\n",
       "      <td>0</td>\n",
       "      <td>0.887762</td>\n",
       "      <td>True</td>\n",
       "      <td>0.95</td>\n",
       "      <td>7</td>\n",
       "      <td>(1, 3)</td>\n",
       "    </tr>\n",
       "    <tr>\n",
       "      <th>18</th>\n",
       "      <td>0.88785</td>\n",
       "      <td>0</td>\n",
       "      <td>0.887762</td>\n",
       "      <td>True</td>\n",
       "      <td>0.95</td>\n",
       "      <td>7</td>\n",
       "      <td>(1, 4)</td>\n",
       "    </tr>\n",
       "    <tr>\n",
       "      <th>19</th>\n",
       "      <td>0.88785</td>\n",
       "      <td>0</td>\n",
       "      <td>0.887762</td>\n",
       "      <td>True</td>\n",
       "      <td>0.95</td>\n",
       "      <td>7</td>\n",
       "      <td>(1, 5)</td>\n",
       "    </tr>\n",
       "    <tr>\n",
       "      <th>37</th>\n",
       "      <td>0.88785</td>\n",
       "      <td>0</td>\n",
       "      <td>0.887762</td>\n",
       "      <td>True</td>\n",
       "      <td>0.90</td>\n",
       "      <td>7</td>\n",
       "      <td>(1, 3)</td>\n",
       "    </tr>\n",
       "    <tr>\n",
       "      <th>38</th>\n",
       "      <td>0.88785</td>\n",
       "      <td>0</td>\n",
       "      <td>0.887762</td>\n",
       "      <td>True</td>\n",
       "      <td>0.90</td>\n",
       "      <td>7</td>\n",
       "      <td>(1, 4)</td>\n",
       "    </tr>\n",
       "    <tr>\n",
       "      <th>39</th>\n",
       "      <td>0.88785</td>\n",
       "      <td>0</td>\n",
       "      <td>0.887762</td>\n",
       "      <td>True</td>\n",
       "      <td>0.90</td>\n",
       "      <td>7</td>\n",
       "      <td>(1, 5)</td>\n",
       "    </tr>\n",
       "    <tr>\n",
       "      <th>57</th>\n",
       "      <td>0.88785</td>\n",
       "      <td>0</td>\n",
       "      <td>0.887762</td>\n",
       "      <td>True</td>\n",
       "      <td>0.70</td>\n",
       "      <td>7</td>\n",
       "      <td>(1, 3)</td>\n",
       "    </tr>\n",
       "  </tbody>\n",
       "</table>\n",
       "</div>"
      ],
      "text/plain": [
       "        acc  clf__random_state        f1  vect__binary  vect__max_df  \\\n",
       "11  0.88785                  0  0.887841          True          0.95   \n",
       "31  0.88785                  0  0.887841          True          0.90   \n",
       "51  0.88785                  0  0.887841          True          0.70   \n",
       "17  0.88785                  0  0.887762          True          0.95   \n",
       "18  0.88785                  0  0.887762          True          0.95   \n",
       "19  0.88785                  0  0.887762          True          0.95   \n",
       "37  0.88785                  0  0.887762          True          0.90   \n",
       "38  0.88785                  0  0.887762          True          0.90   \n",
       "39  0.88785                  0  0.887762          True          0.90   \n",
       "57  0.88785                  0  0.887762          True          0.70   \n",
       "\n",
       "    vect__min_df vect__ngram_range  \n",
       "11             5            (1, 2)  \n",
       "31             5            (1, 2)  \n",
       "51             5            (1, 2)  \n",
       "17             7            (1, 3)  \n",
       "18             7            (1, 4)  \n",
       "19             7            (1, 5)  \n",
       "37             7            (1, 3)  \n",
       "38             7            (1, 4)  \n",
       "39             7            (1, 5)  \n",
       "57             7            (1, 3)  "
      ]
     },
     "execution_count": 22,
     "metadata": {},
     "output_type": "execute_result"
    }
   ],
   "source": [
    "results_df = pd.DataFrame(results)\n",
    "results_df.sort_values(['acc', 'f1'], ascending=False)[:10]"
   ]
  },
  {
   "cell_type": "markdown",
   "metadata": {},
   "source": [
    "Fijamos algunos de los mejores hiperparametros del vectorizador y ahora ajustamos algunos hiperparámetros de LogisticRegression."
   ]
  },
  {
   "cell_type": "code",
   "execution_count": 23,
   "metadata": {},
   "outputs": [
    {
     "data": {
      "text/plain": [
       "64"
      ]
     },
     "execution_count": 23,
     "metadata": {},
     "output_type": "execute_result"
    }
   ],
   "source": [
    "param_grid = {\n",
    "    'vect__binary': [True],\n",
    "    'vect__ngram_range': [(1, 2), (1,3)],\n",
    "    'vect__min_df': [5, 7],\n",
    "    'vect__max_df': [0.95, 0.9],\n",
    "    'clf__random_state': [0],\n",
    "    # parameter for LogisticRegression (smaller values -> stronger regularization)\n",
    "    'clf__C': [0.001, 0.005, 0.01, 0.05, 0.1, 0.3, 0.5, 1.0]\n",
    "}\n",
    "\n",
    "params_list = list(ParameterGrid(param_grid))\n",
    "len(params_list)"
   ]
  },
  {
   "cell_type": "code",
   "execution_count": 24,
   "metadata": {},
   "outputs": [],
   "source": [
    "pipeline = Pipeline([\n",
    "    ('vect', TfidfVectorizer()),\n",
    "    ('clf', LogisticRegression()),\n",
    "])\n",
    "# pipeline.get_params().keys()\n",
    "results = []\n",
    "for params in params_list:\n",
    "    pipeline.set_params(**params)\n",
    "    pipeline.fit(X_train, y_train)\n",
    "    result = eval(pipeline, X_dev, y_dev)\n",
    "#    print(result)\n",
    "    results.append({\n",
    "        **result,\n",
    "        **params,\n",
    "    })"
   ]
  },
  {
   "cell_type": "code",
   "execution_count": 25,
   "metadata": {},
   "outputs": [
    {
     "data": {
      "text/html": [
       "<div>\n",
       "<style scoped>\n",
       "    .dataframe tbody tr th:only-of-type {\n",
       "        vertical-align: middle;\n",
       "    }\n",
       "\n",
       "    .dataframe tbody tr th {\n",
       "        vertical-align: top;\n",
       "    }\n",
       "\n",
       "    .dataframe thead th {\n",
       "        text-align: right;\n",
       "    }\n",
       "</style>\n",
       "<table border=\"1\" class=\"dataframe\">\n",
       "  <thead>\n",
       "    <tr style=\"text-align: right;\">\n",
       "      <th></th>\n",
       "      <th>acc</th>\n",
       "      <th>clf__C</th>\n",
       "      <th>clf__random_state</th>\n",
       "      <th>f1</th>\n",
       "      <th>vect__binary</th>\n",
       "      <th>vect__max_df</th>\n",
       "      <th>vect__min_df</th>\n",
       "      <th>vect__ngram_range</th>\n",
       "    </tr>\n",
       "  </thead>\n",
       "  <tbody>\n",
       "    <tr>\n",
       "      <th>40</th>\n",
       "      <td>0.897196</td>\n",
       "      <td>0.3</td>\n",
       "      <td>0</td>\n",
       "      <td>0.897160</td>\n",
       "      <td>True</td>\n",
       "      <td>0.95</td>\n",
       "      <td>5</td>\n",
       "      <td>(1, 2)</td>\n",
       "    </tr>\n",
       "    <tr>\n",
       "      <th>41</th>\n",
       "      <td>0.897196</td>\n",
       "      <td>0.3</td>\n",
       "      <td>0</td>\n",
       "      <td>0.897160</td>\n",
       "      <td>True</td>\n",
       "      <td>0.95</td>\n",
       "      <td>5</td>\n",
       "      <td>(1, 3)</td>\n",
       "    </tr>\n",
       "    <tr>\n",
       "      <th>44</th>\n",
       "      <td>0.897196</td>\n",
       "      <td>0.3</td>\n",
       "      <td>0</td>\n",
       "      <td>0.897160</td>\n",
       "      <td>True</td>\n",
       "      <td>0.90</td>\n",
       "      <td>5</td>\n",
       "      <td>(1, 2)</td>\n",
       "    </tr>\n",
       "    <tr>\n",
       "      <th>45</th>\n",
       "      <td>0.897196</td>\n",
       "      <td>0.3</td>\n",
       "      <td>0</td>\n",
       "      <td>0.897160</td>\n",
       "      <td>True</td>\n",
       "      <td>0.90</td>\n",
       "      <td>5</td>\n",
       "      <td>(1, 3)</td>\n",
       "    </tr>\n",
       "    <tr>\n",
       "      <th>48</th>\n",
       "      <td>0.897196</td>\n",
       "      <td>0.5</td>\n",
       "      <td>0</td>\n",
       "      <td>0.897160</td>\n",
       "      <td>True</td>\n",
       "      <td>0.95</td>\n",
       "      <td>5</td>\n",
       "      <td>(1, 2)</td>\n",
       "    </tr>\n",
       "    <tr>\n",
       "      <th>52</th>\n",
       "      <td>0.897196</td>\n",
       "      <td>0.5</td>\n",
       "      <td>0</td>\n",
       "      <td>0.897160</td>\n",
       "      <td>True</td>\n",
       "      <td>0.90</td>\n",
       "      <td>5</td>\n",
       "      <td>(1, 2)</td>\n",
       "    </tr>\n",
       "    <tr>\n",
       "      <th>49</th>\n",
       "      <td>0.887850</td>\n",
       "      <td>0.5</td>\n",
       "      <td>0</td>\n",
       "      <td>0.887841</td>\n",
       "      <td>True</td>\n",
       "      <td>0.95</td>\n",
       "      <td>5</td>\n",
       "      <td>(1, 3)</td>\n",
       "    </tr>\n",
       "    <tr>\n",
       "      <th>53</th>\n",
       "      <td>0.887850</td>\n",
       "      <td>0.5</td>\n",
       "      <td>0</td>\n",
       "      <td>0.887841</td>\n",
       "      <td>True</td>\n",
       "      <td>0.90</td>\n",
       "      <td>5</td>\n",
       "      <td>(1, 3)</td>\n",
       "    </tr>\n",
       "    <tr>\n",
       "      <th>56</th>\n",
       "      <td>0.887850</td>\n",
       "      <td>1.0</td>\n",
       "      <td>0</td>\n",
       "      <td>0.887841</td>\n",
       "      <td>True</td>\n",
       "      <td>0.95</td>\n",
       "      <td>5</td>\n",
       "      <td>(1, 2)</td>\n",
       "    </tr>\n",
       "    <tr>\n",
       "      <th>60</th>\n",
       "      <td>0.887850</td>\n",
       "      <td>1.0</td>\n",
       "      <td>0</td>\n",
       "      <td>0.887841</td>\n",
       "      <td>True</td>\n",
       "      <td>0.90</td>\n",
       "      <td>5</td>\n",
       "      <td>(1, 2)</td>\n",
       "    </tr>\n",
       "  </tbody>\n",
       "</table>\n",
       "</div>"
      ],
      "text/plain": [
       "         acc  clf__C  clf__random_state        f1  vect__binary  vect__max_df  \\\n",
       "40  0.897196     0.3                  0  0.897160          True          0.95   \n",
       "41  0.897196     0.3                  0  0.897160          True          0.95   \n",
       "44  0.897196     0.3                  0  0.897160          True          0.90   \n",
       "45  0.897196     0.3                  0  0.897160          True          0.90   \n",
       "48  0.897196     0.5                  0  0.897160          True          0.95   \n",
       "52  0.897196     0.5                  0  0.897160          True          0.90   \n",
       "49  0.887850     0.5                  0  0.887841          True          0.95   \n",
       "53  0.887850     0.5                  0  0.887841          True          0.90   \n",
       "56  0.887850     1.0                  0  0.887841          True          0.95   \n",
       "60  0.887850     1.0                  0  0.887841          True          0.90   \n",
       "\n",
       "    vect__min_df vect__ngram_range  \n",
       "40             5            (1, 2)  \n",
       "41             5            (1, 3)  \n",
       "44             5            (1, 2)  \n",
       "45             5            (1, 3)  \n",
       "48             5            (1, 2)  \n",
       "52             5            (1, 2)  \n",
       "49             5            (1, 3)  \n",
       "53             5            (1, 3)  \n",
       "56             5            (1, 2)  \n",
       "60             5            (1, 2)  "
      ]
     },
     "execution_count": 25,
     "metadata": {},
     "output_type": "execute_result"
    }
   ],
   "source": [
    "results_df = pd.DataFrame(results)\n",
    "results_df.sort_values(['acc', 'f1'], ascending=False)[:10]"
   ]
  },
  {
   "cell_type": "markdown",
   "metadata": {},
   "source": [
    "Entrenamos nuestro modelo con los mejores hiperparámetros obtenidos y luego evaluamos"
   ]
  },
  {
   "cell_type": "code",
   "execution_count": 26,
   "metadata": {},
   "outputs": [
    {
     "name": "stdout",
     "output_type": "stream",
     "text": [
      "accuracy\t0.95\tmacro f1\t0.95\n",
      "accuracy\t0.90\tmacro f1\t0.90\n"
     ]
    }
   ],
   "source": [
    "pipeline = Pipeline([\n",
    "    ('vect', TfidfVectorizer(binary=True, max_df=0.95, min_df=5, ngram_range=(1,2))),\n",
    "    ('clf', LogisticRegression(random_state=0, C=0.3)),\n",
    "])\n",
    "pipeline.fit(X_train, y_train)\n",
    "print_short_eval(pipeline, X_train, y_train)\n",
    "print_short_eval(pipeline, X_dev, y_dev)"
   ]
  },
  {
   "cell_type": "markdown",
   "metadata": {},
   "source": [
    "### Se obtuvo una mejora de performance! (de 88% a 90% en dev)"
   ]
  },
  {
   "cell_type": "code",
   "execution_count": 27,
   "metadata": {},
   "outputs": [],
   "source": [
    "y_pred = pipeline.predict(test)\n",
    "predictions = y_pred.tolist()\n",
    "from utils import save_results\n",
    "save_results('results_LG.csv', predictions)"
   ]
  },
  {
   "cell_type": "markdown",
   "metadata": {},
   "source": [
    "Se obtuvo un accuracy del 82.66% sobre los datos de test. (solo utilizando LogisticRegression)."
   ]
  },
  {
   "cell_type": "markdown",
   "metadata": {},
   "source": [
    "## Intentemos mejorar MultinomialNB (acc dev actual = 87%)"
   ]
  },
  {
   "cell_type": "code",
   "execution_count": 28,
   "metadata": {},
   "outputs": [
    {
     "name": "stdout",
     "output_type": "stream",
     "text": [
      "accuracy\t0.97\tmacro f1\t0.97\n",
      "accuracy\t0.87\tmacro f1\t0.87\n"
     ]
    }
   ],
   "source": [
    "pipeline = Pipeline([\n",
    "    ('vect', CountVectorizer(binary=True)),\n",
    "    ('clf', MultinomialNB()),\n",
    "])\n",
    "pipeline.fit(X_train, y_train)\n",
    "print_short_eval(pipeline, X_train, y_train)\n",
    "print_short_eval(pipeline, X_dev, y_dev)"
   ]
  },
  {
   "cell_type": "markdown",
   "metadata": {},
   "source": [
    "### Grid-Search en Dev"
   ]
  },
  {
   "cell_type": "code",
   "execution_count": 29,
   "metadata": {},
   "outputs": [
    {
     "data": {
      "text/plain": [
       "60"
      ]
     },
     "execution_count": 29,
     "metadata": {},
     "output_type": "execute_result"
    }
   ],
   "source": [
    "from sklearn.model_selection import ParameterGrid\n",
    "\n",
    "param_grid = {\n",
    "    'vect__binary': [True],\n",
    "    'vect__ngram_range': [(1, 1), (1, 2), (1, 3), (1, 4), (1, 5)],\n",
    "    'vect__min_df': [1, 3, 5, 7],\n",
    "    'vect__max_df': [0.95, 0.9, 0.7]\n",
    "}\n",
    "\n",
    "params_list = list(ParameterGrid(param_grid))\n",
    "len(params_list)"
   ]
  },
  {
   "cell_type": "code",
   "execution_count": 30,
   "metadata": {},
   "outputs": [],
   "source": [
    "pipeline = Pipeline([\n",
    "    ('vect', CountVectorizer()),\n",
    "    ('clf', MultinomialNB()),\n",
    "])\n",
    "# pipeline.get_params().keys()\n",
    "results = []\n",
    "for params in params_list:\n",
    "    pipeline.set_params(**params)\n",
    "    pipeline.fit(X_train, y_train)\n",
    "    result = eval(pipeline, X_dev, y_dev)\n",
    "#    print(result)\n",
    "    results.append({\n",
    "        **result,\n",
    "        **params,\n",
    "    })"
   ]
  },
  {
   "cell_type": "code",
   "execution_count": 31,
   "metadata": {},
   "outputs": [
    {
     "data": {
      "text/html": [
       "<div>\n",
       "<style scoped>\n",
       "    .dataframe tbody tr th:only-of-type {\n",
       "        vertical-align: middle;\n",
       "    }\n",
       "\n",
       "    .dataframe tbody tr th {\n",
       "        vertical-align: top;\n",
       "    }\n",
       "\n",
       "    .dataframe thead th {\n",
       "        text-align: right;\n",
       "    }\n",
       "</style>\n",
       "<table border=\"1\" class=\"dataframe\">\n",
       "  <thead>\n",
       "    <tr style=\"text-align: right;\">\n",
       "      <th></th>\n",
       "      <th>acc</th>\n",
       "      <th>f1</th>\n",
       "      <th>vect__binary</th>\n",
       "      <th>vect__max_df</th>\n",
       "      <th>vect__min_df</th>\n",
       "      <th>vect__ngram_range</th>\n",
       "    </tr>\n",
       "  </thead>\n",
       "  <tbody>\n",
       "    <tr>\n",
       "      <th>45</th>\n",
       "      <td>0.887850</td>\n",
       "      <td>0.887841</td>\n",
       "      <td>True</td>\n",
       "      <td>0.70</td>\n",
       "      <td>3</td>\n",
       "      <td>(1, 1)</td>\n",
       "    </tr>\n",
       "    <tr>\n",
       "      <th>5</th>\n",
       "      <td>0.878505</td>\n",
       "      <td>0.878505</td>\n",
       "      <td>True</td>\n",
       "      <td>0.95</td>\n",
       "      <td>3</td>\n",
       "      <td>(1, 1)</td>\n",
       "    </tr>\n",
       "    <tr>\n",
       "      <th>25</th>\n",
       "      <td>0.878505</td>\n",
       "      <td>0.878505</td>\n",
       "      <td>True</td>\n",
       "      <td>0.90</td>\n",
       "      <td>3</td>\n",
       "      <td>(1, 1)</td>\n",
       "    </tr>\n",
       "    <tr>\n",
       "      <th>10</th>\n",
       "      <td>0.878505</td>\n",
       "      <td>0.878462</td>\n",
       "      <td>True</td>\n",
       "      <td>0.95</td>\n",
       "      <td>5</td>\n",
       "      <td>(1, 1)</td>\n",
       "    </tr>\n",
       "    <tr>\n",
       "      <th>30</th>\n",
       "      <td>0.878505</td>\n",
       "      <td>0.878462</td>\n",
       "      <td>True</td>\n",
       "      <td>0.90</td>\n",
       "      <td>5</td>\n",
       "      <td>(1, 1)</td>\n",
       "    </tr>\n",
       "    <tr>\n",
       "      <th>50</th>\n",
       "      <td>0.878505</td>\n",
       "      <td>0.878462</td>\n",
       "      <td>True</td>\n",
       "      <td>0.70</td>\n",
       "      <td>5</td>\n",
       "      <td>(1, 1)</td>\n",
       "    </tr>\n",
       "    <tr>\n",
       "      <th>0</th>\n",
       "      <td>0.869159</td>\n",
       "      <td>0.869147</td>\n",
       "      <td>True</td>\n",
       "      <td>0.95</td>\n",
       "      <td>1</td>\n",
       "      <td>(1, 1)</td>\n",
       "    </tr>\n",
       "    <tr>\n",
       "      <th>20</th>\n",
       "      <td>0.869159</td>\n",
       "      <td>0.869147</td>\n",
       "      <td>True</td>\n",
       "      <td>0.90</td>\n",
       "      <td>1</td>\n",
       "      <td>(1, 1)</td>\n",
       "    </tr>\n",
       "    <tr>\n",
       "      <th>40</th>\n",
       "      <td>0.869159</td>\n",
       "      <td>0.869147</td>\n",
       "      <td>True</td>\n",
       "      <td>0.70</td>\n",
       "      <td>1</td>\n",
       "      <td>(1, 1)</td>\n",
       "    </tr>\n",
       "    <tr>\n",
       "      <th>7</th>\n",
       "      <td>0.869159</td>\n",
       "      <td>0.868873</td>\n",
       "      <td>True</td>\n",
       "      <td>0.95</td>\n",
       "      <td>3</td>\n",
       "      <td>(1, 3)</td>\n",
       "    </tr>\n",
       "  </tbody>\n",
       "</table>\n",
       "</div>"
      ],
      "text/plain": [
       "         acc        f1  vect__binary  vect__max_df  vect__min_df  \\\n",
       "45  0.887850  0.887841          True          0.70             3   \n",
       "5   0.878505  0.878505          True          0.95             3   \n",
       "25  0.878505  0.878505          True          0.90             3   \n",
       "10  0.878505  0.878462          True          0.95             5   \n",
       "30  0.878505  0.878462          True          0.90             5   \n",
       "50  0.878505  0.878462          True          0.70             5   \n",
       "0   0.869159  0.869147          True          0.95             1   \n",
       "20  0.869159  0.869147          True          0.90             1   \n",
       "40  0.869159  0.869147          True          0.70             1   \n",
       "7   0.869159  0.868873          True          0.95             3   \n",
       "\n",
       "   vect__ngram_range  \n",
       "45            (1, 1)  \n",
       "5             (1, 1)  \n",
       "25            (1, 1)  \n",
       "10            (1, 1)  \n",
       "30            (1, 1)  \n",
       "50            (1, 1)  \n",
       "0             (1, 1)  \n",
       "20            (1, 1)  \n",
       "40            (1, 1)  \n",
       "7             (1, 3)  "
      ]
     },
     "execution_count": 31,
     "metadata": {},
     "output_type": "execute_result"
    }
   ],
   "source": [
    "results_df = pd.DataFrame(results)\n",
    "results_df.sort_values(['acc', 'f1'], ascending=False)[:10]"
   ]
  },
  {
   "cell_type": "markdown",
   "metadata": {},
   "source": [
    "Fijamos algunos de los mejores hiperparametros del vectorizador y ahora ajustamos algunos hiperparámetros de LogisticRegression."
   ]
  },
  {
   "cell_type": "code",
   "execution_count": 32,
   "metadata": {},
   "outputs": [
    {
     "data": {
      "text/plain": [
       "66"
      ]
     },
     "execution_count": 32,
     "metadata": {},
     "output_type": "execute_result"
    }
   ],
   "source": [
    "param_grid = {\n",
    "    'vect__binary': [True],\n",
    "    'vect__ngram_range': [(1, 1)],\n",
    "    'vect__min_df': [3, 5],\n",
    "    'vect__max_df': [0.95, 0.9, 0.7],\n",
    "    'clf__alpha': [0.0, 0.01, 0.03, 0.1, 0.5, 1.0, 5.0, 8.0, 10.0, 15.0, 20.0]\n",
    "}\n",
    "\n",
    "params_list = list(ParameterGrid(param_grid))\n",
    "len(params_list)"
   ]
  },
  {
   "cell_type": "code",
   "execution_count": 33,
   "metadata": {},
   "outputs": [
    {
     "name": "stderr",
     "output_type": "stream",
     "text": [
      "/anaconda3/lib/python3.6/site-packages/sklearn/naive_bayes.py:472: UserWarning: alpha too small will result in numeric errors, setting alpha = 1.0e-10\n",
      "  'setting alpha = %.1e' % _ALPHA_MIN)\n",
      "/anaconda3/lib/python3.6/site-packages/sklearn/naive_bayes.py:472: UserWarning: alpha too small will result in numeric errors, setting alpha = 1.0e-10\n",
      "  'setting alpha = %.1e' % _ALPHA_MIN)\n",
      "/anaconda3/lib/python3.6/site-packages/sklearn/naive_bayes.py:472: UserWarning: alpha too small will result in numeric errors, setting alpha = 1.0e-10\n",
      "  'setting alpha = %.1e' % _ALPHA_MIN)\n",
      "/anaconda3/lib/python3.6/site-packages/sklearn/naive_bayes.py:472: UserWarning: alpha too small will result in numeric errors, setting alpha = 1.0e-10\n",
      "  'setting alpha = %.1e' % _ALPHA_MIN)\n",
      "/anaconda3/lib/python3.6/site-packages/sklearn/naive_bayes.py:472: UserWarning: alpha too small will result in numeric errors, setting alpha = 1.0e-10\n",
      "  'setting alpha = %.1e' % _ALPHA_MIN)\n",
      "/anaconda3/lib/python3.6/site-packages/sklearn/naive_bayes.py:472: UserWarning: alpha too small will result in numeric errors, setting alpha = 1.0e-10\n",
      "  'setting alpha = %.1e' % _ALPHA_MIN)\n"
     ]
    }
   ],
   "source": [
    "pipeline = Pipeline([\n",
    "    ('vect', CountVectorizer()),\n",
    "    ('clf', MultinomialNB()),\n",
    "])\n",
    "# pipeline.get_params().keys()\n",
    "results = []\n",
    "for params in params_list:\n",
    "    pipeline.set_params(**params)\n",
    "    pipeline.fit(X_train, y_train)\n",
    "    result = eval(pipeline, X_dev, y_dev)\n",
    "#    print(result)\n",
    "    results.append({\n",
    "        **result,\n",
    "        **params,\n",
    "    })"
   ]
  },
  {
   "cell_type": "code",
   "execution_count": 34,
   "metadata": {},
   "outputs": [
    {
     "data": {
      "text/html": [
       "<div>\n",
       "<style scoped>\n",
       "    .dataframe tbody tr th:only-of-type {\n",
       "        vertical-align: middle;\n",
       "    }\n",
       "\n",
       "    .dataframe tbody tr th {\n",
       "        vertical-align: top;\n",
       "    }\n",
       "\n",
       "    .dataframe thead th {\n",
       "        text-align: right;\n",
       "    }\n",
       "</style>\n",
       "<table border=\"1\" class=\"dataframe\">\n",
       "  <thead>\n",
       "    <tr style=\"text-align: right;\">\n",
       "      <th></th>\n",
       "      <th>acc</th>\n",
       "      <th>clf__alpha</th>\n",
       "      <th>f1</th>\n",
       "      <th>vect__binary</th>\n",
       "      <th>vect__max_df</th>\n",
       "      <th>vect__min_df</th>\n",
       "      <th>vect__ngram_range</th>\n",
       "    </tr>\n",
       "  </thead>\n",
       "  <tbody>\n",
       "    <tr>\n",
       "      <th>53</th>\n",
       "      <td>0.906542</td>\n",
       "      <td>10.0</td>\n",
       "      <td>0.906534</td>\n",
       "      <td>True</td>\n",
       "      <td>0.70</td>\n",
       "      <td>5</td>\n",
       "      <td>(1, 1)</td>\n",
       "    </tr>\n",
       "    <tr>\n",
       "      <th>45</th>\n",
       "      <td>0.897196</td>\n",
       "      <td>8.0</td>\n",
       "      <td>0.897160</td>\n",
       "      <td>True</td>\n",
       "      <td>0.90</td>\n",
       "      <td>5</td>\n",
       "      <td>(1, 1)</td>\n",
       "    </tr>\n",
       "    <tr>\n",
       "      <th>49</th>\n",
       "      <td>0.897196</td>\n",
       "      <td>10.0</td>\n",
       "      <td>0.897160</td>\n",
       "      <td>True</td>\n",
       "      <td>0.95</td>\n",
       "      <td>5</td>\n",
       "      <td>(1, 1)</td>\n",
       "    </tr>\n",
       "    <tr>\n",
       "      <th>51</th>\n",
       "      <td>0.897196</td>\n",
       "      <td>10.0</td>\n",
       "      <td>0.897160</td>\n",
       "      <td>True</td>\n",
       "      <td>0.90</td>\n",
       "      <td>5</td>\n",
       "      <td>(1, 1)</td>\n",
       "    </tr>\n",
       "    <tr>\n",
       "      <th>28</th>\n",
       "      <td>0.887850</td>\n",
       "      <td>0.5</td>\n",
       "      <td>0.887841</td>\n",
       "      <td>True</td>\n",
       "      <td>0.70</td>\n",
       "      <td>3</td>\n",
       "      <td>(1, 1)</td>\n",
       "    </tr>\n",
       "    <tr>\n",
       "      <th>34</th>\n",
       "      <td>0.887850</td>\n",
       "      <td>1.0</td>\n",
       "      <td>0.887841</td>\n",
       "      <td>True</td>\n",
       "      <td>0.70</td>\n",
       "      <td>3</td>\n",
       "      <td>(1, 1)</td>\n",
       "    </tr>\n",
       "    <tr>\n",
       "      <th>55</th>\n",
       "      <td>0.887850</td>\n",
       "      <td>15.0</td>\n",
       "      <td>0.887841</td>\n",
       "      <td>True</td>\n",
       "      <td>0.95</td>\n",
       "      <td>5</td>\n",
       "      <td>(1, 1)</td>\n",
       "    </tr>\n",
       "    <tr>\n",
       "      <th>57</th>\n",
       "      <td>0.887850</td>\n",
       "      <td>15.0</td>\n",
       "      <td>0.887841</td>\n",
       "      <td>True</td>\n",
       "      <td>0.90</td>\n",
       "      <td>5</td>\n",
       "      <td>(1, 1)</td>\n",
       "    </tr>\n",
       "    <tr>\n",
       "      <th>59</th>\n",
       "      <td>0.887850</td>\n",
       "      <td>15.0</td>\n",
       "      <td>0.887841</td>\n",
       "      <td>True</td>\n",
       "      <td>0.70</td>\n",
       "      <td>5</td>\n",
       "      <td>(1, 1)</td>\n",
       "    </tr>\n",
       "    <tr>\n",
       "      <th>37</th>\n",
       "      <td>0.887850</td>\n",
       "      <td>5.0</td>\n",
       "      <td>0.887762</td>\n",
       "      <td>True</td>\n",
       "      <td>0.95</td>\n",
       "      <td>5</td>\n",
       "      <td>(1, 1)</td>\n",
       "    </tr>\n",
       "  </tbody>\n",
       "</table>\n",
       "</div>"
      ],
      "text/plain": [
       "         acc  clf__alpha        f1  vect__binary  vect__max_df  vect__min_df  \\\n",
       "53  0.906542        10.0  0.906534          True          0.70             5   \n",
       "45  0.897196         8.0  0.897160          True          0.90             5   \n",
       "49  0.897196        10.0  0.897160          True          0.95             5   \n",
       "51  0.897196        10.0  0.897160          True          0.90             5   \n",
       "28  0.887850         0.5  0.887841          True          0.70             3   \n",
       "34  0.887850         1.0  0.887841          True          0.70             3   \n",
       "55  0.887850        15.0  0.887841          True          0.95             5   \n",
       "57  0.887850        15.0  0.887841          True          0.90             5   \n",
       "59  0.887850        15.0  0.887841          True          0.70             5   \n",
       "37  0.887850         5.0  0.887762          True          0.95             5   \n",
       "\n",
       "   vect__ngram_range  \n",
       "53            (1, 1)  \n",
       "45            (1, 1)  \n",
       "49            (1, 1)  \n",
       "51            (1, 1)  \n",
       "28            (1, 1)  \n",
       "34            (1, 1)  \n",
       "55            (1, 1)  \n",
       "57            (1, 1)  \n",
       "59            (1, 1)  \n",
       "37            (1, 1)  "
      ]
     },
     "execution_count": 34,
     "metadata": {},
     "output_type": "execute_result"
    }
   ],
   "source": [
    "results_df = pd.DataFrame(results)\n",
    "results_df.sort_values(['acc', 'f1'], ascending=False)[:10]"
   ]
  },
  {
   "cell_type": "markdown",
   "metadata": {},
   "source": [
    "Entrenamos nuestro modelo con los mejores hiperparámetros obtenidos y luego evaluamos"
   ]
  },
  {
   "cell_type": "code",
   "execution_count": 35,
   "metadata": {},
   "outputs": [
    {
     "name": "stdout",
     "output_type": "stream",
     "text": [
      "accuracy\t0.92\tmacro f1\t0.92\n",
      "accuracy\t0.91\tmacro f1\t0.91\n"
     ]
    }
   ],
   "source": [
    "pipeline = Pipeline([\n",
    "    ('vect', CountVectorizer(binary=True, max_df=0.70, min_df=5, ngram_range=(1,1))),\n",
    "    ('clf', MultinomialNB(alpha=10.0)),\n",
    "])\n",
    "pipeline.fit(X_train, y_train)\n",
    "print_short_eval(pipeline, X_train, y_train)\n",
    "print_short_eval(pipeline, X_dev, y_dev)"
   ]
  },
  {
   "cell_type": "markdown",
   "metadata": {},
   "source": [
    "### Se obtuvo una mejora de performance! (de 87% a 91% en dev)"
   ]
  },
  {
   "cell_type": "code",
   "execution_count": 36,
   "metadata": {
    "scrolled": true
   },
   "outputs": [
    {
     "name": "stdout",
     "output_type": "stream",
     "text": [
      "accuracy\t0.94\tmacro f1\t0.94\n",
      "accuracy\t0.93\tmacro f1\t0.93\n"
     ]
    },
    {
     "name": "stderr",
     "output_type": "stream",
     "text": [
      "/anaconda3/lib/python3.6/site-packages/sklearn/preprocessing/label.py:151: DeprecationWarning: The truth value of an empty array is ambiguous. Returning False, but in future this will result in an error. Use `array.size > 0` to check that an array is not empty.\n",
      "  if diff:\n",
      "/anaconda3/lib/python3.6/site-packages/sklearn/preprocessing/label.py:151: DeprecationWarning: The truth value of an empty array is ambiguous. Returning False, but in future this will result in an error. Use `array.size > 0` to check that an array is not empty.\n",
      "  if diff:\n"
     ]
    }
   ],
   "source": [
    "clf1 = Pipeline([\n",
    "    ('vect', CountVectorizer(binary=True, max_df=0.70, min_df=5, ngram_range=(1,1))),\n",
    "    ('clf', MultinomialNB(alpha=10.0)),\n",
    "])\n",
    "\n",
    "vect = TfidfVectorizer(binary=True)\n",
    "clf2 = Pipeline([\n",
    "    ('vect', TfidfVectorizer(binary=True, max_df=0.95, min_df=5, ngram_range=(1,2))),\n",
    "    ('clf', KNeighborsClassifier()),\n",
    "])\n",
    "clf3 = Pipeline([\n",
    "    ('vect', TfidfVectorizer(binary=True, max_df=0.95, min_df=5, ngram_range=(1,2))),\n",
    "    ('clf', LogisticRegression(random_state=0, C=0.3))\n",
    "])\n",
    "clf4 = Pipeline([\n",
    "    ('vect', vect),\n",
    "    ('clf', LinearSVC(random_state=0)),\n",
    "])\n",
    "\n",
    "eclf1 = VotingClassifier(estimators=[('mnb', clf1), ('knc', clf2), ('lr', clf3)],\n",
    "                         voting='hard')\n",
    "eclf1 = eclf1.fit(X_train, y_train)\n",
    "print_short_eval(eclf1, X_train, y_train)\n",
    "print_short_eval(eclf1, X_dev, y_dev)"
   ]
  },
  {
   "cell_type": "markdown",
   "metadata": {},
   "source": [
    "# TODO: probar evaluar test con este modelo"
   ]
  },
  {
   "cell_type": "markdown",
   "metadata": {},
   "source": [
    "Al parecer obtenemos mejores resultados usando VotingClassifier con las versiones mejoradas de LG y MultinomialNB. Intentemos mejorar los otros dos modelos"
   ]
  },
  {
   "cell_type": "markdown",
   "metadata": {},
   "source": [
    "## Intentemos mejorar KNeighborsClassifier (acc dev actual = 83%)"
   ]
  },
  {
   "cell_type": "code",
   "execution_count": 37,
   "metadata": {},
   "outputs": [
    {
     "name": "stdout",
     "output_type": "stream",
     "text": [
      "accuracy\t0.86\tmacro f1\t0.86\n",
      "accuracy\t0.83\tmacro f1\t0.83\n"
     ]
    }
   ],
   "source": [
    "pipeline = Pipeline([\n",
    "    ('vect', TfidfVectorizer(binary=True)),\n",
    "    ('clf', KNeighborsClassifier()),\n",
    "])\n",
    "pipeline.fit(X_train, y_train)\n",
    "print_short_eval(pipeline, X_train, y_train)\n",
    "print_short_eval(pipeline, X_dev, y_dev)"
   ]
  },
  {
   "cell_type": "markdown",
   "metadata": {},
   "source": [
    "### Grid-Search in Dev"
   ]
  },
  {
   "cell_type": "code",
   "execution_count": 38,
   "metadata": {},
   "outputs": [
    {
     "data": {
      "text/plain": [
       "81"
      ]
     },
     "execution_count": 38,
     "metadata": {},
     "output_type": "execute_result"
    }
   ],
   "source": [
    "from sklearn.model_selection import ParameterGrid\n",
    "\n",
    "param_grid = {\n",
    "    'vect__binary': [True],\n",
    "    'vect__ngram_range': [(1, 1)],\n",
    "    'vect__min_df': [1, 3, 5],\n",
    "    'vect__max_df': [0.95, 0.9, 0.7],\n",
    "    'clf__n_neighbors': [1, 2, 5, 8, 10, 20, 30, 50, 100]\n",
    "}\n",
    "\n",
    "params_list = list(ParameterGrid(param_grid))\n",
    "len(params_list)"
   ]
  },
  {
   "cell_type": "code",
   "execution_count": 39,
   "metadata": {},
   "outputs": [],
   "source": [
    "pipeline = Pipeline([\n",
    "    ('vect', TfidfVectorizer()),\n",
    "    ('clf', KNeighborsClassifier()),\n",
    "])\n",
    "# pipeline.get_params().keys()\n",
    "results = []\n",
    "for params in params_list:\n",
    "    pipeline.set_params(**params)\n",
    "    pipeline.fit(X_train, y_train)\n",
    "    result = eval(pipeline, X_dev, y_dev)\n",
    "#    print(result)\n",
    "    results.append({\n",
    "        **result,\n",
    "        **params,\n",
    "    })"
   ]
  },
  {
   "cell_type": "code",
   "execution_count": 40,
   "metadata": {},
   "outputs": [
    {
     "data": {
      "text/html": [
       "<div>\n",
       "<style scoped>\n",
       "    .dataframe tbody tr th:only-of-type {\n",
       "        vertical-align: middle;\n",
       "    }\n",
       "\n",
       "    .dataframe tbody tr th {\n",
       "        vertical-align: top;\n",
       "    }\n",
       "\n",
       "    .dataframe thead th {\n",
       "        text-align: right;\n",
       "    }\n",
       "</style>\n",
       "<table border=\"1\" class=\"dataframe\">\n",
       "  <thead>\n",
       "    <tr style=\"text-align: right;\">\n",
       "      <th></th>\n",
       "      <th>acc</th>\n",
       "      <th>clf__n_neighbors</th>\n",
       "      <th>f1</th>\n",
       "      <th>vect__binary</th>\n",
       "      <th>vect__max_df</th>\n",
       "      <th>vect__min_df</th>\n",
       "      <th>vect__ngram_range</th>\n",
       "    </tr>\n",
       "  </thead>\n",
       "  <tbody>\n",
       "    <tr>\n",
       "      <th>59</th>\n",
       "      <td>0.915888</td>\n",
       "      <td>30</td>\n",
       "      <td>0.915623</td>\n",
       "      <td>True</td>\n",
       "      <td>0.90</td>\n",
       "      <td>5</td>\n",
       "      <td>(1, 1)</td>\n",
       "    </tr>\n",
       "    <tr>\n",
       "      <th>56</th>\n",
       "      <td>0.897196</td>\n",
       "      <td>30</td>\n",
       "      <td>0.896872</td>\n",
       "      <td>True</td>\n",
       "      <td>0.95</td>\n",
       "      <td>5</td>\n",
       "      <td>(1, 1)</td>\n",
       "    </tr>\n",
       "    <tr>\n",
       "      <th>67</th>\n",
       "      <td>0.887850</td>\n",
       "      <td>50</td>\n",
       "      <td>0.887605</td>\n",
       "      <td>True</td>\n",
       "      <td>0.90</td>\n",
       "      <td>3</td>\n",
       "      <td>(1, 1)</td>\n",
       "    </tr>\n",
       "    <tr>\n",
       "      <th>53</th>\n",
       "      <td>0.887850</td>\n",
       "      <td>20</td>\n",
       "      <td>0.887368</td>\n",
       "      <td>True</td>\n",
       "      <td>0.70</td>\n",
       "      <td>5</td>\n",
       "      <td>(1, 1)</td>\n",
       "    </tr>\n",
       "    <tr>\n",
       "      <th>80</th>\n",
       "      <td>0.878505</td>\n",
       "      <td>100</td>\n",
       "      <td>0.878505</td>\n",
       "      <td>True</td>\n",
       "      <td>0.70</td>\n",
       "      <td>5</td>\n",
       "      <td>(1, 1)</td>\n",
       "    </tr>\n",
       "    <tr>\n",
       "      <th>62</th>\n",
       "      <td>0.878505</td>\n",
       "      <td>30</td>\n",
       "      <td>0.878335</td>\n",
       "      <td>True</td>\n",
       "      <td>0.70</td>\n",
       "      <td>5</td>\n",
       "      <td>(1, 1)</td>\n",
       "    </tr>\n",
       "    <tr>\n",
       "      <th>64</th>\n",
       "      <td>0.878505</td>\n",
       "      <td>50</td>\n",
       "      <td>0.878335</td>\n",
       "      <td>True</td>\n",
       "      <td>0.95</td>\n",
       "      <td>3</td>\n",
       "      <td>(1, 1)</td>\n",
       "    </tr>\n",
       "    <tr>\n",
       "      <th>47</th>\n",
       "      <td>0.878505</td>\n",
       "      <td>20</td>\n",
       "      <td>0.878121</td>\n",
       "      <td>True</td>\n",
       "      <td>0.95</td>\n",
       "      <td>5</td>\n",
       "      <td>(1, 1)</td>\n",
       "    </tr>\n",
       "    <tr>\n",
       "      <th>50</th>\n",
       "      <td>0.878505</td>\n",
       "      <td>20</td>\n",
       "      <td>0.878121</td>\n",
       "      <td>True</td>\n",
       "      <td>0.90</td>\n",
       "      <td>5</td>\n",
       "      <td>(1, 1)</td>\n",
       "    </tr>\n",
       "    <tr>\n",
       "      <th>73</th>\n",
       "      <td>0.869159</td>\n",
       "      <td>100</td>\n",
       "      <td>0.869147</td>\n",
       "      <td>True</td>\n",
       "      <td>0.95</td>\n",
       "      <td>3</td>\n",
       "      <td>(1, 1)</td>\n",
       "    </tr>\n",
       "  </tbody>\n",
       "</table>\n",
       "</div>"
      ],
      "text/plain": [
       "         acc  clf__n_neighbors        f1  vect__binary  vect__max_df  \\\n",
       "59  0.915888                30  0.915623          True          0.90   \n",
       "56  0.897196                30  0.896872          True          0.95   \n",
       "67  0.887850                50  0.887605          True          0.90   \n",
       "53  0.887850                20  0.887368          True          0.70   \n",
       "80  0.878505               100  0.878505          True          0.70   \n",
       "62  0.878505                30  0.878335          True          0.70   \n",
       "64  0.878505                50  0.878335          True          0.95   \n",
       "47  0.878505                20  0.878121          True          0.95   \n",
       "50  0.878505                20  0.878121          True          0.90   \n",
       "73  0.869159               100  0.869147          True          0.95   \n",
       "\n",
       "    vect__min_df vect__ngram_range  \n",
       "59             5            (1, 1)  \n",
       "56             5            (1, 1)  \n",
       "67             3            (1, 1)  \n",
       "53             5            (1, 1)  \n",
       "80             5            (1, 1)  \n",
       "62             5            (1, 1)  \n",
       "64             3            (1, 1)  \n",
       "47             5            (1, 1)  \n",
       "50             5            (1, 1)  \n",
       "73             3            (1, 1)  "
      ]
     },
     "execution_count": 40,
     "metadata": {},
     "output_type": "execute_result"
    }
   ],
   "source": [
    "results_df = pd.DataFrame(results)\n",
    "results_df.sort_values(['acc', 'f1'], ascending=False)[:10]"
   ]
  },
  {
   "cell_type": "markdown",
   "metadata": {},
   "source": [
    "Entrenamos nuestro modelo con los mejores hiperparámetros obtenidos y luego evaluamos"
   ]
  },
  {
   "cell_type": "code",
   "execution_count": 41,
   "metadata": {},
   "outputs": [
    {
     "name": "stdout",
     "output_type": "stream",
     "text": [
      "accuracy\t0.84\tmacro f1\t0.84\n",
      "accuracy\t0.92\tmacro f1\t0.92\n"
     ]
    }
   ],
   "source": [
    "pipeline = Pipeline([\n",
    "    ('vect', TfidfVectorizer(binary=True, max_df=0.90, min_df=5, ngram_range=(1,1))),\n",
    "    ('clf', KNeighborsClassifier(n_neighbors=30))\n",
    "])\n",
    "pipeline.fit(X_train, y_train)\n",
    "print_short_eval(pipeline, X_train, y_train)\n",
    "print_short_eval(pipeline, X_dev, y_dev)"
   ]
  },
  {
   "cell_type": "markdown",
   "metadata": {},
   "source": [
    "### Conclusion: si bien mejora el accuracy de dev, el de train se mantiene casi un 10% por debajo, posiblemente convenga descartar este modelo."
   ]
  },
  {
   "cell_type": "code",
   "execution_count": null,
   "metadata": {},
   "outputs": [],
   "source": []
  },
  {
   "cell_type": "markdown",
   "metadata": {},
   "source": [
    "## Intentemos mejorar LinearSVC (acc dev actual = 87%)"
   ]
  },
  {
   "cell_type": "code",
   "execution_count": 42,
   "metadata": {},
   "outputs": [
    {
     "name": "stdout",
     "output_type": "stream",
     "text": [
      "accuracy\t1.00\tmacro f1\t1.00\n",
      "accuracy\t0.87\tmacro f1\t0.87\n"
     ]
    }
   ],
   "source": [
    "pipeline = Pipeline([\n",
    "    ('vect', TfidfVectorizer(binary=True)),\n",
    "    ('clf', LinearSVC(random_state=0)),\n",
    "])\n",
    "pipeline.fit(X_train, y_train)\n",
    "print_short_eval(pipeline, X_train, y_train)\n",
    "print_short_eval(pipeline, X_dev, y_dev)"
   ]
  },
  {
   "cell_type": "markdown",
   "metadata": {},
   "source": [
    "### Grid-Search in Dev"
   ]
  },
  {
   "cell_type": "code",
   "execution_count": 43,
   "metadata": {},
   "outputs": [
    {
     "data": {
      "text/plain": [
       "60"
      ]
     },
     "execution_count": 43,
     "metadata": {},
     "output_type": "execute_result"
    }
   ],
   "source": [
    "param_grid = {\n",
    "    'vect__binary': [True],\n",
    "    'vect__ngram_range': [(1, 1), (1, 2), (1, 3), (1, 4), (1, 5)],\n",
    "    'vect__min_df': [1, 3, 5, 7],\n",
    "    'vect__max_df': [0.95, 0.9, 0.7],\n",
    "    'clf__random_state': [0]\n",
    "}\n",
    "\n",
    "params_list = list(ParameterGrid(param_grid))\n",
    "len(params_list)"
   ]
  },
  {
   "cell_type": "code",
   "execution_count": 44,
   "metadata": {},
   "outputs": [],
   "source": [
    "pipeline = Pipeline([\n",
    "    ('vect', TfidfVectorizer()),\n",
    "    ('clf', LinearSVC()),\n",
    "])\n",
    "# pipeline.get_params().keys()\n",
    "results = []\n",
    "for params in params_list:\n",
    "    pipeline.set_params(**params)\n",
    "    pipeline.fit(X_train, y_train)\n",
    "    result = eval(pipeline, X_dev, y_dev)\n",
    "#     print(result)\n",
    "    results.append({\n",
    "        **result,\n",
    "        **params,\n",
    "    })"
   ]
  },
  {
   "cell_type": "code",
   "execution_count": 45,
   "metadata": {},
   "outputs": [
    {
     "data": {
      "text/html": [
       "<div>\n",
       "<style scoped>\n",
       "    .dataframe tbody tr th:only-of-type {\n",
       "        vertical-align: middle;\n",
       "    }\n",
       "\n",
       "    .dataframe tbody tr th {\n",
       "        vertical-align: top;\n",
       "    }\n",
       "\n",
       "    .dataframe thead th {\n",
       "        text-align: right;\n",
       "    }\n",
       "</style>\n",
       "<table border=\"1\" class=\"dataframe\">\n",
       "  <thead>\n",
       "    <tr style=\"text-align: right;\">\n",
       "      <th></th>\n",
       "      <th>acc</th>\n",
       "      <th>clf__random_state</th>\n",
       "      <th>f1</th>\n",
       "      <th>vect__binary</th>\n",
       "      <th>vect__max_df</th>\n",
       "      <th>vect__min_df</th>\n",
       "      <th>vect__ngram_range</th>\n",
       "    </tr>\n",
       "  </thead>\n",
       "  <tbody>\n",
       "    <tr>\n",
       "      <th>12</th>\n",
       "      <td>0.915888</td>\n",
       "      <td>0</td>\n",
       "      <td>0.915888</td>\n",
       "      <td>True</td>\n",
       "      <td>0.95</td>\n",
       "      <td>5</td>\n",
       "      <td>(1, 3)</td>\n",
       "    </tr>\n",
       "    <tr>\n",
       "      <th>13</th>\n",
       "      <td>0.915888</td>\n",
       "      <td>0</td>\n",
       "      <td>0.915888</td>\n",
       "      <td>True</td>\n",
       "      <td>0.95</td>\n",
       "      <td>5</td>\n",
       "      <td>(1, 4)</td>\n",
       "    </tr>\n",
       "    <tr>\n",
       "      <th>14</th>\n",
       "      <td>0.915888</td>\n",
       "      <td>0</td>\n",
       "      <td>0.915888</td>\n",
       "      <td>True</td>\n",
       "      <td>0.95</td>\n",
       "      <td>5</td>\n",
       "      <td>(1, 5)</td>\n",
       "    </tr>\n",
       "    <tr>\n",
       "      <th>32</th>\n",
       "      <td>0.915888</td>\n",
       "      <td>0</td>\n",
       "      <td>0.915888</td>\n",
       "      <td>True</td>\n",
       "      <td>0.90</td>\n",
       "      <td>5</td>\n",
       "      <td>(1, 3)</td>\n",
       "    </tr>\n",
       "    <tr>\n",
       "      <th>33</th>\n",
       "      <td>0.915888</td>\n",
       "      <td>0</td>\n",
       "      <td>0.915888</td>\n",
       "      <td>True</td>\n",
       "      <td>0.90</td>\n",
       "      <td>5</td>\n",
       "      <td>(1, 4)</td>\n",
       "    </tr>\n",
       "    <tr>\n",
       "      <th>34</th>\n",
       "      <td>0.915888</td>\n",
       "      <td>0</td>\n",
       "      <td>0.915888</td>\n",
       "      <td>True</td>\n",
       "      <td>0.90</td>\n",
       "      <td>5</td>\n",
       "      <td>(1, 5)</td>\n",
       "    </tr>\n",
       "    <tr>\n",
       "      <th>52</th>\n",
       "      <td>0.915888</td>\n",
       "      <td>0</td>\n",
       "      <td>0.915888</td>\n",
       "      <td>True</td>\n",
       "      <td>0.70</td>\n",
       "      <td>5</td>\n",
       "      <td>(1, 3)</td>\n",
       "    </tr>\n",
       "    <tr>\n",
       "      <th>53</th>\n",
       "      <td>0.915888</td>\n",
       "      <td>0</td>\n",
       "      <td>0.915888</td>\n",
       "      <td>True</td>\n",
       "      <td>0.70</td>\n",
       "      <td>5</td>\n",
       "      <td>(1, 4)</td>\n",
       "    </tr>\n",
       "    <tr>\n",
       "      <th>54</th>\n",
       "      <td>0.915888</td>\n",
       "      <td>0</td>\n",
       "      <td>0.915888</td>\n",
       "      <td>True</td>\n",
       "      <td>0.70</td>\n",
       "      <td>5</td>\n",
       "      <td>(1, 5)</td>\n",
       "    </tr>\n",
       "    <tr>\n",
       "      <th>11</th>\n",
       "      <td>0.906542</td>\n",
       "      <td>0</td>\n",
       "      <td>0.906534</td>\n",
       "      <td>True</td>\n",
       "      <td>0.95</td>\n",
       "      <td>5</td>\n",
       "      <td>(1, 2)</td>\n",
       "    </tr>\n",
       "  </tbody>\n",
       "</table>\n",
       "</div>"
      ],
      "text/plain": [
       "         acc  clf__random_state        f1  vect__binary  vect__max_df  \\\n",
       "12  0.915888                  0  0.915888          True          0.95   \n",
       "13  0.915888                  0  0.915888          True          0.95   \n",
       "14  0.915888                  0  0.915888          True          0.95   \n",
       "32  0.915888                  0  0.915888          True          0.90   \n",
       "33  0.915888                  0  0.915888          True          0.90   \n",
       "34  0.915888                  0  0.915888          True          0.90   \n",
       "52  0.915888                  0  0.915888          True          0.70   \n",
       "53  0.915888                  0  0.915888          True          0.70   \n",
       "54  0.915888                  0  0.915888          True          0.70   \n",
       "11  0.906542                  0  0.906534          True          0.95   \n",
       "\n",
       "    vect__min_df vect__ngram_range  \n",
       "12             5            (1, 3)  \n",
       "13             5            (1, 4)  \n",
       "14             5            (1, 5)  \n",
       "32             5            (1, 3)  \n",
       "33             5            (1, 4)  \n",
       "34             5            (1, 5)  \n",
       "52             5            (1, 3)  \n",
       "53             5            (1, 4)  \n",
       "54             5            (1, 5)  \n",
       "11             5            (1, 2)  "
      ]
     },
     "execution_count": 45,
     "metadata": {},
     "output_type": "execute_result"
    }
   ],
   "source": [
    "results_df = pd.DataFrame(results)\n",
    "results_df.sort_values(['acc', 'f1'], ascending=False)[:10]"
   ]
  },
  {
   "cell_type": "markdown",
   "metadata": {},
   "source": [
    "Fijamos algunos de los mejores hiperparametros del vectorizador y ahora ajustamos algunos hiperparámetros de LogisticRegression."
   ]
  },
  {
   "cell_type": "code",
   "execution_count": 46,
   "metadata": {},
   "outputs": [
    {
     "data": {
      "text/plain": [
       "30"
      ]
     },
     "execution_count": 46,
     "metadata": {},
     "output_type": "execute_result"
    }
   ],
   "source": [
    "param_grid = {\n",
    "    'vect__binary': [True],\n",
    "    'vect__ngram_range': [(1,3), (1,4), (1,5)],\n",
    "    'vect__min_df': [5],\n",
    "    'vect__max_df': [0.95],\n",
    "    'clf__random_state': [0],\n",
    "    'clf__C': [0.001, 0.01, 0.05, 0.1, 0.3, 0.5, 1.0, 2.0, 5.0, 10.0]\n",
    "}\n",
    "\n",
    "params_list = list(ParameterGrid(param_grid))\n",
    "len(params_list)"
   ]
  },
  {
   "cell_type": "code",
   "execution_count": 47,
   "metadata": {},
   "outputs": [],
   "source": [
    "pipeline = Pipeline([\n",
    "    ('vect', TfidfVectorizer()),\n",
    "    ('clf', LinearSVC()),\n",
    "])\n",
    "# pipeline.get_params().keys()\n",
    "results = []\n",
    "for params in params_list:\n",
    "    pipeline.set_params(**params)\n",
    "    pipeline.fit(X_train, y_train)\n",
    "    result = eval(pipeline, X_dev, y_dev)\n",
    "#     print(result)\n",
    "    results.append({\n",
    "        **result,\n",
    "        **params,\n",
    "    })"
   ]
  },
  {
   "cell_type": "code",
   "execution_count": 48,
   "metadata": {},
   "outputs": [
    {
     "data": {
      "text/html": [
       "<div>\n",
       "<style scoped>\n",
       "    .dataframe tbody tr th:only-of-type {\n",
       "        vertical-align: middle;\n",
       "    }\n",
       "\n",
       "    .dataframe tbody tr th {\n",
       "        vertical-align: top;\n",
       "    }\n",
       "\n",
       "    .dataframe thead th {\n",
       "        text-align: right;\n",
       "    }\n",
       "</style>\n",
       "<table border=\"1\" class=\"dataframe\">\n",
       "  <thead>\n",
       "    <tr style=\"text-align: right;\">\n",
       "      <th></th>\n",
       "      <th>acc</th>\n",
       "      <th>clf__C</th>\n",
       "      <th>clf__random_state</th>\n",
       "      <th>f1</th>\n",
       "      <th>vect__binary</th>\n",
       "      <th>vect__max_df</th>\n",
       "      <th>vect__min_df</th>\n",
       "      <th>vect__ngram_range</th>\n",
       "    </tr>\n",
       "  </thead>\n",
       "  <tbody>\n",
       "    <tr>\n",
       "      <th>18</th>\n",
       "      <td>0.915888</td>\n",
       "      <td>1.0</td>\n",
       "      <td>0</td>\n",
       "      <td>0.915888</td>\n",
       "      <td>True</td>\n",
       "      <td>0.95</td>\n",
       "      <td>5</td>\n",
       "      <td>(1, 3)</td>\n",
       "    </tr>\n",
       "    <tr>\n",
       "      <th>19</th>\n",
       "      <td>0.915888</td>\n",
       "      <td>1.0</td>\n",
       "      <td>0</td>\n",
       "      <td>0.915888</td>\n",
       "      <td>True</td>\n",
       "      <td>0.95</td>\n",
       "      <td>5</td>\n",
       "      <td>(1, 4)</td>\n",
       "    </tr>\n",
       "    <tr>\n",
       "      <th>20</th>\n",
       "      <td>0.915888</td>\n",
       "      <td>1.0</td>\n",
       "      <td>0</td>\n",
       "      <td>0.915888</td>\n",
       "      <td>True</td>\n",
       "      <td>0.95</td>\n",
       "      <td>5</td>\n",
       "      <td>(1, 5)</td>\n",
       "    </tr>\n",
       "    <tr>\n",
       "      <th>21</th>\n",
       "      <td>0.915888</td>\n",
       "      <td>2.0</td>\n",
       "      <td>0</td>\n",
       "      <td>0.915888</td>\n",
       "      <td>True</td>\n",
       "      <td>0.95</td>\n",
       "      <td>5</td>\n",
       "      <td>(1, 3)</td>\n",
       "    </tr>\n",
       "    <tr>\n",
       "      <th>22</th>\n",
       "      <td>0.915888</td>\n",
       "      <td>2.0</td>\n",
       "      <td>0</td>\n",
       "      <td>0.915888</td>\n",
       "      <td>True</td>\n",
       "      <td>0.95</td>\n",
       "      <td>5</td>\n",
       "      <td>(1, 4)</td>\n",
       "    </tr>\n",
       "    <tr>\n",
       "      <th>23</th>\n",
       "      <td>0.915888</td>\n",
       "      <td>2.0</td>\n",
       "      <td>0</td>\n",
       "      <td>0.915888</td>\n",
       "      <td>True</td>\n",
       "      <td>0.95</td>\n",
       "      <td>5</td>\n",
       "      <td>(1, 5)</td>\n",
       "    </tr>\n",
       "    <tr>\n",
       "      <th>24</th>\n",
       "      <td>0.906542</td>\n",
       "      <td>5.0</td>\n",
       "      <td>0</td>\n",
       "      <td>0.906534</td>\n",
       "      <td>True</td>\n",
       "      <td>0.95</td>\n",
       "      <td>5</td>\n",
       "      <td>(1, 3)</td>\n",
       "    </tr>\n",
       "    <tr>\n",
       "      <th>25</th>\n",
       "      <td>0.906542</td>\n",
       "      <td>5.0</td>\n",
       "      <td>0</td>\n",
       "      <td>0.906534</td>\n",
       "      <td>True</td>\n",
       "      <td>0.95</td>\n",
       "      <td>5</td>\n",
       "      <td>(1, 4)</td>\n",
       "    </tr>\n",
       "    <tr>\n",
       "      <th>26</th>\n",
       "      <td>0.906542</td>\n",
       "      <td>5.0</td>\n",
       "      <td>0</td>\n",
       "      <td>0.906534</td>\n",
       "      <td>True</td>\n",
       "      <td>0.95</td>\n",
       "      <td>5</td>\n",
       "      <td>(1, 5)</td>\n",
       "    </tr>\n",
       "    <tr>\n",
       "      <th>12</th>\n",
       "      <td>0.897196</td>\n",
       "      <td>0.3</td>\n",
       "      <td>0</td>\n",
       "      <td>0.897160</td>\n",
       "      <td>True</td>\n",
       "      <td>0.95</td>\n",
       "      <td>5</td>\n",
       "      <td>(1, 3)</td>\n",
       "    </tr>\n",
       "  </tbody>\n",
       "</table>\n",
       "</div>"
      ],
      "text/plain": [
       "         acc  clf__C  clf__random_state        f1  vect__binary  vect__max_df  \\\n",
       "18  0.915888     1.0                  0  0.915888          True          0.95   \n",
       "19  0.915888     1.0                  0  0.915888          True          0.95   \n",
       "20  0.915888     1.0                  0  0.915888          True          0.95   \n",
       "21  0.915888     2.0                  0  0.915888          True          0.95   \n",
       "22  0.915888     2.0                  0  0.915888          True          0.95   \n",
       "23  0.915888     2.0                  0  0.915888          True          0.95   \n",
       "24  0.906542     5.0                  0  0.906534          True          0.95   \n",
       "25  0.906542     5.0                  0  0.906534          True          0.95   \n",
       "26  0.906542     5.0                  0  0.906534          True          0.95   \n",
       "12  0.897196     0.3                  0  0.897160          True          0.95   \n",
       "\n",
       "    vect__min_df vect__ngram_range  \n",
       "18             5            (1, 3)  \n",
       "19             5            (1, 4)  \n",
       "20             5            (1, 5)  \n",
       "21             5            (1, 3)  \n",
       "22             5            (1, 4)  \n",
       "23             5            (1, 5)  \n",
       "24             5            (1, 3)  \n",
       "25             5            (1, 4)  \n",
       "26             5            (1, 5)  \n",
       "12             5            (1, 3)  "
      ]
     },
     "execution_count": 48,
     "metadata": {},
     "output_type": "execute_result"
    }
   ],
   "source": [
    "results_df = pd.DataFrame(results)\n",
    "results_df.sort_values(['acc', 'f1'], ascending=False)[:10]"
   ]
  },
  {
   "cell_type": "markdown",
   "metadata": {},
   "source": [
    "Entrenamos nuestro modelo con los mejores hiperparámetros obtenidos y luego evaluamos"
   ]
  },
  {
   "cell_type": "code",
   "execution_count": 49,
   "metadata": {},
   "outputs": [
    {
     "name": "stdout",
     "output_type": "stream",
     "text": [
      "accuracy\t1.00\tmacro f1\t1.00\n",
      "accuracy\t0.92\tmacro f1\t0.92\n"
     ]
    }
   ],
   "source": [
    "pipeline = Pipeline([\n",
    "    ('vect', TfidfVectorizer(binary=True, max_df=0.95, min_df=5, ngram_range=(1,3))),\n",
    "    ('clf', LinearSVC(random_state=0, C=1.0))\n",
    "])\n",
    "pipeline.fit(X_train, y_train)\n",
    "print_short_eval(pipeline, X_train, y_train)\n",
    "print_short_eval(pipeline, X_dev, y_dev)"
   ]
  },
  {
   "cell_type": "markdown",
   "metadata": {},
   "source": [
    "### Se obtuvo una mejora de performance! (de 87% a 92% en dev)"
   ]
  },
  {
   "cell_type": "code",
   "execution_count": 50,
   "metadata": {},
   "outputs": [
    {
     "name": "stdout",
     "output_type": "stream",
     "text": [
      "accuracy\t0.96\tmacro f1\t0.96\n",
      "accuracy\t0.91\tmacro f1\t0.91\n"
     ]
    },
    {
     "name": "stderr",
     "output_type": "stream",
     "text": [
      "/anaconda3/lib/python3.6/site-packages/sklearn/preprocessing/label.py:151: DeprecationWarning: The truth value of an empty array is ambiguous. Returning False, but in future this will result in an error. Use `array.size > 0` to check that an array is not empty.\n",
      "  if diff:\n",
      "/anaconda3/lib/python3.6/site-packages/sklearn/preprocessing/label.py:151: DeprecationWarning: The truth value of an empty array is ambiguous. Returning False, but in future this will result in an error. Use `array.size > 0` to check that an array is not empty.\n",
      "  if diff:\n"
     ]
    }
   ],
   "source": [
    "clf1 = Pipeline([\n",
    "    ('vect', CountVectorizer(binary=True, max_df=0.70, min_df=5, ngram_range=(1,1))),\n",
    "    ('clf', MultinomialNB(alpha=10.0))\n",
    "])\n",
    "clf2 = Pipeline([\n",
    "    ('vect', TfidfVectorizer(binary=True, max_df=0.90, min_df=5, ngram_range=(1,1))),\n",
    "    ('clf', KNeighborsClassifier(n_neighbors=30)) # ajustando dio que 30 vecinos \n",
    "                                                 # es mejor pero solo en dev\n",
    "])\n",
    "clf3 = Pipeline([\n",
    "    ('vect', TfidfVectorizer(binary=True, max_df=0.95, min_df=5, ngram_range=(1,2))),\n",
    "    ('clf', LogisticRegression(random_state=0, C=0.3))\n",
    "])\n",
    "clf4 = Pipeline([\n",
    "    ('vect', TfidfVectorizer(binary=True, max_df=0.95, min_df=5, ngram_range=(1,3))),\n",
    "    ('clf', LinearSVC(random_state=0, C=1.0))\n",
    "])\n",
    "\n",
    "eclf1 = VotingClassifier(estimators=[('mnb', clf1), ('lr', clf3), ('lsvc', clf4)],\n",
    "                         voting='hard')\n",
    "eclf1 = eclf1.fit(X_train, y_train)\n",
    "print_short_eval(eclf1, X_train, y_train)\n",
    "print_short_eval(eclf1, X_dev, y_dev)"
   ]
  },
  {
   "cell_type": "code",
   "execution_count": 51,
   "metadata": {},
   "outputs": [
    {
     "name": "stderr",
     "output_type": "stream",
     "text": [
      "/anaconda3/lib/python3.6/site-packages/sklearn/preprocessing/label.py:151: DeprecationWarning: The truth value of an empty array is ambiguous. Returning False, but in future this will result in an error. Use `array.size > 0` to check that an array is not empty.\n",
      "  if diff:\n"
     ]
    }
   ],
   "source": [
    "y_pred = eclf1.predict(test)\n",
    "predictions = y_pred.tolist()\n",
    "from utils import save_results\n",
    "save_results('final_results_usingOnlyTrain.csv', predictions)"
   ]
  },
  {
   "cell_type": "markdown",
   "metadata": {},
   "source": [
    "Se obtuvo un accuracy del 85.33%"
   ]
  },
  {
   "cell_type": "code",
   "execution_count": 52,
   "metadata": {},
   "outputs": [
    {
     "name": "stdout",
     "output_type": "stream",
     "text": [
      "accuracy\t0.95\tmacro f1\t0.95\n",
      "accuracy\t0.93\tmacro f1\t0.93\n"
     ]
    },
    {
     "name": "stderr",
     "output_type": "stream",
     "text": [
      "/anaconda3/lib/python3.6/site-packages/sklearn/preprocessing/label.py:151: DeprecationWarning: The truth value of an empty array is ambiguous. Returning False, but in future this will result in an error. Use `array.size > 0` to check that an array is not empty.\n",
      "  if diff:\n",
      "/anaconda3/lib/python3.6/site-packages/sklearn/preprocessing/label.py:151: DeprecationWarning: The truth value of an empty array is ambiguous. Returning False, but in future this will result in an error. Use `array.size > 0` to check that an array is not empty.\n",
      "  if diff:\n"
     ]
    }
   ],
   "source": [
    "clf1 = Pipeline([\n",
    "    ('vect', CountVectorizer(binary=True, max_df=0.70, min_df=5, ngram_range=(1,1))),\n",
    "    ('clf', MultinomialNB(alpha=10.0))\n",
    "])\n",
    "clf2 = Pipeline([\n",
    "    ('vect', TfidfVectorizer(binary=True, max_df=0.90, min_df=5, ngram_range=(1,1))),\n",
    "    ('clf', KNeighborsClassifier(n_neighbors=5)) # ajustando dio que 30 vecinos \n",
    "                                                 # es mejor pero solo en dev\n",
    "])\n",
    "clf3 = Pipeline([\n",
    "    ('vect', TfidfVectorizer(binary=True, max_df=0.95, min_df=5, ngram_range=(1,2))),\n",
    "    ('clf', LogisticRegression(random_state=0, C=0.3))\n",
    "])\n",
    "clf4 = Pipeline([\n",
    "    ('vect', TfidfVectorizer(binary=True, max_df=0.95, min_df=5, ngram_range=(1,3))),\n",
    "    ('clf', LinearSVC(random_state=0, C=1.0))\n",
    "])\n",
    "\n",
    "eclf1 = VotingClassifier(estimators=[('mnb', clf1), ('kn', clf2), ('lr', clf3), ('lsvc', clf4)],\n",
    "                         voting='hard')\n",
    "eclf1 = eclf1.fit(X_train, y_train)\n",
    "print_short_eval(eclf1, X_train, y_train)\n",
    "print_short_eval(eclf1, X_dev, y_dev)"
   ]
  },
  {
   "cell_type": "code",
   "execution_count": 53,
   "metadata": {},
   "outputs": [
    {
     "name": "stderr",
     "output_type": "stream",
     "text": [
      "/anaconda3/lib/python3.6/site-packages/sklearn/preprocessing/label.py:151: DeprecationWarning: The truth value of an empty array is ambiguous. Returning False, but in future this will result in an error. Use `array.size > 0` to check that an array is not empty.\n",
      "  if diff:\n"
     ]
    }
   ],
   "source": [
    "y_pred = eclf1.predict(test)\n",
    "predictions = y_pred.tolist()\n",
    "from utils import save_results\n",
    "save_results('final_results_usingOnlyTrain2.csv', predictions)"
   ]
  },
  {
   "cell_type": "markdown",
   "metadata": {},
   "source": [
    "Se obtuvo un accuracy del 85.33%"
   ]
  },
  {
   "cell_type": "markdown",
   "metadata": {},
   "source": [
    "Probemos entrenando el modelo de LinearSVC con todos los datos etiquetados y luego evaluar test."
   ]
  },
  {
   "cell_type": "code",
   "execution_count": 54,
   "metadata": {},
   "outputs": [
    {
     "name": "stdout",
     "output_type": "stream",
     "text": [
      "accuracy\t1.00\tmacro f1\t1.00\n",
      "accuracy\t0.92\tmacro f1\t0.92\n"
     ]
    }
   ],
   "source": [
    "# MODELO ACTUAL:\n",
    "\n",
    "pipeline = Pipeline([\n",
    "    ('vect', TfidfVectorizer(binary=True, max_df=0.95, min_df=5, ngram_range=(1,3))),\n",
    "    ('clf', LinearSVC(random_state=0, C=1.0))\n",
    "])\n",
    "pipeline.fit(X_train, y_train)\n",
    "print_short_eval(pipeline, X_train, y_train)\n",
    "print_short_eval(pipeline, X_dev, y_dev)"
   ]
  },
  {
   "cell_type": "code",
   "execution_count": 55,
   "metadata": {},
   "outputs": [],
   "source": [
    "# UNIMOS train y dev:\n",
    "train = X_train + X_dev\n",
    "target = y_train + y_dev"
   ]
  },
  {
   "cell_type": "code",
   "execution_count": 56,
   "metadata": {},
   "outputs": [
    {
     "name": "stdout",
     "output_type": "stream",
     "text": [
      "accuracy\t1.00\tmacro f1\t1.00\n"
     ]
    }
   ],
   "source": [
    "pipeline = Pipeline([\n",
    "    ('vect', TfidfVectorizer(binary=True, max_df=0.95, min_df=5, ngram_range=(1,3))),\n",
    "    ('clf', LinearSVC(random_state=0, C=1.0))\n",
    "])\n",
    "pipeline.fit(train, target)\n",
    "print_short_eval(pipeline, train, target)"
   ]
  },
  {
   "cell_type": "code",
   "execution_count": 57,
   "metadata": {},
   "outputs": [],
   "source": [
    "y_pred = pipeline.predict(test)\n",
    "predictions = y_pred.tolist()\n",
    "from utils import save_results\n",
    "save_results('results_LinearSVC_usingAllLabeledDataset.csv', predictions)"
   ]
  },
  {
   "cell_type": "markdown",
   "metadata": {},
   "source": [
    "Se obtuvo un accuracy del 88% (el mejor resultado hasta ahora)"
   ]
  },
  {
   "cell_type": "code",
   "execution_count": 70,
   "metadata": {},
   "outputs": [
    {
     "name": "stdout",
     "output_type": "stream",
     "text": [
      "accuracy\t0.96\tmacro f1\t0.96\n"
     ]
    },
    {
     "name": "stderr",
     "output_type": "stream",
     "text": [
      "/anaconda3/lib/python3.6/site-packages/sklearn/preprocessing/label.py:151: DeprecationWarning: The truth value of an empty array is ambiguous. Returning False, but in future this will result in an error. Use `array.size > 0` to check that an array is not empty.\n",
      "  if diff:\n"
     ]
    }
   ],
   "source": [
    "clf1 = Pipeline([\n",
    "    ('vect', CountVectorizer(binary=True, max_df=0.70, min_df=5, ngram_range=(1,1))),\n",
    "    ('clf', MultinomialNB(alpha=10.0))\n",
    "])\n",
    "clf3 = Pipeline([\n",
    "    ('vect', TfidfVectorizer(binary=True, max_df=0.95, min_df=5, ngram_range=(1,2))),\n",
    "    ('clf', LogisticRegression(random_state=0, C=0.3))\n",
    "])\n",
    "clf4 = Pipeline([\n",
    "    ('vect', TfidfVectorizer(binary=True, max_df=0.95, min_df=5, ngram_range=(1,3))),\n",
    "    ('clf', LinearSVC(random_state=0, C=1.0))\n",
    "])\n",
    "\n",
    "eclf1 = VotingClassifier(estimators=[('mnb', clf1), ('lr', clf3), ('lsvc', clf4)],\n",
    "                         voting='hard')\n",
    "eclf1 = eclf1.fit(train, target)\n",
    "print_short_eval(eclf1, train, target)"
   ]
  },
  {
   "cell_type": "code",
   "execution_count": 71,
   "metadata": {},
   "outputs": [
    {
     "name": "stderr",
     "output_type": "stream",
     "text": [
      "/anaconda3/lib/python3.6/site-packages/sklearn/preprocessing/label.py:151: DeprecationWarning: The truth value of an empty array is ambiguous. Returning False, but in future this will result in an error. Use `array.size > 0` to check that an array is not empty.\n",
      "  if diff:\n"
     ]
    }
   ],
   "source": [
    "y_pred = eclf1.predict(test)\n",
    "predictions = y_pred.tolist()\n",
    "from utils import save_results\n",
    "save_results('results_voting_usingAllLabeledDataset.csv', predictions)"
   ]
  },
  {
   "cell_type": "markdown",
   "metadata": {},
   "source": [
    "Se obtuvo un accuracy del 85.33%"
   ]
  },
  {
   "cell_type": "markdown",
   "metadata": {},
   "source": [
    "### Pasos a seguir: hacer experimentos pero con mas datos, intentar aumentar la cantidad de datos de entrenamiento artificialmente."
   ]
  },
  {
   "cell_type": "code",
   "execution_count": 115,
   "metadata": {},
   "outputs": [
    {
     "data": {
      "text/plain": [
       "\"If ever a film needed English subtitles this is one . The accents and soft talking are great but hard to follow storyline as you ca n't understand what they are saying and with no subtitles . Her songs were just beautiful and the story is great but a lot of it is lost on not catching what they are saying . But is was a refreshing movie from most out there now . Fine acting and story .\""
      ]
     },
     "execution_count": 115,
     "metadata": {},
     "output_type": "execute_result"
    }
   ],
   "source": [
    "from googletrans import Translator\n",
    "import pandas as pd\n",
    "translator = Translator()\n",
    "train_df = pd.DataFrame({'col':train})\n",
    "text = train_df.values[0][0].decode(\"utf-8\")\n",
    "text"
   ]
  },
  {
   "cell_type": "code",
   "execution_count": 119,
   "metadata": {},
   "outputs": [
    {
     "data": {
      "text/plain": [
       "'Si alguna vez una película necesitó subtítulos en inglés, esta es una. Los acentos y las conversaciones suaves son geniales pero difíciles de seguir porque no puedes entender lo que dicen y no tienen subtítulos. Sus canciones eran simplemente bellas y la historia es genial, pero se pierde mucho al no captar lo que dicen. Pero fue una película refrescante de la mayoría ahora. Buena actuación e historia.'"
      ]
     },
     "execution_count": 119,
     "metadata": {},
     "output_type": "execute_result"
    }
   ],
   "source": [
    "translation_es = translator.translate(text, dest='es', src='en')\n",
    "translation_es.text"
   ]
  },
  {
   "cell_type": "code",
   "execution_count": 120,
   "metadata": {},
   "outputs": [
    {
     "data": {
      "text/plain": [
       "'If ever a movie needed subtitles in English, this is one. The accents and the soft conversations are great but difficult to follow because you can not understand what they say and they do not have subtitles. Their songs were simply beautiful and the story is great, but you lose a lot by not grasping what they say. But it was a most refreshing movie now. Good acting and history.'"
      ]
     },
     "execution_count": 120,
     "metadata": {},
     "output_type": "execute_result"
    }
   ],
   "source": [
    "translation_en = translator.translate(translation_es.text, dest='en', src='es')\n",
    "translation_en.text"
   ]
  },
  {
   "cell_type": "markdown",
   "metadata": {},
   "source": [
    "Notar que esta es una buena alternativa para generar nuevos datos de entrenamiento! :)\n",
    "Probar con otros idiomas no solo español! (frances, portugues e italiano)"
   ]
  }
 ],
 "metadata": {
  "kernelspec": {
   "display_name": "Python 3",
   "language": "python",
   "name": "python3"
  },
  "language_info": {
   "codemirror_mode": {
    "name": "ipython",
    "version": 3
   },
   "file_extension": ".py",
   "mimetype": "text/x-python",
   "name": "python",
   "nbconvert_exporter": "python",
   "pygments_lexer": "ipython3",
   "version": "3.6.5"
  }
 },
 "nbformat": 4,
 "nbformat_minor": 2
}
