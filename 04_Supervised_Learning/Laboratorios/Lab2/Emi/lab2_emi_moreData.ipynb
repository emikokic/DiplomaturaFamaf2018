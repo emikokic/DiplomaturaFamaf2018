{
 "cells": [
  {
   "cell_type": "markdown",
   "metadata": {},
   "source": [
    "### Laboratorio 2 - Aprendizaje Supervisado"
   ]
  },
  {
   "cell_type": "code",
   "execution_count": 1,
   "metadata": {},
   "outputs": [],
   "source": [
    "from utils import load_datasets_unlabeled_test\n",
    "train, dev, test = load_datasets_unlabeled_test()"
   ]
  },
  {
   "cell_type": "code",
   "execution_count": 2,
   "metadata": {},
   "outputs": [],
   "source": [
    "import pandas as pd\n",
    "data_train = pd.DataFrame({'data': train[0], 'target': train[1]})\n",
    "data_dev = pd.DataFrame({'data': dev[0], 'target': dev[1]})"
   ]
  },
  {
   "cell_type": "markdown",
   "metadata": {},
   "source": [
    "#### Aumentamos los datos etiquetados utilizando como herramienta traducciones a distintos idiomas"
   ]
  },
  {
   "cell_type": "code",
   "execution_count": 3,
   "metadata": {
    "scrolled": true
   },
   "outputs": [
    {
     "name": "stdout",
     "output_type": "stream",
     "text": [
      "If ever a film needed English subtitles this is one . The accents and soft talking are great but hard to follow storyline as you ca n't understand what they are saying and with no subtitles . Her songs were just beautiful and the story is great but a lot of it is lost on not catching what they are saying . But is was a refreshing movie from most out there now . Fine acting and story .\n",
      "\n",
      "If ever a movie needed subtitles in English, this is one. The accents and the soft conversations are great but difficult to follow because you can not understand what they say and they do not have subtitles. Their songs were simply beautiful and the story is great, but you lose a lot by not grasping what they say. But it was a most refreshing movie now. Good acting and history.\n",
      "\n",
      "If ever a movie required English subtitles, that's it. Accents and soft conversation are excellent but difficult to follow because you can not understand what they say and without subtitles. Her songs were just beautiful and the story is great, but much of it is lost not to catch what they say. But it was a refreshing film of most people there. Beautiful game and story.\n",
      "\n",
      "If ever a film needs subtitles in English, this is one. Accents and soft speaking are fantastic but difficult to follow because you can not understand what they are saying and without subtitles. His songs were simply beautiful and the story is great, but many things are lost in not understanding what they are saying. But it was a refreshing film from most out there now. Beautiful acting and history.\n",
      "\n",
      "If ever a movie needed English subtitles, this is one of them. Soft accents and conversations are great, but difficult to follow, since you do not understand what they are saying and without captions. Her songs were beautiful and the story is great, but a lot is lost because I do not understand what they're saying. But it was a most refreshing movie out there now. Good acting and history.\n",
      "\n"
     ]
    }
   ],
   "source": [
    "from googletrans import Translator\n",
    "import pandas as pd\n",
    "translator = Translator()\n",
    "text_example = data_train['data'][0].decode('utf-8')\n",
    "print(text_example + '\\n')\n",
    "\n",
    "translation_es = translator.translate(text_example, dest='es', src='en')\n",
    "translation_es.text\n",
    "translation_en = translator.translate(translation_es.text, dest='en', src='es')\n",
    "print(translation_en.text + '\\n')\n",
    "translation_es = translator.translate(text_example, dest='fr', src='en')\n",
    "translation_es.text\n",
    "translation_en = translator.translate(translation_es.text, dest='en', src='fr')\n",
    "print(translation_en.text + '\\n')\n",
    "translation_es = translator.translate(text_example, dest='it', src='en')\n",
    "translation_es.text\n",
    "translation_en = translator.translate(translation_es.text, dest='en', src='it')\n",
    "print(translation_en.text + '\\n')\n",
    "translation_es = translator.translate(text_example, dest='pt', src='en')\n",
    "translation_es.text\n",
    "translation_en = translator.translate(translation_es.text, dest='en', src='pt')\n",
    "print(translation_en.text + '\\n')"
   ]
  },
  {
   "cell_type": "markdown",
   "metadata": {},
   "source": [
    "Como se puede ver, se obtuvieron 4 nuevos datos respecto al original que vamos a asignarle el mismo label (etiqueta) que posee el dato original."
   ]
  },
  {
   "cell_type": "markdown",
   "metadata": {},
   "source": [
    "### Unamos los datos de train y dev para aplicar las traducciones a todo el dataset."
   ]
  },
  {
   "cell_type": "code",
   "execution_count": 4,
   "metadata": {},
   "outputs": [
    {
     "name": "stdout",
     "output_type": "stream",
     "text": [
      "(963, 2)\n",
      "(107, 2)\n",
      "(1070, 2)\n"
     ]
    },
    {
     "data": {
      "text/html": [
       "<div>\n",
       "<style scoped>\n",
       "    .dataframe tbody tr th:only-of-type {\n",
       "        vertical-align: middle;\n",
       "    }\n",
       "\n",
       "    .dataframe tbody tr th {\n",
       "        vertical-align: top;\n",
       "    }\n",
       "\n",
       "    .dataframe thead th {\n",
       "        text-align: right;\n",
       "    }\n",
       "</style>\n",
       "<table border=\"1\" class=\"dataframe\">\n",
       "  <thead>\n",
       "    <tr style=\"text-align: right;\">\n",
       "      <th></th>\n",
       "      <th>data</th>\n",
       "      <th>target</th>\n",
       "    </tr>\n",
       "  </thead>\n",
       "  <tbody>\n",
       "    <tr>\n",
       "      <th>0</th>\n",
       "      <td>b\"If ever a film needed English subtitles this...</td>\n",
       "      <td>1</td>\n",
       "    </tr>\n",
       "    <tr>\n",
       "      <th>1</th>\n",
       "      <td>b\"`` Just Married '' is a painfully cheesy mov...</td>\n",
       "      <td>0</td>\n",
       "    </tr>\n",
       "    <tr>\n",
       "      <th>2</th>\n",
       "      <td>b\"I may not be able to add much to the reviews...</td>\n",
       "      <td>1</td>\n",
       "    </tr>\n",
       "    <tr>\n",
       "      <th>3</th>\n",
       "      <td>b\"I 've been a 3D nut for many decades . I pre...</td>\n",
       "      <td>0</td>\n",
       "    </tr>\n",
       "    <tr>\n",
       "      <th>4</th>\n",
       "      <td>b\"When I found out this version of Lonesome Do...</td>\n",
       "      <td>0</td>\n",
       "    </tr>\n",
       "  </tbody>\n",
       "</table>\n",
       "</div>"
      ],
      "text/plain": [
       "                                                data  target\n",
       "0  b\"If ever a film needed English subtitles this...       1\n",
       "1  b\"`` Just Married '' is a painfully cheesy mov...       0\n",
       "2  b\"I may not be able to add much to the reviews...       1\n",
       "3  b\"I 've been a 3D nut for many decades . I pre...       0\n",
       "4  b\"When I found out this version of Lonesome Do...       0"
      ]
     },
     "execution_count": 4,
     "metadata": {},
     "output_type": "execute_result"
    }
   ],
   "source": [
    "print(data_train.shape)\n",
    "print(data_dev.shape)\n",
    "data = data_train.append(data_dev, ignore_index=True)\n",
    "print(data.shape)\n",
    "data.head()"
   ]
  },
  {
   "cell_type": "code",
   "execution_count": 5,
   "metadata": {},
   "outputs": [
    {
     "data": {
      "text/html": [
       "<div>\n",
       "<style scoped>\n",
       "    .dataframe tbody tr th:only-of-type {\n",
       "        vertical-align: middle;\n",
       "    }\n",
       "\n",
       "    .dataframe tbody tr th {\n",
       "        vertical-align: top;\n",
       "    }\n",
       "\n",
       "    .dataframe thead th {\n",
       "        text-align: right;\n",
       "    }\n",
       "</style>\n",
       "<table border=\"1\" class=\"dataframe\">\n",
       "  <thead>\n",
       "    <tr style=\"text-align: right;\">\n",
       "      <th></th>\n",
       "      <th>data</th>\n",
       "      <th>target</th>\n",
       "    </tr>\n",
       "  </thead>\n",
       "  <tbody>\n",
       "    <tr>\n",
       "      <th>0</th>\n",
       "      <td>If ever a film needed English subtitles this i...</td>\n",
       "      <td>1</td>\n",
       "    </tr>\n",
       "    <tr>\n",
       "      <th>1</th>\n",
       "      <td>`` Just Married '' is a painfully cheesy movie...</td>\n",
       "      <td>0</td>\n",
       "    </tr>\n",
       "    <tr>\n",
       "      <th>2</th>\n",
       "      <td>I may not be able to add much to the reviews ,...</td>\n",
       "      <td>1</td>\n",
       "    </tr>\n",
       "    <tr>\n",
       "      <th>3</th>\n",
       "      <td>I 've been a 3D nut for many decades . I pre-o...</td>\n",
       "      <td>0</td>\n",
       "    </tr>\n",
       "    <tr>\n",
       "      <th>4</th>\n",
       "      <td>When I found out this version of Lonesome Dove...</td>\n",
       "      <td>0</td>\n",
       "    </tr>\n",
       "  </tbody>\n",
       "</table>\n",
       "</div>"
      ],
      "text/plain": [
       "                                                data  target\n",
       "0  If ever a film needed English subtitles this i...       1\n",
       "1  `` Just Married '' is a painfully cheesy movie...       0\n",
       "2  I may not be able to add much to the reviews ,...       1\n",
       "3  I 've been a 3D nut for many decades . I pre-o...       0\n",
       "4  When I found out this version of Lonesome Dove...       0"
      ]
     },
     "execution_count": 5,
     "metadata": {},
     "output_type": "execute_result"
    }
   ],
   "source": [
    "# el metodo translate toma como argumento un string\n",
    "decoder = lambda x: x.decode('utf-8')\n",
    "data['data'] = data['data'].apply(decoder)\n",
    "data.head()"
   ]
  },
  {
   "cell_type": "code",
   "execution_count": 6,
   "metadata": {},
   "outputs": [],
   "source": [
    "from json import JSONDecodeError\n",
    "# lang shoud be: 'es' 'it' 'pt' 'fr'\n",
    "def createData(df, lang):\n",
    "    new_df = pd.DataFrame(columns=['data', 'target'])\n",
    "    translator = Translator()\n",
    "    missed_trans = 0\n",
    "    \n",
    "    for idx, row in df.iterrows():   \n",
    "        text = row['data']\n",
    "        label = row['target']\n",
    "        if (idx % 10 == 0): print(idx, end=' ')  # kind of 'progress bar' :P\n",
    "        try:\n",
    "            translation = translator.translate(text, dest=lang, src='en')\n",
    "            trans_english = translator.translate(translation.text, dest='en', src=lang)\n",
    "            # Agrego el nuevo dato al dataframe utilizando la misma etiqueta que el original\n",
    "            new_df = new_df.append({'data':trans_english.text, 'target':label}, ignore_index=True)\n",
    "        except JSONDecodeError:\n",
    "            missed_trans += 1\n",
    "            \n",
    "    encoder = lambda x: x.encode('utf-8')\n",
    "    new_df['data'] = new_df['data'].apply(encoder)\n",
    "    return new_df, missed_trans"
   ]
  },
  {
   "cell_type": "markdown",
   "metadata": {},
   "source": [
    "Las siguientes celdas estan comentadas para que no se ejecuten ya que toma demasiado tiempo las traducciones."
   ]
  },
  {
   "cell_type": "code",
   "execution_count": 7,
   "metadata": {},
   "outputs": [],
   "source": [
    "# df_es, missed_es = createData(data, 'es')\n",
    "# print(df_es.shape)\n",
    "# print(missed_es)\n",
    "# # Validacion\n",
    "# print(data.shape[0] == df_es.shape[0] + missed_es)\n",
    "# # Guardamos el nuevo dataset\n",
    "# df_es.to_csv('data_from_es_translation.csv', encoding='utf-8', index=False)"
   ]
  },
  {
   "cell_type": "code",
   "execution_count": 8,
   "metadata": {},
   "outputs": [],
   "source": [
    "# df_it, missed_it = createData(data, 'it')\n",
    "# print(df_it.shape)\n",
    "# print(missed_it)\n",
    "# df_it.to_csv('data_from_it_translation.csv', encoding='utf-8', index=False)"
   ]
  },
  {
   "cell_type": "code",
   "execution_count": 9,
   "metadata": {},
   "outputs": [],
   "source": [
    "# df_pt, missed_pt = createData(data, 'pt')\n",
    "# print(df_pt.shape)\n",
    "# print(missed_pt)\n",
    "# df_pt.to_csv('data_from_pt_translation.csv', encoding='utf-8', index=False)"
   ]
  },
  {
   "cell_type": "code",
   "execution_count": 10,
   "metadata": {},
   "outputs": [],
   "source": [
    "# df_fr, missed_fr = createData(data, 'fr')\n",
    "# print(df_fr.shape)\n",
    "# print(missed_fr)\n",
    "# df_fr.to_csv('data_from_fr_translation.csv', encoding='utf-8', index=False)"
   ]
  },
  {
   "cell_type": "code",
   "execution_count": 11,
   "metadata": {},
   "outputs": [],
   "source": [
    "encoder = lambda x: x.encode('utf-8')\n",
    "data['data'] = data['data'].apply(encoder)"
   ]
  },
  {
   "cell_type": "markdown",
   "metadata": {},
   "source": [
    "### Cargamos los nuevos datasets, juntamos todo, aplicamos shuffle y guardamos"
   ]
  },
  {
   "cell_type": "code",
   "execution_count": 12,
   "metadata": {},
   "outputs": [],
   "source": [
    "df_es = pd.read_csv('data_from_es_translation.csv')\n",
    "df_it = pd.read_csv('data_from_it_translation.csv')\n",
    "df_pt = pd.read_csv('data_from_pt_translation.csv')\n",
    "df_fr = pd.read_csv('data_from_fr_translation.csv')"
   ]
  },
  {
   "cell_type": "code",
   "execution_count": 13,
   "metadata": {},
   "outputs": [
    {
     "name": "stdout",
     "output_type": "stream",
     "text": [
      "(1070, 2)\n",
      "(904, 2)\n",
      "(1045, 2)\n",
      "(1047, 2)\n",
      "(1045, 2)\n",
      "new data shape: (5111, 2)\n"
     ]
    }
   ],
   "source": [
    "print(data.shape)\n",
    "print(df_es.shape)\n",
    "print(df_it.shape)\n",
    "print(df_pt.shape)\n",
    "print(df_fr.shape)\n",
    "new_data = data.append([df_es, df_it, df_pt, df_fr], ignore_index=True)\n",
    "print('new data shape:', new_data.shape)\n",
    "new_data = new_data.sample(frac=1, random_state=0).reset_index(drop=True)\n",
    "new_data.to_csv('new_data.csv', encoding='utf-8', index=False)"
   ]
  },
  {
   "cell_type": "code",
   "execution_count": 14,
   "metadata": {},
   "outputs": [
    {
     "data": {
      "text/html": [
       "<div>\n",
       "<style scoped>\n",
       "    .dataframe tbody tr th:only-of-type {\n",
       "        vertical-align: middle;\n",
       "    }\n",
       "\n",
       "    .dataframe tbody tr th {\n",
       "        vertical-align: top;\n",
       "    }\n",
       "\n",
       "    .dataframe thead th {\n",
       "        text-align: right;\n",
       "    }\n",
       "</style>\n",
       "<table border=\"1\" class=\"dataframe\">\n",
       "  <thead>\n",
       "    <tr style=\"text-align: right;\">\n",
       "      <th></th>\n",
       "      <th>data</th>\n",
       "      <th>target</th>\n",
       "    </tr>\n",
       "  </thead>\n",
       "  <tbody>\n",
       "    <tr>\n",
       "      <th>0</th>\n",
       "      <td>b\"The third installment of the popular &amp; quot ...</td>\n",
       "      <td>0</td>\n",
       "    </tr>\n",
       "    <tr>\n",
       "      <th>1</th>\n",
       "      <td>b\"The Abyss ( Special Edition ) is not the set...</td>\n",
       "      <td>0</td>\n",
       "    </tr>\n",
       "    <tr>\n",
       "      <th>2</th>\n",
       "      <td>b'I got this DVD for my BDay, and being a big ...</td>\n",
       "      <td>0</td>\n",
       "    </tr>\n",
       "    <tr>\n",
       "      <th>3</th>\n",
       "      <td>b\"Although the story surrounds the Spanish Jes...</td>\n",
       "      <td>1</td>\n",
       "    </tr>\n",
       "    <tr>\n",
       "      <th>4</th>\n",
       "      <td>b'I was very disappointed when I saw that what...</td>\n",
       "      <td>0</td>\n",
       "    </tr>\n",
       "  </tbody>\n",
       "</table>\n",
       "</div>"
      ],
      "text/plain": [
       "                                                data  target\n",
       "0  b\"The third installment of the popular & quot ...       0\n",
       "1  b\"The Abyss ( Special Edition ) is not the set...       0\n",
       "2  b'I got this DVD for my BDay, and being a big ...       0\n",
       "3  b\"Although the story surrounds the Spanish Jes...       1\n",
       "4  b'I was very disappointed when I saw that what...       0"
      ]
     },
     "execution_count": 14,
     "metadata": {},
     "output_type": "execute_result"
    }
   ],
   "source": [
    "new_data = pd.read_csv('new_data.csv')\n",
    "new_data.head()"
   ]
  },
  {
   "cell_type": "code",
   "execution_count": 15,
   "metadata": {},
   "outputs": [
    {
     "data": {
      "text/html": [
       "<div>\n",
       "<style scoped>\n",
       "    .dataframe tbody tr th:only-of-type {\n",
       "        vertical-align: middle;\n",
       "    }\n",
       "\n",
       "    .dataframe tbody tr th {\n",
       "        vertical-align: top;\n",
       "    }\n",
       "\n",
       "    .dataframe thead th {\n",
       "        text-align: right;\n",
       "    }\n",
       "</style>\n",
       "<table border=\"1\" class=\"dataframe\">\n",
       "  <thead>\n",
       "    <tr style=\"text-align: right;\">\n",
       "      <th></th>\n",
       "      <th>target</th>\n",
       "    </tr>\n",
       "  </thead>\n",
       "  <tbody>\n",
       "    <tr>\n",
       "      <th>count</th>\n",
       "      <td>5111.000000</td>\n",
       "    </tr>\n",
       "    <tr>\n",
       "      <th>mean</th>\n",
       "      <td>0.496380</td>\n",
       "    </tr>\n",
       "    <tr>\n",
       "      <th>std</th>\n",
       "      <td>0.500036</td>\n",
       "    </tr>\n",
       "    <tr>\n",
       "      <th>min</th>\n",
       "      <td>0.000000</td>\n",
       "    </tr>\n",
       "    <tr>\n",
       "      <th>25%</th>\n",
       "      <td>0.000000</td>\n",
       "    </tr>\n",
       "    <tr>\n",
       "      <th>50%</th>\n",
       "      <td>0.000000</td>\n",
       "    </tr>\n",
       "    <tr>\n",
       "      <th>75%</th>\n",
       "      <td>1.000000</td>\n",
       "    </tr>\n",
       "    <tr>\n",
       "      <th>max</th>\n",
       "      <td>1.000000</td>\n",
       "    </tr>\n",
       "  </tbody>\n",
       "</table>\n",
       "</div>"
      ],
      "text/plain": [
       "            target\n",
       "count  5111.000000\n",
       "mean      0.496380\n",
       "std       0.500036\n",
       "min       0.000000\n",
       "25%       0.000000\n",
       "50%       0.000000\n",
       "75%       1.000000\n",
       "max       1.000000"
      ]
     },
     "execution_count": 15,
     "metadata": {},
     "output_type": "execute_result"
    }
   ],
   "source": [
    "new_data.describe()"
   ]
  },
  {
   "cell_type": "markdown",
   "metadata": {},
   "source": [
    "### Dividimos los datos etiquetados en Train y Dev (90% - 10%)"
   ]
  },
  {
   "cell_type": "code",
   "execution_count": 16,
   "metadata": {},
   "outputs": [
    {
     "name": "stdout",
     "output_type": "stream",
     "text": [
      "#train: 4599\n",
      "#dev: 512\n",
      "#test: 500\n"
     ]
    }
   ],
   "source": [
    "from sklearn.model_selection import train_test_split\n",
    "X_train, X_dev, y_train, y_dev = train_test_split(new_data.data, new_data.target, \n",
    "                                                  test_size=0.10, random_state=42)\n",
    "print('#train:', X_train.shape[0])\n",
    "print('#dev:', X_dev.shape[0])\n",
    "print('#test:', len(test))"
   ]
  },
  {
   "cell_type": "markdown",
   "metadata": {},
   "source": [
    "## CountVectorizer +  LinearSVC:"
   ]
  },
  {
   "cell_type": "code",
   "execution_count": 17,
   "metadata": {},
   "outputs": [],
   "source": [
    "# El argumento del vectorizador debe ser una lista\n",
    "X_train, y_train = X_train.tolist(), y_train.tolist()\n",
    "X_dev, y_dev = X_dev.tolist(), y_dev.tolist()"
   ]
  },
  {
   "cell_type": "code",
   "execution_count": 18,
   "metadata": {},
   "outputs": [
    {
     "data": {
      "text/plain": [
       "Pipeline(memory=None,\n",
       "     steps=[('vect', CountVectorizer(analyzer='word', binary=False, decode_error='strict',\n",
       "        dtype=<class 'numpy.int64'>, encoding='utf-8', input='content',\n",
       "        lowercase=True, max_df=1.0, max_features=None, min_df=1,\n",
       "        ngram_range=(1, 1), preprocessor=None, stop_words=None,\n",
       "        strip..., max_iter=1000,\n",
       "     multi_class='ovr', penalty='l2', random_state=0, tol=0.0001,\n",
       "     verbose=0))])"
      ]
     },
     "execution_count": 18,
     "metadata": {},
     "output_type": "execute_result"
    }
   ],
   "source": [
    "from sklearn.feature_extraction.text import CountVectorizer\n",
    "from sklearn.svm import LinearSVC\n",
    "from sklearn.pipeline import Pipeline\n",
    "\n",
    "pipeline = Pipeline([\n",
    "    ('vect', CountVectorizer()),\n",
    "    ('clf', LinearSVC(random_state=0)),\n",
    "])\n",
    "pipeline.fit(X_train, y_train)"
   ]
  },
  {
   "cell_type": "code",
   "execution_count": 19,
   "metadata": {},
   "outputs": [
    {
     "name": "stdout",
     "output_type": "stream",
     "text": [
      "accuracy\t1.00\tmacro f1\t1.00\n"
     ]
    }
   ],
   "source": [
    "from utils import print_short_eval, print_eval\n",
    "print_short_eval(pipeline, X_train, y_train)"
   ]
  },
  {
   "cell_type": "code",
   "execution_count": 20,
   "metadata": {},
   "outputs": [
    {
     "name": "stdout",
     "output_type": "stream",
     "text": [
      "accuracy\t0.99\tmacro f1\t0.99\n"
     ]
    }
   ],
   "source": [
    "print_short_eval(pipeline, X_dev, y_dev)"
   ]
  },
  {
   "cell_type": "markdown",
   "metadata": {},
   "source": [
    "### Experimento: Binarizar Conteos"
   ]
  },
  {
   "cell_type": "code",
   "execution_count": 21,
   "metadata": {},
   "outputs": [
    {
     "data": {
      "text/plain": [
       "Pipeline(memory=None,\n",
       "     steps=[('vect', CountVectorizer(analyzer='word', binary=True, decode_error='strict',\n",
       "        dtype=<class 'numpy.int64'>, encoding='utf-8', input='content',\n",
       "        lowercase=True, max_df=1.0, max_features=None, min_df=1,\n",
       "        ngram_range=(1, 1), preprocessor=None, stop_words=None,\n",
       "        strip_..., max_iter=1000,\n",
       "     multi_class='ovr', penalty='l2', random_state=0, tol=0.0001,\n",
       "     verbose=0))])"
      ]
     },
     "execution_count": 21,
     "metadata": {},
     "output_type": "execute_result"
    }
   ],
   "source": [
    "pipeline = Pipeline([\n",
    "    ('vect', CountVectorizer(binary=True)),\n",
    "    ('clf', LinearSVC(random_state=0)),\n",
    "])\n",
    "\n",
    "pipeline.fit(X_train, y_train)"
   ]
  },
  {
   "cell_type": "code",
   "execution_count": 22,
   "metadata": {},
   "outputs": [
    {
     "name": "stdout",
     "output_type": "stream",
     "text": [
      "accuracy\t1.00\tmacro f1\t1.00\n"
     ]
    }
   ],
   "source": [
    "print_short_eval(pipeline, X_train, y_train)"
   ]
  },
  {
   "cell_type": "code",
   "execution_count": 23,
   "metadata": {},
   "outputs": [
    {
     "name": "stdout",
     "output_type": "stream",
     "text": [
      "accuracy\t1.00\tmacro f1\t1.00\n"
     ]
    }
   ],
   "source": [
    "print_short_eval(pipeline, X_dev, y_dev)"
   ]
  },
  {
   "cell_type": "markdown",
   "metadata": {},
   "source": [
    "#### Conclusión: Binarizar los conteos es una buena elección ya que la accuracy en dev aumenta."
   ]
  },
  {
   "cell_type": "markdown",
   "metadata": {},
   "source": [
    "## Distintos Modelos de Clasificación\n",
    "\n",
    "Probamos distintos modelos de clasificación usando los valores por defecto.\n",
    "\n",
    "Evaluamos en train (bias) y en dev (variance)."
   ]
  },
  {
   "cell_type": "code",
   "execution_count": 22,
   "metadata": {},
   "outputs": [],
   "source": [
    "from sklearn.neighbors import KNeighborsClassifier\n",
    "from sklearn.naive_bayes import MultinomialNB\n",
    "from sklearn.tree import DecisionTreeClassifier\n",
    "from sklearn.linear_model import LogisticRegression\n",
    "from sklearn.svm import LinearSVC, SVC\n",
    "from sklearn.ensemble import RandomForestClassifier\n",
    "\n",
    "clfs = [\n",
    "    KNeighborsClassifier(),\n",
    "    MultinomialNB(),\n",
    "    DecisionTreeClassifier(random_state=0),\n",
    "    LogisticRegression(random_state=0),\n",
    "    LinearSVC(random_state=0),\n",
    "    SVC(random_state=0),\n",
    "    RandomForestClassifier(random_state=0),\n",
    "]"
   ]
  },
  {
   "cell_type": "code",
   "execution_count": 23,
   "metadata": {},
   "outputs": [
    {
     "name": "stdout",
     "output_type": "stream",
     "text": [
      "<class 'sklearn.neighbors.classification.KNeighborsClassifier'>\n",
      "accuracy\t1.00\tmacro f1\t1.00\n",
      "accuracy\t0.98\tmacro f1\t0.98\n",
      "<class 'sklearn.naive_bayes.MultinomialNB'>\n",
      "accuracy\t0.97\tmacro f1\t0.97\n",
      "accuracy\t0.95\tmacro f1\t0.95\n",
      "<class 'sklearn.tree.tree.DecisionTreeClassifier'>\n",
      "accuracy\t1.00\tmacro f1\t1.00\n",
      "accuracy\t0.93\tmacro f1\t0.93\n",
      "<class 'sklearn.linear_model.logistic.LogisticRegression'>\n",
      "accuracy\t1.00\tmacro f1\t1.00\n",
      "accuracy\t0.99\tmacro f1\t0.99\n",
      "<class 'sklearn.svm.classes.LinearSVC'>\n",
      "accuracy\t1.00\tmacro f1\t1.00\n",
      "accuracy\t1.00\tmacro f1\t1.00\n",
      "<class 'sklearn.svm.classes.SVC'>\n",
      "accuracy\t0.56\tmacro f1\t0.46\n",
      "accuracy\t0.55\tmacro f1\t0.43\n",
      "<class 'sklearn.ensemble.forest.RandomForestClassifier'>\n",
      "accuracy\t1.00\tmacro f1\t1.00\n",
      "accuracy\t0.98\tmacro f1\t0.98\n"
     ]
    }
   ],
   "source": [
    "vect = CountVectorizer(binary=True)\n",
    "\n",
    "for clf in clfs:\n",
    "    print(str(clf.__class__))\n",
    "    pipeline = Pipeline([\n",
    "        ('vect', vect),\n",
    "        ('clf', clf),\n",
    "    ])\n",
    "    pipeline.fit(X_train, y_train)\n",
    "    print_short_eval(pipeline, X_train, y_train)\n",
    "    print_short_eval(pipeline, X_dev, y_dev)"
   ]
  },
  {
   "cell_type": "markdown",
   "metadata": {},
   "source": [
    "## Ahora probamos con el Vectorizador TF-IDF"
   ]
  },
  {
   "cell_type": "code",
   "execution_count": 24,
   "metadata": {},
   "outputs": [
    {
     "name": "stdout",
     "output_type": "stream",
     "text": [
      "<class 'sklearn.neighbors.classification.KNeighborsClassifier'>\n",
      "accuracy\t1.00\tmacro f1\t1.00\n",
      "accuracy\t0.99\tmacro f1\t0.99\n",
      "<class 'sklearn.naive_bayes.MultinomialNB'>\n",
      "accuracy\t0.98\tmacro f1\t0.98\n",
      "accuracy\t0.97\tmacro f1\t0.97\n",
      "<class 'sklearn.tree.tree.DecisionTreeClassifier'>\n",
      "accuracy\t1.00\tmacro f1\t1.00\n",
      "accuracy\t0.89\tmacro f1\t0.89\n",
      "<class 'sklearn.linear_model.logistic.LogisticRegression'>\n",
      "accuracy\t1.00\tmacro f1\t1.00\n",
      "accuracy\t0.98\tmacro f1\t0.98\n",
      "<class 'sklearn.svm.classes.LinearSVC'>\n",
      "accuracy\t1.00\tmacro f1\t1.00\n",
      "accuracy\t1.00\tmacro f1\t1.00\n",
      "<class 'sklearn.svm.classes.SVC'>\n"
     ]
    },
    {
     "name": "stderr",
     "output_type": "stream",
     "text": [
      "/anaconda3/lib/python3.6/site-packages/sklearn/metrics/classification.py:1135: UndefinedMetricWarning: F-score is ill-defined and being set to 0.0 in labels with no predicted samples.\n",
      "  'precision', 'predicted', average, warn_for)\n"
     ]
    },
    {
     "name": "stdout",
     "output_type": "stream",
     "text": [
      "accuracy\t0.50\tmacro f1\t0.33\n",
      "accuracy\t0.51\tmacro f1\t0.34\n",
      "<class 'sklearn.ensemble.forest.RandomForestClassifier'>\n",
      "accuracy\t1.00\tmacro f1\t1.00\n",
      "accuracy\t0.97\tmacro f1\t0.97\n"
     ]
    }
   ],
   "source": [
    "from sklearn.feature_extraction.text import TfidfVectorizer\n",
    "\n",
    "vect = TfidfVectorizer(binary=True)\n",
    "for clf in clfs:\n",
    "    print(str(clf.__class__))\n",
    "    pipeline = Pipeline([\n",
    "        ('vect', vect),\n",
    "        ('clf', clf),\n",
    "    ])\n",
    "    pipeline.fit(X_train, y_train)\n",
    "    print_short_eval(pipeline, X_train, y_train)\n",
    "    print_short_eval(pipeline, X_dev, y_dev)"
   ]
  },
  {
   "cell_type": "markdown",
   "metadata": {},
   "source": [
    "### Conclusiones:\n",
    "- Todos los modelos anteriores, excepto SVC y DecisionTreeClassifier, son prometedores.\n",
    "- En general, tienen mejor accuracy si se utiliza CountVectorizer."
   ]
  },
  {
   "cell_type": "markdown",
   "metadata": {},
   "source": [
    "### IDEA: \n",
    "Ajustar hiperparámetros en los modelos más prometedores y luego utilizar VotingClassifier utilizando la mejor versión de cada uno de ellos."
   ]
  },
  {
   "cell_type": "markdown",
   "metadata": {},
   "source": [
    "Primero probemos VotingClassifier sin ajustar hiperparámetros"
   ]
  },
  {
   "cell_type": "code",
   "execution_count": 27,
   "metadata": {},
   "outputs": [
    {
     "name": "stderr",
     "output_type": "stream",
     "text": [
      "/anaconda3/lib/python3.6/site-packages/sklearn/preprocessing/label.py:151: DeprecationWarning: The truth value of an empty array is ambiguous. Returning False, but in future this will result in an error. Use `array.size > 0` to check that an array is not empty.\n",
      "  if diff:\n"
     ]
    },
    {
     "name": "stdout",
     "output_type": "stream",
     "text": [
      "accuracy\t1.00\n",
      "\n",
      "             precision    recall  f1-score   support\n",
      "\n",
      "        neg       1.00      1.00      1.00      2311\n",
      "        pos       1.00      1.00      1.00      2288\n",
      "\n",
      "avg / total       1.00      1.00      1.00      4599\n",
      "\n",
      "[[2311    0]\n",
      " [   0 2288]]\n",
      "accuracy\t1.00\n",
      "\n",
      "             precision    recall  f1-score   support\n",
      "\n",
      "        neg       1.00      1.00      1.00       263\n",
      "        pos       1.00      1.00      1.00       249\n",
      "\n",
      "avg / total       1.00      1.00      1.00       512\n",
      "\n",
      "[[262   1]\n",
      " [  0 249]]\n"
     ]
    },
    {
     "name": "stderr",
     "output_type": "stream",
     "text": [
      "/anaconda3/lib/python3.6/site-packages/sklearn/preprocessing/label.py:151: DeprecationWarning: The truth value of an empty array is ambiguous. Returning False, but in future this will result in an error. Use `array.size > 0` to check that an array is not empty.\n",
      "  if diff:\n"
     ]
    }
   ],
   "source": [
    "from sklearn.ensemble import VotingClassifier\n",
    "\n",
    "vect = CountVectorizer(binary=False)\n",
    "clf1 = Pipeline([\n",
    "    ('vect', vect),\n",
    "    ('clf', KNeighborsClassifier()),\n",
    "])\n",
    "clf2 = Pipeline([\n",
    "    ('vect', vect),\n",
    "    ('clf', MultinomialNB()),\n",
    "])\n",
    "clf3 = Pipeline([\n",
    "    ('vect', vect),\n",
    "    ('clf', LogisticRegression(random_state=0)),\n",
    "])\n",
    "clf4 = Pipeline([\n",
    "    ('vect', vect),\n",
    "    ('clf', LinearSVC(random_state=0)),\n",
    "])\n",
    "clf5 = Pipeline([\n",
    "    ('vect', vect),\n",
    "    ('clf', RandomForestClassifier(random_state=0)),\n",
    "])\n",
    "\n",
    "eclf1 = VotingClassifier(estimators=[('knc', clf1), ('mnb', clf2), ('lr', clf3),\n",
    "                                     ('lsvc', clf4), ('rfc', clf5)], voting='hard')\n",
    "eclf1 = eclf1.fit(X_train, y_train)\n",
    "print_eval(eclf1, X_train, y_train)\n",
    "print_eval(eclf1, X_dev, y_dev)"
   ]
  },
  {
   "cell_type": "markdown",
   "metadata": {},
   "source": [
    "Excelentes resultados! "
   ]
  },
  {
   "cell_type": "code",
   "execution_count": 28,
   "metadata": {},
   "outputs": [],
   "source": [
    "# UNIMOS train y dev:\n",
    "train = X_train + X_dev\n",
    "target = y_train + y_dev"
   ]
  },
  {
   "cell_type": "code",
   "execution_count": 29,
   "metadata": {},
   "outputs": [
    {
     "name": "stdout",
     "output_type": "stream",
     "text": [
      "accuracy\t1.00\n",
      "\n",
      "             precision    recall  f1-score   support\n",
      "\n",
      "        neg       1.00      1.00      1.00      2574\n",
      "        pos       1.00      1.00      1.00      2537\n",
      "\n",
      "avg / total       1.00      1.00      1.00      5111\n",
      "\n",
      "[[2574    0]\n",
      " [   0 2537]]\n"
     ]
    },
    {
     "name": "stderr",
     "output_type": "stream",
     "text": [
      "/anaconda3/lib/python3.6/site-packages/sklearn/preprocessing/label.py:151: DeprecationWarning: The truth value of an empty array is ambiguous. Returning False, but in future this will result in an error. Use `array.size > 0` to check that an array is not empty.\n",
      "  if diff:\n"
     ]
    }
   ],
   "source": [
    "vect = CountVectorizer(binary=True)\n",
    "clf1 = Pipeline([\n",
    "    ('vect', vect),\n",
    "    ('clf', KNeighborsClassifier()),\n",
    "])\n",
    "clf2 = Pipeline([\n",
    "    ('vect', vect),\n",
    "    ('clf', MultinomialNB()),\n",
    "])\n",
    "clf3 = Pipeline([\n",
    "    ('vect', vect),\n",
    "    ('clf', LogisticRegression(random_state=0)),\n",
    "])\n",
    "clf4 = Pipeline([\n",
    "    ('vect', vect),\n",
    "    ('clf', LinearSVC(random_state=0)),\n",
    "])\n",
    "clf5 = Pipeline([\n",
    "    ('vect', vect),\n",
    "    ('clf', RandomForestClassifier(random_state=0)),\n",
    "])\n",
    "\n",
    "eclf1 = VotingClassifier(estimators=[('knc', clf1), ('mnb', clf2), ('lr', clf3),\n",
    "                                     ('lsvc', clf4), ('rfc', clf5)], voting='hard')\n",
    "eclf1 = eclf1.fit(train, target)\n",
    "print_eval(eclf1, train, target)"
   ]
  },
  {
   "cell_type": "code",
   "execution_count": 118,
   "metadata": {},
   "outputs": [
    {
     "name": "stderr",
     "output_type": "stream",
     "text": [
      "/anaconda3/lib/python3.6/site-packages/sklearn/preprocessing/label.py:151: DeprecationWarning: The truth value of an empty array is ambiguous. Returning False, but in future this will result in an error. Use `array.size > 0` to check that an array is not empty.\n",
      "  if diff:\n"
     ]
    }
   ],
   "source": [
    "y_pred = eclf1.predict(test)\n",
    "predictions = y_pred.tolist()\n",
    "from utils import save_results\n",
    "save_results('results_moreData_Voting.csv', predictions)"
   ]
  },
  {
   "cell_type": "markdown",
   "metadata": {},
   "source": [
    "Se obtuvo un accuracy del 88%"
   ]
  },
  {
   "cell_type": "markdown",
   "metadata": {},
   "source": [
    "# Pasos a seguir\n",
    "\n",
    "Con el afán de encontrar un modelo que generalice lo mejor posible (i.e. sea capaz de clasificar bien datos nuevos), vamos a ajustar algunos hiperparámetros de cada modelo por separado."
   ]
  },
  {
   "cell_type": "markdown",
   "metadata": {},
   "source": [
    "### Intentemos mejorar LogisticRegression (acc dev actual = 99%)"
   ]
  },
  {
   "cell_type": "code",
   "execution_count": 31,
   "metadata": {},
   "outputs": [
    {
     "name": "stdout",
     "output_type": "stream",
     "text": [
      "accuracy\t1.00\n",
      "\n",
      "             precision    recall  f1-score   support\n",
      "\n",
      "        neg       1.00      1.00      1.00      2311\n",
      "        pos       1.00      1.00      1.00      2288\n",
      "\n",
      "avg / total       1.00      1.00      1.00      4599\n",
      "\n",
      "[[2311    0]\n",
      " [   0 2288]]\n",
      "accuracy\t0.99\n",
      "\n",
      "             precision    recall  f1-score   support\n",
      "\n",
      "        neg       1.00      0.99      0.99       263\n",
      "        pos       0.99      1.00      0.99       249\n",
      "\n",
      "avg / total       0.99      0.99      0.99       512\n",
      "\n",
      "[[261   2]\n",
      " [  1 248]]\n"
     ]
    }
   ],
   "source": [
    "pipeline = Pipeline([\n",
    "    ('vect', CountVectorizer(binary=True)),\n",
    "    ('clf', LogisticRegression(random_state=0)),\n",
    "])\n",
    "pipeline.fit(X_train, y_train)\n",
    "print_eval(pipeline, X_train, y_train)\n",
    "print_eval(pipeline, X_dev, y_dev)"
   ]
  },
  {
   "cell_type": "markdown",
   "metadata": {},
   "source": [
    "### Grid-Search en Dev"
   ]
  },
  {
   "cell_type": "code",
   "execution_count": 32,
   "metadata": {},
   "outputs": [
    {
     "data": {
      "text/plain": [
       "40"
      ]
     },
     "execution_count": 32,
     "metadata": {},
     "output_type": "execute_result"
    }
   ],
   "source": [
    "from sklearn.model_selection import ParameterGrid\n",
    "\n",
    "param_grid = {\n",
    "    'vect__binary': [True],\n",
    "    'vect__ngram_range': [(1, 1), (1, 2), (1, 3), (1, 4), (1, 5)],\n",
    "#    'vect__min_df': [1, 3, 5, 7],\n",
    "#    'vect__max_df': [0.95, 0.9, 0.7],\n",
    "    'clf__random_state': [0],\n",
    "    # parameter for LogisticRegression (smaller values -> stronger regularization)\n",
    "    'clf__C': [0.001, 0.005, 0.01, 0.05, 0.1, 0.3, 0.5, 1.0]\n",
    "}\n",
    "\n",
    "params_list = list(ParameterGrid(param_grid))\n",
    "len(params_list)"
   ]
  },
  {
   "cell_type": "code",
   "execution_count": 110,
   "metadata": {},
   "outputs": [
    {
     "name": "stdout",
     "output_type": "stream",
     "text": [
      "{'acc': 0.87109375, 'f1': 0.8708553084155011}\n",
      "{'acc': 0.927734375, 'f1': 0.9275616685594545}\n",
      "{'acc': 0.947265625, 'f1': 0.9471395959758182}\n",
      "{'acc': 0.951171875, 'f1': 0.9510357095040454}\n",
      "{'acc': 0.95703125, 'f1': 0.9569023569023569}\n",
      "{'acc': 0.912109375, 'f1': 0.9119881734108021}\n",
      "{'acc': 0.95703125, 'f1': 0.9569366283337413}\n",
      "{'acc': 0.974609375, 'f1': 0.9745665888430779}\n",
      "{'acc': 0.98828125, 'f1': 0.9882697947214076}\n",
      "{'acc': 0.990234375, 'f1': 0.9902259858964031}\n",
      "{'acc': 0.9375, 'f1': 0.9374226567871056}\n",
      "{'acc': 0.978515625, 'f1': 0.9784919134635581}\n",
      "{'acc': 0.9921875, 'f1': 0.9921798631476051}\n",
      "{'acc': 0.9921875, 'f1': 0.9921798631476051}\n",
      "{'acc': 0.994140625, 'f1': 0.9941355915378418}\n",
      "{'acc': 0.97265625, 'f1': 0.9726224123443588}\n",
      "{'acc': 0.998046875, 'f1': 0.9980456150396031}\n",
      "{'acc': 0.998046875, 'f1': 0.9980456150396031}\n",
      "{'acc': 0.998046875, 'f1': 0.9980456150396031}\n",
      "{'acc': 0.998046875, 'f1': 0.9980456150396031}\n",
      "{'acc': 0.978515625, 'f1': 0.9784919134635581}\n",
      "{'acc': 0.998046875, 'f1': 0.9980456150396031}\n",
      "{'acc': 0.998046875, 'f1': 0.9980456150396031}\n",
      "{'acc': 0.998046875, 'f1': 0.9980456150396031}\n",
      "{'acc': 0.998046875, 'f1': 0.9980456150396031}\n",
      "{'acc': 0.98828125, 'f1': 0.9882697947214076}\n",
      "{'acc': 0.998046875, 'f1': 0.9980456150396031}\n",
      "{'acc': 0.998046875, 'f1': 0.9980456150396031}\n",
      "{'acc': 0.998046875, 'f1': 0.9980456150396031}\n",
      "{'acc': 0.998046875, 'f1': 0.9980456150396031}\n",
      "{'acc': 0.9921875, 'f1': 0.9921816543741506}\n",
      "{'acc': 0.998046875, 'f1': 0.9980456150396031}\n",
      "{'acc': 0.998046875, 'f1': 0.9980456150396031}\n",
      "{'acc': 0.998046875, 'f1': 0.9980456150396031}\n",
      "{'acc': 0.998046875, 'f1': 0.9980456150396031}\n",
      "{'acc': 0.994140625, 'f1': 0.9941368451188091}\n",
      "{'acc': 0.998046875, 'f1': 0.9980456150396031}\n",
      "{'acc': 0.998046875, 'f1': 0.9980456150396031}\n",
      "{'acc': 0.998046875, 'f1': 0.9980456150396031}\n",
      "{'acc': 0.998046875, 'f1': 0.9980456150396031}\n"
     ]
    }
   ],
   "source": [
    "from utils import eval\n",
    "\n",
    "pipeline = Pipeline([\n",
    "    ('vect', CountVectorizer()),\n",
    "    ('clf', LogisticRegression()),\n",
    "])\n",
    "results = []\n",
    "for params in params_list:\n",
    "    pipeline.set_params(**params)\n",
    "    pipeline.fit(X_train, y_train)\n",
    "    result = eval(pipeline, X_dev, y_dev)\n",
    "#     print(result)\n",
    "    results.append({\n",
    "        **result,\n",
    "        **params,\n",
    "    })"
   ]
  },
  {
   "cell_type": "code",
   "execution_count": 112,
   "metadata": {},
   "outputs": [
    {
     "data": {
      "text/html": [
       "<div>\n",
       "<style scoped>\n",
       "    .dataframe tbody tr th:only-of-type {\n",
       "        vertical-align: middle;\n",
       "    }\n",
       "\n",
       "    .dataframe tbody tr th {\n",
       "        vertical-align: top;\n",
       "    }\n",
       "\n",
       "    .dataframe thead th {\n",
       "        text-align: right;\n",
       "    }\n",
       "</style>\n",
       "<table border=\"1\" class=\"dataframe\">\n",
       "  <thead>\n",
       "    <tr style=\"text-align: right;\">\n",
       "      <th></th>\n",
       "      <th>acc</th>\n",
       "      <th>clf__C</th>\n",
       "      <th>clf__random_state</th>\n",
       "      <th>f1</th>\n",
       "      <th>vect__binary</th>\n",
       "      <th>vect__ngram_range</th>\n",
       "    </tr>\n",
       "  </thead>\n",
       "  <tbody>\n",
       "    <tr>\n",
       "      <th>16</th>\n",
       "      <td>0.998047</td>\n",
       "      <td>0.05</td>\n",
       "      <td>0</td>\n",
       "      <td>0.998046</td>\n",
       "      <td>True</td>\n",
       "      <td>(1, 2)</td>\n",
       "    </tr>\n",
       "    <tr>\n",
       "      <th>17</th>\n",
       "      <td>0.998047</td>\n",
       "      <td>0.05</td>\n",
       "      <td>0</td>\n",
       "      <td>0.998046</td>\n",
       "      <td>True</td>\n",
       "      <td>(1, 3)</td>\n",
       "    </tr>\n",
       "    <tr>\n",
       "      <th>18</th>\n",
       "      <td>0.998047</td>\n",
       "      <td>0.05</td>\n",
       "      <td>0</td>\n",
       "      <td>0.998046</td>\n",
       "      <td>True</td>\n",
       "      <td>(1, 4)</td>\n",
       "    </tr>\n",
       "    <tr>\n",
       "      <th>19</th>\n",
       "      <td>0.998047</td>\n",
       "      <td>0.05</td>\n",
       "      <td>0</td>\n",
       "      <td>0.998046</td>\n",
       "      <td>True</td>\n",
       "      <td>(1, 5)</td>\n",
       "    </tr>\n",
       "    <tr>\n",
       "      <th>21</th>\n",
       "      <td>0.998047</td>\n",
       "      <td>0.10</td>\n",
       "      <td>0</td>\n",
       "      <td>0.998046</td>\n",
       "      <td>True</td>\n",
       "      <td>(1, 2)</td>\n",
       "    </tr>\n",
       "    <tr>\n",
       "      <th>22</th>\n",
       "      <td>0.998047</td>\n",
       "      <td>0.10</td>\n",
       "      <td>0</td>\n",
       "      <td>0.998046</td>\n",
       "      <td>True</td>\n",
       "      <td>(1, 3)</td>\n",
       "    </tr>\n",
       "    <tr>\n",
       "      <th>23</th>\n",
       "      <td>0.998047</td>\n",
       "      <td>0.10</td>\n",
       "      <td>0</td>\n",
       "      <td>0.998046</td>\n",
       "      <td>True</td>\n",
       "      <td>(1, 4)</td>\n",
       "    </tr>\n",
       "    <tr>\n",
       "      <th>24</th>\n",
       "      <td>0.998047</td>\n",
       "      <td>0.10</td>\n",
       "      <td>0</td>\n",
       "      <td>0.998046</td>\n",
       "      <td>True</td>\n",
       "      <td>(1, 5)</td>\n",
       "    </tr>\n",
       "    <tr>\n",
       "      <th>26</th>\n",
       "      <td>0.998047</td>\n",
       "      <td>0.30</td>\n",
       "      <td>0</td>\n",
       "      <td>0.998046</td>\n",
       "      <td>True</td>\n",
       "      <td>(1, 2)</td>\n",
       "    </tr>\n",
       "    <tr>\n",
       "      <th>27</th>\n",
       "      <td>0.998047</td>\n",
       "      <td>0.30</td>\n",
       "      <td>0</td>\n",
       "      <td>0.998046</td>\n",
       "      <td>True</td>\n",
       "      <td>(1, 3)</td>\n",
       "    </tr>\n",
       "  </tbody>\n",
       "</table>\n",
       "</div>"
      ],
      "text/plain": [
       "         acc  clf__C  clf__random_state        f1  vect__binary  \\\n",
       "16  0.998047    0.05                  0  0.998046          True   \n",
       "17  0.998047    0.05                  0  0.998046          True   \n",
       "18  0.998047    0.05                  0  0.998046          True   \n",
       "19  0.998047    0.05                  0  0.998046          True   \n",
       "21  0.998047    0.10                  0  0.998046          True   \n",
       "22  0.998047    0.10                  0  0.998046          True   \n",
       "23  0.998047    0.10                  0  0.998046          True   \n",
       "24  0.998047    0.10                  0  0.998046          True   \n",
       "26  0.998047    0.30                  0  0.998046          True   \n",
       "27  0.998047    0.30                  0  0.998046          True   \n",
       "\n",
       "   vect__ngram_range  \n",
       "16            (1, 2)  \n",
       "17            (1, 3)  \n",
       "18            (1, 4)  \n",
       "19            (1, 5)  \n",
       "21            (1, 2)  \n",
       "22            (1, 3)  \n",
       "23            (1, 4)  \n",
       "24            (1, 5)  \n",
       "26            (1, 2)  \n",
       "27            (1, 3)  "
      ]
     },
     "execution_count": 112,
     "metadata": {},
     "output_type": "execute_result"
    }
   ],
   "source": [
    "results_df = pd.DataFrame(results)\n",
    "results_df.sort_values(['acc', 'f1'], ascending=False)[:10]"
   ]
  },
  {
   "cell_type": "markdown",
   "metadata": {},
   "source": [
    "Entrenamos nuestro modelo con los mejores hiperparámetros obtenidos y luego evaluamos"
   ]
  },
  {
   "cell_type": "code",
   "execution_count": 33,
   "metadata": {},
   "outputs": [
    {
     "name": "stdout",
     "output_type": "stream",
     "text": [
      "accuracy\t1.00\n",
      "\n",
      "             precision    recall  f1-score   support\n",
      "\n",
      "        neg       1.00      1.00      1.00      2311\n",
      "        pos       1.00      1.00      1.00      2288\n",
      "\n",
      "avg / total       1.00      1.00      1.00      4599\n",
      "\n",
      "[[2311    0]\n",
      " [   1 2287]]\n",
      "accuracy\t1.00\n",
      "\n",
      "             precision    recall  f1-score   support\n",
      "\n",
      "        neg       1.00      1.00      1.00       263\n",
      "        pos       1.00      1.00      1.00       249\n",
      "\n",
      "avg / total       1.00      1.00      1.00       512\n",
      "\n",
      "[[262   1]\n",
      " [  0 249]]\n"
     ]
    }
   ],
   "source": [
    "pipeline = Pipeline([\n",
    "    ('vect', CountVectorizer(binary=True, ngram_range=(1,2))),\n",
    "    ('clf', LogisticRegression(random_state=0, C=0.05)),\n",
    "])\n",
    "pipeline.fit(X_train, y_train)\n",
    "print_eval(pipeline, X_train, y_train)\n",
    "print_eval(pipeline, X_dev, y_dev)"
   ]
  },
  {
   "cell_type": "markdown",
   "metadata": {},
   "source": [
    "### Se obtuvo una mejora de performance! (de 99% a ~100% en dev, se equivoca en un ejemplo)"
   ]
  },
  {
   "cell_type": "markdown",
   "metadata": {},
   "source": [
    "## Intentemos mejorar MultinomialNB (acc dev actual = 95%)"
   ]
  },
  {
   "cell_type": "code",
   "execution_count": 35,
   "metadata": {},
   "outputs": [
    {
     "name": "stdout",
     "output_type": "stream",
     "text": [
      "accuracy\t0.97\tmacro f1\t0.97\n",
      "accuracy\t0.95\tmacro f1\t0.95\n"
     ]
    }
   ],
   "source": [
    "pipeline = Pipeline([\n",
    "    ('vect', CountVectorizer(binary=True)),\n",
    "    ('clf', MultinomialNB()),\n",
    "])\n",
    "pipeline.fit(X_train, y_train)\n",
    "print_short_eval(pipeline, X_train, y_train)\n",
    "print_short_eval(pipeline, X_dev, y_dev)"
   ]
  },
  {
   "cell_type": "markdown",
   "metadata": {},
   "source": [
    "### Grid-Search en Dev"
   ]
  },
  {
   "cell_type": "code",
   "execution_count": 162,
   "metadata": {},
   "outputs": [
    {
     "data": {
      "text/plain": [
       "48"
      ]
     },
     "execution_count": 162,
     "metadata": {},
     "output_type": "execute_result"
    }
   ],
   "source": [
    "param_grid = {\n",
    "    'vect__binary': [True],\n",
    "    'vect__ngram_range': [(1, 1)],\n",
    "    'vect__min_df': [3, 5],\n",
    "    'vect__max_df': [0.95, 0.9, 0.7],\n",
    "    'clf__alpha': [0.1, 0.5, 1.0, 5.0, 8.0, 10.0, 15.0, 20.0]\n",
    "}\n",
    "\n",
    "params_list = list(ParameterGrid(param_grid))\n",
    "len(params_list)"
   ]
  },
  {
   "cell_type": "code",
   "execution_count": 163,
   "metadata": {},
   "outputs": [],
   "source": [
    "pipeline = Pipeline([\n",
    "    ('vect', CountVectorizer()),\n",
    "    ('clf', MultinomialNB()),\n",
    "])\n",
    "# pipeline.get_params().keys()\n",
    "results = []\n",
    "for params in params_list:\n",
    "    pipeline.set_params(**params)\n",
    "    pipeline.fit(X_train, y_train)\n",
    "    result = eval(pipeline, X_dev, y_dev)\n",
    "#    print(result)\n",
    "    results.append({\n",
    "        **result,\n",
    "        **params,\n",
    "    })"
   ]
  },
  {
   "cell_type": "code",
   "execution_count": 164,
   "metadata": {},
   "outputs": [
    {
     "data": {
      "text/html": [
       "<div>\n",
       "<style scoped>\n",
       "    .dataframe tbody tr th:only-of-type {\n",
       "        vertical-align: middle;\n",
       "    }\n",
       "\n",
       "    .dataframe tbody tr th {\n",
       "        vertical-align: top;\n",
       "    }\n",
       "\n",
       "    .dataframe thead th {\n",
       "        text-align: right;\n",
       "    }\n",
       "</style>\n",
       "<table border=\"1\" class=\"dataframe\">\n",
       "  <thead>\n",
       "    <tr style=\"text-align: right;\">\n",
       "      <th></th>\n",
       "      <th>acc</th>\n",
       "      <th>clf__alpha</th>\n",
       "      <th>f1</th>\n",
       "      <th>vect__binary</th>\n",
       "      <th>vect__max_df</th>\n",
       "      <th>vect__min_df</th>\n",
       "      <th>vect__ngram_range</th>\n",
       "    </tr>\n",
       "  </thead>\n",
       "  <tbody>\n",
       "    <tr>\n",
       "      <th>4</th>\n",
       "      <td>0.970703</td>\n",
       "      <td>0.1</td>\n",
       "      <td>0.970621</td>\n",
       "      <td>True</td>\n",
       "      <td>0.70</td>\n",
       "      <td>3</td>\n",
       "      <td>(1, 1)</td>\n",
       "    </tr>\n",
       "    <tr>\n",
       "      <th>0</th>\n",
       "      <td>0.968750</td>\n",
       "      <td>0.1</td>\n",
       "      <td>0.968656</td>\n",
       "      <td>True</td>\n",
       "      <td>0.95</td>\n",
       "      <td>3</td>\n",
       "      <td>(1, 1)</td>\n",
       "    </tr>\n",
       "    <tr>\n",
       "      <th>2</th>\n",
       "      <td>0.968750</td>\n",
       "      <td>0.1</td>\n",
       "      <td>0.968656</td>\n",
       "      <td>True</td>\n",
       "      <td>0.90</td>\n",
       "      <td>3</td>\n",
       "      <td>(1, 1)</td>\n",
       "    </tr>\n",
       "    <tr>\n",
       "      <th>10</th>\n",
       "      <td>0.966797</td>\n",
       "      <td>0.5</td>\n",
       "      <td>0.966690</td>\n",
       "      <td>True</td>\n",
       "      <td>0.70</td>\n",
       "      <td>3</td>\n",
       "      <td>(1, 1)</td>\n",
       "    </tr>\n",
       "    <tr>\n",
       "      <th>5</th>\n",
       "      <td>0.960938</td>\n",
       "      <td>0.1</td>\n",
       "      <td>0.960820</td>\n",
       "      <td>True</td>\n",
       "      <td>0.70</td>\n",
       "      <td>5</td>\n",
       "      <td>(1, 1)</td>\n",
       "    </tr>\n",
       "    <tr>\n",
       "      <th>16</th>\n",
       "      <td>0.960938</td>\n",
       "      <td>1.0</td>\n",
       "      <td>0.960784</td>\n",
       "      <td>True</td>\n",
       "      <td>0.70</td>\n",
       "      <td>3</td>\n",
       "      <td>(1, 1)</td>\n",
       "    </tr>\n",
       "    <tr>\n",
       "      <th>1</th>\n",
       "      <td>0.958984</td>\n",
       "      <td>0.1</td>\n",
       "      <td>0.958833</td>\n",
       "      <td>True</td>\n",
       "      <td>0.95</td>\n",
       "      <td>5</td>\n",
       "      <td>(1, 1)</td>\n",
       "    </tr>\n",
       "    <tr>\n",
       "      <th>3</th>\n",
       "      <td>0.958984</td>\n",
       "      <td>0.1</td>\n",
       "      <td>0.958833</td>\n",
       "      <td>True</td>\n",
       "      <td>0.90</td>\n",
       "      <td>5</td>\n",
       "      <td>(1, 1)</td>\n",
       "    </tr>\n",
       "    <tr>\n",
       "      <th>6</th>\n",
       "      <td>0.958984</td>\n",
       "      <td>0.5</td>\n",
       "      <td>0.958813</td>\n",
       "      <td>True</td>\n",
       "      <td>0.95</td>\n",
       "      <td>3</td>\n",
       "      <td>(1, 1)</td>\n",
       "    </tr>\n",
       "    <tr>\n",
       "      <th>8</th>\n",
       "      <td>0.958984</td>\n",
       "      <td>0.5</td>\n",
       "      <td>0.958813</td>\n",
       "      <td>True</td>\n",
       "      <td>0.90</td>\n",
       "      <td>3</td>\n",
       "      <td>(1, 1)</td>\n",
       "    </tr>\n",
       "  </tbody>\n",
       "</table>\n",
       "</div>"
      ],
      "text/plain": [
       "         acc  clf__alpha        f1  vect__binary  vect__max_df  vect__min_df  \\\n",
       "4   0.970703         0.1  0.970621          True          0.70             3   \n",
       "0   0.968750         0.1  0.968656          True          0.95             3   \n",
       "2   0.968750         0.1  0.968656          True          0.90             3   \n",
       "10  0.966797         0.5  0.966690          True          0.70             3   \n",
       "5   0.960938         0.1  0.960820          True          0.70             5   \n",
       "16  0.960938         1.0  0.960784          True          0.70             3   \n",
       "1   0.958984         0.1  0.958833          True          0.95             5   \n",
       "3   0.958984         0.1  0.958833          True          0.90             5   \n",
       "6   0.958984         0.5  0.958813          True          0.95             3   \n",
       "8   0.958984         0.5  0.958813          True          0.90             3   \n",
       "\n",
       "   vect__ngram_range  \n",
       "4             (1, 1)  \n",
       "0             (1, 1)  \n",
       "2             (1, 1)  \n",
       "10            (1, 1)  \n",
       "5             (1, 1)  \n",
       "16            (1, 1)  \n",
       "1             (1, 1)  \n",
       "3             (1, 1)  \n",
       "6             (1, 1)  \n",
       "8             (1, 1)  "
      ]
     },
     "execution_count": 164,
     "metadata": {},
     "output_type": "execute_result"
    }
   ],
   "source": [
    "results_df = pd.DataFrame(results)\n",
    "results_df.sort_values(['acc', 'f1'], ascending=False)[:10]"
   ]
  },
  {
   "cell_type": "markdown",
   "metadata": {},
   "source": [
    "Entrenamos nuestro modelo con los mejores hiperparámetros obtenidos y luego evaluamos"
   ]
  },
  {
   "cell_type": "code",
   "execution_count": 36,
   "metadata": {},
   "outputs": [
    {
     "name": "stdout",
     "output_type": "stream",
     "text": [
      "accuracy\t0.98\n",
      "\n",
      "             precision    recall  f1-score   support\n",
      "\n",
      "        neg       0.97      1.00      0.98      2311\n",
      "        pos       1.00      0.97      0.98      2288\n",
      "\n",
      "avg / total       0.98      0.98      0.98      4599\n",
      "\n",
      "[[2311    0]\n",
      " [  76 2212]]\n",
      "accuracy\t0.97\n",
      "\n",
      "             precision    recall  f1-score   support\n",
      "\n",
      "        neg       0.95      1.00      0.97       263\n",
      "        pos       1.00      0.94      0.97       249\n",
      "\n",
      "avg / total       0.97      0.97      0.97       512\n",
      "\n",
      "[[262   1]\n",
      " [ 14 235]]\n"
     ]
    }
   ],
   "source": [
    "pipeline = Pipeline([\n",
    "    ('vect', CountVectorizer(binary=True, max_df=0.70, min_df=3, ngram_range=(1,1))),\n",
    "    ('clf', MultinomialNB(alpha=0.1)),\n",
    "])\n",
    "pipeline.fit(X_train, y_train)\n",
    "print_eval(pipeline, X_train, y_train)\n",
    "print_eval(pipeline, X_dev, y_dev)"
   ]
  },
  {
   "cell_type": "markdown",
   "metadata": {},
   "source": [
    "### Se obtuvo una mejora de performance! (de 95% a 97% en dev)"
   ]
  },
  {
   "cell_type": "markdown",
   "metadata": {},
   "source": [
    "## Intentemos mejorar KNeighborsClassifier (acc dev actual = 98%)"
   ]
  },
  {
   "cell_type": "code",
   "execution_count": 37,
   "metadata": {},
   "outputs": [
    {
     "name": "stdout",
     "output_type": "stream",
     "text": [
      "accuracy\t1.00\tmacro f1\t1.00\n",
      "accuracy\t0.98\tmacro f1\t0.98\n"
     ]
    }
   ],
   "source": [
    "pipeline = Pipeline([\n",
    "    ('vect', CountVectorizer(binary=True)),\n",
    "    ('clf', KNeighborsClassifier()),\n",
    "])\n",
    "pipeline.fit(X_train, y_train)\n",
    "print_short_eval(pipeline, X_train, y_train)\n",
    "print_short_eval(pipeline, X_dev, y_dev)"
   ]
  },
  {
   "cell_type": "markdown",
   "metadata": {},
   "source": [
    "### Grid-Search in Dev"
   ]
  },
  {
   "cell_type": "code",
   "execution_count": 38,
   "metadata": {},
   "outputs": [
    {
     "data": {
      "text/plain": [
       "81"
      ]
     },
     "execution_count": 38,
     "metadata": {},
     "output_type": "execute_result"
    }
   ],
   "source": [
    "from sklearn.model_selection import ParameterGrid\n",
    "\n",
    "param_grid = {\n",
    "    'vect__binary': [True],\n",
    "    'vect__ngram_range': [(1, 1)],\n",
    "    'vect__min_df': [1, 3, 5],\n",
    "    'vect__max_df': [0.95, 0.9, 0.7],\n",
    "    'clf__n_neighbors': [1, 2, 5, 8, 10, 20, 30, 50, 100]\n",
    "}\n",
    "\n",
    "params_list = list(ParameterGrid(param_grid))\n",
    "len(params_list)"
   ]
  },
  {
   "cell_type": "code",
   "execution_count": 169,
   "metadata": {},
   "outputs": [],
   "source": [
    "pipeline = Pipeline([\n",
    "    ('vect', CountVectorizer()),\n",
    "    ('clf', KNeighborsClassifier()),\n",
    "])\n",
    "# pipeline.get_params().keys()\n",
    "results = []\n",
    "for params in params_list:\n",
    "    pipeline.set_params(**params)\n",
    "    pipeline.fit(X_train, y_train)\n",
    "    result = eval(pipeline, X_dev, y_dev)\n",
    "# print(result)\n",
    "    results.append({\n",
    "        **result,\n",
    "        **params,\n",
    "    })"
   ]
  },
  {
   "cell_type": "code",
   "execution_count": 172,
   "metadata": {},
   "outputs": [
    {
     "data": {
      "text/html": [
       "<div>\n",
       "<style scoped>\n",
       "    .dataframe tbody tr th:only-of-type {\n",
       "        vertical-align: middle;\n",
       "    }\n",
       "\n",
       "    .dataframe tbody tr th {\n",
       "        vertical-align: top;\n",
       "    }\n",
       "\n",
       "    .dataframe thead th {\n",
       "        text-align: right;\n",
       "    }\n",
       "</style>\n",
       "<table border=\"1\" class=\"dataframe\">\n",
       "  <thead>\n",
       "    <tr style=\"text-align: right;\">\n",
       "      <th></th>\n",
       "      <th>acc</th>\n",
       "      <th>clf__n_neighbors</th>\n",
       "      <th>f1</th>\n",
       "      <th>vect__binary</th>\n",
       "      <th>vect__max_df</th>\n",
       "      <th>vect__min_df</th>\n",
       "      <th>vect__ngram_range</th>\n",
       "    </tr>\n",
       "  </thead>\n",
       "  <tbody>\n",
       "    <tr>\n",
       "      <th>6</th>\n",
       "      <td>1.000000</td>\n",
       "      <td>1</td>\n",
       "      <td>1.000000</td>\n",
       "      <td>True</td>\n",
       "      <td>0.70</td>\n",
       "      <td>1</td>\n",
       "      <td>(1, 1)</td>\n",
       "    </tr>\n",
       "    <tr>\n",
       "      <th>7</th>\n",
       "      <td>1.000000</td>\n",
       "      <td>1</td>\n",
       "      <td>1.000000</td>\n",
       "      <td>True</td>\n",
       "      <td>0.70</td>\n",
       "      <td>3</td>\n",
       "      <td>(1, 1)</td>\n",
       "    </tr>\n",
       "    <tr>\n",
       "      <th>0</th>\n",
       "      <td>0.998047</td>\n",
       "      <td>1</td>\n",
       "      <td>0.998045</td>\n",
       "      <td>True</td>\n",
       "      <td>0.95</td>\n",
       "      <td>1</td>\n",
       "      <td>(1, 1)</td>\n",
       "    </tr>\n",
       "    <tr>\n",
       "      <th>1</th>\n",
       "      <td>0.998047</td>\n",
       "      <td>1</td>\n",
       "      <td>0.998045</td>\n",
       "      <td>True</td>\n",
       "      <td>0.95</td>\n",
       "      <td>3</td>\n",
       "      <td>(1, 1)</td>\n",
       "    </tr>\n",
       "    <tr>\n",
       "      <th>2</th>\n",
       "      <td>0.998047</td>\n",
       "      <td>1</td>\n",
       "      <td>0.998045</td>\n",
       "      <td>True</td>\n",
       "      <td>0.95</td>\n",
       "      <td>5</td>\n",
       "      <td>(1, 1)</td>\n",
       "    </tr>\n",
       "    <tr>\n",
       "      <th>3</th>\n",
       "      <td>0.998047</td>\n",
       "      <td>1</td>\n",
       "      <td>0.998045</td>\n",
       "      <td>True</td>\n",
       "      <td>0.90</td>\n",
       "      <td>1</td>\n",
       "      <td>(1, 1)</td>\n",
       "    </tr>\n",
       "    <tr>\n",
       "      <th>4</th>\n",
       "      <td>0.998047</td>\n",
       "      <td>1</td>\n",
       "      <td>0.998045</td>\n",
       "      <td>True</td>\n",
       "      <td>0.90</td>\n",
       "      <td>3</td>\n",
       "      <td>(1, 1)</td>\n",
       "    </tr>\n",
       "    <tr>\n",
       "      <th>5</th>\n",
       "      <td>0.998047</td>\n",
       "      <td>1</td>\n",
       "      <td>0.998045</td>\n",
       "      <td>True</td>\n",
       "      <td>0.90</td>\n",
       "      <td>5</td>\n",
       "      <td>(1, 1)</td>\n",
       "    </tr>\n",
       "    <tr>\n",
       "      <th>8</th>\n",
       "      <td>0.998047</td>\n",
       "      <td>1</td>\n",
       "      <td>0.998045</td>\n",
       "      <td>True</td>\n",
       "      <td>0.70</td>\n",
       "      <td>5</td>\n",
       "      <td>(1, 1)</td>\n",
       "    </tr>\n",
       "    <tr>\n",
       "      <th>15</th>\n",
       "      <td>0.996094</td>\n",
       "      <td>2</td>\n",
       "      <td>0.996090</td>\n",
       "      <td>True</td>\n",
       "      <td>0.70</td>\n",
       "      <td>1</td>\n",
       "      <td>(1, 1)</td>\n",
       "    </tr>\n",
       "  </tbody>\n",
       "</table>\n",
       "</div>"
      ],
      "text/plain": [
       "         acc  clf__n_neighbors        f1  vect__binary  vect__max_df  \\\n",
       "6   1.000000                 1  1.000000          True          0.70   \n",
       "7   1.000000                 1  1.000000          True          0.70   \n",
       "0   0.998047                 1  0.998045          True          0.95   \n",
       "1   0.998047                 1  0.998045          True          0.95   \n",
       "2   0.998047                 1  0.998045          True          0.95   \n",
       "3   0.998047                 1  0.998045          True          0.90   \n",
       "4   0.998047                 1  0.998045          True          0.90   \n",
       "5   0.998047                 1  0.998045          True          0.90   \n",
       "8   0.998047                 1  0.998045          True          0.70   \n",
       "15  0.996094                 2  0.996090          True          0.70   \n",
       "\n",
       "    vect__min_df vect__ngram_range  \n",
       "6              1            (1, 1)  \n",
       "7              3            (1, 1)  \n",
       "0              1            (1, 1)  \n",
       "1              3            (1, 1)  \n",
       "2              5            (1, 1)  \n",
       "3              1            (1, 1)  \n",
       "4              3            (1, 1)  \n",
       "5              5            (1, 1)  \n",
       "8              5            (1, 1)  \n",
       "15             1            (1, 1)  "
      ]
     },
     "execution_count": 172,
     "metadata": {},
     "output_type": "execute_result"
    }
   ],
   "source": [
    "results_df = pd.DataFrame(results)\n",
    "results_df.sort_values(['acc', 'f1'], ascending=False)[:10]"
   ]
  },
  {
   "cell_type": "markdown",
   "metadata": {},
   "source": [
    "Entrenamos nuestro modelo con los mejores hiperparámetros obtenidos y luego evaluamos"
   ]
  },
  {
   "cell_type": "code",
   "execution_count": 40,
   "metadata": {},
   "outputs": [
    {
     "name": "stdout",
     "output_type": "stream",
     "text": [
      "accuracy\t1.00\n",
      "\n",
      "             precision    recall  f1-score   support\n",
      "\n",
      "        neg       1.00      1.00      1.00      2311\n",
      "        pos       1.00      1.00      1.00      2288\n",
      "\n",
      "avg / total       1.00      1.00      1.00      4599\n",
      "\n",
      "[[2311    0]\n",
      " [   0 2288]]\n",
      "accuracy\t1.00\n",
      "\n",
      "             precision    recall  f1-score   support\n",
      "\n",
      "        neg       1.00      1.00      1.00       263\n",
      "        pos       1.00      1.00      1.00       249\n",
      "\n",
      "avg / total       1.00      1.00      1.00       512\n",
      "\n",
      "[[263   0]\n",
      " [  0 249]]\n"
     ]
    }
   ],
   "source": [
    "pipeline = Pipeline([\n",
    "    ('vect', CountVectorizer(binary=True, max_df=0.70, min_df=1, ngram_range=(1,1))),\n",
    "    ('clf', KNeighborsClassifier(n_neighbors=1))\n",
    "])\n",
    "pipeline.fit(X_train, y_train)\n",
    "print_eval(pipeline, X_train, y_train)\n",
    "print_eval(pipeline, X_dev, y_dev)"
   ]
  },
  {
   "cell_type": "markdown",
   "metadata": {},
   "source": [
    "### Se obtuvo una mejora de performance! (de 98% a 100% en dev)"
   ]
  },
  {
   "cell_type": "markdown",
   "metadata": {},
   "source": [
    "## Intentemos mejorar LinearSVC"
   ]
  },
  {
   "cell_type": "code",
   "execution_count": 174,
   "metadata": {},
   "outputs": [
    {
     "name": "stdout",
     "output_type": "stream",
     "text": [
      "accuracy\t1.00\n",
      "\n",
      "             precision    recall  f1-score   support\n",
      "\n",
      "        neg       1.00      1.00      1.00      2311\n",
      "        pos       1.00      1.00      1.00      2288\n",
      "\n",
      "avg / total       1.00      1.00      1.00      4599\n",
      "\n",
      "[[2311    0]\n",
      " [   0 2288]]\n",
      "accuracy\t1.00\n",
      "\n",
      "             precision    recall  f1-score   support\n",
      "\n",
      "        neg       1.00      1.00      1.00       263\n",
      "        pos       1.00      1.00      1.00       249\n",
      "\n",
      "avg / total       1.00      1.00      1.00       512\n",
      "\n",
      "[[262   1]\n",
      " [  1 248]]\n"
     ]
    }
   ],
   "source": [
    "pipeline = Pipeline([\n",
    "    ('vect', CountVectorizer(binary=True)),\n",
    "    ('clf', LinearSVC(random_state=0)),\n",
    "])\n",
    "pipeline.fit(X_train, y_train)\n",
    "print_eval(pipeline, X_train, y_train)\n",
    "print_eval(pipeline, X_dev, y_dev)"
   ]
  },
  {
   "cell_type": "markdown",
   "metadata": {},
   "source": [
    "### Grid-Search in Dev"
   ]
  },
  {
   "cell_type": "code",
   "execution_count": 175,
   "metadata": {},
   "outputs": [
    {
     "data": {
      "text/plain": [
       "30"
      ]
     },
     "execution_count": 175,
     "metadata": {},
     "output_type": "execute_result"
    }
   ],
   "source": [
    "param_grid = {\n",
    "    'vect__binary': [True],\n",
    "    'vect__ngram_range': [(1,3), (1,4), (1,5)],\n",
    "    'vect__min_df': [5],\n",
    "    'vect__max_df': [0.95],\n",
    "    'clf__random_state': [0],\n",
    "    'clf__C': [0.001, 0.01, 0.05, 0.1, 0.3, 0.5, 1.0, 2.0, 5.0, 10.0]\n",
    "}\n",
    "\n",
    "params_list = list(ParameterGrid(param_grid))\n",
    "len(params_list)"
   ]
  },
  {
   "cell_type": "code",
   "execution_count": 176,
   "metadata": {},
   "outputs": [
    {
     "name": "stdout",
     "output_type": "stream",
     "text": [
      "{'acc': 0.978515625, 'f1': 0.9784919134635581}\n",
      "{'acc': 0.98046875, 'f1': 0.9804496578690127}\n",
      "{'acc': 0.98046875, 'f1': 0.9804496578690127}\n",
      "{'acc': 0.998046875, 'f1': 0.9980456150396031}\n",
      "{'acc': 0.998046875, 'f1': 0.9980456150396031}\n",
      "{'acc': 0.998046875, 'f1': 0.9980456150396031}\n",
      "{'acc': 0.998046875, 'f1': 0.9980456150396031}\n",
      "{'acc': 0.998046875, 'f1': 0.9980456150396031}\n",
      "{'acc': 0.998046875, 'f1': 0.9980456150396031}\n",
      "{'acc': 0.998046875, 'f1': 0.9980456150396031}\n",
      "{'acc': 0.998046875, 'f1': 0.9980456150396031}\n",
      "{'acc': 0.998046875, 'f1': 0.9980456150396031}\n",
      "{'acc': 0.998046875, 'f1': 0.9980456150396031}\n",
      "{'acc': 0.998046875, 'f1': 0.9980456150396031}\n",
      "{'acc': 0.998046875, 'f1': 0.9980456150396031}\n",
      "{'acc': 0.998046875, 'f1': 0.9980456150396031}\n",
      "{'acc': 0.998046875, 'f1': 0.9980456150396031}\n",
      "{'acc': 0.998046875, 'f1': 0.9980456150396031}\n",
      "{'acc': 0.998046875, 'f1': 0.9980456150396031}\n",
      "{'acc': 0.998046875, 'f1': 0.9980456150396031}\n",
      "{'acc': 0.998046875, 'f1': 0.9980456150396031}\n",
      "{'acc': 0.998046875, 'f1': 0.9980456150396031}\n",
      "{'acc': 0.998046875, 'f1': 0.9980456150396031}\n",
      "{'acc': 0.998046875, 'f1': 0.9980456150396031}\n",
      "{'acc': 0.998046875, 'f1': 0.9980456150396031}\n",
      "{'acc': 0.998046875, 'f1': 0.9980456150396031}\n",
      "{'acc': 0.998046875, 'f1': 0.9980456150396031}\n",
      "{'acc': 0.998046875, 'f1': 0.9980456150396031}\n",
      "{'acc': 0.998046875, 'f1': 0.9980456150396031}\n",
      "{'acc': 0.998046875, 'f1': 0.9980456150396031}\n"
     ]
    }
   ],
   "source": [
    "pipeline = Pipeline([\n",
    "    ('vect', CountVectorizer()),\n",
    "    ('clf', LinearSVC()),\n",
    "])\n",
    "# pipeline.get_params().keys()\n",
    "results = []\n",
    "for params in params_list:\n",
    "    pipeline.set_params(**params)\n",
    "    pipeline.fit(X_train, y_train)\n",
    "    result = eval(pipeline, X_dev, y_dev)\n",
    "#     print(result)\n",
    "    results.append({\n",
    "        **result,\n",
    "        **params,\n",
    "    })"
   ]
  },
  {
   "cell_type": "code",
   "execution_count": 177,
   "metadata": {},
   "outputs": [
    {
     "data": {
      "text/html": [
       "<div>\n",
       "<style scoped>\n",
       "    .dataframe tbody tr th:only-of-type {\n",
       "        vertical-align: middle;\n",
       "    }\n",
       "\n",
       "    .dataframe tbody tr th {\n",
       "        vertical-align: top;\n",
       "    }\n",
       "\n",
       "    .dataframe thead th {\n",
       "        text-align: right;\n",
       "    }\n",
       "</style>\n",
       "<table border=\"1\" class=\"dataframe\">\n",
       "  <thead>\n",
       "    <tr style=\"text-align: right;\">\n",
       "      <th></th>\n",
       "      <th>acc</th>\n",
       "      <th>clf__C</th>\n",
       "      <th>clf__random_state</th>\n",
       "      <th>f1</th>\n",
       "      <th>vect__binary</th>\n",
       "      <th>vect__max_df</th>\n",
       "      <th>vect__min_df</th>\n",
       "      <th>vect__ngram_range</th>\n",
       "    </tr>\n",
       "  </thead>\n",
       "  <tbody>\n",
       "    <tr>\n",
       "      <th>3</th>\n",
       "      <td>0.998047</td>\n",
       "      <td>0.01</td>\n",
       "      <td>0</td>\n",
       "      <td>0.998046</td>\n",
       "      <td>True</td>\n",
       "      <td>0.95</td>\n",
       "      <td>5</td>\n",
       "      <td>(1, 3)</td>\n",
       "    </tr>\n",
       "    <tr>\n",
       "      <th>4</th>\n",
       "      <td>0.998047</td>\n",
       "      <td>0.01</td>\n",
       "      <td>0</td>\n",
       "      <td>0.998046</td>\n",
       "      <td>True</td>\n",
       "      <td>0.95</td>\n",
       "      <td>5</td>\n",
       "      <td>(1, 4)</td>\n",
       "    </tr>\n",
       "    <tr>\n",
       "      <th>5</th>\n",
       "      <td>0.998047</td>\n",
       "      <td>0.01</td>\n",
       "      <td>0</td>\n",
       "      <td>0.998046</td>\n",
       "      <td>True</td>\n",
       "      <td>0.95</td>\n",
       "      <td>5</td>\n",
       "      <td>(1, 5)</td>\n",
       "    </tr>\n",
       "    <tr>\n",
       "      <th>6</th>\n",
       "      <td>0.998047</td>\n",
       "      <td>0.05</td>\n",
       "      <td>0</td>\n",
       "      <td>0.998046</td>\n",
       "      <td>True</td>\n",
       "      <td>0.95</td>\n",
       "      <td>5</td>\n",
       "      <td>(1, 3)</td>\n",
       "    </tr>\n",
       "    <tr>\n",
       "      <th>7</th>\n",
       "      <td>0.998047</td>\n",
       "      <td>0.05</td>\n",
       "      <td>0</td>\n",
       "      <td>0.998046</td>\n",
       "      <td>True</td>\n",
       "      <td>0.95</td>\n",
       "      <td>5</td>\n",
       "      <td>(1, 4)</td>\n",
       "    </tr>\n",
       "    <tr>\n",
       "      <th>8</th>\n",
       "      <td>0.998047</td>\n",
       "      <td>0.05</td>\n",
       "      <td>0</td>\n",
       "      <td>0.998046</td>\n",
       "      <td>True</td>\n",
       "      <td>0.95</td>\n",
       "      <td>5</td>\n",
       "      <td>(1, 5)</td>\n",
       "    </tr>\n",
       "    <tr>\n",
       "      <th>9</th>\n",
       "      <td>0.998047</td>\n",
       "      <td>0.10</td>\n",
       "      <td>0</td>\n",
       "      <td>0.998046</td>\n",
       "      <td>True</td>\n",
       "      <td>0.95</td>\n",
       "      <td>5</td>\n",
       "      <td>(1, 3)</td>\n",
       "    </tr>\n",
       "    <tr>\n",
       "      <th>10</th>\n",
       "      <td>0.998047</td>\n",
       "      <td>0.10</td>\n",
       "      <td>0</td>\n",
       "      <td>0.998046</td>\n",
       "      <td>True</td>\n",
       "      <td>0.95</td>\n",
       "      <td>5</td>\n",
       "      <td>(1, 4)</td>\n",
       "    </tr>\n",
       "    <tr>\n",
       "      <th>11</th>\n",
       "      <td>0.998047</td>\n",
       "      <td>0.10</td>\n",
       "      <td>0</td>\n",
       "      <td>0.998046</td>\n",
       "      <td>True</td>\n",
       "      <td>0.95</td>\n",
       "      <td>5</td>\n",
       "      <td>(1, 5)</td>\n",
       "    </tr>\n",
       "    <tr>\n",
       "      <th>12</th>\n",
       "      <td>0.998047</td>\n",
       "      <td>0.30</td>\n",
       "      <td>0</td>\n",
       "      <td>0.998046</td>\n",
       "      <td>True</td>\n",
       "      <td>0.95</td>\n",
       "      <td>5</td>\n",
       "      <td>(1, 3)</td>\n",
       "    </tr>\n",
       "  </tbody>\n",
       "</table>\n",
       "</div>"
      ],
      "text/plain": [
       "         acc  clf__C  clf__random_state        f1  vect__binary  vect__max_df  \\\n",
       "3   0.998047    0.01                  0  0.998046          True          0.95   \n",
       "4   0.998047    0.01                  0  0.998046          True          0.95   \n",
       "5   0.998047    0.01                  0  0.998046          True          0.95   \n",
       "6   0.998047    0.05                  0  0.998046          True          0.95   \n",
       "7   0.998047    0.05                  0  0.998046          True          0.95   \n",
       "8   0.998047    0.05                  0  0.998046          True          0.95   \n",
       "9   0.998047    0.10                  0  0.998046          True          0.95   \n",
       "10  0.998047    0.10                  0  0.998046          True          0.95   \n",
       "11  0.998047    0.10                  0  0.998046          True          0.95   \n",
       "12  0.998047    0.30                  0  0.998046          True          0.95   \n",
       "\n",
       "    vect__min_df vect__ngram_range  \n",
       "3              5            (1, 3)  \n",
       "4              5            (1, 4)  \n",
       "5              5            (1, 5)  \n",
       "6              5            (1, 3)  \n",
       "7              5            (1, 4)  \n",
       "8              5            (1, 5)  \n",
       "9              5            (1, 3)  \n",
       "10             5            (1, 4)  \n",
       "11             5            (1, 5)  \n",
       "12             5            (1, 3)  "
      ]
     },
     "execution_count": 177,
     "metadata": {},
     "output_type": "execute_result"
    }
   ],
   "source": [
    "results_df = pd.DataFrame(results)\n",
    "results_df.sort_values(['acc', 'f1'], ascending=False)[:10]"
   ]
  },
  {
   "cell_type": "markdown",
   "metadata": {},
   "source": [
    "Entrenamos nuestro modelo con los mejores hiperparámetros obtenidos y luego evaluamos"
   ]
  },
  {
   "cell_type": "code",
   "execution_count": 41,
   "metadata": {},
   "outputs": [
    {
     "name": "stdout",
     "output_type": "stream",
     "text": [
      "accuracy\t1.00\n",
      "\n",
      "             precision    recall  f1-score   support\n",
      "\n",
      "        neg       1.00      1.00      1.00      2311\n",
      "        pos       1.00      1.00      1.00      2288\n",
      "\n",
      "avg / total       1.00      1.00      1.00      4599\n",
      "\n",
      "[[2311    0]\n",
      " [   0 2288]]\n",
      "accuracy\t1.00\n",
      "\n",
      "             precision    recall  f1-score   support\n",
      "\n",
      "        neg       1.00      1.00      1.00       263\n",
      "        pos       1.00      1.00      1.00       249\n",
      "\n",
      "avg / total       1.00      1.00      1.00       512\n",
      "\n",
      "[[262   1]\n",
      " [  0 249]]\n"
     ]
    }
   ],
   "source": [
    "pipeline = Pipeline([\n",
    "    ('vect', CountVectorizer(binary=True, max_df=0.95, min_df=5, ngram_range=(1,3))),\n",
    "    ('clf', LinearSVC(random_state=0, C=0.01))\n",
    "])\n",
    "pipeline.fit(X_train, y_train)\n",
    "print_eval(pipeline, X_train, y_train)\n",
    "print_eval(pipeline, X_dev, y_dev)"
   ]
  },
  {
   "cell_type": "markdown",
   "metadata": {},
   "source": [
    "### Se obtuvo una pequeña mejora, pudo etiquetar 1 ejemplo más de manera correcta"
   ]
  },
  {
   "cell_type": "code",
   "execution_count": 179,
   "metadata": {},
   "outputs": [],
   "source": [
    "# UNIMOS train y dev:\n",
    "train = X_train + X_dev\n",
    "target = y_train + y_dev"
   ]
  },
  {
   "cell_type": "code",
   "execution_count": 181,
   "metadata": {},
   "outputs": [
    {
     "name": "stdout",
     "output_type": "stream",
     "text": [
      "accuracy\t1.00\n",
      "\n",
      "             precision    recall  f1-score   support\n",
      "\n",
      "        neg       1.00      1.00      1.00      2574\n",
      "        pos       1.00      1.00      1.00      2537\n",
      "\n",
      "avg / total       1.00      1.00      1.00      5111\n",
      "\n",
      "[[2574    0]\n",
      " [   0 2537]]\n"
     ]
    }
   ],
   "source": [
    "pipeline = Pipeline([\n",
    "    ('vect', CountVectorizer(binary=True, max_df=0.95, min_df=5, ngram_range=(1,3))),\n",
    "    ('clf', LinearSVC(random_state=0, C=0.01))\n",
    "])\n",
    "pipeline = pipeline.fit(train, target)\n",
    "print_eval(pipeline, train, target)"
   ]
  },
  {
   "cell_type": "code",
   "execution_count": 182,
   "metadata": {},
   "outputs": [],
   "source": [
    "y_pred = pipeline.predict(test)\n",
    "predictions = y_pred.tolist()\n",
    "from utils import save_results\n",
    "save_results('results_moreData_LinearSVC.csv', predictions)"
   ]
  },
  {
   "cell_type": "markdown",
   "metadata": {},
   "source": [
    "Se obtuvo un accuracy del 88%"
   ]
  },
  {
   "cell_type": "markdown",
   "metadata": {},
   "source": [
    "## Intentemos mejorar RandomForest (acc actual en dev = 98%)"
   ]
  },
  {
   "cell_type": "code",
   "execution_count": 42,
   "metadata": {},
   "outputs": [
    {
     "name": "stdout",
     "output_type": "stream",
     "text": [
      "accuracy\t1.00\n",
      "\n",
      "             precision    recall  f1-score   support\n",
      "\n",
      "        neg       1.00      1.00      1.00      2311\n",
      "        pos       1.00      1.00      1.00      2288\n",
      "\n",
      "avg / total       1.00      1.00      1.00      4599\n",
      "\n",
      "[[2311    0]\n",
      " [   1 2287]]\n",
      "accuracy\t0.98\n",
      "\n",
      "             precision    recall  f1-score   support\n",
      "\n",
      "        neg       0.97      1.00      0.98       263\n",
      "        pos       1.00      0.96      0.98       249\n",
      "\n",
      "avg / total       0.98      0.98      0.98       512\n",
      "\n",
      "[[262   1]\n",
      " [  9 240]]\n"
     ]
    }
   ],
   "source": [
    "pipeline = Pipeline([\n",
    "    ('vect', CountVectorizer(binary=True)),\n",
    "    ('clf', RandomForestClassifier(random_state=0)),\n",
    "])\n",
    "pipeline.fit(X_train, y_train)\n",
    "print_eval(pipeline, X_train, y_train)\n",
    "print_eval(pipeline, X_dev, y_dev)"
   ]
  },
  {
   "cell_type": "markdown",
   "metadata": {},
   "source": [
    "### Grid-Search in Dev"
   ]
  },
  {
   "cell_type": "code",
   "execution_count": 195,
   "metadata": {},
   "outputs": [
    {
     "data": {
      "text/plain": [
       "20"
      ]
     },
     "execution_count": 195,
     "metadata": {},
     "output_type": "execute_result"
    }
   ],
   "source": [
    "param_grid = {\n",
    "    'vect__binary': [True],\n",
    "    'vect__ngram_range': [(1,1), (1,3)],\n",
    "    'vect__min_df': [3],\n",
    "    'vect__max_df': [0.95],\n",
    "    'clf__random_state': [0],\n",
    "    'clf__n_estimators': [5, 10, 20, 50, 100],\n",
    "    'clf__criterion': ['gini', 'entropy']\n",
    "}\n",
    "\n",
    "params_list = list(ParameterGrid(param_grid))\n",
    "len(params_list)"
   ]
  },
  {
   "cell_type": "code",
   "execution_count": 196,
   "metadata": {},
   "outputs": [
    {
     "name": "stdout",
     "output_type": "stream",
     "text": [
      "{'acc': 0.96875, 'f1': 0.9687266174966025}\n",
      "{'acc': 0.951171875, 'f1': 0.9511179851444501}\n",
      "{'acc': 0.994140625, 'f1': 0.9941341582173341}\n",
      "{'acc': 0.984375, 'f1': 0.9843511217067058}\n",
      "{'acc': 0.99609375, 'f1': 0.9960899315738025}\n",
      "{'acc': 0.994140625, 'f1': 0.9941355915378418}\n",
      "{'acc': 1.0, 'f1': 1.0}\n",
      "{'acc': 0.998046875, 'f1': 0.9980456150396031}\n",
      "{'acc': 0.998046875, 'f1': 0.9980456150396031}\n",
      "{'acc': 0.998046875, 'f1': 0.9980456150396031}\n",
      "{'acc': 0.966796875, 'f1': 0.9667683520477705}\n",
      "{'acc': 0.98046875, 'f1': 0.9804612965761474}\n",
      "{'acc': 0.982421875, 'f1': 0.982402474652002}\n",
      "{'acc': 0.98828125, 'f1': 0.9882667481475822}\n",
      "{'acc': 0.994140625, 'f1': 0.9941368451188091}\n",
      "{'acc': 0.99609375, 'f1': 0.9960899315738025}\n",
      "{'acc': 0.998046875, 'f1': 0.9980456150396031}\n",
      "{'acc': 0.998046875, 'f1': 0.9980456150396031}\n",
      "{'acc': 0.998046875, 'f1': 0.9980456150396031}\n",
      "{'acc': 0.998046875, 'f1': 0.9980456150396031}\n"
     ]
    }
   ],
   "source": [
    "pipeline = Pipeline([\n",
    "    ('vect', CountVectorizer()),\n",
    "    ('clf', RandomForestClassifier()),\n",
    "])\n",
    "# pipeline.get_params().keys()\n",
    "results = []\n",
    "for params in params_list:\n",
    "    pipeline.set_params(**params)\n",
    "    pipeline.fit(X_train, y_train)\n",
    "    result = eval(pipeline, X_dev, y_dev)\n",
    "#     print(result)\n",
    "    results.append({\n",
    "        **result,\n",
    "        **params,\n",
    "    })"
   ]
  },
  {
   "cell_type": "code",
   "execution_count": 197,
   "metadata": {},
   "outputs": [
    {
     "data": {
      "text/html": [
       "<div>\n",
       "<style scoped>\n",
       "    .dataframe tbody tr th:only-of-type {\n",
       "        vertical-align: middle;\n",
       "    }\n",
       "\n",
       "    .dataframe tbody tr th {\n",
       "        vertical-align: top;\n",
       "    }\n",
       "\n",
       "    .dataframe thead th {\n",
       "        text-align: right;\n",
       "    }\n",
       "</style>\n",
       "<table border=\"1\" class=\"dataframe\">\n",
       "  <thead>\n",
       "    <tr style=\"text-align: right;\">\n",
       "      <th></th>\n",
       "      <th>acc</th>\n",
       "      <th>clf__criterion</th>\n",
       "      <th>clf__n_estimators</th>\n",
       "      <th>clf__random_state</th>\n",
       "      <th>f1</th>\n",
       "      <th>vect__binary</th>\n",
       "      <th>vect__max_df</th>\n",
       "      <th>vect__min_df</th>\n",
       "      <th>vect__ngram_range</th>\n",
       "    </tr>\n",
       "  </thead>\n",
       "  <tbody>\n",
       "    <tr>\n",
       "      <th>6</th>\n",
       "      <td>1.000000</td>\n",
       "      <td>gini</td>\n",
       "      <td>50</td>\n",
       "      <td>0</td>\n",
       "      <td>1.000000</td>\n",
       "      <td>True</td>\n",
       "      <td>0.95</td>\n",
       "      <td>3</td>\n",
       "      <td>(1, 1)</td>\n",
       "    </tr>\n",
       "    <tr>\n",
       "      <th>7</th>\n",
       "      <td>0.998047</td>\n",
       "      <td>gini</td>\n",
       "      <td>50</td>\n",
       "      <td>0</td>\n",
       "      <td>0.998046</td>\n",
       "      <td>True</td>\n",
       "      <td>0.95</td>\n",
       "      <td>3</td>\n",
       "      <td>(1, 3)</td>\n",
       "    </tr>\n",
       "    <tr>\n",
       "      <th>8</th>\n",
       "      <td>0.998047</td>\n",
       "      <td>gini</td>\n",
       "      <td>100</td>\n",
       "      <td>0</td>\n",
       "      <td>0.998046</td>\n",
       "      <td>True</td>\n",
       "      <td>0.95</td>\n",
       "      <td>3</td>\n",
       "      <td>(1, 1)</td>\n",
       "    </tr>\n",
       "    <tr>\n",
       "      <th>9</th>\n",
       "      <td>0.998047</td>\n",
       "      <td>gini</td>\n",
       "      <td>100</td>\n",
       "      <td>0</td>\n",
       "      <td>0.998046</td>\n",
       "      <td>True</td>\n",
       "      <td>0.95</td>\n",
       "      <td>3</td>\n",
       "      <td>(1, 3)</td>\n",
       "    </tr>\n",
       "    <tr>\n",
       "      <th>16</th>\n",
       "      <td>0.998047</td>\n",
       "      <td>entropy</td>\n",
       "      <td>50</td>\n",
       "      <td>0</td>\n",
       "      <td>0.998046</td>\n",
       "      <td>True</td>\n",
       "      <td>0.95</td>\n",
       "      <td>3</td>\n",
       "      <td>(1, 1)</td>\n",
       "    </tr>\n",
       "    <tr>\n",
       "      <th>17</th>\n",
       "      <td>0.998047</td>\n",
       "      <td>entropy</td>\n",
       "      <td>50</td>\n",
       "      <td>0</td>\n",
       "      <td>0.998046</td>\n",
       "      <td>True</td>\n",
       "      <td>0.95</td>\n",
       "      <td>3</td>\n",
       "      <td>(1, 3)</td>\n",
       "    </tr>\n",
       "    <tr>\n",
       "      <th>18</th>\n",
       "      <td>0.998047</td>\n",
       "      <td>entropy</td>\n",
       "      <td>100</td>\n",
       "      <td>0</td>\n",
       "      <td>0.998046</td>\n",
       "      <td>True</td>\n",
       "      <td>0.95</td>\n",
       "      <td>3</td>\n",
       "      <td>(1, 1)</td>\n",
       "    </tr>\n",
       "    <tr>\n",
       "      <th>19</th>\n",
       "      <td>0.998047</td>\n",
       "      <td>entropy</td>\n",
       "      <td>100</td>\n",
       "      <td>0</td>\n",
       "      <td>0.998046</td>\n",
       "      <td>True</td>\n",
       "      <td>0.95</td>\n",
       "      <td>3</td>\n",
       "      <td>(1, 3)</td>\n",
       "    </tr>\n",
       "    <tr>\n",
       "      <th>4</th>\n",
       "      <td>0.996094</td>\n",
       "      <td>gini</td>\n",
       "      <td>20</td>\n",
       "      <td>0</td>\n",
       "      <td>0.996090</td>\n",
       "      <td>True</td>\n",
       "      <td>0.95</td>\n",
       "      <td>3</td>\n",
       "      <td>(1, 1)</td>\n",
       "    </tr>\n",
       "    <tr>\n",
       "      <th>15</th>\n",
       "      <td>0.996094</td>\n",
       "      <td>entropy</td>\n",
       "      <td>20</td>\n",
       "      <td>0</td>\n",
       "      <td>0.996090</td>\n",
       "      <td>True</td>\n",
       "      <td>0.95</td>\n",
       "      <td>3</td>\n",
       "      <td>(1, 3)</td>\n",
       "    </tr>\n",
       "  </tbody>\n",
       "</table>\n",
       "</div>"
      ],
      "text/plain": [
       "         acc clf__criterion  clf__n_estimators  clf__random_state        f1  \\\n",
       "6   1.000000           gini                 50                  0  1.000000   \n",
       "7   0.998047           gini                 50                  0  0.998046   \n",
       "8   0.998047           gini                100                  0  0.998046   \n",
       "9   0.998047           gini                100                  0  0.998046   \n",
       "16  0.998047        entropy                 50                  0  0.998046   \n",
       "17  0.998047        entropy                 50                  0  0.998046   \n",
       "18  0.998047        entropy                100                  0  0.998046   \n",
       "19  0.998047        entropy                100                  0  0.998046   \n",
       "4   0.996094           gini                 20                  0  0.996090   \n",
       "15  0.996094        entropy                 20                  0  0.996090   \n",
       "\n",
       "    vect__binary  vect__max_df  vect__min_df vect__ngram_range  \n",
       "6           True          0.95             3            (1, 1)  \n",
       "7           True          0.95             3            (1, 3)  \n",
       "8           True          0.95             3            (1, 1)  \n",
       "9           True          0.95             3            (1, 3)  \n",
       "16          True          0.95             3            (1, 1)  \n",
       "17          True          0.95             3            (1, 3)  \n",
       "18          True          0.95             3            (1, 1)  \n",
       "19          True          0.95             3            (1, 3)  \n",
       "4           True          0.95             3            (1, 1)  \n",
       "15          True          0.95             3            (1, 3)  "
      ]
     },
     "execution_count": 197,
     "metadata": {},
     "output_type": "execute_result"
    }
   ],
   "source": [
    "results_df = pd.DataFrame(results)\n",
    "results_df.sort_values(['acc', 'f1'], ascending=False)[:10]"
   ]
  },
  {
   "cell_type": "markdown",
   "metadata": {},
   "source": [
    "Entrenamos nuestro modelo con los mejores hiperparámetros obtenidos y luego evaluamos"
   ]
  },
  {
   "cell_type": "code",
   "execution_count": 43,
   "metadata": {},
   "outputs": [
    {
     "name": "stdout",
     "output_type": "stream",
     "text": [
      "accuracy\t1.00\n",
      "\n",
      "             precision    recall  f1-score   support\n",
      "\n",
      "        neg       1.00      1.00      1.00      2311\n",
      "        pos       1.00      1.00      1.00      2288\n",
      "\n",
      "avg / total       1.00      1.00      1.00      4599\n",
      "\n",
      "[[2311    0]\n",
      " [   0 2288]]\n",
      "accuracy\t1.00\n",
      "\n",
      "             precision    recall  f1-score   support\n",
      "\n",
      "        neg       1.00      1.00      1.00       263\n",
      "        pos       1.00      1.00      1.00       249\n",
      "\n",
      "avg / total       1.00      1.00      1.00       512\n",
      "\n",
      "[[263   0]\n",
      " [  0 249]]\n"
     ]
    }
   ],
   "source": [
    "pipeline = Pipeline([\n",
    "    ('vect', CountVectorizer(binary=True, max_df=0.95, min_df=3, ngram_range=(1,1))),\n",
    "    ('clf', RandomForestClassifier(random_state=0, n_estimators=50, criterion='gini'))\n",
    "])\n",
    "pipeline.fit(X_train, y_train)\n",
    "print_eval(pipeline, X_train, y_train)\n",
    "print_eval(pipeline, X_dev, y_dev)"
   ]
  },
  {
   "cell_type": "markdown",
   "metadata": {},
   "source": [
    "### Gran mejora en RandomForest! El modelo tiene bias y varianza igual a 0"
   ]
  },
  {
   "cell_type": "code",
   "execution_count": 199,
   "metadata": {},
   "outputs": [],
   "source": [
    "# UNIMOS train y dev:\n",
    "train = X_train + X_dev\n",
    "target = y_train + y_dev"
   ]
  },
  {
   "cell_type": "code",
   "execution_count": 201,
   "metadata": {},
   "outputs": [
    {
     "name": "stdout",
     "output_type": "stream",
     "text": [
      "accuracy\t1.00\n",
      "\n",
      "             precision    recall  f1-score   support\n",
      "\n",
      "        neg       1.00      1.00      1.00      2574\n",
      "        pos       1.00      1.00      1.00      2537\n",
      "\n",
      "avg / total       1.00      1.00      1.00      5111\n",
      "\n",
      "[[2574    0]\n",
      " [   0 2537]]\n"
     ]
    }
   ],
   "source": [
    "pipeline = Pipeline([\n",
    "    ('vect', CountVectorizer(binary=True, max_df=0.95, min_df=3, ngram_range=(1,1))),\n",
    "    ('clf', RandomForestClassifier(random_state=0, n_estimators=50, criterion='gini'))\n",
    "])\n",
    "pipeline = pipeline.fit(train, target)\n",
    "print_eval(pipeline, train, target)"
   ]
  },
  {
   "cell_type": "code",
   "execution_count": 202,
   "metadata": {},
   "outputs": [],
   "source": [
    "y_pred = pipeline.predict(test)\n",
    "predictions = y_pred.tolist()\n",
    "from utils import save_results\n",
    "save_results('results_moreData_RandomForest.csv', predictions)"
   ]
  },
  {
   "cell_type": "markdown",
   "metadata": {},
   "source": [
    "Se obtuvo un accuracy del 80%"
   ]
  },
  {
   "cell_type": "markdown",
   "metadata": {},
   "source": [
    "### Ahora hacemos VotingClassifier con las mejores versiones de los modelos"
   ]
  },
  {
   "cell_type": "code",
   "execution_count": 44,
   "metadata": {},
   "outputs": [
    {
     "name": "stderr",
     "output_type": "stream",
     "text": [
      "/anaconda3/lib/python3.6/site-packages/sklearn/preprocessing/label.py:151: DeprecationWarning: The truth value of an empty array is ambiguous. Returning False, but in future this will result in an error. Use `array.size > 0` to check that an array is not empty.\n",
      "  if diff:\n"
     ]
    },
    {
     "name": "stdout",
     "output_type": "stream",
     "text": [
      "accuracy\t1.00\n",
      "\n",
      "             precision    recall  f1-score   support\n",
      "\n",
      "        neg       1.00      1.00      1.00      2311\n",
      "        pos       1.00      1.00      1.00      2288\n",
      "\n",
      "avg / total       1.00      1.00      1.00      4599\n",
      "\n",
      "[[2311    0]\n",
      " [   0 2288]]\n",
      "accuracy\t1.00\n",
      "\n",
      "             precision    recall  f1-score   support\n",
      "\n",
      "        neg       1.00      1.00      1.00       263\n",
      "        pos       1.00      1.00      1.00       249\n",
      "\n",
      "avg / total       1.00      1.00      1.00       512\n",
      "\n",
      "[[262   1]\n",
      " [  0 249]]\n"
     ]
    },
    {
     "name": "stderr",
     "output_type": "stream",
     "text": [
      "/anaconda3/lib/python3.6/site-packages/sklearn/preprocessing/label.py:151: DeprecationWarning: The truth value of an empty array is ambiguous. Returning False, but in future this will result in an error. Use `array.size > 0` to check that an array is not empty.\n",
      "  if diff:\n"
     ]
    }
   ],
   "source": [
    "clf1 = Pipeline([\n",
    "    ('vect', CountVectorizer(binary=True, max_df=0.70, min_df=1, ngram_range=(1,1))),\n",
    "    ('clf1', KNeighborsClassifier(n_neighbors=1))\n",
    "])\n",
    "clf2 = Pipeline([\n",
    "    ('vect', CountVectorizer(binary=True, max_df=0.70, min_df=3, ngram_range=(1,1))),\n",
    "    ('clf2', MultinomialNB(alpha=0.1)),\n",
    "])\n",
    "clf3 = Pipeline([\n",
    "    ('vect', CountVectorizer(binary=True, ngram_range=(1,2))),\n",
    "    ('clf3', LogisticRegression(random_state=0, C=0.05)),\n",
    "])\n",
    "clf4 = Pipeline([\n",
    "    ('vect', CountVectorizer(binary=True, max_df=0.95, min_df=5, ngram_range=(1,3))),\n",
    "    ('clf4', LinearSVC(random_state=0, C=0.01))\n",
    "])\n",
    "clf5 = Pipeline([\n",
    "    ('vect', CountVectorizer(binary=True, max_df=0.95, min_df=3, ngram_range=(1,1))),\n",
    "    ('clf5', RandomForestClassifier(random_state=0, n_estimators=50, criterion='gini'))\n",
    "])\n",
    "\n",
    "eclf1 = VotingClassifier(estimators=[('knc', clf1), ('mnb', clf2), ('lr', clf3),\n",
    "                                     ('lsvc', clf4), ('rfc', clf5)], voting='hard')\n",
    "eclf1 = eclf1.fit(X_train, y_train)\n",
    "print_eval(eclf1, X_train, y_train)\n",
    "print_eval(eclf1, X_dev, y_dev)"
   ]
  },
  {
   "cell_type": "code",
   "execution_count": 45,
   "metadata": {},
   "outputs": [
    {
     "name": "stdout",
     "output_type": "stream",
     "text": [
      "accuracy\t1.00\n",
      "\n",
      "             precision    recall  f1-score   support\n",
      "\n",
      "        neg       1.00      1.00      1.00      2574\n",
      "        pos       1.00      1.00      1.00      2537\n",
      "\n",
      "avg / total       1.00      1.00      1.00      5111\n",
      "\n",
      "[[2574    0]\n",
      " [   0 2537]]\n"
     ]
    },
    {
     "name": "stderr",
     "output_type": "stream",
     "text": [
      "/anaconda3/lib/python3.6/site-packages/sklearn/preprocessing/label.py:151: DeprecationWarning: The truth value of an empty array is ambiguous. Returning False, but in future this will result in an error. Use `array.size > 0` to check that an array is not empty.\n",
      "  if diff:\n"
     ]
    }
   ],
   "source": [
    "clf1 = Pipeline([\n",
    "    ('vect', CountVectorizer(binary=True, max_df=0.70, min_df=1, ngram_range=(1,1))),\n",
    "    ('clf1', KNeighborsClassifier(n_neighbors=1))\n",
    "])\n",
    "clf2 = Pipeline([\n",
    "    ('vect', CountVectorizer(binary=True, max_df=0.70, min_df=3, ngram_range=(1,1))),\n",
    "    ('clf2', MultinomialNB(alpha=0.1)),\n",
    "])\n",
    "clf3 = Pipeline([\n",
    "    ('vect', CountVectorizer(binary=True, ngram_range=(1,2))),\n",
    "    ('clf3', LogisticRegression(random_state=0, C=0.05)),\n",
    "])\n",
    "clf4 = Pipeline([\n",
    "    ('vect', CountVectorizer(binary=True, max_df=0.95, min_df=5, ngram_range=(1,3))),\n",
    "    ('clf4', LinearSVC(random_state=0, C=0.01))\n",
    "])\n",
    "clf5 = Pipeline([\n",
    "    ('vect', CountVectorizer(binary=True, max_df=0.95, min_df=3, ngram_range=(1,1))),\n",
    "    ('clf5', RandomForestClassifier(random_state=0, n_estimators=50, criterion='gini'))\n",
    "])\n",
    "\n",
    "eclf1 = VotingClassifier(estimators=[('knc', clf1), ('mnb', clf2), ('lr', clf3),\n",
    "                                     ('lsvc', clf4), ('rfc', clf5)], voting='hard')\n",
    "eclf1 = eclf1.fit(train, target)\n",
    "print_eval(eclf1, train, target)"
   ]
  },
  {
   "cell_type": "code",
   "execution_count": 208,
   "metadata": {},
   "outputs": [
    {
     "name": "stderr",
     "output_type": "stream",
     "text": [
      "/anaconda3/lib/python3.6/site-packages/sklearn/preprocessing/label.py:151: DeprecationWarning: The truth value of an empty array is ambiguous. Returning False, but in future this will result in an error. Use `array.size > 0` to check that an array is not empty.\n",
      "  if diff:\n"
     ]
    }
   ],
   "source": [
    "y_pred = eclf1.predict(test)\n",
    "predictions = y_pred.tolist()\n",
    "from utils import save_results\n",
    "save_results('results_moreData_finalVoting.csv', predictions)"
   ]
  },
  {
   "cell_type": "markdown",
   "metadata": {},
   "source": [
    "Se obtuvo una accuracy del 84.66%. \n",
    "\n",
    "- No hubo mejoras, de hecho el modelo de Voting anterior que utiliza los modelos sin los ajustes de hiperparametros tiene mejor accuracy en test.\n",
    "\n",
    "- Probablemente usar VotingClassifier no sea una buena opción para este problema.\n",
    "\n",
    "- Tal vez se deberia probar dando mas peso a algunos clasificadores frente a otros."
   ]
  },
  {
   "cell_type": "code",
   "execution_count": 57,
   "metadata": {},
   "outputs": [],
   "source": [
    "clf1 = Pipeline([\n",
    "    ('vect', CountVectorizer(binary=True, max_df=0.70, min_df=1, ngram_range=(1,1))),\n",
    "    ('clf1', KNeighborsClassifier(n_neighbors=1))\n",
    "])\n",
    "clf3 = Pipeline([\n",
    "    ('vect', CountVectorizer(binary=True, ngram_range=(1,2))),\n",
    "    ('clf3', LogisticRegression(random_state=0, C=0.05)),\n",
    "])\n",
    "\n",
    "eclf_soft = VotingClassifier(estimators=[('kn', clf1), ('lr', clf3)], voting='soft')\n",
    "# eclf_soft = eclf_soft.fit(train, target)\n",
    "# print_eval(eclf_soft, train, target)"
   ]
  },
  {
   "cell_type": "code",
   "execution_count": 60,
   "metadata": {},
   "outputs": [
    {
     "name": "stderr",
     "output_type": "stream",
     "text": [
      "/anaconda3/lib/python3.6/site-packages/sklearn/preprocessing/label.py:151: DeprecationWarning: The truth value of an empty array is ambiguous. Returning False, but in future this will result in an error. Use `array.size > 0` to check that an array is not empty.\n",
      "  if diff:\n"
     ]
    },
    {
     "name": "stdout",
     "output_type": "stream",
     "text": [
      "accuracy\t1.00\n",
      "\n",
      "             precision    recall  f1-score   support\n",
      "\n",
      "        neg       1.00      1.00      1.00      2574\n",
      "        pos       1.00      1.00      1.00      2537\n",
      "\n",
      "avg / total       1.00      1.00      1.00      5111\n",
      "\n",
      "[[2574    0]\n",
      " [   0 2537]]\n"
     ]
    },
    {
     "name": "stderr",
     "output_type": "stream",
     "text": [
      "/anaconda3/lib/python3.6/site-packages/sklearn/preprocessing/label.py:151: DeprecationWarning: The truth value of an empty array is ambiguous. Returning False, but in future this will result in an error. Use `array.size > 0` to check that an array is not empty.\n",
      "  if diff:\n"
     ]
    }
   ],
   "source": [
    "clf4 = Pipeline([\n",
    "    ('vect', CountVectorizer(binary=True, max_df=0.95, min_df=5, ngram_range=(1,3))),\n",
    "    ('clf4', LinearSVC(random_state=0, C=0.01))\n",
    "])\n",
    "clf5 = Pipeline([\n",
    "    ('vect', CountVectorizer(binary=True, max_df=0.95, min_df=3, ngram_range=(1,1))),\n",
    "    ('clf5', RandomForestClassifier(random_state=0, n_estimators=50, criterion='gini'))\n",
    "])\n",
    "\n",
    "eclf_hard = VotingClassifier(estimators=[('eclf_soft', eclf_soft), ('lsvc', clf4),\n",
    "                                         ('rfc', clf5)], voting='hard')\n",
    "# eclf_hard = eclf_hard.fit(X_train, y_train)\n",
    "# print_eval(eclf_hard, X_train, y_train)\n",
    "# print_eval(eclf_hard, X_dev, y_dev)\n",
    "eclf_hard = eclf_hard.fit(train, target)\n",
    "print_eval(eclf_hard, train, target)"
   ]
  },
  {
   "cell_type": "code",
   "execution_count": 61,
   "metadata": {},
   "outputs": [
    {
     "name": "stderr",
     "output_type": "stream",
     "text": [
      "/anaconda3/lib/python3.6/site-packages/sklearn/preprocessing/label.py:151: DeprecationWarning: The truth value of an empty array is ambiguous. Returning False, but in future this will result in an error. Use `array.size > 0` to check that an array is not empty.\n",
      "  if diff:\n",
      "/anaconda3/lib/python3.6/site-packages/sklearn/preprocessing/label.py:151: DeprecationWarning: The truth value of an empty array is ambiguous. Returning False, but in future this will result in an error. Use `array.size > 0` to check that an array is not empty.\n",
      "  if diff:\n"
     ]
    }
   ],
   "source": [
    "y_pred = eclf_hard.predict(test)\n",
    "predictions = y_pred.tolist()\n",
    "from utils import save_results\n",
    "save_results('results_moreData_Voting_soft_hard.csv', predictions)"
   ]
  },
  {
   "cell_type": "markdown",
   "metadata": {},
   "source": [
    "Se obtuvo una accuracy del 82.66% (peor que la del voting anterior 84.66%)"
   ]
  },
  {
   "cell_type": "markdown",
   "metadata": {},
   "source": [
    "## Intentemos con el modelo \"one example\": es un vectorizador TFIDF + un clasificador logistic regression CV"
   ]
  },
  {
   "cell_type": "code",
   "execution_count": 38,
   "metadata": {},
   "outputs": [
    {
     "name": "stdout",
     "output_type": "stream",
     "text": [
      "accuracy\t1.00\n",
      "\n",
      "             precision    recall  f1-score   support\n",
      "\n",
      "        neg       1.00      1.00      1.00      2311\n",
      "        pos       1.00      1.00      1.00      2288\n",
      "\n",
      "avg / total       1.00      1.00      1.00      4599\n",
      "\n",
      "[[2311    0]\n",
      " [   0 2288]]\n",
      "accuracy\t1.00\n",
      "\n",
      "             precision    recall  f1-score   support\n",
      "\n",
      "        neg       1.00      1.00      1.00       263\n",
      "        pos       1.00      1.00      1.00       249\n",
      "\n",
      "avg / total       1.00      1.00      1.00       512\n",
      "\n",
      "[[262   1]\n",
      " [  0 249]]\n"
     ]
    }
   ],
   "source": [
    "from sklearn.linear_model import LogisticRegressionCV\n",
    "pipeline = Pipeline([\n",
    "    ('vect', TfidfVectorizer(binary=True)),\n",
    "    ('clf', LogisticRegressionCV(random_state=0, cv=10)),\n",
    "])\n",
    "pipeline.fit(X_train, y_train)\n",
    "print_eval(pipeline, X_train, y_train)\n",
    "print_eval(pipeline, X_dev, y_dev)"
   ]
  },
  {
   "cell_type": "markdown",
   "metadata": {},
   "source": [
    "### Grid-Search en Dev"
   ]
  },
  {
   "cell_type": "code",
   "execution_count": 55,
   "metadata": {},
   "outputs": [
    {
     "data": {
      "text/plain": [
       "144"
      ]
     },
     "execution_count": 55,
     "metadata": {},
     "output_type": "execute_result"
    }
   ],
   "source": [
    "from sklearn.model_selection import ParameterGrid\n",
    "\n",
    "param_grid = {\n",
    "    'vect__binary': [True],\n",
    "    'vect__ngram_range': [(1, 1), (1, 2), (1, 3)],\n",
    "    'vect__min_df': [0, 1, 3, 5],\n",
    "    'vect__max_df': [1, 0.95, 0.7],\n",
    "    'clf__random_state': [0],\n",
    "    # parameter for LogisticRegression (smaller values -> stronger regularization)\n",
    "    'clf__cv': [1, 2, 5, 10]\n",
    "}\n",
    "\n",
    "params_list = list(ParameterGrid(param_grid))\n",
    "len(params_list)"
   ]
  },
  {
   "cell_type": "code",
   "execution_count": 56,
   "metadata": {},
   "outputs": [
    {
     "ename": "ValueError",
     "evalue": "k-fold cross-validation requires at least one train/test split by setting n_splits=2 or more, got n_splits=1.",
     "output_type": "error",
     "traceback": [
      "\u001b[0;31m---------------------------------------------------------------------------\u001b[0m",
      "\u001b[0;31mValueError\u001b[0m                                Traceback (most recent call last)",
      "\u001b[0;32m<ipython-input-56-a779137d64e8>\u001b[0m in \u001b[0;36m<module>\u001b[0;34m()\u001b[0m\n\u001b[1;32m      8\u001b[0m \u001b[0;32mfor\u001b[0m \u001b[0mparams\u001b[0m \u001b[0;32min\u001b[0m \u001b[0mparams_list\u001b[0m\u001b[0;34m:\u001b[0m\u001b[0;34m\u001b[0m\u001b[0m\n\u001b[1;32m      9\u001b[0m     \u001b[0mpipeline\u001b[0m\u001b[0;34m.\u001b[0m\u001b[0mset_params\u001b[0m\u001b[0;34m(\u001b[0m\u001b[0;34m**\u001b[0m\u001b[0mparams\u001b[0m\u001b[0;34m)\u001b[0m\u001b[0;34m\u001b[0m\u001b[0m\n\u001b[0;32m---> 10\u001b[0;31m     \u001b[0mpipeline\u001b[0m\u001b[0;34m.\u001b[0m\u001b[0mfit\u001b[0m\u001b[0;34m(\u001b[0m\u001b[0mX_train\u001b[0m\u001b[0;34m,\u001b[0m \u001b[0my_train\u001b[0m\u001b[0;34m)\u001b[0m\u001b[0;34m\u001b[0m\u001b[0m\n\u001b[0m\u001b[1;32m     11\u001b[0m     \u001b[0mresult\u001b[0m \u001b[0;34m=\u001b[0m \u001b[0meval\u001b[0m\u001b[0;34m(\u001b[0m\u001b[0mpipeline\u001b[0m\u001b[0;34m,\u001b[0m \u001b[0mX_dev\u001b[0m\u001b[0;34m,\u001b[0m \u001b[0my_dev\u001b[0m\u001b[0;34m)\u001b[0m\u001b[0;34m\u001b[0m\u001b[0m\n\u001b[1;32m     12\u001b[0m     \u001b[0mprint\u001b[0m\u001b[0;34m(\u001b[0m\u001b[0mresult\u001b[0m\u001b[0;34m)\u001b[0m\u001b[0;34m\u001b[0m\u001b[0m\n",
      "\u001b[0;32m/anaconda3/lib/python3.6/site-packages/sklearn/pipeline.py\u001b[0m in \u001b[0;36mfit\u001b[0;34m(self, X, y, **fit_params)\u001b[0m\n\u001b[1;32m    248\u001b[0m         \u001b[0mXt\u001b[0m\u001b[0;34m,\u001b[0m \u001b[0mfit_params\u001b[0m \u001b[0;34m=\u001b[0m \u001b[0mself\u001b[0m\u001b[0;34m.\u001b[0m\u001b[0m_fit\u001b[0m\u001b[0;34m(\u001b[0m\u001b[0mX\u001b[0m\u001b[0;34m,\u001b[0m \u001b[0my\u001b[0m\u001b[0;34m,\u001b[0m \u001b[0;34m**\u001b[0m\u001b[0mfit_params\u001b[0m\u001b[0;34m)\u001b[0m\u001b[0;34m\u001b[0m\u001b[0m\n\u001b[1;32m    249\u001b[0m         \u001b[0;32mif\u001b[0m \u001b[0mself\u001b[0m\u001b[0;34m.\u001b[0m\u001b[0m_final_estimator\u001b[0m \u001b[0;32mis\u001b[0m \u001b[0;32mnot\u001b[0m \u001b[0;32mNone\u001b[0m\u001b[0;34m:\u001b[0m\u001b[0;34m\u001b[0m\u001b[0m\n\u001b[0;32m--> 250\u001b[0;31m             \u001b[0mself\u001b[0m\u001b[0;34m.\u001b[0m\u001b[0m_final_estimator\u001b[0m\u001b[0;34m.\u001b[0m\u001b[0mfit\u001b[0m\u001b[0;34m(\u001b[0m\u001b[0mXt\u001b[0m\u001b[0;34m,\u001b[0m \u001b[0my\u001b[0m\u001b[0;34m,\u001b[0m \u001b[0;34m**\u001b[0m\u001b[0mfit_params\u001b[0m\u001b[0;34m)\u001b[0m\u001b[0;34m\u001b[0m\u001b[0m\n\u001b[0m\u001b[1;32m    251\u001b[0m         \u001b[0;32mreturn\u001b[0m \u001b[0mself\u001b[0m\u001b[0;34m\u001b[0m\u001b[0m\n\u001b[1;32m    252\u001b[0m \u001b[0;34m\u001b[0m\u001b[0m\n",
      "\u001b[0;32m/anaconda3/lib/python3.6/site-packages/sklearn/linear_model/logistic.py\u001b[0m in \u001b[0;36mfit\u001b[0;34m(self, X, y, sample_weight)\u001b[0m\n\u001b[1;32m   1631\u001b[0m \u001b[0;34m\u001b[0m\u001b[0m\n\u001b[1;32m   1632\u001b[0m         \u001b[0;31m# init cross-validation generator\u001b[0m\u001b[0;34m\u001b[0m\u001b[0;34m\u001b[0m\u001b[0m\n\u001b[0;32m-> 1633\u001b[0;31m         \u001b[0mcv\u001b[0m \u001b[0;34m=\u001b[0m \u001b[0mcheck_cv\u001b[0m\u001b[0;34m(\u001b[0m\u001b[0mself\u001b[0m\u001b[0;34m.\u001b[0m\u001b[0mcv\u001b[0m\u001b[0;34m,\u001b[0m \u001b[0my\u001b[0m\u001b[0;34m,\u001b[0m \u001b[0mclassifier\u001b[0m\u001b[0;34m=\u001b[0m\u001b[0;32mTrue\u001b[0m\u001b[0;34m)\u001b[0m\u001b[0;34m\u001b[0m\u001b[0m\n\u001b[0m\u001b[1;32m   1634\u001b[0m         \u001b[0mfolds\u001b[0m \u001b[0;34m=\u001b[0m \u001b[0mlist\u001b[0m\u001b[0;34m(\u001b[0m\u001b[0mcv\u001b[0m\u001b[0;34m.\u001b[0m\u001b[0msplit\u001b[0m\u001b[0;34m(\u001b[0m\u001b[0mX\u001b[0m\u001b[0;34m,\u001b[0m \u001b[0my\u001b[0m\u001b[0;34m)\u001b[0m\u001b[0;34m)\u001b[0m\u001b[0;34m\u001b[0m\u001b[0m\n\u001b[1;32m   1635\u001b[0m \u001b[0;34m\u001b[0m\u001b[0m\n",
      "\u001b[0;32m/anaconda3/lib/python3.6/site-packages/sklearn/model_selection/_split.py\u001b[0m in \u001b[0;36mcheck_cv\u001b[0;34m(cv, y, classifier)\u001b[0m\n\u001b[1;32m   1904\u001b[0m         if (classifier and (y is not None) and\n\u001b[1;32m   1905\u001b[0m                 (type_of_target(y) in ('binary', 'multiclass'))):\n\u001b[0;32m-> 1906\u001b[0;31m             \u001b[0;32mreturn\u001b[0m \u001b[0mStratifiedKFold\u001b[0m\u001b[0;34m(\u001b[0m\u001b[0mcv\u001b[0m\u001b[0;34m)\u001b[0m\u001b[0;34m\u001b[0m\u001b[0m\n\u001b[0m\u001b[1;32m   1907\u001b[0m         \u001b[0;32melse\u001b[0m\u001b[0;34m:\u001b[0m\u001b[0;34m\u001b[0m\u001b[0m\n\u001b[1;32m   1908\u001b[0m             \u001b[0;32mreturn\u001b[0m \u001b[0mKFold\u001b[0m\u001b[0;34m(\u001b[0m\u001b[0mcv\u001b[0m\u001b[0;34m)\u001b[0m\u001b[0;34m\u001b[0m\u001b[0m\n",
      "\u001b[0;32m/anaconda3/lib/python3.6/site-packages/sklearn/model_selection/_split.py\u001b[0m in \u001b[0;36m__init__\u001b[0;34m(self, n_splits, shuffle, random_state)\u001b[0m\n\u001b[1;32m    577\u001b[0m \u001b[0;34m\u001b[0m\u001b[0m\n\u001b[1;32m    578\u001b[0m     \u001b[0;32mdef\u001b[0m \u001b[0m__init__\u001b[0m\u001b[0;34m(\u001b[0m\u001b[0mself\u001b[0m\u001b[0;34m,\u001b[0m \u001b[0mn_splits\u001b[0m\u001b[0;34m=\u001b[0m\u001b[0;36m3\u001b[0m\u001b[0;34m,\u001b[0m \u001b[0mshuffle\u001b[0m\u001b[0;34m=\u001b[0m\u001b[0;32mFalse\u001b[0m\u001b[0;34m,\u001b[0m \u001b[0mrandom_state\u001b[0m\u001b[0;34m=\u001b[0m\u001b[0;32mNone\u001b[0m\u001b[0;34m)\u001b[0m\u001b[0;34m:\u001b[0m\u001b[0;34m\u001b[0m\u001b[0m\n\u001b[0;32m--> 579\u001b[0;31m         \u001b[0msuper\u001b[0m\u001b[0;34m(\u001b[0m\u001b[0mStratifiedKFold\u001b[0m\u001b[0;34m,\u001b[0m \u001b[0mself\u001b[0m\u001b[0;34m)\u001b[0m\u001b[0;34m.\u001b[0m\u001b[0m__init__\u001b[0m\u001b[0;34m(\u001b[0m\u001b[0mn_splits\u001b[0m\u001b[0;34m,\u001b[0m \u001b[0mshuffle\u001b[0m\u001b[0;34m,\u001b[0m \u001b[0mrandom_state\u001b[0m\u001b[0;34m)\u001b[0m\u001b[0;34m\u001b[0m\u001b[0m\n\u001b[0m\u001b[1;32m    580\u001b[0m \u001b[0;34m\u001b[0m\u001b[0m\n\u001b[1;32m    581\u001b[0m     \u001b[0;32mdef\u001b[0m \u001b[0m_make_test_folds\u001b[0m\u001b[0;34m(\u001b[0m\u001b[0mself\u001b[0m\u001b[0;34m,\u001b[0m \u001b[0mX\u001b[0m\u001b[0;34m,\u001b[0m \u001b[0my\u001b[0m\u001b[0;34m=\u001b[0m\u001b[0;32mNone\u001b[0m\u001b[0;34m)\u001b[0m\u001b[0;34m:\u001b[0m\u001b[0;34m\u001b[0m\u001b[0m\n",
      "\u001b[0;32m/anaconda3/lib/python3.6/site-packages/sklearn/model_selection/_split.py\u001b[0m in \u001b[0;36m__init__\u001b[0;34m(self, n_splits, shuffle, random_state)\u001b[0m\n\u001b[1;32m    282\u001b[0m                 \u001b[0;34m\"k-fold cross-validation requires at least one\"\u001b[0m\u001b[0;34m\u001b[0m\u001b[0m\n\u001b[1;32m    283\u001b[0m                 \u001b[0;34m\" train/test split by setting n_splits=2 or more,\"\u001b[0m\u001b[0;34m\u001b[0m\u001b[0m\n\u001b[0;32m--> 284\u001b[0;31m                 \" got n_splits={0}.\".format(n_splits))\n\u001b[0m\u001b[1;32m    285\u001b[0m \u001b[0;34m\u001b[0m\u001b[0m\n\u001b[1;32m    286\u001b[0m         \u001b[0;32mif\u001b[0m \u001b[0;32mnot\u001b[0m \u001b[0misinstance\u001b[0m\u001b[0;34m(\u001b[0m\u001b[0mshuffle\u001b[0m\u001b[0;34m,\u001b[0m \u001b[0mbool\u001b[0m\u001b[0;34m)\u001b[0m\u001b[0;34m:\u001b[0m\u001b[0;34m\u001b[0m\u001b[0m\n",
      "\u001b[0;31mValueError\u001b[0m: k-fold cross-validation requires at least one train/test split by setting n_splits=2 or more, got n_splits=1."
     ]
    }
   ],
   "source": [
    "from utils import eval\n",
    "\n",
    "pipeline = Pipeline([\n",
    "    ('vect', TfidfVectorizer()),\n",
    "    ('clf', LogisticRegressionCV()),\n",
    "])\n",
    "results = []\n",
    "for params in params_list:\n",
    "    pipeline.set_params(**params)\n",
    "    pipeline.fit(X_train, y_train)\n",
    "    result = eval(pipeline, X_dev, y_dev)\n",
    "    print(result)\n",
    "    results.append({\n",
    "        **result,\n",
    "        **params,\n",
    "    })"
   ]
  },
  {
   "cell_type": "code",
   "execution_count": 112,
   "metadata": {},
   "outputs": [
    {
     "data": {
      "text/html": [
       "<div>\n",
       "<style scoped>\n",
       "    .dataframe tbody tr th:only-of-type {\n",
       "        vertical-align: middle;\n",
       "    }\n",
       "\n",
       "    .dataframe tbody tr th {\n",
       "        vertical-align: top;\n",
       "    }\n",
       "\n",
       "    .dataframe thead th {\n",
       "        text-align: right;\n",
       "    }\n",
       "</style>\n",
       "<table border=\"1\" class=\"dataframe\">\n",
       "  <thead>\n",
       "    <tr style=\"text-align: right;\">\n",
       "      <th></th>\n",
       "      <th>acc</th>\n",
       "      <th>clf__C</th>\n",
       "      <th>clf__random_state</th>\n",
       "      <th>f1</th>\n",
       "      <th>vect__binary</th>\n",
       "      <th>vect__ngram_range</th>\n",
       "    </tr>\n",
       "  </thead>\n",
       "  <tbody>\n",
       "    <tr>\n",
       "      <th>16</th>\n",
       "      <td>0.998047</td>\n",
       "      <td>0.05</td>\n",
       "      <td>0</td>\n",
       "      <td>0.998046</td>\n",
       "      <td>True</td>\n",
       "      <td>(1, 2)</td>\n",
       "    </tr>\n",
       "    <tr>\n",
       "      <th>17</th>\n",
       "      <td>0.998047</td>\n",
       "      <td>0.05</td>\n",
       "      <td>0</td>\n",
       "      <td>0.998046</td>\n",
       "      <td>True</td>\n",
       "      <td>(1, 3)</td>\n",
       "    </tr>\n",
       "    <tr>\n",
       "      <th>18</th>\n",
       "      <td>0.998047</td>\n",
       "      <td>0.05</td>\n",
       "      <td>0</td>\n",
       "      <td>0.998046</td>\n",
       "      <td>True</td>\n",
       "      <td>(1, 4)</td>\n",
       "    </tr>\n",
       "    <tr>\n",
       "      <th>19</th>\n",
       "      <td>0.998047</td>\n",
       "      <td>0.05</td>\n",
       "      <td>0</td>\n",
       "      <td>0.998046</td>\n",
       "      <td>True</td>\n",
       "      <td>(1, 5)</td>\n",
       "    </tr>\n",
       "    <tr>\n",
       "      <th>21</th>\n",
       "      <td>0.998047</td>\n",
       "      <td>0.10</td>\n",
       "      <td>0</td>\n",
       "      <td>0.998046</td>\n",
       "      <td>True</td>\n",
       "      <td>(1, 2)</td>\n",
       "    </tr>\n",
       "    <tr>\n",
       "      <th>22</th>\n",
       "      <td>0.998047</td>\n",
       "      <td>0.10</td>\n",
       "      <td>0</td>\n",
       "      <td>0.998046</td>\n",
       "      <td>True</td>\n",
       "      <td>(1, 3)</td>\n",
       "    </tr>\n",
       "    <tr>\n",
       "      <th>23</th>\n",
       "      <td>0.998047</td>\n",
       "      <td>0.10</td>\n",
       "      <td>0</td>\n",
       "      <td>0.998046</td>\n",
       "      <td>True</td>\n",
       "      <td>(1, 4)</td>\n",
       "    </tr>\n",
       "    <tr>\n",
       "      <th>24</th>\n",
       "      <td>0.998047</td>\n",
       "      <td>0.10</td>\n",
       "      <td>0</td>\n",
       "      <td>0.998046</td>\n",
       "      <td>True</td>\n",
       "      <td>(1, 5)</td>\n",
       "    </tr>\n",
       "    <tr>\n",
       "      <th>26</th>\n",
       "      <td>0.998047</td>\n",
       "      <td>0.30</td>\n",
       "      <td>0</td>\n",
       "      <td>0.998046</td>\n",
       "      <td>True</td>\n",
       "      <td>(1, 2)</td>\n",
       "    </tr>\n",
       "    <tr>\n",
       "      <th>27</th>\n",
       "      <td>0.998047</td>\n",
       "      <td>0.30</td>\n",
       "      <td>0</td>\n",
       "      <td>0.998046</td>\n",
       "      <td>True</td>\n",
       "      <td>(1, 3)</td>\n",
       "    </tr>\n",
       "  </tbody>\n",
       "</table>\n",
       "</div>"
      ],
      "text/plain": [
       "         acc  clf__C  clf__random_state        f1  vect__binary  \\\n",
       "16  0.998047    0.05                  0  0.998046          True   \n",
       "17  0.998047    0.05                  0  0.998046          True   \n",
       "18  0.998047    0.05                  0  0.998046          True   \n",
       "19  0.998047    0.05                  0  0.998046          True   \n",
       "21  0.998047    0.10                  0  0.998046          True   \n",
       "22  0.998047    0.10                  0  0.998046          True   \n",
       "23  0.998047    0.10                  0  0.998046          True   \n",
       "24  0.998047    0.10                  0  0.998046          True   \n",
       "26  0.998047    0.30                  0  0.998046          True   \n",
       "27  0.998047    0.30                  0  0.998046          True   \n",
       "\n",
       "   vect__ngram_range  \n",
       "16            (1, 2)  \n",
       "17            (1, 3)  \n",
       "18            (1, 4)  \n",
       "19            (1, 5)  \n",
       "21            (1, 2)  \n",
       "22            (1, 3)  \n",
       "23            (1, 4)  \n",
       "24            (1, 5)  \n",
       "26            (1, 2)  \n",
       "27            (1, 3)  "
      ]
     },
     "execution_count": 112,
     "metadata": {},
     "output_type": "execute_result"
    }
   ],
   "source": [
    "results_df = pd.DataFrame(results)\n",
    "results_df.sort_values(['acc', 'f1'], ascending=False)[:10]"
   ]
  },
  {
   "cell_type": "markdown",
   "metadata": {},
   "source": [
    "Entrenamos nuestro modelo con los mejores hiperparámetros obtenidos y luego evaluamos"
   ]
  },
  {
   "cell_type": "code",
   "execution_count": 33,
   "metadata": {},
   "outputs": [
    {
     "name": "stdout",
     "output_type": "stream",
     "text": [
      "accuracy\t1.00\n",
      "\n",
      "             precision    recall  f1-score   support\n",
      "\n",
      "        neg       1.00      1.00      1.00      2311\n",
      "        pos       1.00      1.00      1.00      2288\n",
      "\n",
      "avg / total       1.00      1.00      1.00      4599\n",
      "\n",
      "[[2311    0]\n",
      " [   1 2287]]\n",
      "accuracy\t1.00\n",
      "\n",
      "             precision    recall  f1-score   support\n",
      "\n",
      "        neg       1.00      1.00      1.00       263\n",
      "        pos       1.00      1.00      1.00       249\n",
      "\n",
      "avg / total       1.00      1.00      1.00       512\n",
      "\n",
      "[[262   1]\n",
      " [  0 249]]\n"
     ]
    }
   ],
   "source": [
    "pipeline = Pipeline([\n",
    "    ('vect', CountVectorizer(binary=True, ngram_range=(1,2))),\n",
    "    ('clf', LogisticRegression(random_state=0, C=0.05)),\n",
    "])\n",
    "pipeline.fit(X_train, y_train)\n",
    "print_eval(pipeline, X_train, y_train)\n",
    "print_eval(pipeline, X_dev, y_dev)"
   ]
  },
  {
   "cell_type": "code",
   "execution_count": null,
   "metadata": {},
   "outputs": [],
   "source": []
  }
 ],
 "metadata": {
  "kernelspec": {
   "display_name": "Python 3",
   "language": "python",
   "name": "python3"
  },
  "language_info": {
   "codemirror_mode": {
    "name": "ipython",
    "version": 3
   },
   "file_extension": ".py",
   "mimetype": "text/x-python",
   "name": "python",
   "nbconvert_exporter": "python",
   "pygments_lexer": "ipython3",
   "version": "3.6.5"
  }
 },
 "nbformat": 4,
 "nbformat_minor": 2
}
