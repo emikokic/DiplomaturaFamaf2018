{
 "cells": [
  {
   "cell_type": "markdown",
   "metadata": {},
   "source": [
    "# Movies Reviews Sentiment Analysis 03 --- Mario Ferreyra\n",
    "---"
   ]
  },
  {
   "cell_type": "markdown",
   "metadata": {},
   "source": [
    "### Zona de _imports_"
   ]
  },
  {
   "cell_type": "code",
   "execution_count": 1,
   "metadata": {},
   "outputs": [],
   "source": [
    "import numpy as np\n",
    "import pandas as pd\n",
    "\n",
    "from sklearn import metrics\n",
    "from sklearn.pipeline import Pipeline, FeatureUnion\n",
    "from sklearn.feature_extraction.text import CountVectorizer, TfidfVectorizer\n",
    "from sklearn.dummy import DummyClassifier\n",
    "from sklearn.svm import LinearSVC\n",
    "from sklearn.linear_model import LogisticRegression, LogisticRegressionCV\n",
    "from sklearn.ensemble import RandomForestClassifier\n",
    "from sklearn.model_selection import ParameterGrid\n",
    "\n",
    "from pprint import pprint\n",
    "from collections import Counter\n",
    "from evaluator import Evaluator\n",
    "from tqdm import tqdm  # https://github.com/tqdm/tqdm\n",
    "from tokenizer import ReviewTokenizer\n",
    "from preprocessing import PreprocessingReview\n",
    "from utils import (load_datasets_unlabeled_test,\n",
    "                   save_csv_results,\n",
    "                   save_pickle_model, load_pickle_model,\n",
    "                   get_best_params)"
   ]
  },
  {
   "cell_type": "code",
   "execution_count": 2,
   "metadata": {},
   "outputs": [],
   "source": [
    "# Cargamos el Evaluator\n",
    "evaluator = Evaluator()"
   ]
  },
  {
   "cell_type": "markdown",
   "metadata": {},
   "source": [
    "### Cargamos el _dataset_"
   ]
  },
  {
   "cell_type": "code",
   "execution_count": 3,
   "metadata": {},
   "outputs": [],
   "source": [
    "train, dev, test = load_datasets_unlabeled_test()"
   ]
  },
  {
   "cell_type": "code",
   "execution_count": 4,
   "metadata": {},
   "outputs": [
    {
     "name": "stdout",
     "output_type": "stream",
     "text": [
      "(b'If ever a film needed English subtitles this is one . The accents and soft t'\n",
      " b\"alking are great but hard to follow storyline as you ca n't understand what \"\n",
      " b'they are saying and with no subtitles . Her songs were just beautiful and th'\n",
      " b'e story is great but a lot of it is lost on not catching what they are sayin'\n",
      " b'g . But is was a refreshing movie from most out there now . Fine acting and '\n",
      " b'story .')\n",
      "(b\"`` Just Married '' is a painfully cheesy movie that 's almost too lightheart\"\n",
      " b'ed and cute . Ashton Kutcher and Brittany Murphy play a Romeo and Juliet-esq'\n",
      " b\"e couple that has been repeated in so many movies , its sickening - he 's th\"\n",
      " b\"e classic dorky sports fan and child of middle-income parents , and she 's t\"\n",
      " b'he daughter of some billionare whose profession we never learn . Her parents'\n",
      " b' would have rather married her to the snobby Peter Prentice , a dull antagon'\n",
      " b'ist who is more of a roadblock then an actual character . Anyway , the cute '\n",
      " b'couple get married and jet off to Europe where their lies to eachother and u'\n",
      " b'nbelievable circumstances ( they are kicked out of a hotel after they ruin t'\n",
      " b'he circuit system by trying to plug in some kind of sex toy ) hinder their e'\n",
      " b'njoyment of the perfect honeymoon . The movie was worsened by bad jokes , bo'\n",
      " b'ring characters , and clich & egrave ; storylines . I think I considered lau'\n",
      " b'ghing about once.The terrible thing about this movie was how unbelievable ev'\n",
      " b'erything was . Every character was able to pull a beautiful and heartwarming'\n",
      " b\" monologue out of thin air . Most of the speeches did n't even fit the chara\"\n",
      " b\"cter 's personality , for instance , Kutcher 's character gave at least two \"\n",
      " b\"of these monologues , and each one was one of the best parts of the film 's \"\n",
      " b'script . Too bad they came out sounding forced and awkward , since the chara'\n",
      " b\"cter is n't supposed to be the brightest bulb in the box . Finally , the cha\"\n",
      " b\"racters were painfully underdeveloped . We do n't know whether or not Murphy\"\n",
      " b\" 's character likes being rich , nor can we ever really discern whether she \"\n",
      " b\"'s a rich-girl ditz or an art-loving intellectual . We never find out what M\"\n",
      " b\"urphy 's father does , and although a good , strong father-son relationship \"\n",
      " b\"is hinted at between Kutcher 's character and his father , we never know for\"\n",
      " b\" sure . Finally , an attractive blonde was constantly around Murphy 's chara\"\n",
      " b'cter ... was she a sister ? friend ? cousin ? It nagged me through the whole'\n",
      " b' movie.So , why not 1 star instead of 2 ? Well , Murphy and Kutcher proved t'\n",
      " b'o be excellent actors with amazing chemistry together . Murphy especially li'\n",
      " b't up the screen with her dazzling personality and cute , scratchy voice . Ku'\n",
      " b'tcher will be forever typecast as the dumb guy , but its a character that su'\n",
      " b'its him well . I found them to be the only highlights of the movie.Bottom li'\n",
      " b'ne : This movie kept me awake . It was fast paced and mildly enjoyable , but'\n",
      " b' lacked anything fresh or different . See it if you like teen chick fliks , '\n",
      " b'not if your idea of a movie is one that will keep you thinking .')\n"
     ]
    }
   ],
   "source": [
    "pprint(train[0][0])\n",
    "pprint(train[0][1])"
   ]
  },
  {
   "cell_type": "code",
   "execution_count": 5,
   "metadata": {},
   "outputs": [],
   "source": [
    "df_train = pd.DataFrame({'data': train[0], 'target': train[1]})\n",
    "df_dev = pd.DataFrame({'data': dev[0], 'target': dev[1]})"
   ]
  },
  {
   "cell_type": "code",
   "execution_count": 6,
   "metadata": {},
   "outputs": [
    {
     "name": "stdout",
     "output_type": "stream",
     "text": [
      "Train\n",
      "-----\n",
      "Shape 'Train' = (963, 2)\n"
     ]
    },
    {
     "data": {
      "text/html": [
       "<div>\n",
       "<style scoped>\n",
       "    .dataframe tbody tr th:only-of-type {\n",
       "        vertical-align: middle;\n",
       "    }\n",
       "\n",
       "    .dataframe tbody tr th {\n",
       "        vertical-align: top;\n",
       "    }\n",
       "\n",
       "    .dataframe thead th {\n",
       "        text-align: right;\n",
       "    }\n",
       "</style>\n",
       "<table border=\"1\" class=\"dataframe\">\n",
       "  <thead>\n",
       "    <tr style=\"text-align: right;\">\n",
       "      <th></th>\n",
       "      <th>data</th>\n",
       "      <th>target</th>\n",
       "    </tr>\n",
       "  </thead>\n",
       "  <tbody>\n",
       "    <tr>\n",
       "      <th>0</th>\n",
       "      <td>b\"If ever a film needed English subtitles this...</td>\n",
       "      <td>1</td>\n",
       "    </tr>\n",
       "    <tr>\n",
       "      <th>1</th>\n",
       "      <td>b\"`` Just Married '' is a painfully cheesy mov...</td>\n",
       "      <td>0</td>\n",
       "    </tr>\n",
       "    <tr>\n",
       "      <th>2</th>\n",
       "      <td>b\"I may not be able to add much to the reviews...</td>\n",
       "      <td>1</td>\n",
       "    </tr>\n",
       "    <tr>\n",
       "      <th>3</th>\n",
       "      <td>b\"I 've been a 3D nut for many decades . I pre...</td>\n",
       "      <td>0</td>\n",
       "    </tr>\n",
       "    <tr>\n",
       "      <th>4</th>\n",
       "      <td>b\"When I found out this version of Lonesome Do...</td>\n",
       "      <td>0</td>\n",
       "    </tr>\n",
       "    <tr>\n",
       "      <th>5</th>\n",
       "      <td>b'This review is to point out that this versio...</td>\n",
       "      <td>0</td>\n",
       "    </tr>\n",
       "    <tr>\n",
       "      <th>6</th>\n",
       "      <td>b\"If you look at the fine print on this DVD , ...</td>\n",
       "      <td>0</td>\n",
       "    </tr>\n",
       "    <tr>\n",
       "      <th>7</th>\n",
       "      <td>b\"This movie is based on a true story , and I ...</td>\n",
       "      <td>0</td>\n",
       "    </tr>\n",
       "    <tr>\n",
       "      <th>8</th>\n",
       "      <td>b\"... but a terrible DVD . The sound is plain ...</td>\n",
       "      <td>0</td>\n",
       "    </tr>\n",
       "    <tr>\n",
       "      <th>9</th>\n",
       "      <td>b\"From time to time I 've revisited this movie...</td>\n",
       "      <td>1</td>\n",
       "    </tr>\n",
       "  </tbody>\n",
       "</table>\n",
       "</div>"
      ],
      "text/plain": [
       "                                                data  target\n",
       "0  b\"If ever a film needed English subtitles this...       1\n",
       "1  b\"`` Just Married '' is a painfully cheesy mov...       0\n",
       "2  b\"I may not be able to add much to the reviews...       1\n",
       "3  b\"I 've been a 3D nut for many decades . I pre...       0\n",
       "4  b\"When I found out this version of Lonesome Do...       0\n",
       "5  b'This review is to point out that this versio...       0\n",
       "6  b\"If you look at the fine print on this DVD , ...       0\n",
       "7  b\"This movie is based on a true story , and I ...       0\n",
       "8  b\"... but a terrible DVD . The sound is plain ...       0\n",
       "9  b\"From time to time I 've revisited this movie...       1"
      ]
     },
     "metadata": {},
     "output_type": "display_data"
    },
    {
     "name": "stdout",
     "output_type": "stream",
     "text": [
      "Dev\n",
      "---\n",
      "Shape 'Dev' = (107, 2)\n"
     ]
    },
    {
     "data": {
      "text/html": [
       "<div>\n",
       "<style scoped>\n",
       "    .dataframe tbody tr th:only-of-type {\n",
       "        vertical-align: middle;\n",
       "    }\n",
       "\n",
       "    .dataframe tbody tr th {\n",
       "        vertical-align: top;\n",
       "    }\n",
       "\n",
       "    .dataframe thead th {\n",
       "        text-align: right;\n",
       "    }\n",
       "</style>\n",
       "<table border=\"1\" class=\"dataframe\">\n",
       "  <thead>\n",
       "    <tr style=\"text-align: right;\">\n",
       "      <th></th>\n",
       "      <th>data</th>\n",
       "      <th>target</th>\n",
       "    </tr>\n",
       "  </thead>\n",
       "  <tbody>\n",
       "    <tr>\n",
       "      <th>0</th>\n",
       "      <td>b\"In this dvd you have , the Boston POPS orche...</td>\n",
       "      <td>1</td>\n",
       "    </tr>\n",
       "    <tr>\n",
       "      <th>1</th>\n",
       "      <td>b'This show is the best . I was slow to get in...</td>\n",
       "      <td>1</td>\n",
       "    </tr>\n",
       "    <tr>\n",
       "      <th>2</th>\n",
       "      <td>b\"I have a couple of the Lucy collections , an...</td>\n",
       "      <td>0</td>\n",
       "    </tr>\n",
       "    <tr>\n",
       "      <th>3</th>\n",
       "      <td>b\"A Better Way To Die is a action-packed , dar...</td>\n",
       "      <td>1</td>\n",
       "    </tr>\n",
       "    <tr>\n",
       "      <th>4</th>\n",
       "      <td>b\"This is an unusual Merchant/Ivory film that ...</td>\n",
       "      <td>1</td>\n",
       "    </tr>\n",
       "    <tr>\n",
       "      <th>5</th>\n",
       "      <td>b\"I 'll admit that I 've never seen films by M...</td>\n",
       "      <td>1</td>\n",
       "    </tr>\n",
       "    <tr>\n",
       "      <th>6</th>\n",
       "      <td>b\"Being a huge vampire/horror fan and a fan of...</td>\n",
       "      <td>0</td>\n",
       "    </tr>\n",
       "    <tr>\n",
       "      <th>7</th>\n",
       "      <td>b'As many reviewers put it , this is definitel...</td>\n",
       "      <td>1</td>\n",
       "    </tr>\n",
       "    <tr>\n",
       "      <th>8</th>\n",
       "      <td>b\"While it 's true the once-brilliant `` Soap ...</td>\n",
       "      <td>0</td>\n",
       "    </tr>\n",
       "    <tr>\n",
       "      <th>9</th>\n",
       "      <td>b\"This movie barely touches on the holocaust ....</td>\n",
       "      <td>0</td>\n",
       "    </tr>\n",
       "  </tbody>\n",
       "</table>\n",
       "</div>"
      ],
      "text/plain": [
       "                                                data  target\n",
       "0  b\"In this dvd you have , the Boston POPS orche...       1\n",
       "1  b'This show is the best . I was slow to get in...       1\n",
       "2  b\"I have a couple of the Lucy collections , an...       0\n",
       "3  b\"A Better Way To Die is a action-packed , dar...       1\n",
       "4  b\"This is an unusual Merchant/Ivory film that ...       1\n",
       "5  b\"I 'll admit that I 've never seen films by M...       1\n",
       "6  b\"Being a huge vampire/horror fan and a fan of...       0\n",
       "7  b'As many reviewers put it , this is definitel...       1\n",
       "8  b\"While it 's true the once-brilliant `` Soap ...       0\n",
       "9  b\"This movie barely touches on the holocaust ....       0"
      ]
     },
     "metadata": {},
     "output_type": "display_data"
    }
   ],
   "source": [
    "print(\"Train\")\n",
    "print(\"-----\")\n",
    "print(\"Shape 'Train' =\", df_train.shape)\n",
    "display(df_train.head(10))\n",
    "\n",
    "print(\"Dev\")\n",
    "print(\"---\")\n",
    "print(\"Shape 'Dev' =\", df_dev.shape)\n",
    "display(df_dev.head(10))"
   ]
  },
  {
   "cell_type": "code",
   "execution_count": 7,
   "metadata": {},
   "outputs": [
    {
     "name": "stdout",
     "output_type": "stream",
     "text": [
      "Train Describe\n",
      "--------------\n"
     ]
    },
    {
     "data": {
      "text/html": [
       "<div>\n",
       "<style scoped>\n",
       "    .dataframe tbody tr th:only-of-type {\n",
       "        vertical-align: middle;\n",
       "    }\n",
       "\n",
       "    .dataframe tbody tr th {\n",
       "        vertical-align: top;\n",
       "    }\n",
       "\n",
       "    .dataframe thead th {\n",
       "        text-align: right;\n",
       "    }\n",
       "</style>\n",
       "<table border=\"1\" class=\"dataframe\">\n",
       "  <thead>\n",
       "    <tr style=\"text-align: right;\">\n",
       "      <th></th>\n",
       "      <th>target</th>\n",
       "    </tr>\n",
       "  </thead>\n",
       "  <tbody>\n",
       "    <tr>\n",
       "      <th>count</th>\n",
       "      <td>963.000000</td>\n",
       "    </tr>\n",
       "    <tr>\n",
       "      <th>mean</th>\n",
       "      <td>0.500519</td>\n",
       "    </tr>\n",
       "    <tr>\n",
       "      <th>std</th>\n",
       "      <td>0.500260</td>\n",
       "    </tr>\n",
       "    <tr>\n",
       "      <th>min</th>\n",
       "      <td>0.000000</td>\n",
       "    </tr>\n",
       "    <tr>\n",
       "      <th>25%</th>\n",
       "      <td>0.000000</td>\n",
       "    </tr>\n",
       "    <tr>\n",
       "      <th>50%</th>\n",
       "      <td>1.000000</td>\n",
       "    </tr>\n",
       "    <tr>\n",
       "      <th>75%</th>\n",
       "      <td>1.000000</td>\n",
       "    </tr>\n",
       "    <tr>\n",
       "      <th>max</th>\n",
       "      <td>1.000000</td>\n",
       "    </tr>\n",
       "  </tbody>\n",
       "</table>\n",
       "</div>"
      ],
      "text/plain": [
       "           target\n",
       "count  963.000000\n",
       "mean     0.500519\n",
       "std      0.500260\n",
       "min      0.000000\n",
       "25%      0.000000\n",
       "50%      1.000000\n",
       "75%      1.000000\n",
       "max      1.000000"
      ]
     },
     "metadata": {},
     "output_type": "display_data"
    },
    {
     "name": "stdout",
     "output_type": "stream",
     "text": [
      "===============\n",
      "Dev Describe\n",
      "------------\n"
     ]
    },
    {
     "data": {
      "text/html": [
       "<div>\n",
       "<style scoped>\n",
       "    .dataframe tbody tr th:only-of-type {\n",
       "        vertical-align: middle;\n",
       "    }\n",
       "\n",
       "    .dataframe tbody tr th {\n",
       "        vertical-align: top;\n",
       "    }\n",
       "\n",
       "    .dataframe thead th {\n",
       "        text-align: right;\n",
       "    }\n",
       "</style>\n",
       "<table border=\"1\" class=\"dataframe\">\n",
       "  <thead>\n",
       "    <tr style=\"text-align: right;\">\n",
       "      <th></th>\n",
       "      <th>target</th>\n",
       "    </tr>\n",
       "  </thead>\n",
       "  <tbody>\n",
       "    <tr>\n",
       "      <th>count</th>\n",
       "      <td>107.000000</td>\n",
       "    </tr>\n",
       "    <tr>\n",
       "      <th>mean</th>\n",
       "      <td>0.495327</td>\n",
       "    </tr>\n",
       "    <tr>\n",
       "      <th>std</th>\n",
       "      <td>0.502331</td>\n",
       "    </tr>\n",
       "    <tr>\n",
       "      <th>min</th>\n",
       "      <td>0.000000</td>\n",
       "    </tr>\n",
       "    <tr>\n",
       "      <th>25%</th>\n",
       "      <td>0.000000</td>\n",
       "    </tr>\n",
       "    <tr>\n",
       "      <th>50%</th>\n",
       "      <td>0.000000</td>\n",
       "    </tr>\n",
       "    <tr>\n",
       "      <th>75%</th>\n",
       "      <td>1.000000</td>\n",
       "    </tr>\n",
       "    <tr>\n",
       "      <th>max</th>\n",
       "      <td>1.000000</td>\n",
       "    </tr>\n",
       "  </tbody>\n",
       "</table>\n",
       "</div>"
      ],
      "text/plain": [
       "           target\n",
       "count  107.000000\n",
       "mean     0.495327\n",
       "std      0.502331\n",
       "min      0.000000\n",
       "25%      0.000000\n",
       "50%      0.000000\n",
       "75%      1.000000\n",
       "max      1.000000"
      ]
     },
     "metadata": {},
     "output_type": "display_data"
    }
   ],
   "source": [
    "print(\"Train Describe\")\n",
    "print(\"--------------\")\n",
    "display(df_train.describe())\n",
    "\n",
    "print(\"=\" * 15)\n",
    "\n",
    "print(\"Dev Describe\")\n",
    "print(\"------------\")\n",
    "display(df_dev.describe())"
   ]
  },
  {
   "cell_type": "markdown",
   "metadata": {},
   "source": [
    "### Separamos los datos en _**X**_ e _**y**_"
   ]
  },
  {
   "cell_type": "code",
   "execution_count": 8,
   "metadata": {},
   "outputs": [],
   "source": [
    "X_train = df_train['data'].tolist()\n",
    "y_train = df_train['target'].tolist()\n",
    "\n",
    "X_dev = df_dev['data'].tolist()\n",
    "y_dev = df_dev['target'].tolist()\n",
    "\n",
    "X_test = test"
   ]
  },
  {
   "cell_type": "code",
   "execution_count": 9,
   "metadata": {},
   "outputs": [
    {
     "name": "stdout",
     "output_type": "stream",
     "text": [
      "Counter 'y_train' = Counter({1: 482, 0: 481})\n",
      "Counter 'y_dev' = Counter({0: 54, 1: 53})\n"
     ]
    }
   ],
   "source": [
    "print(\"Counter 'y_train' =\", Counter(y_train))\n",
    "print(\"Counter 'y_dev' =\", Counter(y_dev))"
   ]
  },
  {
   "cell_type": "markdown",
   "metadata": {},
   "source": [
    "---\n",
    "##  Evaluemos varios modelos sobre _**Train**_ y _**Dev**_\n",
    "\n",
    "En particular vamos usar.\n",
    "\n",
    "Vectorizadores:\n",
    "* CountVectorizer\n",
    "* TfidfVectorizer\n",
    "\n",
    "Clasificadores:\n",
    "* LinearSVC\n",
    "* LogisticRegression\n",
    "* RandomForestClassifier"
   ]
  },
  {
   "cell_type": "code",
   "execution_count": 10,
   "metadata": {},
   "outputs": [],
   "source": [
    "clfs = {\n",
    "    'LinearSVC': LinearSVC(random_state=0),\n",
    "    'LogisticRegression': LogisticRegression(random_state=0),\n",
    "    'LogisticRegressionCV': LogisticRegressionCV(random_state=0),\n",
    "    'RandomForestClassifier': RandomForestClassifier(random_state=0),\n",
    "}"
   ]
  },
  {
   "cell_type": "code",
   "execution_count": 11,
   "metadata": {},
   "outputs": [
    {
     "name": "stdout",
     "output_type": "stream",
     "text": [
      "Vectorizador: CountVectorizer\n",
      "\n",
      " -----> LinearSVC <-----\n",
      "Accuracy = 1.00  |  Macro F1 = 1.00\n",
      "Accuracy = 0.83  |  Macro F1 = 0.83\n",
      "==============\n",
      " -----> LogisticRegression <-----\n",
      "Accuracy = 1.00  |  Macro F1 = 1.00\n",
      "Accuracy = 0.87  |  Macro F1 = 0.87\n",
      "==============\n",
      " -----> LogisticRegressionCV <-----\n",
      "Accuracy = 1.00  |  Macro F1 = 1.00\n",
      "Accuracy = 0.88  |  Macro F1 = 0.88\n",
      "==============\n",
      " -----> RandomForestClassifier <-----\n",
      "Accuracy = 0.99  |  Macro F1 = 0.99\n",
      "Accuracy = 0.77  |  Macro F1 = 0.76\n",
      "==============\n"
     ]
    }
   ],
   "source": [
    "vect = CountVectorizer(binary=True)\n",
    "\n",
    "print(\"Vectorizador: CountVectorizer\\n\")\n",
    "for name, clf in clfs.items():\n",
    "    print(\" -----> {} <-----\".format(name))\n",
    "    pipeline = Pipeline([\n",
    "        ('vect', vect),\n",
    "        ('clf', clf)\n",
    "    ])\n",
    "    pipeline.fit(X_train, y_train)\n",
    "    evaluator.print_short_eval(pipeline, X_train, y_train)\n",
    "    evaluator.print_short_eval(pipeline, X_dev, y_dev)\n",
    "    print(\"==============\")"
   ]
  },
  {
   "cell_type": "code",
   "execution_count": 12,
   "metadata": {},
   "outputs": [
    {
     "name": "stdout",
     "output_type": "stream",
     "text": [
      "Vectorizador: TfidfVectorizer\n",
      "\n",
      " -----> LinearSVC <-----\n",
      "Accuracy = 1.00  |  Macro F1 = 1.00\n",
      "Accuracy = 0.87  |  Macro F1 = 0.87\n",
      "==============\n",
      " -----> LogisticRegression <-----\n",
      "Accuracy = 0.99  |  Macro F1 = 0.99\n",
      "Accuracy = 0.88  |  Macro F1 = 0.88\n",
      "==============\n",
      " -----> LogisticRegressionCV <-----\n",
      "Accuracy = 1.00  |  Macro F1 = 1.00\n",
      "Accuracy = 0.88  |  Macro F1 = 0.88\n",
      "==============\n",
      " -----> RandomForestClassifier <-----\n",
      "Accuracy = 0.99  |  Macro F1 = 0.99\n",
      "Accuracy = 0.75  |  Macro F1 = 0.74\n",
      "==============\n"
     ]
    }
   ],
   "source": [
    "vect = TfidfVectorizer(binary=True)\n",
    "\n",
    "print(\"Vectorizador: TfidfVectorizer\\n\")\n",
    "for name, clf in clfs.items():\n",
    "    print(\" -----> {} <-----\".format(name))\n",
    "    pipeline = Pipeline([\n",
    "        ('vect', vect),\n",
    "        ('clf', clf)\n",
    "    ])\n",
    "    pipeline.fit(X_train, y_train)\n",
    "    evaluator.print_short_eval(pipeline, X_train, y_train)\n",
    "    evaluator.print_short_eval(pipeline, X_dev, y_dev)\n",
    "    print(\"==============\")"
   ]
  },
  {
   "cell_type": "markdown",
   "metadata": {},
   "source": [
    "Notar que usando a 'secas':\n",
    "* Vectorizador: TfidfVectorizer\n",
    "* Clasificador: LogisticRegressionCV\n",
    "\n",
    "Obtenemos mejores resultados. Por lo cual vamos a usar estos."
   ]
  },
  {
   "cell_type": "code",
   "execution_count": 13,
   "metadata": {},
   "outputs": [
    {
     "name": "stdout",
     "output_type": "stream",
     "text": [
      "Accuracy = 0.88\n",
      "\n",
      "             precision    recall  f1-score   support\n",
      "\n",
      "        neg       0.90      0.85      0.88        54\n",
      "        pos       0.86      0.91      0.88        53\n",
      "\n",
      "avg / total       0.88      0.88      0.88       107\n",
      "\n",
      "[[46  8]\n",
      " [ 5 48]]\n"
     ]
    }
   ],
   "source": [
    "vect = TfidfVectorizer(\n",
    "    binary=True,\n",
    ")\n",
    "\n",
    "clf = LogisticRegressionCV(random_state=0)\n",
    "\n",
    "pipeline = Pipeline([\n",
    "    ('vect', vect),\n",
    "    ('clf', clf),\n",
    "])\n",
    "\n",
    "pipeline.fit(X_train, y_train)\n",
    "\n",
    "evaluator.print_eval(pipeline, X_dev, y_dev)"
   ]
  },
  {
   "cell_type": "code",
   "execution_count": null,
   "metadata": {},
   "outputs": [],
   "source": []
  }
 ],
 "metadata": {
  "kernelspec": {
   "display_name": "Python 3",
   "language": "python",
   "name": "python3"
  },
  "language_info": {
   "codemirror_mode": {
    "name": "ipython",
    "version": 3
   },
   "file_extension": ".py",
   "mimetype": "text/x-python",
   "name": "python",
   "nbconvert_exporter": "python",
   "pygments_lexer": "ipython3",
   "version": "3.6.5"
  }
 },
 "nbformat": 4,
 "nbformat_minor": 2
}
