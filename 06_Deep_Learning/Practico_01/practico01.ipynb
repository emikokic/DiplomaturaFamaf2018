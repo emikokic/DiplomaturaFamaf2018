{
 "cells": [
  {
   "cell_type": "markdown",
   "metadata": {
    "nbpresent": {
     "id": "0b02df97-cbb3-4759-9371-cbbecd0ccd86"
    },
    "slideshow": {
     "slide_type": "slide"
    }
   },
   "source": [
    "# Construyendo una red neuronal con Keras"
   ]
  },
  {
   "cell_type": "markdown",
   "metadata": {
    "nbpresent": {
     "id": "03d05899-7ff9-4413-aa67-c7a96bbdfcde"
    },
    "slideshow": {
     "slide_type": "slide"
    }
   },
   "source": [
    "## Librerías"
   ]
  },
  {
   "cell_type": "code",
   "execution_count": 1,
   "metadata": {
    "nbpresent": {
     "id": "fa44eec5-93b3-4e4b-adcb-1065bb5cc474"
    },
    "slideshow": {
     "slide_type": "-"
    }
   },
   "outputs": [
    {
     "name": "stderr",
     "output_type": "stream",
     "text": [
      "Using TensorFlow backend.\n"
     ]
    }
   ],
   "source": [
    "%matplotlib inline\n",
    "\n",
    "import numpy as np\n",
    "import pandas as pd\n",
    "\n",
    "import matplotlib\n",
    "import matplotlib.pyplot as plt\n",
    "from IPython.display import SVG\n",
    "\n",
    "from sklearn.feature_extraction.text import CountVectorizer, TfidfVectorizer\n",
    "from tqdm import tqdm  # https://github.com/tqdm/tqdm\n",
    "\n",
    "import keras\n",
    "from keras.layers import Activation, Dense, Dropout\n",
    "from keras.models import Sequential\n",
    "from keras.utils.vis_utils import model_to_dot\n",
    "from keras import optimizers, regularizers"
   ]
  },
  {
   "cell_type": "code",
   "execution_count": 2,
   "metadata": {},
   "outputs": [],
   "source": [
    "np.random.seed(1)  # For Reproducibility"
   ]
  },
  {
   "cell_type": "code",
   "execution_count": 3,
   "metadata": {},
   "outputs": [
    {
     "name": "stdout",
     "output_type": "stream",
     "text": [
      "Training samples 1500, test_samples 500\n"
     ]
    }
   ],
   "source": [
    "from exercise_1 import load_dataset\n",
    "\n",
    "X_train, X_test, y_train, y_test_orginal = load_dataset()"
   ]
  },
  {
   "cell_type": "code",
   "execution_count": 4,
   "metadata": {},
   "outputs": [
    {
     "name": "stdout",
     "output_type": "stream",
     "text": [
      "Len X_train         = 1500\n",
      "Len y_train         = 1500\n",
      "==========================================\n",
      "Len X_test          = 500\n",
      "Len y_test_original = 500\n"
     ]
    }
   ],
   "source": [
    "print(\"Len X_train         =\", len(X_train))\n",
    "print(\"Len y_train         =\", len(y_train))\n",
    "print(\"==========================================\")\n",
    "print(\"Len X_test          =\", len(X_test))\n",
    "print(\"Len y_test_original =\", len(y_test_orginal))"
   ]
  },
  {
   "cell_type": "code",
   "execution_count": 5,
   "metadata": {},
   "outputs": [
    {
     "data": {
      "text/plain": [
       "b'here\\'s a word analogy : amistad is to the lost world as schindler\\'s list is to jurassic park . \\nin 1993 , after steven spielberg made the monster dino hit , many critics described schindler\\'s list as the director\\'s \" penance \" ( as if there was a need for him to apologize for making a crowd-pleasing blockbuster ) . \\nnow , after a three-year layoff , spielberg is back with a vengeance . \\nonce again , his summer release was special effects-loaded action/adventure flick with dinosaurs munching on human appetizers . \\nnow , following his 1993 pattern , he has fashioned another serious , inspirational christmas release about the nature of humanity . \\nthat film is amistad . \\nalthough not as masterful as schindler\\'s list , amistad is nevertheless a gripping motion picture . \\nthematically rich , impeccably crafted , and intellectually stimulating , the only area where this movie falls a little short is in its emotional impact . \\nwatching schindler\\'s list was a powerful , almost spiritual , experience . \\nspielberg pulled us into the narrative , absorbed us in the drama , then finally let us go , exhausted and shattered , three-plus hours later . \\naspects of the movie have stayed with me ever since . \\namistad , while a fine example of film making , is not as transcendent . \\nthe incident of the ship la amistad is not found in any history books , but , considering who writes the texts , that\\'s not a surprise . \\nhowever , the event is a part of the american social and legal fabric , and , while amistad does not adhere rigorously to the actual account , most of the basic facts are in order . \\nseveral , mostly minor changes have been made to enhance the film\\'s dramatic force . \\non the whole , while amistad may not be faithful to all of the details of the situation , it is true to the spirit and meaning of what transpired . \\none stormy night during the summer of 1839 , the 53 men imprisoned on the spanish slave ship la amistad escape . \\nled by the lion-hearted cinque ( djimon hounsou ) , they take control of the vessel , killing most of the crew . \\nadrift somewhere off the coast of cuba and uncertain how to make their way back to africa , they rely on the two surviving spaniards to navigate the eastward journey . \\nthey are tricked , however , and the la amistad , which makes its way northward off the united states\\' eastern coastline , is eventually captured by an american naval ship near connecticut . \\nthe kidnapped africans are shackled and thrown into prison , charged with murder and piracy . \\nthe first men to come to the africans\\' defense are abolitionists theodore joadson ( morgan freeman ) and lewis tappan ( stellan skarsgard ) . \\nthey are soon joined by roger baldwin ( matthew mcconaughey ) , a property attorney of little repute . \\naided by advice from former president john quincy adams ( anthony hopkins ) , baldwin proves a more persuasive orator than anyone gave him credit for , and his central argument -- that the prisoners were illegally kidnapped free men , not property -- convinces the judge . \\nbut powerful forces have aligned against baldwin\\'s cause . \\ncurrent president martin van buren ( nigel hawthorne ) , eager to please southern voters and 11-year old queen isabella of spain ( anna paquin ) , begins pulling strings behind-the-scenes to ensure that none of the africans goes free . \\nat its heart , amistad is a tale of human courage . \\ncinque is a heroic figure whose spirit remains unbreakable regardless of the pain and indignity he is subjected to . \\nhe is a free man , not a slave , and , while he recognizes that he may die as a result of his struggle , he will not give it up . \\neffectively portrayed by newcomer djimon hounsou , whose passion and screen presence arrest our attention , cinque is the key to viewers seeing the amistad africans as more than symbols in a battle of ideologies . \\nthey are individuals , and our ability to make that distinction is crucial to the movie\\'s success . \\nto amplify this point , spielberg presents many scenes from the africans\\' point-of-view , detailing their occasionally-humorous observations about some of the white man\\'s seemingly-strange \" rituals \" . \\nthe larger struggle is , of course , one of defining humanity . \\nas the nazis felt justified in slaughtering jews because they viewed their victims as \" sub-human , \" so the pro-slavery forces of amistad use a similar defense . \\nthe abolitionists regard the africans as men , but the slavers and their supporters see them as animals or property . \\nin a sense , the morality of slavery is on trial here with the specter of civil war , which would break out less than three decades later , looming over everything . \\namistad\\'s presentation of the legal and political intricacies surrounding the trial are fascinating , making this movie one of the most engrossing courtroom dramas in recent history . \\nfour claimants come forward against the africans : the state , which wants them tried for murder ; the queen of spain , who wants them handed over to her under the provision of an american/spanish treaty ; two american naval officers , who claim the right of high seas salvage ; and the two surviving spaniards from la amistad , who demand that their property be returned to them . \\nbaldwin must counter all of these claims , while facing a challenge to his own preconceived notions as the result of a relationship he develops with cinque . \\neven though attorney and client are divided by a language barrier , they gradually learn to communicate . \\naside from cinque , who is a fully-realized individual , characterization is spotty , but the acting is top-notch . \\nmatthew mcconaughey successfully overcomes his \" pretty boy \" image to become baldwin , but the lawyer is never particularly well-defined outside of his role in the la amistad case . \\nlikewise , while morgan freeman and stellan skarsgard are effective as joadson and tappan , they are never anything more than \" abolitionists . \" \\nnigel hawthorne , who played the title character in the madness of king george , presents martin van buren as a spineless sycophant to whom justice means far less than winning an election . \\nfinally , there\\'s anthony hopkins , whose towering portrayal of john quincy adams is as compelling as anything the great actor has recently done . \\nhopkins , who can convincingly play such diverse figures as a serial killer , an emotionally-crippled english butler , and richard nixon , makes us believe that he is adams . \\nhis ten-minute speech about freedom and human values is unforgettable . \\none point of difference worth noting between amistad and schindler\\'s list is this film\\'s lack of a well-defined human villain . \\nschindler\\'s list had ralph fiennes\\' superbly-realized amon goeth , who was not only a three-dimensional character , but a personification of all that the nazis stood for . \\nthere is no such figure in amistad . \\nthe villain is slavery , but an ideology , no matter how evil , is rarely the best adversary . \\nit is to spielberg\\'s credit that he has fashioned such a compelling motion picture without a prominent antagonist . \\namistad\\'s trek to the screen , which encountered some choppy waters ( author barbara chase-riboud has cried plagiarism , a charge denied by the film makers ) , comes in the midst of an upsurge of interest in the incident . \\nan opera of the same name opened in chicago on november 29 , 1997 . \\nnumerous books about the subject are showing up on bookstore shelves . \\nit remains to be seen how much longevity the amistad phenomena has , but one thing is certain -- with spielberg\\'s rousing , substantive film leading the way , the spotlight has now illuminated this chapter of american history . \\n'"
      ]
     },
     "execution_count": 5,
     "metadata": {},
     "output_type": "execute_result"
    }
   ],
   "source": [
    "X_train[0]"
   ]
  },
  {
   "cell_type": "code",
   "execution_count": 6,
   "metadata": {},
   "outputs": [
    {
     "data": {
      "text/plain": [
       "array([1, 0, 0, ..., 0, 1, 1])"
      ]
     },
     "execution_count": 6,
     "metadata": {},
     "output_type": "execute_result"
    }
   ],
   "source": [
    "y_train"
   ]
  },
  {
   "cell_type": "code",
   "execution_count": 7,
   "metadata": {},
   "outputs": [],
   "source": [
    "vocabulary = set()\n",
    "train_x_y = X_train + X_test\n",
    "for review in train_x_y:\n",
    "    for token in review.split():\n",
    "        vocabulary.add(token)"
   ]
  },
  {
   "cell_type": "code",
   "execution_count": 8,
   "metadata": {},
   "outputs": [
    {
     "data": {
      "text/plain": [
       "50920"
      ]
     },
     "execution_count": 8,
     "metadata": {},
     "output_type": "execute_result"
    }
   ],
   "source": [
    "len(vocabulary)"
   ]
  },
  {
   "cell_type": "code",
   "execution_count": 9,
   "metadata": {},
   "outputs": [
    {
     "name": "stdout",
     "output_type": "stream",
     "text": [
      "Counter y_train         = Counter({1: 757, 0: 743})\n",
      "Counter y_test_original = Counter({0: 257, 1: 243})\n"
     ]
    }
   ],
   "source": [
    "from collections import Counter\n",
    "\n",
    "print(\"Counter y_train         =\", Counter(y_train))\n",
    "print(\"Counter y_test_original =\", Counter(y_test_orginal))"
   ]
  },
  {
   "cell_type": "markdown",
   "metadata": {},
   "source": [
    "### Usaremos como Vectorizador: TFIDF"
   ]
  },
  {
   "cell_type": "code",
   "execution_count": 10,
   "metadata": {},
   "outputs": [
    {
     "data": {
      "text/plain": [
       "TfidfVectorizer(analyzer='word', binary=True, decode_error='strict',\n",
       "        dtype=<class 'numpy.int64'>, encoding='utf-8', input='content',\n",
       "        lowercase=True, max_df=0.3, max_features=None, min_df=4,\n",
       "        ngram_range=(1, 2), norm='l2', preprocessor=None, smooth_idf=True,\n",
       "        stop_words=None, strip_accents=None, sublinear_tf=False,\n",
       "        token_pattern='(?u)\\\\b\\\\w\\\\w+\\\\b', tokenizer=None, use_idf=True,\n",
       "        vocabulary=None)"
      ]
     },
     "execution_count": 10,
     "metadata": {},
     "output_type": "execute_result"
    }
   ],
   "source": [
    "# Mejores parametros del Vectorizador (Usados en Aprendizaje Supervisado)\n",
    "\n",
    "best_params_vect = {\n",
    "    'analyzer': 'word',\n",
    "    'binary': True,\n",
    "    'lowercase': True,\n",
    "    'max_df': 0.3,\n",
    "    'min_df': 4,\n",
    "    'ngram_range': (1, 2),\n",
    "    'stop_words': None,\n",
    "    'strip_accents': None,\n",
    "    'tokenizer': None\n",
    "}\n",
    "\n",
    "vect = TfidfVectorizer(**best_params_vect)\n",
    "vect"
   ]
  },
  {
   "cell_type": "code",
   "execution_count": 11,
   "metadata": {},
   "outputs": [
    {
     "data": {
      "text/plain": [
       "array([[0., 0., 0., ..., 0., 0., 0.],\n",
       "       [0., 0., 0., ..., 0., 0., 0.],\n",
       "       [0., 0., 0., ..., 0., 0., 0.],\n",
       "       ...,\n",
       "       [0., 0., 0., ..., 0., 0., 0.],\n",
       "       [0., 0., 0., ..., 0., 0., 0.],\n",
       "       [0., 0., 0., ..., 0., 0., 0.]])"
      ]
     },
     "metadata": {},
     "output_type": "display_data"
    },
    {
     "name": "stdout",
     "output_type": "stream",
     "text": [
      "\n",
      "\n",
      "Type X_train_vec = <class 'numpy.ndarray'>\n",
      "Shape X_train_vec = (1500, 44922)\n"
     ]
    }
   ],
   "source": [
    "X_train_vec = vect.fit_transform(X_train).toarray()\n",
    "display(X_train_vec)\n",
    "\n",
    "print(\"\\n\")\n",
    "print(\"Type X_train_vec =\", type(X_train_vec))\n",
    "print(\"Shape X_train_vec =\", X_train_vec.shape)"
   ]
  },
  {
   "cell_type": "code",
   "execution_count": 12,
   "metadata": {},
   "outputs": [
    {
     "data": {
      "text/plain": [
       "array([[0.        , 0.        , 0.        , ..., 0.        , 0.        ,\n",
       "        0.        ],\n",
       "       [0.        , 0.        , 0.        , ..., 0.        , 0.        ,\n",
       "        0.        ],\n",
       "       [0.        , 0.        , 0.        , ..., 0.        , 0.        ,\n",
       "        0.        ],\n",
       "       ...,\n",
       "       [0.        , 0.        , 0.        , ..., 0.        , 0.        ,\n",
       "        0.        ],\n",
       "       [0.        , 0.        , 0.        , ..., 0.        , 0.        ,\n",
       "        0.        ],\n",
       "       [0.        , 0.06059365, 0.        , ..., 0.        , 0.        ,\n",
       "        0.        ]])"
      ]
     },
     "metadata": {},
     "output_type": "display_data"
    },
    {
     "name": "stdout",
     "output_type": "stream",
     "text": [
      "\n",
      "\n",
      "Type X_test_vec = <class 'numpy.ndarray'>\n",
      "Shape X_test_vec = (500, 44922)\n"
     ]
    }
   ],
   "source": [
    "X_test_vec = vect.transform(X_test).toarray()\n",
    "display(X_test_vec)\n",
    "\n",
    "print(\"\\n\")\n",
    "print(\"Type X_test_vec =\", type(X_test_vec))\n",
    "print(\"Shape X_test_vec =\", X_test_vec.shape)"
   ]
  },
  {
   "cell_type": "markdown",
   "metadata": {},
   "source": [
    "Default Parameters LinearSVC\n",
    "----------------------------\n",
    "* penalty=’l2’,\n",
    "* loss=’squared_hinge’,\n",
    "* dual=True,\n",
    "* tol=0.0001,\n",
    "* C=1.0,\n",
    "* multi_class=’ovr’,\n",
    "* fit_intercept=True,\n",
    "* intercept_scaling=1,\n",
    "* class_weight=None,\n",
    "* verbose=0,\n",
    "* random_state=None,\n",
    "* max_iter=1000"
   ]
  },
  {
   "cell_type": "code",
   "execution_count": 13,
   "metadata": {},
   "outputs": [],
   "source": [
    "BATCH_SIZE = 128\n",
    "NUM_CLASSES = 2\n",
    "EPOCHS = 10\n",
    "\n",
    "INPUT_SIZE = 44922\n",
    "TRAIN_EXAMPLES = 1500\n",
    "TEST_EXAMPLES = 500"
   ]
  },
  {
   "cell_type": "code",
   "execution_count": 14,
   "metadata": {},
   "outputs": [],
   "source": [
    "x_train_vec = X_train_vec.reshape(TRAIN_EXAMPLES, INPUT_SIZE)\n",
    "x_test_vec = X_test_vec.reshape(TEST_EXAMPLES, INPUT_SIZE)"
   ]
  },
  {
   "cell_type": "code",
   "execution_count": 15,
   "metadata": {},
   "outputs": [],
   "source": [
    "model = Sequential([\n",
    "    Dense(250,\n",
    "          input_shape=(INPUT_SIZE,),\n",
    "          activation='relu',\n",
    "          kernel_regularizer=regularizers.l2(0.01),\n",
    "    ),\n",
    "    Dense(1,\n",
    "          activation='softmax',\n",
    "          kernel_regularizer=regularizers.l2(0.01),\n",
    "    ),\n",
    "])\n",
    "model.compile(\n",
    "    loss='binary_crossentropy',\n",
    "    optimizer='adam',\n",
    "    metrics=['accuracy']\n",
    ")"
   ]
  },
  {
   "cell_type": "code",
   "execution_count": 16,
   "metadata": {},
   "outputs": [
    {
     "name": "stdout",
     "output_type": "stream",
     "text": [
      "_________________________________________________________________\n",
      "Layer (type)                 Output Shape              Param #   \n",
      "=================================================================\n",
      "dense_1 (Dense)              (None, 250)               11230750  \n",
      "_________________________________________________________________\n",
      "dense_2 (Dense)              (None, 1)                 251       \n",
      "=================================================================\n",
      "Total params: 11,231,001\n",
      "Trainable params: 11,231,001\n",
      "Non-trainable params: 0\n",
      "_________________________________________________________________\n"
     ]
    }
   ],
   "source": [
    "model.summary()"
   ]
  },
  {
   "cell_type": "code",
   "execution_count": 17,
   "metadata": {},
   "outputs": [
    {
     "name": "stdout",
     "output_type": "stream",
     "text": [
      "Train on 1500 samples, validate on 500 samples\n",
      "Epoch 1/10\n",
      "1500/1500 [==============================] - 4s 3ms/step - loss: 9.5025 - acc: 0.5047 - val_loss: 8.4037 - val_acc: 0.4860\n",
      "Epoch 2/10\n",
      "1500/1500 [==============================] - 2s 1ms/step - loss: 8.1783 - acc: 0.5047 - val_loss: 8.3750 - val_acc: 0.4860\n",
      "Epoch 3/10\n",
      "1500/1500 [==============================] - 2s 1ms/step - loss: 7.9802 - acc: 0.5047 - val_loss: 8.2392 - val_acc: 0.4860\n",
      "Epoch 4/10\n",
      "1500/1500 [==============================] - 2s 1ms/step - loss: 7.9325 - acc: 0.5047 - val_loss: 8.2119 - val_acc: 0.4860\n",
      "Epoch 5/10\n",
      "1500/1500 [==============================] - 2s 1ms/step - loss: 7.9093 - acc: 0.5047 - val_loss: 8.2040 - val_acc: 0.4860\n",
      "Epoch 6/10\n",
      "1500/1500 [==============================] - 2s 1ms/step - loss: 7.9038 - acc: 0.5047 - val_loss: 8.1993 - val_acc: 0.4860\n",
      "Epoch 7/10\n",
      "1500/1500 [==============================] - 2s 1ms/step - loss: 7.9010 - acc: 0.5047 - val_loss: 8.1977 - val_acc: 0.4860\n",
      "Epoch 8/10\n",
      "1500/1500 [==============================] - 2s 1ms/step - loss: 7.8996 - acc: 0.5047 - val_loss: 8.1967 - val_acc: 0.4860\n",
      "Epoch 9/10\n",
      "1500/1500 [==============================] - 2s 1ms/step - loss: 7.8988 - acc: 0.5047 - val_loss: 8.1960 - val_acc: 0.4860\n",
      "Epoch 10/10\n",
      "1500/1500 [==============================] - 2s 1ms/step - loss: 7.8982 - acc: 0.5047 - val_loss: 8.1956 - val_acc: 0.4860\n"
     ]
    }
   ],
   "source": [
    "history = model.fit(\n",
    "            x_train_vec,\n",
    "            y_train,\n",
    "            batch_size=BATCH_SIZE,\n",
    "            epochs=EPOCHS,\n",
    "            verbose=1,\n",
    "            validation_data=(x_test_vec, y_test_orginal)\n",
    "        )"
   ]
  },
  {
   "cell_type": "code",
   "execution_count": null,
   "metadata": {},
   "outputs": [],
   "source": []
  }
 ],
 "metadata": {
  "anaconda-cloud": {},
  "celltoolbar": "Slideshow",
  "kernelspec": {
   "display_name": "Python 3",
   "language": "python",
   "name": "python3"
  },
  "language_info": {
   "codemirror_mode": {
    "name": "ipython",
    "version": 3
   },
   "file_extension": ".py",
   "mimetype": "text/x-python",
   "name": "python",
   "nbconvert_exporter": "python",
   "pygments_lexer": "ipython3",
   "version": "3.6.6"
  }
 },
 "nbformat": 4,
 "nbformat_minor": 2
}
