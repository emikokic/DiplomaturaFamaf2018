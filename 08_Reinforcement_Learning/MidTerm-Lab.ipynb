{
 "cells": [
  {
   "cell_type": "markdown",
   "metadata": {},
   "source": [
    "# Lab 1: Medio Término\n",
    "\n",
    "Curso Aprendizaje por Refuerzos, Diplomatura en Ciencia de Datos, Aprendizaje Automático y sus Aplicaciones\n",
    "\n",
    "FaMAF, 2018"
   ]
  },
  {
   "cell_type": "code",
   "execution_count": 1,
   "metadata": {},
   "outputs": [],
   "source": [
    "%matplotlib inline\n",
    "\n",
    "import seaborn as sns\n",
    "import matplotlib.pyplot as plt"
   ]
  },
  {
   "cell_type": "code",
   "execution_count": 2,
   "metadata": {},
   "outputs": [],
   "source": [
    "sns.set_style('whitegrid')\n",
    "sns.set_context('talk')"
   ]
  },
  {
   "cell_type": "markdown",
   "metadata": {},
   "source": [
    "## Introducción\n",
    "\n",
    "En el siguiente notebook se muestra cómo ejecutar agentes de aprendizaje por refuerzos, los cuáles son necesarios para realizar este Lab."
   ]
  },
  {
   "cell_type": "markdown",
   "metadata": {},
   "source": [
    "## Librería usada: OpenAI Gym\n",
    "\n",
    "[OpenAI Gym](https://gym.openai.com/) (Brockman et al., 2016) es una librería de OpenAI que ofrece entornos y una interfaz estándar con la cuál probar nuestros agentes.  \n",
    "Su objetivo es proveer benchmarks unificados para ver el desempeño de algoritmos en el entorno y así poder saber con facilidad cómo es su desempeño comparado con los demás.  \n",
    "Parte de la siguiente sección está basada en la documentación oficial de OpenAI."
   ]
  },
  {
   "cell_type": "markdown",
   "metadata": {},
   "source": [
    "La interfaz principal de los ambientes de gym es la interfaz Env. La misma posee tres métodos principales (info. basada en la documentación oficial de Gym):\n",
    "\n",
    "\n",
    "    reset(self): Reinicia el estado del entorno, a su estado inicial, devolviendo una observación de dicho estado.\n",
    "    step(self, action): \"Avanza\" un timestep del ambiente. Devuelve: observation, reward, done, info.\n",
    "    render(self): Muestra en pantalla una parte del ambiente.\n",
    "    close(self): Finaliza con la instancia del agente.\n",
    "    seed(self): Establece la semilla aleatoria del generador de números aleatorios del presente entorno.\n",
    "\n",
    "\n",
    "Por otra parte, cada entorno posee los siguientes tres atributos principales:\n",
    "\n",
    "    action_space: El objeto de tipo Space correspondiente al espacio de acciones válidas.\n",
    "    observation_space: El objeto de tipo Space correspondiente a todos los rangos posibles de observaciones.\n",
    "    reward_range: Tupla que contiene los valores mínimo y máximo de recompensa posible."
   ]
  },
  {
   "cell_type": "markdown",
   "metadata": {},
   "source": [
    "Algunas de las ejecuciones contienen videos. Para poder verlos se necesita previamente instalar la librería ffmpeg. Para hacerlo desde Linux ejecutar en consola\n",
    "\n",
    "\tsudo apt-get install ffmpeg\n",
    "\n",
    "desde Windows descargarla desde\n",
    "\n",
    "[https://ffmpeg.zeranoe.com/builds/]()"
   ]
  },
  {
   "cell_type": "markdown",
   "metadata": {},
   "source": [
    "Ejemplo: **Agente CartPole**"
   ]
  },
  {
   "cell_type": "code",
   "execution_count": 3,
   "metadata": {},
   "outputs": [],
   "source": [
    "import gym\n",
    "import time\n",
    "from IPython.display import clear_output\n",
    "\n",
    "env = gym.make('CartPole-v0')\n",
    "env.reset()\n",
    "for _ in range(500):\n",
    "    env.render(mode='human')\n",
    "    observation, reward, done, info = env.step(env.action_space.sample()) # se ejecuta una acción aleatoria\n",
    "    if done:\n",
    "        env.reset()\n",
    "env.close()\n",
    "clear_output()"
   ]
  },
  {
   "cell_type": "markdown",
   "metadata": {},
   "source": [
    "Ejemplo: **Agente Mountain Car**"
   ]
  },
  {
   "cell_type": "code",
   "execution_count": 4,
   "metadata": {},
   "outputs": [],
   "source": [
    "env = gym.make('MountainCar-v0')\n",
    "observation = env.reset()\n",
    "for t in range(500):\n",
    "    env.render(mode='human')\n",
    "    action = env.action_space.sample()\n",
    "    observation, reward, done, info = env.step(action)\n",
    "    if done:\n",
    "        print(\"Episode finished after {} timesteps\".format(t+1))\n",
    "        break\n",
    "env.close()\n",
    "clear_output()"
   ]
  },
  {
   "cell_type": "markdown",
   "metadata": {},
   "source": [
    "## **Ejemplo de Lab 1: Q-Learning en agente FrozenLake (con slippery = False).**\n",
    "\n",
    "![Frozen Lake](images/frozen_lake.png)\n",
    "\n",
    "Donde:\n",
    "* S = starting point (safe)\n",
    "* F = frozen surface (safe)\n",
    "* H = hole (fall to your doom)\n",
    "* G= goal (where the frisbee is located)\n",
    "\n",
    "(imagen de https://www.analyticsindiamag.com/openai-gym-frozen-lake-beginners-guide-reinforcement-learning/)"
   ]
  },
  {
   "cell_type": "markdown",
   "metadata": {},
   "source": [
    "**Descripción del entorno**:\n",
    "\n",
    "**Acciones**:\n",
    "\n",
    "* ^ - Arriba\n",
    "* v - Abajo\n",
    "* \\> - Derecha\n",
    "* < - Izquierda\n",
    "\n",
    "**Función de recompensa**:\n",
    "\n",
    "* $+1$ por llegar a estado Goal\n",
    "* $0$ en todos los demás estados\n",
    "\n",
    "\n",
    "**Función de transición**:\n",
    "\n",
    "* Con el atributo slippery en False cada acción mueve el agente en tal sentido con una probabilidad del 100,0%.  \n",
    "Con slippery en True, el 66,6% de las veces el agente se moverá a la casilla deseada, mientras que el 33,3% de las veces el agente se moverá a otra posición, determinada aleatoriamente.\n",
    "\n",
    "\n",
    "**Nota**: slippery es un atributo en el entorno FrozenLake que hace que el hielo sea o no resbaladizo, haciendo que el 33% de las veces la acción ejecutada sea aleatoria.  \n",
    "En el agente implementado de este notebook el mismo se desactivó para poder analizar mejor el desempeño del agente."
   ]
  },
  {
   "cell_type": "markdown",
   "metadata": {},
   "source": [
    "### Ejecución de agente aleatorio en FrozenLake"
   ]
  },
  {
   "cell_type": "code",
   "execution_count": 5,
   "metadata": {},
   "outputs": [
    {
     "name": "stdout",
     "output_type": "stream",
     "text": [
      "  (Up)\n",
      "\u001b[41mS\u001b[0mFFF\n",
      "FHFH\n",
      "FFFH\n",
      "HFFG\n"
     ]
    }
   ],
   "source": [
    "env = gym.make('FrozenLake-v0')\n",
    "env.reset()\n",
    "for _ in range(10):\n",
    "    clear_output()\n",
    "    env.render()\n",
    "    time.sleep(1)\n",
    "    observation, reward, done, info = env.step(env.action_space.sample()) # se ejecuta una acción aleatoria\n",
    "    if done:\n",
    "        env.reset()\n",
    "env.close()"
   ]
  },
  {
   "cell_type": "markdown",
   "metadata": {},
   "source": [
    "### Configuración básica"
   ]
  },
  {
   "cell_type": "code",
   "execution_count": 6,
   "metadata": {},
   "outputs": [],
   "source": [
    "import numpy as np\n",
    "import matplotlib.pyplot as plt\n",
    "from agents.frozen_lake_agent import FrozenLakeAgent as fP\n",
    "import itertools\n",
    "\n",
    "# definimos sus híper-parámetros básicos\n",
    "\n",
    "alpha = 0.5\n",
    "gamma = 0.9\n",
    "epsilon = 0.1\n",
    "tau = 25\n",
    "is_slippery = False\n",
    "cutoff_time = 100  # el tiempo de corte del agente son 100 time-steps, por lo que mantenemos el máximo (es posible bajarlo)\n",
    "\n",
    "# se declara una semilla aleatoria\n",
    "random_state = np.random.RandomState(20)\n",
    "\n",
    "# instanciamos nuestro agente\n",
    "agent = fP.FrozenLakeAgent()\n",
    "agent.random_state = random_state\n",
    "\n",
    "agent.set_hyper_parameters({\"alpha\": alpha, \"gamma\": gamma, \"epsilon\": epsilon})\n",
    "\n",
    "# declaramos como True la variable de mostrar video, para ver en tiempo real cómo aprende el agente.\n",
    "# Borrar esta línea para acelerar la velocidad del aprendizaje.\n",
    "agent.display_video = True\n",
    "\n",
    "# establece el tiempo de\n",
    "agent.set_cutoff_time(cutoff_time)"
   ]
  },
  {
   "cell_type": "markdown",
   "metadata": {},
   "source": [
    "### Inicialización y ejecución del agente"
   ]
  },
  {
   "cell_type": "code",
   "execution_count": 7,
   "metadata": {},
   "outputs": [],
   "source": [
    "# inicializa el agente\n",
    "agent.init_agent(is_slippery=is_slippery)  # slippery es establecido en False por defecto\n",
    "\n",
    "# reinicializa el conocimiento del agente\n",
    "agent.restart_agent_learning()\n",
    "\n",
    "# se realiza la ejecución del agente\n",
    "avg_steps_per_episode = agent.run()"
   ]
  },
  {
   "cell_type": "markdown",
   "metadata": {},
   "source": [
    "### Análisis de la ejecución del agente\n",
    "\n",
    "#### Análisis de convergencia\n",
    "\n",
    "A diferencia de lo que sucede en el aprendizaje supervisado, en el aprendizaje por refuerzos el rendimiento se evalúa por una función específica que es la función de recompensa.  \n",
    "En la práctica, la función de recompensa puede ser externa (y provista por el entorno) o bien puede ser una función creada por diseño (a modo de dirigir el agente hacia lo que por diseño se considera mejor, en nuestro ejemplo podría ser con una recompensa de $-1$ cada vez que el agente llega a un estado H) o bien combinar ambos enfoques (usando recompensas obtenidas desde el entorno y generadas por diseño).\n",
    "\n",
    "Como el objetivo de RL es maximizar la recompensa obtenida, es posible utilizar la información sobre la obtención de la recompensas en cada time-step o episodio para evaluar el rendimiento parcial del agente (esto depende mucho de la particularidad de la distribución de la recompensa para el problema tratado)."
   ]
  },
  {
   "cell_type": "markdown",
   "metadata": {},
   "source": [
    "Para analizar la ejecución del agente, vamos a ver cómo se desempeñó el mismo en dos aspectos:\n",
    "\n",
    "* Recompensa obtenida en cada episodio: nos dirá cuánta recompensa obtuvo el agente en cada uno de los episodios.  \n",
    "Con esta medida sabremos al instante si el agente pudo llegar al estado Goal en cada uno de los episodios, habiendo recibido una recompensa de $1$, donde en caso contrario habrá recibido una recompensa de $0$.\n",
    "\n",
    "* Pasos transcurridos en cada episodio: indicará cuántos pasos le ha llevado al agente la ejecución del episodio.  \n",
    "Si bien este indicador no garantiza que el agente haya llegado al estado G, indicará cómo el mismo tiende a realizar su aprendizaje (si aprende debería tender a bajar la cantidad de pasos por cada episodio)."
   ]
  },
  {
   "cell_type": "markdown",
   "metadata": {},
   "source": [
    "Veamos recompensa por episodio (recordar que en este entorno cada paso otorga una recompensa de $0$ excepto en aquellos en los que se arriba al estado Goal, donde la recompensa es de $1$)"
   ]
  },
  {
   "cell_type": "code",
   "execution_count": 8,
   "metadata": {},
   "outputs": [
    {
     "data": {
      "image/png": "[encoded data removed]",
      "text/plain": [
       "<Figure size 432x288 with 1 Axes>"
      ]
     },
     "metadata": {},
     "output_type": "display_data"
    }
   ],
   "source": [
    "episode_rewards = np.array(agent.reward_of_episode)\n",
    "plt.scatter(np.array(range(0, len(episode_rewards))), episode_rewards, s=0.7)\n",
    "plt.title('Recompensa por episodio')\n",
    "plt.show()"
   ]
  },
  {
   "cell_type": "markdown",
   "metadata": {},
   "source": [
    "Veamos pasos por episodio"
   ]
  },
  {
   "cell_type": "code",
   "execution_count": 9,
   "metadata": {},
   "outputs": [
    {
     "data": {
      "image/png": "[encoded data removed]",
      "text/plain": [
       "<Figure size 432x288 with 1 Axes>"
      ]
     },
     "metadata": {},
     "output_type": "display_data"
    }
   ],
   "source": [
    "# se muestra la curva de aprendizaje de los pasos por episodio\n",
    "episode_steps = np.array(agent.timesteps_of_episode)\n",
    "plt.plot(np.array(range(0, len(episode_steps))), episode_steps)\n",
    "plt.title('Pasos (timesteps) por episodio')\n",
    "plt.show()"
   ]
  },
  {
   "cell_type": "markdown",
   "metadata": {},
   "source": [
    "Como vemos, los gráficos arrojan algo de información pero a su vez oscilan demasiado.  \n",
    "Para contrarrestar esto procedemos a suavizarlos:"
   ]
  },
  {
   "cell_type": "code",
   "execution_count": 10,
   "metadata": {},
   "outputs": [
    {
     "data": {
      "image/png": "[encoded data removed]",
      "text/plain": [
       "<Figure size 432x288 with 1 Axes>"
      ]
     },
     "metadata": {},
     "output_type": "display_data"
    }
   ],
   "source": [
    "# se suaviza la curva de convergencia\n",
    "episode_number = np.linspace(1, len(episode_rewards) + 1, len(episode_rewards) + 1)\n",
    "acumulated_rewards = np.cumsum(episode_rewards)\n",
    "\n",
    "reward_per_episode = [acumulated_rewards[i] / episode_number[i] for i in range(len(acumulated_rewards))]\n",
    "\n",
    "plt.plot(reward_per_episode)\n",
    "plt.title('Recompensa acumulada por episodio')\n",
    "plt.show()"
   ]
  },
  {
   "cell_type": "code",
   "execution_count": 11,
   "metadata": {},
   "outputs": [
    {
     "data": {
      "image/png": "[encoded data removed]",
      "text/plain": [
       "<Figure size 432x288 with 1 Axes>"
      ]
     },
     "metadata": {},
     "output_type": "display_data"
    }
   ],
   "source": [
    "# se suaviza la curva de aprendizaje\n",
    "episode_number = np.linspace(1, len(episode_steps) + 1, len(episode_steps) + 1)\n",
    "acumulated_steps = np.cumsum(episode_steps)\n",
    "\n",
    "steps_per_episode = [acumulated_steps[i] / episode_number[i] for i in range(len(acumulated_steps))]\n",
    "\n",
    "plt.plot(steps_per_episode)\n",
    "plt.title('Pasos (timesteps) acumulados por episodio')\n",
    "plt.show()"
   ]
  },
  {
   "cell_type": "markdown",
   "metadata": {},
   "source": [
    "#### **Análisis de matriz de valor y política óptima**\n",
    "\n",
    "Siendo que este es un ejemplo tabular y de pocos estados / acciones, es posible realizar un análisis de convergencia desde otro punto de vista: desde el valor que alcanzó cada estado al finalizar la ejecución del agente y la acción que ejecutaría al llegar a cada estado\\*.  \n",
    "Ambos nos brindarán información sobre la convergencia alcanzada por el agente.\n",
    "\n",
    "Teniendo los valores de $Q(s,a)$ para cada par estado-acción, el valor de cada estado se calcula a través de\n",
    "\n",
    "$$V(s) = \\sum_{a} \\pi(a \\mid s) Q(s, a) $$\n",
    "\n",
    "donde $\\pi(a \\mid s)$ es la probabilidad de tomar la acción $a$ siendo que el agente se encuentra en el estado $s$.  \n",
    "Siguiendo la política $\\epsilon$-greedy, donde como ejemplo $\\epsilon = 0.25$ y dado el conjunto de acciones posibles $A$ donde $\\mid\\;A\\mid=4$, $\\pi(a \\mid s)$ está dado por:\n",
    "\n",
    "\n",
    "$$\n",
    "\\pi(a \\mid s) = \\begin{cases}\n",
    "                    0.75 + \\frac{0.25}{4} & \\text{si $a$ es la mejor acción}\\\\\n",
    "                    \\frac{0.25}{4} & \\text{en caso contrario}\n",
    "                \\end{cases}\n",
    "$$\n",
    "\n",
    "\n",
    "Notar que la fracción $\\frac{0.25}{4}$ se añade pues se tiene en cuenta que $a$ puede haber sido elegida aleatoriamente al ejecutar una acción exploratoria.  \n",
    "Un criterio distinto podría ser que en la acción exploratoria se excluya a la mejor acción.\n",
    "\n",
    "\n",
    "(\\*) Tener en cuenta que este análisis se hace principalmente con fines educativos, para entornos más complejos el mismo puede no ser factible.  \n",
    "En tales casos, un análisis alternativo podría consistir en hacer que el agente ejecute su política para la que fue entrenado, para hacer una evaluación a partir del comportamiento del mismo."
   ]
  },
  {
   "cell_type": "markdown",
   "metadata": {},
   "source": [
    "Por otra parte, la acción óptima para cada estado se obtiene simplemente consultando el $Q(s,a)$ que mayor valor arroja. Gráficamente:"
   ]
  },
  {
   "cell_type": "code",
   "execution_count": 12,
   "metadata": {},
   "outputs": [
    {
     "data": {
      "image/png": "[encoded data removed]",
      "text/plain": [
       "<Figure size 432x288 with 2 Axes>"
      ]
     },
     "metadata": {},
     "output_type": "display_data"
    },
    {
     "name": "stdout",
     "output_type": "stream",
     "text": [
      "\n",
      " Matriz de valor (en números): \n",
      "\n",
      " [[0.58473272 0.51024546 0.63217969 0.        ]\n",
      " [0.63494077 0.         0.75642609 0.        ]\n",
      " [0.70548975 0.7859025  0.86895    0.        ]\n",
      " [0.         0.87096289 0.988      1.        ]]\n"
     ]
    }
   ],
   "source": [
    "# se procede con los cálculos previos a la graficación de la matriz de valor\n",
    "value_matrix = np.zeros((4, 4))\n",
    "for row in range(4):\n",
    "    for column in range(4):\n",
    "\n",
    "        state_values = []\n",
    "\n",
    "        for action in range(4):\n",
    "            state_values.append(agent.q.get((row * 4 + column, action), 0))\n",
    "        \n",
    "        maximum_value = max(state_values)  # como usamos epsilon-greedy, determinamos la acción que arroja máximo valor\n",
    "        state_values.remove(maximum_value)  # removemos el ítem asociado con la acción de máximo valor\n",
    "        \n",
    "        # el valor de la matriz para la mejor acción es el máximo valor por la probabilidad de que el mismo sea elegido\n",
    "        # (que es 1-epsilon por la probabilidad de explotación más 1/4 * epsilon por probabilidad de que sea elegido al\n",
    "        # azar cuando se opta por una acción exploratoria)\n",
    "        value_matrix[row, column] = maximum_value * (1 - epsilon + (1/4 * epsilon))\n",
    "        \n",
    "        for non_maximum_value in state_values:\n",
    "            value_matrix[row, column] += (epsilon/4) * non_maximum_value\n",
    "            \n",
    "# el valor del estado objetivo se asigna en 1 (reward recibido al llegar) para que se coloree de forma apropiada\n",
    "value_matrix[3, 3] = 1\n",
    "\n",
    "# se grafica la matriz de valor\n",
    "plt.imshow(value_matrix, cmap=plt.cm.RdYlGn)\n",
    "plt.tight_layout()\n",
    "plt.colorbar()\n",
    "\n",
    "fmt = '.2f'\n",
    "thresh = value_matrix.max() / 2.\n",
    "\n",
    "plt.xticks([])\n",
    "plt.yticks([])\n",
    "plt.show()\n",
    "\n",
    "print('\\n Matriz de valor (en números): \\n\\n', value_matrix)"
   ]
  },
  {
   "cell_type": "code",
   "execution_count": 13,
   "metadata": {},
   "outputs": [],
   "source": [
    "# destrucción del agente\n",
    "agent.destroy_agent()"
   ]
  },
  {
   "cell_type": "markdown",
   "metadata": {},
   "source": [
    "## Ejercicios Lab1\n",
    "\n",
    "Para el presente lab vamos a utilizar la clase FrozenLakeAgent, llamada desde el presente notebook, y el script *frozenlake_main_script*, ubicado en *agents/frozen\\_lake\\_agent/*.  \n",
    "Los mismos se presentan como herramientas para resolver los ejercicios, por lo que se permite, para la resolución de los mismos, modificarlos o reemplazarlos por sus propias implementaciones.  \n",
    "Presentan la siguiente funcionalidad:\n",
    "\n",
    "> frozenlake_main_script\n",
    "\n",
    "Script que crea y define la configuración inicial del agente de RL de tipo FrozenLake, creando la instancia de FrozenLakeAgent.\n",
    "\n",
    "> FrozenLakeAgent\n",
    "\n",
    "Clase que implementa la interfaz con OpenAIGym, creando el entorno FrozenLake y aplicando acciones sobre el mismo.  \n",
    "Adicionalmente provee una interfaz para llamar y correr el agente RL.\n",
    "\n",
    "Adicionalmente, en la clase también se implementa el algoritmo QLearning, lo cual involucra el guardado de los valores de Q en un diccionario, la selección de acciones (mediante $choose\\_action$) y la actualización de los valores de Q (mediante $learn$).\n",
    "\n",
    "Se pide:\n",
    "\n",
    "1. Dado el agente de Q-Learning en el entorno FrozenLake, implementar la política Softmax, dada por\n",
    "$$\\pi(a \\mid s) = \\frac{e^{Q(s,a)/\\tau}}{\\sum_{a'}e^{Q(s,a')/\\tau}}$$\n",
    "\n",
    "2. Realizar una breve descripción analizando cómo difieren en la curva de aprendizaje los distintos valores de los híper-parámetros $\\alpha$, $\\epsilon$, $\\tau$ y $\\gamma$ tanto con política $\\epsilon$-greedy como con Softmax.\n",
    "\n",
    "3. Implementar algoritmo SARSA y compararlo con Q-Learning, en la curva de convergencia de la recompensa.  \n",
    "Opcional: compararlos también en la matriz de valor, para lo cuál debe adaptarse la matriz de valor a la política Softmax (actualmente la misma está de acuerdo a la política epsilon-greedy).\n",
    "\n",
    "4. Evaluar cómo cambia el desempeño de los algoritmos implementados con el entorno FrozenLake con Slippery = True.  \n",
    "¿Cómo se comparan Q-Learning y SARSA? ¿Cómo es esta comparación de acuerdo a los valores de sus híper-parámetros?\n",
    "\n",
    "5. Modificar la función de recompensa de modo tal que se penalice caer al agua o bien que se penalice cada time-step (o algún criterio similar).  \n",
    "Analizar cómo difiere la convergencia en tales casos (comparando Q-Learning con SARSA).\n",
    "\n",
    "6. Aumentar la cantidad de pasos posibles en el entorno (mediante el cutoff_time en el script y con max_episode_steps en la clase Q-Learning).  \n",
    "Evaluar si la matriz de valor se ve afectada, y en tal caso describir cómo.\n",
    "\n",
    "Para enviar el Lab, enviar la solución en un archivo comprimido a la dirección jbarsce | at | gmail | dot | com\n",
    "\n",
    "**Nota 1**: puede utilizarse la versión más grande del FrozenLake, que es una grilla de tamaño 8x8 (solamente esta grilla o ambas grillas a modo de comparación).  \n",
    "Para usarla, se debe modificar la variable en *register* del método *init_agent* de '4x4' a 8x8.\n",
    "\n",
    "**Nota 2**: para visualizar los distintos aspectos del entorno frozen lake que se pueden cambiar en la función Register, seguir este link\n",
    "https://github.com/openai/gym/blob/master/gym/envs/toy_text/frozen_lake.py\n",
    "\n",
    "**Recomendación general**: No se sugiere hacer este TP desde jupyter notebook/lab sino desde un IDE estilo Pycharm, debido a que los algoritmos de RL suelen requerir un debug paso a paso, tanto para corregir errores como para entender mejor cómo funcionan los mismos."
   ]
  },
  {
   "cell_type": "code",
   "execution_count": null,
   "metadata": {},
   "outputs": [],
   "source": []
  }
 ],
 "metadata": {
  "kernelspec": {
   "display_name": "Python 3",
   "language": "python",
   "name": "python3"
  },
  "language_info": {
   "codemirror_mode": {
    "name": "ipython",
    "version": 3
   },
   "file_extension": ".py",
   "mimetype": "text/x-python",
   "name": "python",
   "nbconvert_exporter": "python",
   "pygments_lexer": "ipython3",
   "version": "3.6.6"
  }
 },
 "nbformat": 4,
 "nbformat_minor": 2
}
