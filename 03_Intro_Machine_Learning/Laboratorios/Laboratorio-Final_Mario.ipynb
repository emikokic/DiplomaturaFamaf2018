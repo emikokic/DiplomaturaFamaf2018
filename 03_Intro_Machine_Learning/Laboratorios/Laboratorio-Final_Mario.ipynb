{
 "cells": [
  {
   "cell_type": "markdown",
   "metadata": {},
   "source": [
    "# Laboratorio 2: Armado de un esquema de aprendizaje automático\n",
    "\n",
    "En el laboratorio final se espera que puedan poner en práctica los conocimientos adquiridos en el curso, trabajando con un conjunto de datos de clasificación.\n",
    "\n",
    "El objetivo es que se introduzcan en el desarrollo de un esquema para hacer tareas de aprendizaje automático: selección de un modelo, ajuste de hiperparámetros y evaluación.\n",
    "\n",
    "El conjunto de datos a utilizar está en `./data/loan_data.csv`. Si abren el archivo verán que al principio (las líneas que empiezan con `#`) describen el conjunto de datos y sus atributos (incluyendo el atributo de etiqueta o clase).\n",
    "\n",
    "Se espera que hagan uso de las herramientas vistas en el curso.  \n",
    "Se espera que hagan uso especialmente de las herramientas brindadas por `scikit-learn`."
   ]
  },
  {
   "cell_type": "code",
   "execution_count": 1,
   "metadata": {},
   "outputs": [],
   "source": [
    "import numpy as np\n",
    "import pandas as pd\n",
    "\n",
    "# TODO: Agregar las librerías que hagan falta\n",
    "\n",
    "from sklearn.linear_model import SGDClassifier, LinearRegression, LogisticRegression, Perceptron, Ridge\n",
    "from sklearn.preprocessing import PolynomialFeatures\n",
    "#from sklearn.svm import LinearSVC\n",
    "from sklearn.model_selection import GridSearchCV, train_test_split\n",
    "from sklearn.metrics import (accuracy_score, precision_score,\n",
    "                             recall_score, f1_score,\n",
    "                             classification_report, confusion_matrix,\n",
    "                             roc_curve, auc,\n",
    "                             average_precision_score, precision_recall_curve)\n",
    "from ml.visualization import plot_confusion_matrix, classifier_boundary, plot_learning_curve\n",
    "\n",
    "from collections import Counter\n",
    "import matplotlib.pyplot as plt\n",
    "from matplotlib.colors import ListedColormap\n",
    "\n",
    "%matplotlib inline\n",
    "\n",
    "np.random.seed(0)  # Para mayor determinismo"
   ]
  },
  {
   "cell_type": "markdown",
   "metadata": {},
   "source": [
    "* http://scikit-learn.org/stable/modules/generated/sklearn.linear_model.LinearRegression.html#sklearn.linear_model.LinearRegression\n",
    "* http://scikit-learn.org/stable/modules/generated/sklearn.linear_model.LogisticRegression.html#sklearn.linear_model.LogisticRegression\n",
    "* http://scikit-learn.org/stable/modules/generated/sklearn.linear_model.Perceptron.html\n",
    "* http://scikit-learn.org/stable/modules/generated/sklearn.linear_model.Ridge.html#sklearn.linear_model.Ridge\n",
    "* http://scikit-learn.org/stable/modules/generated/sklearn.preprocessing.PolynomialFeatures.html"
   ]
  },
  {
   "cell_type": "markdown",
   "metadata": {},
   "source": [
    "---\n",
    "## Carga de datos\n",
    "\n",
    "La celda siguiente se encarga de la carga de datos (haciendo uso de pandas). Estos serán los que se trabajarán en el resto del laboratorio."
   ]
  },
  {
   "cell_type": "code",
   "execution_count": 2,
   "metadata": {},
   "outputs": [
    {
     "data": {
      "text/html": [
       "<div>\n",
       "<style scoped>\n",
       "    .dataframe tbody tr th:only-of-type {\n",
       "        vertical-align: middle;\n",
       "    }\n",
       "\n",
       "    .dataframe tbody tr th {\n",
       "        vertical-align: top;\n",
       "    }\n",
       "\n",
       "    .dataframe thead th {\n",
       "        text-align: right;\n",
       "    }\n",
       "</style>\n",
       "<table border=\"1\" class=\"dataframe\">\n",
       "  <thead>\n",
       "    <tr style=\"text-align: right;\">\n",
       "      <th></th>\n",
       "      <th>TARGET</th>\n",
       "      <th>LOAN</th>\n",
       "      <th>MORTDUE</th>\n",
       "      <th>VALUE</th>\n",
       "      <th>YOJ</th>\n",
       "      <th>DEROG</th>\n",
       "      <th>DELINQ</th>\n",
       "      <th>CLAGE</th>\n",
       "      <th>NINQ</th>\n",
       "      <th>CLNO</th>\n",
       "      <th>DEBTINC</th>\n",
       "    </tr>\n",
       "  </thead>\n",
       "  <tbody>\n",
       "    <tr>\n",
       "      <th>0</th>\n",
       "      <td>0</td>\n",
       "      <td>4700</td>\n",
       "      <td>88026.0</td>\n",
       "      <td>115506.0</td>\n",
       "      <td>6.0</td>\n",
       "      <td>0.0</td>\n",
       "      <td>0.0</td>\n",
       "      <td>182.248332</td>\n",
       "      <td>0.0</td>\n",
       "      <td>27.0</td>\n",
       "      <td>29.209023</td>\n",
       "    </tr>\n",
       "    <tr>\n",
       "      <th>1</th>\n",
       "      <td>0</td>\n",
       "      <td>19300</td>\n",
       "      <td>39926.0</td>\n",
       "      <td>101208.0</td>\n",
       "      <td>4.0</td>\n",
       "      <td>0.0</td>\n",
       "      <td>0.0</td>\n",
       "      <td>140.051638</td>\n",
       "      <td>0.0</td>\n",
       "      <td>14.0</td>\n",
       "      <td>31.545694</td>\n",
       "    </tr>\n",
       "    <tr>\n",
       "      <th>2</th>\n",
       "      <td>0</td>\n",
       "      <td>5700</td>\n",
       "      <td>71556.0</td>\n",
       "      <td>79538.0</td>\n",
       "      <td>2.0</td>\n",
       "      <td>0.0</td>\n",
       "      <td>0.0</td>\n",
       "      <td>92.643085</td>\n",
       "      <td>0.0</td>\n",
       "      <td>15.0</td>\n",
       "      <td>41.210012</td>\n",
       "    </tr>\n",
       "    <tr>\n",
       "      <th>3</th>\n",
       "      <td>0</td>\n",
       "      <td>13000</td>\n",
       "      <td>44875.0</td>\n",
       "      <td>57713.0</td>\n",
       "      <td>0.0</td>\n",
       "      <td>1.0</td>\n",
       "      <td>0.0</td>\n",
       "      <td>184.990324</td>\n",
       "      <td>1.0</td>\n",
       "      <td>12.0</td>\n",
       "      <td>28.602076</td>\n",
       "    </tr>\n",
       "    <tr>\n",
       "      <th>4</th>\n",
       "      <td>0</td>\n",
       "      <td>19300</td>\n",
       "      <td>72752.0</td>\n",
       "      <td>106084.0</td>\n",
       "      <td>11.0</td>\n",
       "      <td>0.0</td>\n",
       "      <td>0.0</td>\n",
       "      <td>193.707100</td>\n",
       "      <td>1.0</td>\n",
       "      <td>13.0</td>\n",
       "      <td>30.686106</td>\n",
       "    </tr>\n",
       "  </tbody>\n",
       "</table>\n",
       "</div>"
      ],
      "text/plain": [
       "   TARGET   LOAN  MORTDUE     VALUE   YOJ  DEROG  DELINQ       CLAGE  NINQ  \\\n",
       "0       0   4700  88026.0  115506.0   6.0    0.0     0.0  182.248332   0.0   \n",
       "1       0  19300  39926.0  101208.0   4.0    0.0     0.0  140.051638   0.0   \n",
       "2       0   5700  71556.0   79538.0   2.0    0.0     0.0   92.643085   0.0   \n",
       "3       0  13000  44875.0   57713.0   0.0    1.0     0.0  184.990324   1.0   \n",
       "4       0  19300  72752.0  106084.0  11.0    0.0     0.0  193.707100   1.0   \n",
       "\n",
       "   CLNO    DEBTINC  \n",
       "0  27.0  29.209023  \n",
       "1  14.0  31.545694  \n",
       "2  15.0  41.210012  \n",
       "3  12.0  28.602076  \n",
       "4  13.0  30.686106  "
      ]
     },
     "metadata": {},
     "output_type": "display_data"
    }
   ],
   "source": [
    "dataset = pd.read_csv(\"./data/loan_data.csv\", comment=\"#\")\n",
    "\n",
    "display(dataset.head())"
   ]
  },
  {
   "cell_type": "markdown",
   "metadata": {},
   "source": [
    "Atributos:\n",
    "\n",
    "* **TARGET** = Label: 1 = client defaulted on loan - 0 = loan repaid\n",
    "* **LOAN** = Amount of the loan request\n",
    "* **MORTDUE** = Amount due on existing mortgage\n",
    "* **VALUE** = Value of current property\n",
    "* **YOJ** = Years at present job\n",
    "* **DEROG** = Number of major derogatory reports\n",
    "* **DELINQ** = Number of delinquent credit lines\n",
    "* **CLAGE** = Age of oldest trade line in months\n",
    "* **NINQ** = Number of recent credit lines\n",
    "* **CLNO** = Number of credit lines\n",
    "* **DEBTINC** = Debt-to-income ratio\n",
    "\n",
    "**NOTA:** TARGET es lo que hay que predecir"
   ]
  },
  {
   "cell_type": "code",
   "execution_count": 3,
   "metadata": {},
   "outputs": [
    {
     "name": "stdout",
     "output_type": "stream",
     "text": [
      "Shape dataset = (1854, 11)\n"
     ]
    }
   ],
   "source": [
    "# 11 columnas: 10 features + 1 clase\n",
    "print(\"Shape dataset =\", dataset.shape)"
   ]
  },
  {
   "cell_type": "code",
   "execution_count": 4,
   "metadata": {},
   "outputs": [],
   "source": [
    "# División entre instancias y etiquetas\n",
    "X, y = dataset.iloc[:, 1:], dataset.TARGET"
   ]
  },
  {
   "cell_type": "code",
   "execution_count": 5,
   "metadata": {},
   "outputs": [
    {
     "name": "stdout",
     "output_type": "stream",
     "text": [
      "Counter TARGET = Counter({0: 1545, 1: 309})\n"
     ]
    }
   ],
   "source": [
    "print(\"Counter TARGET =\", Counter(y))"
   ]
  },
  {
   "cell_type": "markdown",
   "metadata": {},
   "source": [
    "---\n",
    "## Ejercicio 1: División de datos en conjuntos de entrenamiento y evaluación\n",
    "\n",
    "La primer tarea consiste en dividir el conjunto de datos cargados en el apartado anterior en conjuntos de entrenamiento (o *training*) y evaluación (o *test*).\n",
    "\n",
    "El primero será utilizado para la creación/selección del modelo de clasificación. El segundo se utilizará sólo al final (una vez elegidos los mejores hiperparámetros) para ver cuál es el resultado final del modelo sobre un conjunto de datos independiente.\n",
    "\n",
    "Links:\n",
    "* http://scikit-learn.org/stable/modules/generated/sklearn.model_selection.train_test_split.html"
   ]
  },
  {
   "cell_type": "code",
   "execution_count": 6,
   "metadata": {},
   "outputs": [],
   "source": [
    "# TODO: Dividir en datos de entrenamiento y evaluación\n",
    "\n",
    "# Dividimos: Train 80% y Test 20%\n",
    "# Datos divididos de forma estratificada (stratify)\n",
    "X_train, X_test, y_train, y_test = train_test_split(X, y, test_size=0.2)"
   ]
  },
  {
   "cell_type": "code",
   "execution_count": 7,
   "metadata": {},
   "outputs": [
    {
     "name": "stdout",
     "output_type": "stream",
     "text": [
      "Shape X_train = (1483, 10)\n",
      "\n",
      "Shape X_test = (371, 10)\n"
     ]
    }
   ],
   "source": [
    "print(\"Shape X_train =\", X_train.shape)\n",
    "print(\"\")\n",
    "print(\"Shape X_test =\", X_test.shape)"
   ]
  },
  {
   "cell_type": "code",
   "execution_count": 8,
   "metadata": {},
   "outputs": [
    {
     "name": "stdout",
     "output_type": "stream",
     "text": [
      "Counter y_train = Counter({0: 1232, 1: 251})\n",
      "\n",
      "Counter y_test = Counter({0: 313, 1: 58})\n"
     ]
    }
   ],
   "source": [
    "print(\"Counter y_train =\", Counter(y_train))\n",
    "print(\"\")\n",
    "print(\"Counter y_test =\", Counter(y_test))"
   ]
  },
  {
   "cell_type": "code",
   "execution_count": 9,
   "metadata": {},
   "outputs": [
    {
     "data": {
      "text/html": [
       "<div>\n",
       "<style scoped>\n",
       "    .dataframe tbody tr th:only-of-type {\n",
       "        vertical-align: middle;\n",
       "    }\n",
       "\n",
       "    .dataframe tbody tr th {\n",
       "        vertical-align: top;\n",
       "    }\n",
       "\n",
       "    .dataframe thead th {\n",
       "        text-align: right;\n",
       "    }\n",
       "</style>\n",
       "<table border=\"1\" class=\"dataframe\">\n",
       "  <thead>\n",
       "    <tr style=\"text-align: right;\">\n",
       "      <th></th>\n",
       "      <th>LOAN</th>\n",
       "      <th>MORTDUE</th>\n",
       "      <th>VALUE</th>\n",
       "      <th>YOJ</th>\n",
       "      <th>DEROG</th>\n",
       "      <th>DELINQ</th>\n",
       "      <th>CLAGE</th>\n",
       "      <th>NINQ</th>\n",
       "      <th>CLNO</th>\n",
       "      <th>DEBTINC</th>\n",
       "    </tr>\n",
       "  </thead>\n",
       "  <tbody>\n",
       "    <tr>\n",
       "      <th>1240</th>\n",
       "      <td>9400</td>\n",
       "      <td>92340.0</td>\n",
       "      <td>125451.0</td>\n",
       "      <td>7.0</td>\n",
       "      <td>0.0</td>\n",
       "      <td>0.0</td>\n",
       "      <td>129.113725</td>\n",
       "      <td>1.0</td>\n",
       "      <td>22.0</td>\n",
       "      <td>36.349975</td>\n",
       "    </tr>\n",
       "    <tr>\n",
       "      <th>1183</th>\n",
       "      <td>14800</td>\n",
       "      <td>43983.0</td>\n",
       "      <td>60826.0</td>\n",
       "      <td>4.0</td>\n",
       "      <td>1.0</td>\n",
       "      <td>1.0</td>\n",
       "      <td>113.897967</td>\n",
       "      <td>1.0</td>\n",
       "      <td>9.0</td>\n",
       "      <td>27.108082</td>\n",
       "    </tr>\n",
       "    <tr>\n",
       "      <th>692</th>\n",
       "      <td>20100</td>\n",
       "      <td>59726.0</td>\n",
       "      <td>79982.0</td>\n",
       "      <td>8.0</td>\n",
       "      <td>1.0</td>\n",
       "      <td>0.0</td>\n",
       "      <td>74.210759</td>\n",
       "      <td>2.0</td>\n",
       "      <td>28.0</td>\n",
       "      <td>36.846922</td>\n",
       "    </tr>\n",
       "    <tr>\n",
       "      <th>871</th>\n",
       "      <td>25200</td>\n",
       "      <td>73168.0</td>\n",
       "      <td>93608.0</td>\n",
       "      <td>9.0</td>\n",
       "      <td>0.0</td>\n",
       "      <td>0.0</td>\n",
       "      <td>151.121480</td>\n",
       "      <td>0.0</td>\n",
       "      <td>21.0</td>\n",
       "      <td>35.590327</td>\n",
       "    </tr>\n",
       "    <tr>\n",
       "      <th>1353</th>\n",
       "      <td>17000</td>\n",
       "      <td>70039.0</td>\n",
       "      <td>100993.0</td>\n",
       "      <td>7.0</td>\n",
       "      <td>0.0</td>\n",
       "      <td>0.0</td>\n",
       "      <td>261.911317</td>\n",
       "      <td>1.0</td>\n",
       "      <td>11.0</td>\n",
       "      <td>36.564330</td>\n",
       "    </tr>\n",
       "    <tr>\n",
       "      <th>1089</th>\n",
       "      <td>16000</td>\n",
       "      <td>71861.0</td>\n",
       "      <td>95315.0</td>\n",
       "      <td>24.0</td>\n",
       "      <td>0.0</td>\n",
       "      <td>0.0</td>\n",
       "      <td>241.412515</td>\n",
       "      <td>1.0</td>\n",
       "      <td>23.0</td>\n",
       "      <td>35.474773</td>\n",
       "    </tr>\n",
       "    <tr>\n",
       "      <th>1305</th>\n",
       "      <td>10600</td>\n",
       "      <td>62909.0</td>\n",
       "      <td>81411.0</td>\n",
       "      <td>15.0</td>\n",
       "      <td>0.0</td>\n",
       "      <td>0.0</td>\n",
       "      <td>238.314471</td>\n",
       "      <td>1.0</td>\n",
       "      <td>35.0</td>\n",
       "      <td>34.680382</td>\n",
       "    </tr>\n",
       "    <tr>\n",
       "      <th>1364</th>\n",
       "      <td>49900</td>\n",
       "      <td>45455.0</td>\n",
       "      <td>102971.0</td>\n",
       "      <td>9.0</td>\n",
       "      <td>0.0</td>\n",
       "      <td>0.0</td>\n",
       "      <td>197.963309</td>\n",
       "      <td>2.0</td>\n",
       "      <td>36.0</td>\n",
       "      <td>42.064279</td>\n",
       "    </tr>\n",
       "    <tr>\n",
       "      <th>1287</th>\n",
       "      <td>18600</td>\n",
       "      <td>84874.0</td>\n",
       "      <td>115759.0</td>\n",
       "      <td>9.0</td>\n",
       "      <td>0.0</td>\n",
       "      <td>0.0</td>\n",
       "      <td>146.069811</td>\n",
       "      <td>3.0</td>\n",
       "      <td>18.0</td>\n",
       "      <td>39.834320</td>\n",
       "    </tr>\n",
       "    <tr>\n",
       "      <th>302</th>\n",
       "      <td>10400</td>\n",
       "      <td>63626.0</td>\n",
       "      <td>79477.0</td>\n",
       "      <td>12.0</td>\n",
       "      <td>0.0</td>\n",
       "      <td>0.0</td>\n",
       "      <td>260.797262</td>\n",
       "      <td>0.0</td>\n",
       "      <td>27.0</td>\n",
       "      <td>27.942866</td>\n",
       "    </tr>\n",
       "  </tbody>\n",
       "</table>\n",
       "</div>"
      ],
      "text/plain": [
       "       LOAN  MORTDUE     VALUE   YOJ  DEROG  DELINQ       CLAGE  NINQ  CLNO  \\\n",
       "1240   9400  92340.0  125451.0   7.0    0.0     0.0  129.113725   1.0  22.0   \n",
       "1183  14800  43983.0   60826.0   4.0    1.0     1.0  113.897967   1.0   9.0   \n",
       "692   20100  59726.0   79982.0   8.0    1.0     0.0   74.210759   2.0  28.0   \n",
       "871   25200  73168.0   93608.0   9.0    0.0     0.0  151.121480   0.0  21.0   \n",
       "1353  17000  70039.0  100993.0   7.0    0.0     0.0  261.911317   1.0  11.0   \n",
       "1089  16000  71861.0   95315.0  24.0    0.0     0.0  241.412515   1.0  23.0   \n",
       "1305  10600  62909.0   81411.0  15.0    0.0     0.0  238.314471   1.0  35.0   \n",
       "1364  49900  45455.0  102971.0   9.0    0.0     0.0  197.963309   2.0  36.0   \n",
       "1287  18600  84874.0  115759.0   9.0    0.0     0.0  146.069811   3.0  18.0   \n",
       "302   10400  63626.0   79477.0  12.0    0.0     0.0  260.797262   0.0  27.0   \n",
       "\n",
       "        DEBTINC  \n",
       "1240  36.349975  \n",
       "1183  27.108082  \n",
       "692   36.846922  \n",
       "871   35.590327  \n",
       "1353  36.564330  \n",
       "1089  35.474773  \n",
       "1305  34.680382  \n",
       "1364  42.064279  \n",
       "1287  39.834320  \n",
       "302   27.942866  "
      ]
     },
     "metadata": {},
     "output_type": "display_data"
    },
    {
     "name": "stdout",
     "output_type": "stream",
     "text": [
      "=====\n"
     ]
    },
    {
     "data": {
      "text/plain": [
       "1240    0\n",
       "1183    0\n",
       "692     0\n",
       "871     0\n",
       "1353    0\n",
       "1089    0\n",
       "1305    0\n",
       "1364    0\n",
       "1287    0\n",
       "302     0\n",
       "Name: TARGET, dtype: int64"
      ]
     },
     "metadata": {},
     "output_type": "display_data"
    }
   ],
   "source": [
    "display(X_train.head(10))\n",
    "print(\"=====\")\n",
    "display(y_train.head(10))"
   ]
  },
  {
   "cell_type": "markdown",
   "metadata": {},
   "source": [
    "---\n",
    "## Ejercicio 2: Elección de un modelo\n",
    "\n",
    "Basándose en lo visto en el teórico escojan y justifiquen un modelo de aprendizaje automático. Recuerden que los pasos para elegir un modelo son:"
   ]
  },
  {
   "cell_type": "markdown",
   "metadata": {},
   "source": [
    "### 2.1. Selección de hipótesis\n",
    "\n",
    "Estamos tratando un problema de clasificacion binaria:\n",
    "* 0 = Loan repaid\n",
    "* 1 = Client defaulted on loan\n",
    "\n",
    "Vamos a usar un modelo lineal con descenso de gradiente."
   ]
  },
  {
   "cell_type": "markdown",
   "metadata": {},
   "source": [
    "### 2.2. Selección de regularizador\n",
    "\n",
    "Penalizar valores grandes de los coeficientes (penalty).\n",
    "\n",
    "Usaremos el factor de regularizacion L2."
   ]
  },
  {
   "cell_type": "markdown",
   "metadata": {},
   "source": [
    "### 2.3. Selección de función de coste\n",
    "\n",
    "Como funcion de coste (loss function) usaremos: Quadratic Loss (squared_loss)"
   ]
  },
  {
   "cell_type": "markdown",
   "metadata": {},
   "source": [
    "### 2.4. Justificación de las selecciones\n",
    "\n",
    "*TODO*"
   ]
  },
  {
   "cell_type": "markdown",
   "metadata": {},
   "source": [
    "---\n",
    "## Ejercicio 3: Selección de hiperparámetros\n",
    "\n",
    "Utilizando búsqueda exhaustiva (*grid search*) con *5-fold cross-validation* y utilizando como métrica el área bajo la curva de ROC (o *ROC-AUC*), hagan una selección de los mejores hiperparámetros para su conjunto de datos y el modelo que hayan elegido en el apartado anterior.\n",
    "\n",
    "Links:\n",
    "* http://scikit-learn.org/stable/modules/generated/sklearn.linear_model.SGDClassifier.html\n",
    "* http://scikit-learn.org/stable/modules/generated/sklearn.model_selection.GridSearchCV.html"
   ]
  },
  {
   "cell_type": "code",
   "execution_count": 11,
   "metadata": {},
   "outputs": [
    {
     "name": "stdout",
     "output_type": "stream",
     "text": [
      "Exploración de hiperparámetros para función de coste \"squared_loss\"\n",
      "====================================================\n",
      "\tPuntajes de la grilla:\n",
      "\tROC AUC: 0.480 (+/- 0.003) para los parámetros {'alpha': 0.1, 'eta0': 0.1, 'learning_rate': 'constant'}\n",
      "\tROC AUC: 0.459 (+/- 0.001) para los parámetros {'alpha': 0.1, 'eta0': 0.05, 'learning_rate': 'constant'}\n",
      "\tROC AUC: 0.512 (+/- 0.004) para los parámetros {'alpha': 0.1, 'eta0': 0.01, 'learning_rate': 'constant'}\n",
      "\tROC AUC: 0.509 (+/- 0.002) para los parámetros {'alpha': 0.1, 'eta0': 0.005, 'learning_rate': 'constant'}\n",
      "\tROC AUC: 0.456 (+/- 0.001) para los parámetros {'alpha': 0.1, 'eta0': 0.001, 'learning_rate': 'constant'}\n",
      "\tROC AUC: 0.552 (+/- 0.002) para los parámetros {'alpha': 0.05, 'eta0': 0.1, 'learning_rate': 'constant'}\n",
      "\tROC AUC: 0.520 (+/- 0.004) para los parámetros {'alpha': 0.05, 'eta0': 0.05, 'learning_rate': 'constant'}\n",
      "\tROC AUC: 0.480 (+/- 0.003) para los parámetros {'alpha': 0.05, 'eta0': 0.01, 'learning_rate': 'constant'}\n",
      "\tROC AUC: 0.468 (+/- 0.003) para los parámetros {'alpha': 0.05, 'eta0': 0.005, 'learning_rate': 'constant'}\n",
      "\tROC AUC: 0.480 (+/- 0.004) para los parámetros {'alpha': 0.05, 'eta0': 0.001, 'learning_rate': 'constant'}\n",
      "\tROC AUC: 0.508 (+/- 0.004) para los parámetros {'alpha': 0.01, 'eta0': 0.1, 'learning_rate': 'constant'}\n",
      "\tROC AUC: 0.547 (+/- 0.002) para los parámetros {'alpha': 0.01, 'eta0': 0.05, 'learning_rate': 'constant'}\n",
      "\tROC AUC: 0.530 (+/- 0.003) para los parámetros {'alpha': 0.01, 'eta0': 0.01, 'learning_rate': 'constant'}\n",
      "\tROC AUC: 0.539 (+/- 0.003) para los parámetros {'alpha': 0.01, 'eta0': 0.005, 'learning_rate': 'constant'}\n",
      "\tROC AUC: 0.507 (+/- 0.005) para los parámetros {'alpha': 0.01, 'eta0': 0.001, 'learning_rate': 'constant'}\n",
      "\tROC AUC: 0.492 (+/- 0.003) para los parámetros {'alpha': 0.005, 'eta0': 0.1, 'learning_rate': 'constant'}\n",
      "\tROC AUC: 0.481 (+/- 0.003) para los parámetros {'alpha': 0.005, 'eta0': 0.05, 'learning_rate': 'constant'}\n",
      "\tROC AUC: 0.500 (+/- 0.006) para los parámetros {'alpha': 0.005, 'eta0': 0.01, 'learning_rate': 'constant'}\n",
      "\tROC AUC: 0.532 (+/- 0.005) para los parámetros {'alpha': 0.005, 'eta0': 0.005, 'learning_rate': 'constant'}\n",
      "\tROC AUC: 0.517 (+/- 0.005) para los parámetros {'alpha': 0.005, 'eta0': 0.001, 'learning_rate': 'constant'}\n",
      "\tROC AUC: 0.489 (+/- 0.003) para los parámetros {'alpha': 0.001, 'eta0': 0.1, 'learning_rate': 'constant'}\n",
      "\tROC AUC: 0.458 (+/- 0.001) para los parámetros {'alpha': 0.001, 'eta0': 0.05, 'learning_rate': 'constant'}\n",
      "\tROC AUC: 0.491 (+/- 0.003) para los parámetros {'alpha': 0.001, 'eta0': 0.01, 'learning_rate': 'constant'}\n",
      "\tROC AUC: 0.557 (+/- 0.002) para los parámetros {'alpha': 0.001, 'eta0': 0.005, 'learning_rate': 'constant'}\n",
      "\tROC AUC: 0.474 (+/- 0.004) para los parámetros {'alpha': 0.001, 'eta0': 0.001, 'learning_rate': 'constant'}\n",
      "\tMejor conjunto de parámetros:\n",
      "\t\t{'alpha': 0.001, 'eta0': 0.005, 'learning_rate': 'constant'}\n"
     ]
    }
   ],
   "source": [
    "# TODO: Selección de hiperparámetros\n",
    "\n",
    "#loss = 'hinge'  # Funcion de Coste (Apto para SVM)\n",
    "#loss = 'log'  # Funcion de Coste\n",
    "#loss = 'squared_hinge'  # Funcion de Coste (Apto para SVM)\n",
    "#loss = 'perceptron'  # Funcion de Coste\n",
    "loss = 'squared_loss'  # Funcion de Coste\n",
    "\n",
    "penalty = 'l2'  # Regularizador\n",
    "cv = 5  # Cross-validation\n",
    "scoring = 'roc_auc'  # Metrica a usar: Area bajo la curva ROC (ROC-AUC)\n",
    "\n",
    "exploring_params = {\n",
    "    'learning_rate': ['constant'],\n",
    "    'eta0': [0.1, 0.05, 0.01, 0.005, 0.001],  # Tasa de entrenamiento\n",
    "    'alpha': [0.1, 0.05, 0.01, 0.005, 0.001]  # Tasa de regularización\n",
    "}\n",
    "sgd_class = SGDClassifier(loss=loss, penalty=penalty, tol=1e-3)\n",
    "#sgd_class = SGDRegressor(loss=loss, penalty=penalty, tol=1e-3)\n",
    "#sgd_class = LinearSVC(loss=loss, penalty=penalty, tol=1e-3)\n",
    "model = GridSearchCV(sgd_class, exploring_params, cv=cv, scoring=scoring)\n",
    "#model.fit(X_train, y_train)\n",
    "\n",
    "y_score = model.fit(X_train, y_train).decision_function(X_test)\n",
    "\n",
    "print(\"Exploración de hiperparámetros para función de coste \\\"%s\\\"\" % loss)\n",
    "print(\"====================================================\")\n",
    "\n",
    "print(\"\\tPuntajes de la grilla:\")\n",
    "means = model.cv_results_['mean_test_score']\n",
    "stds = model.cv_results_['std_test_score']\n",
    "for mean, std, params in zip(means, stds, model.cv_results_['params']):\n",
    "    print(\"\\tROC AUC: %0.3f (+/- %0.03f) para los parámetros %r\" % (mean, std ** 2, params))\n",
    "\n",
    "print(\"\\tMejor conjunto de parámetros:\")\n",
    "print(\"\\t\\t{}\".format(model.best_params_))"
   ]
  },
  {
   "cell_type": "markdown",
   "metadata": {},
   "source": [
    "---\n",
    "## Ejercicio 4: Métricas sobre el conjunto de evaluación\n",
    "\n",
    "Una vez encontrados los mejores hiperparámetros para el modelo seleccionado en los apartados anteriores se evalúa el modelo final entrenado sobre el conjunto de datos de evaluación seleccionado en el ejercicio 1.  \n",
    "Pueden utilizar las métricas que crean convenientes. Es mejor utilizar más de una métrica.  \n",
    "Particularmente el *reporte de clasificación* y la *matriz de confusión* son buenos ejemplos de métricas."
   ]
  },
  {
   "cell_type": "code",
   "execution_count": 30,
   "metadata": {},
   "outputs": [
    {
     "name": "stdout",
     "output_type": "stream",
     "text": [
      "Reporte de clasificación para el mejor clasificador (sobre conjunto de evaluación):\n",
      "-----------------------------------------------------------------------------------\n",
      "\n",
      "             precision    recall  f1-score   support\n",
      "\n",
      "          0       0.84      0.87      0.86       313\n",
      "          1       0.15      0.12      0.13        58\n",
      "\n",
      "avg / total       0.73      0.75      0.74       371\n",
      "\n",
      "\n",
      "Metricas a usar:\n",
      "----------------\n",
      "\t* Accuracy  = 0.75\n",
      "\t* F1        = 0.13\n",
      "\t* Precision = 0.15\n",
      "\t* Recall    = 0.12\n",
      "\n",
      "================================================\n",
      "\n"
     ]
    },
    {
     "data": {
      "image/png": "[encoded data removed]",
      "text/plain": [
       "<Figure size 1200x400 with 2 Axes>"
      ]
     },
     "metadata": {},
     "output_type": "display_data"
    }
   ],
   "source": [
    "# TODO: Evaluación del modelo\n",
    "plt.figure(figsize=(15, 5), dpi=80, facecolor='w', edgecolor='k')\n",
    "\n",
    "print(\"Reporte de clasificación para el mejor clasificador (sobre conjunto de evaluación):\")\n",
    "print(\"-----------------------------------------------------------------------------------\", end=\"\\n\\n\")\n",
    "y_true, y_pred = y_test, model.predict(X_test)\n",
    "print(classification_report(y_true, y_pred))\n",
    "\n",
    "acc = accuracy_score(y_true, y_pred)\n",
    "f1 = f1_score(y_true, y_pred)\n",
    "prec = precision_score(y_true, y_pred)\n",
    "rec = recall_score(y_true, y_pred)\n",
    "print(\"\\nMetricas a usar:\")\n",
    "print(\"----------------\")\n",
    "print(\"\\t* Accuracy  = {:.2f}\".format(acc))\n",
    "print(\"\\t* F1        = {:.2f}\".format(f1))\n",
    "print(\"\\t* Precision = {:.2f}\".format(prec))\n",
    "print(\"\\t* Recall    = {:.2f}\".format(rec))\n",
    "print(\"\")\n",
    "print(\"================================================\", end=\"\\n\\n\")\n",
    "\n",
    "plt.subplot(1, 1, 1)\n",
    "plot_confusion_matrix(confusion_matrix(y_true, y_pred),\n",
    "                      classes=[0, 1],\n",
    "                      title=\"Matriz de confusión para %s\" % loss)"
   ]
  },
  {
   "cell_type": "markdown",
   "metadata": {},
   "source": [
    "---\n",
    "## Ejercicio 5 (opcional): Curvas de ROC\n",
    "\n",
    "Como ejercicio adicional (opcional), pueden redefinir el umbral de decisión óptimo del problema a partir de los resultados que muestren curvas de ROC como justificación. \n",
    "\n",
    "Pueden ver esto mediante la [graficación de las curvas de ROC](http://scikit-learn.org/stable/auto_examples/model_selection/plot_roc.html). En el link que se les brinda se muestra como hacer para graficar curvas de ROC para problemas multiclase. Sin embargo se puede adaptar fácilmente a un problema binario obviando la parte donde se calcula la curva clase por clase."
   ]
  },
  {
   "cell_type": "markdown",
   "metadata": {},
   "source": [
    "### 5.1. ROC Curve"
   ]
  },
  {
   "cell_type": "code",
   "execution_count": 33,
   "metadata": {},
   "outputs": [
    {
     "data": {
      "image/png": "[encoded data removed]",
      "text/plain": [
       "<Figure size 1200x400 with 1 Axes>"
      ]
     },
     "metadata": {},
     "output_type": "display_data"
    }
   ],
   "source": [
    "# TODO: Redefinir umbral de clasificación a través de los resultados vistos por graficar curvas de ROC\n",
    "plt.figure(figsize=(15, 5), dpi=80, facecolor='w', edgecolor='k')\n",
    "\n",
    "# Compute ROC curve and ROC area\n",
    "fpr, tpr, _ = roc_curve(y_test, y_score)\n",
    "roc_auc = auc(fpr, tpr)\n",
    "\n",
    "lw = 2\n",
    "plt.plot(fpr, tpr, color='darkorange',\n",
    "         lw=lw, label='ROC curve (area = %0.2f)' % roc_auc)\n",
    "plt.plot([0, 1], [0, 1], color='navy', lw=lw, linestyle='--')\n",
    "plt.xlim([0.0, 1.0])\n",
    "plt.ylim([0.0, 1.05])\n",
    "plt.xlabel('False Positive Rate')\n",
    "plt.ylabel('True Positive Rate')\n",
    "plt.title('Receiver Operating Characteristic (ROC)')\n",
    "plt.legend(loc=\"lower right\")\n",
    "plt.show()"
   ]
  },
  {
   "cell_type": "markdown",
   "metadata": {},
   "source": [
    "### 5.2. Precision-Recall Curve"
   ]
  },
  {
   "cell_type": "code",
   "execution_count": 34,
   "metadata": {},
   "outputs": [
    {
     "name": "stdout",
     "output_type": "stream",
     "text": [
      "Average precision-recall score: 0.16\n"
     ]
    },
    {
     "data": {
      "text/plain": [
       "Text(0.5,1,'2-class Precision-Recall curve: AP=0.16')"
      ]
     },
     "execution_count": 34,
     "metadata": {},
     "output_type": "execute_result"
    },
    {
     "data": {
      "image/png": "[encoded data removed]",
      "text/plain": [
       "<Figure size 1200x400 with 1 Axes>"
      ]
     },
     "metadata": {},
     "output_type": "display_data"
    }
   ],
   "source": [
    "plt.figure(figsize=(15, 5), dpi= 80, facecolor='w', edgecolor='k')\n",
    "\n",
    "average_precision = average_precision_score(y_test, y_score)\n",
    "\n",
    "print('Average precision-recall score: {0:0.2f}'.format(average_precision))\n",
    "\n",
    "precision, recall, _ = precision_recall_curve(y_test, y_score)\n",
    "\n",
    "plt.step(recall, precision, color='b', alpha=0.2, where='post')\n",
    "plt.fill_between(recall, precision, step='post', alpha=0.2, color='b')\n",
    "\n",
    "plt.xlabel('Recall')\n",
    "plt.ylabel('Precision')\n",
    "plt.ylim([0.0, 1.05])\n",
    "plt.xlim([0.0, 1.0])\n",
    "plt.title('2-class Precision-Recall curve: AP={0:0.2f}'.format(average_precision))"
   ]
  },
  {
   "cell_type": "markdown",
   "metadata": {},
   "source": [
    "---\n",
    "### <<<<< Usando otras formas >>>>>"
   ]
  },
  {
   "cell_type": "code",
   "execution_count": 35,
   "metadata": {},
   "outputs": [],
   "source": [
    "# TARGET - LOAN - MORTDUE - VALUE - YOJ - DEROG - DELINQ - CLAGE - NINQ - CLNO - DEBTINC\n",
    "\n",
    "# Seleccionamos dos atributos de los listados en el apartado anterior, uno para el eje x y otro para el eje y\n",
    "X_train_feature = X_train[['LOAN', 'MORTDUE']]\n",
    "X_test_feature = X_test[['LOAN', 'MORTDUE']]"
   ]
  },
  {
   "cell_type": "code",
   "execution_count": 36,
   "metadata": {},
   "outputs": [
    {
     "name": "stdout",
     "output_type": "stream",
     "text": [
      "Accuracy Train: 0.17\n",
      "Accuracy Test: 0.16\n",
      "\n"
     ]
    },
    {
     "data": {
      "image/png": "[encoded data removed]",
      "text/plain": [
       "<Figure size 800x400 with 4 Axes>"
      ]
     },
     "metadata": {},
     "output_type": "display_data"
    }
   ],
   "source": [
    "# ------------------------- Perceptron ------------------------- #\n",
    "\n",
    "penalty = 'l1' # Tipo de regularización: l1 (valor absoluto), l2 (cuadrados), elasticnet (l1 + l2).\n",
    "alpha = 100 # Parámetro de regularización. También denominado como parámetro `lambda`.\n",
    "max_iter = 10000 # antidad máxima de iteraciones del algoritmo\n",
    "# NOTA: the iterations will stop when: (loss > previous_loss - tol)\n",
    "tol = 0.1 # Precisión del algoritmo (error mínimo entre una iteración y la siguiente)\n",
    "eta = 1 # Parámetro de actualización de los pesos. También denominado como parámetro `alpha`.\n",
    "\n",
    "model = Perceptron(penalty=penalty, alpha=alpha, max_iter=max_iter, tol=tol, eta0=eta)\n",
    "model.fit(X_train_feature, y_train)\n",
    "\n",
    "# Evaluamos el desempeño del clasificador utilizando la exactitud (accuracy) sobre el conjunto\n",
    "# de datos de entrenamiento (X_train, y_train) y lo comparamos con el de validación (X_val, y_val)\n",
    "# La exactitud toma valor en el rango [0, 1] donde más alto es mejor\n",
    "print('Accuracy Train: %.2f' %  accuracy_score(y_train, model.predict(X_train_feature)))\n",
    "print('Accuracy Test: %.2f' % accuracy_score(y_test, model.predict(X_test_feature)))\n",
    "print(\"\")\n",
    "\n",
    "plt.figure(figsize=(10, 5), dpi= 80, facecolor='w', edgecolor='k')\n",
    "\n",
    "plt.subplot(2, 2, 1)\n",
    "plot_confusion_matrix(confusion_matrix(y_train, model.predict(X_train_feature)),\n",
    "                      classes=['0', '1'],\n",
    "                      title='Confusion Matrix - Train (without normalize)')\n",
    "plt.subplot(2, 2, 2)\n",
    "plot_confusion_matrix(confusion_matrix(y_test, model.predict(X_test_feature)),\n",
    "                      classes=['0', '1'],\n",
    "                      title='Confusion Matrix - Test (without normalize)')\n",
    "\n",
    "plt.show()"
   ]
  },
  {
   "cell_type": "code",
   "execution_count": 37,
   "metadata": {},
   "outputs": [
    {
     "name": "stdout",
     "output_type": "stream",
     "text": [
      "\tPuntajes de la grilla:\n",
      "\t\tExactitud: 0.539 (+/- 0.002) para los parámetros {'alpha': 100, 'eta0': 1}\n",
      "\t\tExactitud: 0.539 (+/- 0.002) para los parámetros {'alpha': 100, 'eta0': 0.5}\n",
      "\t\tExactitud: 0.510 (+/- 0.000) para los parámetros {'alpha': 100, 'eta0': 0.1}\n",
      "\t\tExactitud: 0.520 (+/- 0.001) para los parámetros {'alpha': 100, 'eta0': 0.01}\n",
      "\t\tExactitud: 0.520 (+/- 0.001) para los parámetros {'alpha': 100, 'eta0': 0.005}\n",
      "\t\tExactitud: 0.539 (+/- 0.002) para los parámetros {'alpha': 100, 'eta0': 0.001}\n",
      "\t\tExactitud: 0.553 (+/- 0.002) para los parámetros {'alpha': 50, 'eta0': 1}\n",
      "\t\tExactitud: 0.553 (+/- 0.002) para los parámetros {'alpha': 50, 'eta0': 0.5}\n",
      "\t\tExactitud: 0.535 (+/- 0.002) para los parámetros {'alpha': 50, 'eta0': 0.1}\n",
      "\t\tExactitud: 0.549 (+/- 0.002) para los parámetros {'alpha': 50, 'eta0': 0.01}\n",
      "\t\tExactitud: 0.549 (+/- 0.002) para los parámetros {'alpha': 50, 'eta0': 0.005}\n",
      "\t\tExactitud: 0.553 (+/- 0.002) para los parámetros {'alpha': 50, 'eta0': 0.001}\n",
      "\t\tExactitud: 0.536 (+/- 0.002) para los parámetros {'alpha': 10, 'eta0': 1}\n",
      "\t\tExactitud: 0.536 (+/- 0.002) para los parámetros {'alpha': 10, 'eta0': 0.5}\n",
      "\t\tExactitud: 0.536 (+/- 0.002) para los parámetros {'alpha': 10, 'eta0': 0.1}\n",
      "\t\tExactitud: 0.536 (+/- 0.002) para los parámetros {'alpha': 10, 'eta0': 0.01}\n",
      "\t\tExactitud: 0.536 (+/- 0.002) para los parámetros {'alpha': 10, 'eta0': 0.005}\n",
      "\t\tExactitud: 0.536 (+/- 0.002) para los parámetros {'alpha': 10, 'eta0': 0.001}\n",
      "\t\tExactitud: 0.508 (+/- 0.004) para los parámetros {'alpha': 1, 'eta0': 1}\n",
      "\t\tExactitud: 0.508 (+/- 0.004) para los parámetros {'alpha': 1, 'eta0': 0.5}\n",
      "\t\tExactitud: 0.507 (+/- 0.004) para los parámetros {'alpha': 1, 'eta0': 0.1}\n",
      "\t\tExactitud: 0.508 (+/- 0.004) para los parámetros {'alpha': 1, 'eta0': 0.01}\n",
      "\t\tExactitud: 0.508 (+/- 0.004) para los parámetros {'alpha': 1, 'eta0': 0.005}\n",
      "\t\tExactitud: 0.508 (+/- 0.004) para los parámetros {'alpha': 1, 'eta0': 0.001}\n",
      "\t\tExactitud: 0.515 (+/- 0.005) para los parámetros {'alpha': 0.1, 'eta0': 1}\n",
      "\t\tExactitud: 0.515 (+/- 0.005) para los parámetros {'alpha': 0.1, 'eta0': 0.5}\n",
      "\t\tExactitud: 0.515 (+/- 0.005) para los parámetros {'alpha': 0.1, 'eta0': 0.1}\n",
      "\t\tExactitud: 0.515 (+/- 0.005) para los parámetros {'alpha': 0.1, 'eta0': 0.01}\n",
      "\t\tExactitud: 0.515 (+/- 0.005) para los parámetros {'alpha': 0.1, 'eta0': 0.005}\n",
      "\t\tExactitud: 0.515 (+/- 0.005) para los parámetros {'alpha': 0.1, 'eta0': 0.001}\n",
      "\t\tExactitud: 0.511 (+/- 0.004) para los parámetros {'alpha': 0.01, 'eta0': 1}\n",
      "\t\tExactitud: 0.511 (+/- 0.004) para los parámetros {'alpha': 0.01, 'eta0': 0.5}\n",
      "\t\tExactitud: 0.511 (+/- 0.004) para los parámetros {'alpha': 0.01, 'eta0': 0.1}\n",
      "\t\tExactitud: 0.511 (+/- 0.004) para los parámetros {'alpha': 0.01, 'eta0': 0.01}\n",
      "\t\tExactitud: 0.511 (+/- 0.004) para los parámetros {'alpha': 0.01, 'eta0': 0.005}\n",
      "\t\tExactitud: 0.511 (+/- 0.004) para los parámetros {'alpha': 0.01, 'eta0': 0.001}\n",
      "\t\tExactitud: 0.511 (+/- 0.004) para los parámetros {'alpha': 0.005, 'eta0': 1}\n",
      "\t\tExactitud: 0.511 (+/- 0.004) para los parámetros {'alpha': 0.005, 'eta0': 0.5}\n",
      "\t\tExactitud: 0.511 (+/- 0.004) para los parámetros {'alpha': 0.005, 'eta0': 0.1}\n",
      "\t\tExactitud: 0.511 (+/- 0.004) para los parámetros {'alpha': 0.005, 'eta0': 0.01}\n",
      "\t\tExactitud: 0.511 (+/- 0.004) para los parámetros {'alpha': 0.005, 'eta0': 0.005}\n",
      "\t\tExactitud: 0.511 (+/- 0.004) para los parámetros {'alpha': 0.005, 'eta0': 0.001}\n",
      "\t\tExactitud: 0.512 (+/- 0.005) para los parámetros {'alpha': 0.001, 'eta0': 1}\n",
      "\t\tExactitud: 0.512 (+/- 0.005) para los parámetros {'alpha': 0.001, 'eta0': 0.5}\n",
      "\t\tExactitud: 0.512 (+/- 0.005) para los parámetros {'alpha': 0.001, 'eta0': 0.1}\n",
      "\t\tExactitud: 0.512 (+/- 0.005) para los parámetros {'alpha': 0.001, 'eta0': 0.01}\n",
      "\t\tExactitud: 0.512 (+/- 0.005) para los parámetros {'alpha': 0.001, 'eta0': 0.005}\n",
      "\t\tExactitud: 0.512 (+/- 0.005) para los parámetros {'alpha': 0.001, 'eta0': 0.001}\n",
      "\tMejor conjunto de parámetros:\n",
      "\t\t{'alpha': 50, 'eta0': 1}\n",
      "Accuracy Train: 0.83\n",
      "Accuracy Test: 0.84\n"
     ]
    }
   ],
   "source": [
    "# TESTEANDO\n",
    "\n",
    "# ------------------------- Perceptron ------------------------- #\n",
    "\n",
    "penalty = 'l1' # Tipo de regularización: l1 (valor absoluto), l2 (cuadrados), elasticnet (l1 + l2).\n",
    "alpha = 100 # Parámetro de regularización. También denominado como parámetro `lambda`.\n",
    "max_iter = 10000 # antidad máxima de iteraciones del algoritmo\n",
    "# NOTA: the iterations will stop when: (loss > previous_loss - tol)\n",
    "tol = 0.1 # Precisión del algoritmo (error mínimo entre una iteración y la siguiente)\n",
    "eta = 1 # Parámetro de actualización de los pesos. También denominado como parámetro `alpha`.\n",
    "\n",
    "ptron = Perceptron(penalty=penalty, max_iter=max_iter, tol=tol)\n",
    "\n",
    "\n",
    "cv = 5  # Cross-validation\n",
    "scoring = 'roc_auc'  # Metrica a usar: Area bajo la curva ROC (ROC-AUC)\n",
    "\n",
    "exploring_params = {\n",
    "    'eta0': [1, 0.5, 0.1, 0.01, 0.005, 0.001],  # Tasa de entrenamiento\n",
    "    'alpha': [100, 50, 10, 1, 0.1, 0.01, 0.005, 0.001]  # Tasa de regularización\n",
    "}\n",
    "\n",
    "model = GridSearchCV(ptron, exploring_params, cv=cv, scoring=scoring)\n",
    "#model.fit(X_train_feature, y_train)\n",
    "\n",
    "y_score = model.fit(X_train_feature, y_train).decision_function(X_test_feature)\n",
    "\n",
    "#print(\"Exploración de hiperparámetros para función de coste \\\"%s\\\"\" % loss)\n",
    "#print(\"====================================================\")\n",
    "\n",
    "print(\"\\tPuntajes de la grilla:\")\n",
    "means = model.cv_results_['mean_test_score']\n",
    "stds = model.cv_results_['std_test_score']\n",
    "for mean, std, params in zip(means, stds, model.cv_results_['params']):\n",
    "    print(\"\\t\\tExactitud: %0.3f (+/- %0.03f) para los parámetros %r\" % (mean, std ** 2, params))\n",
    "\n",
    "print(\"\\tMejor conjunto de parámetros:\")\n",
    "print(\"\\t\\t{}\".format(model.best_params_))\n",
    "\n",
    "# Evaluamos el desempeño del clasificador utilizando la exactitud (accuracy) sobre el conjunto\n",
    "# de datos de entrenamiento (X_train, y_train) y lo comparamos con el de validación (X_val, y_val)\n",
    "# La exactitud toma valor en el rango [0, 1] donde más alto es mejor\n",
    "print('Accuracy Train: %.2f' %  accuracy_score(y_train, model.predict(X_train_feature)))\n",
    "print('Accuracy Test: %.2f' % accuracy_score(y_test, model.predict(X_test_feature)))"
   ]
  },
  {
   "cell_type": "code",
   "execution_count": 15,
   "metadata": {},
   "outputs": [
    {
     "name": "stdout",
     "output_type": "stream",
     "text": [
      "Accuracy Train: 0.83\n",
      "Accuracy Test: 0.84\n",
      "\n"
     ]
    },
    {
     "data": {
      "image/png": "[encoded data removed]",
      "text/plain": [
       "<Figure size 800x400 with 4 Axes>"
      ]
     },
     "metadata": {},
     "output_type": "display_data"
    }
   ],
   "source": [
    "# ------------------------- Regresión logística con atributos regulares ------------------------- #\n",
    "\n",
    "penalty = 'l1' # Tipo de regularización: l1 (valor absoluto), l2 (cuadrados).\n",
    "alpha = 1 # Parámetro de regularización. También denominado como parámetro `lambda`. Debe ser mayor que 0.\n",
    "max_iter = 10000 # Cantidad máxima de iteraciones del algoritmo.\n",
    "tol = 0.1 # Precisión del algoritmo (error mínimo entre una iteración y la siguiente).\n",
    "\n",
    "model = LogisticRegression(penalty=penalty, C=1./alpha, max_iter=max_iter, tol=tol)\n",
    "model.fit(X_train_feature, y_train)\n",
    "\n",
    "print('Accuracy Train: %.2f' %  accuracy_score(y_train, model.predict(X_train_feature)))\n",
    "print('Accuracy Test: %.2f' % accuracy_score(y_test, model.predict(X_test_feature)))\n",
    "print(\"\")\n",
    "\n",
    "plt.figure(figsize=(10, 5), dpi= 80, facecolor='w', edgecolor='k')\n",
    "\n",
    "plt.subplot(2, 2, 1)\n",
    "plot_confusion_matrix(confusion_matrix(y_train, model.predict(X_train_feature)),\n",
    "                      classes=['0', '1'],\n",
    "                      title='Confusion Matrix - Train (without normalize)')\n",
    "plt.subplot(2, 2, 2)\n",
    "plot_confusion_matrix(confusion_matrix(y_test, model.predict(X_test_feature)),\n",
    "                      classes=['0', '1'],\n",
    "                      title='Confusion Matrix - Test (without normalize)')\n",
    "\n",
    "plt.show()"
   ]
  },
  {
   "cell_type": "code",
   "execution_count": 16,
   "metadata": {},
   "outputs": [
    {
     "name": "stdout",
     "output_type": "stream",
     "text": [
      "Accuracy Train: 0.83\n",
      "Accuracy Test: 0.84\n",
      "\n"
     ]
    },
    {
     "data": {
      "image/png": "[encoded data removed]",
      "text/plain": [
       "<Figure size 800x400 with 4 Axes>"
      ]
     },
     "metadata": {},
     "output_type": "display_data"
    }
   ],
   "source": [
    "# ------------------------- Regresión logística con atributos polinomiales ------------------------- #\n",
    "\n",
    "polynomial_degree = 2 # Grado del polinomio.\n",
    "poly_features = PolynomialFeatures(polynomial_degree)\n",
    "poly_features.fit(X_train_feature)\n",
    "X_poly_train = poly_features.transform(X_train_feature)\n",
    "X_poly_test = poly_features.transform(X_test_feature)\n",
    "\n",
    "penalty = 'l1' # Tipo de regularización: l1 (valor absoluto), l2 (cuadrados).\n",
    "alpha = 1 # Parámetro de regularización. También denominado como parámetro `lambda`. Debe ser mayor que 0.\n",
    "max_iter = 10000 # Cantidad máxima de iteraciones del algoritmo.\n",
    "tol = 0.01 # Precisión del algoritmo (error mínimo entre una iteración y la siguiente).\n",
    "\n",
    "model = LogisticRegression(penalty=penalty, C=1./alpha, max_iter=max_iter, tol=tol)\n",
    "model.fit(X_poly_train, y_train)\n",
    "\n",
    "print('Accuracy Train: %.2f' %  accuracy_score(y_train, model.predict(X_poly_train)))\n",
    "print('Accuracy Test: %.2f' % accuracy_score(y_test, model.predict(X_poly_test)))\n",
    "print(\"\")\n",
    "\n",
    "plt.figure(figsize=(10, 5), dpi= 80, facecolor='w', edgecolor='k')\n",
    "\n",
    "plt.subplot(2, 2, 1)\n",
    "plot_confusion_matrix(confusion_matrix(y_train, model.predict(X_poly_train)),\n",
    "                      classes=['0', '1'],\n",
    "                      title='Confusion Matrix - Train (without normalize)')\n",
    "plt.subplot(2, 2, 2)\n",
    "plot_confusion_matrix(confusion_matrix(y_test, model.predict(X_poly_test)),\n",
    "                      classes=['0', '1'],\n",
    "                      title='Confusion Matrix - Test (without normalize)')\n",
    "\n",
    "plt.show()"
   ]
  },
  {
   "cell_type": "code",
   "execution_count": null,
   "metadata": {},
   "outputs": [],
   "source": []
  },
  {
   "cell_type": "code",
   "execution_count": null,
   "metadata": {},
   "outputs": [],
   "source": []
  }
 ],
 "metadata": {
  "kernelspec": {
   "display_name": "Python 3",
   "language": "python",
   "name": "python3"
  },
  "language_info": {
   "codemirror_mode": {
    "name": "ipython",
    "version": 3
   },
   "file_extension": ".py",
   "mimetype": "text/x-python",
   "name": "python",
   "nbconvert_exporter": "python",
   "pygments_lexer": "ipython3",
   "version": "3.6.5"
  }
 },
 "nbformat": 4,
 "nbformat_minor": 2
}
