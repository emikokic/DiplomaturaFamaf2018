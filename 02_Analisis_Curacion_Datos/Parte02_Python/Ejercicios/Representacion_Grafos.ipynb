{
 "cells": [
  {
   "cell_type": "markdown",
   "metadata": {},
   "source": [
    "# Ejercicio: Representación de grafos"
   ]
  },
  {
   "cell_type": "markdown",
   "metadata": {},
   "source": [
    "![Grafo](img/grafo.png)"
   ]
  },
  {
   "cell_type": "code",
   "execution_count": 1,
   "metadata": {},
   "outputs": [],
   "source": [
    "import numpy as np\n",
    "import seaborn as sns\n",
    "import matplotlib.pyplot as plt\n",
    "import networkx as nx"
   ]
  },
  {
   "cell_type": "code",
   "execution_count": 2,
   "metadata": {},
   "outputs": [
    {
     "name": "stdout",
     "output_type": "stream",
     "text": [
      "Numpy Version: 1.14.3\n",
      "Seaborn Version: 0.8.1\n",
      "Networkx Version: 2.1\n"
     ]
    }
   ],
   "source": [
    "print(\"Numpy Version:\", np.__version__)\n",
    "print(\"Seaborn Version:\", sns.__version__)\n",
    "print(\"Networkx Version:\", nx.__version__)"
   ]
  },
  {
   "cell_type": "markdown",
   "metadata": {},
   "source": [
    "# Lista de Aristas"
   ]
  },
  {
   "cell_type": "markdown",
   "metadata": {},
   "source": [
    "* (0, 2)\n",
    "* (1, 3)\n",
    "* (2, 3)\n",
    "* (2, 4)\n",
    "* (3, 5)\n",
    "* (4, 5)"
   ]
  },
  {
   "cell_type": "code",
   "execution_count": 3,
   "metadata": {},
   "outputs": [
    {
     "data": {
      "text/plain": [
       "[[0, 2], [1, 3], [2, 3], [2, 4], [3, 5], [4, 5]]"
      ]
     },
     "execution_count": 3,
     "metadata": {},
     "output_type": "execute_result"
    }
   ],
   "source": [
    "edge_list = [[0, 2],\n",
    "             [1, 3],\n",
    "             [2, 3],\n",
    "             [2, 4],\n",
    "             [3, 5],\n",
    "             [4, 5]\n",
    "            ]\n",
    "\n",
    "edge_list"
   ]
  },
  {
   "cell_type": "code",
   "execution_count": 4,
   "metadata": {},
   "outputs": [],
   "source": [
    "# Grafo dirijido\n",
    "\n",
    "my_graph = nx.DiGraph()"
   ]
  },
  {
   "cell_type": "code",
   "execution_count": 5,
   "metadata": {},
   "outputs": [],
   "source": [
    "my_graph.add_edges_from(edge_list)"
   ]
  },
  {
   "cell_type": "code",
   "execution_count": 6,
   "metadata": {},
   "outputs": [
    {
     "data": {
      "text/plain": [
       "NodeView((0, 2, 1, 3, 4, 5))"
      ]
     },
     "metadata": {},
     "output_type": "display_data"
    },
    {
     "data": {
      "text/plain": [
       "OutEdgeView([(0, 2), (2, 3), (2, 4), (1, 3), (3, 5), (4, 5)])"
      ]
     },
     "metadata": {},
     "output_type": "display_data"
    }
   ],
   "source": [
    "display(my_graph.nodes)\n",
    "display(my_graph.edges)"
   ]
  },
  {
   "cell_type": "code",
   "execution_count": 7,
   "metadata": {},
   "outputs": [
    {
     "data": {
      "image/png": "[encoded data removed]",
      "text/plain": [
       "<Figure size 432x288 with 1 Axes>"
      ]
     },
     "metadata": {},
     "output_type": "display_data"
    }
   ],
   "source": [
    "#nx.draw(my_graph)\n",
    "nx.draw_networkx(my_graph, with_labels=True, node_size=1500, alpha=0.3, arrows=True)"
   ]
  },
  {
   "cell_type": "markdown",
   "metadata": {},
   "source": [
    "# Matriz de Adyacencia"
   ]
  },
  {
   "cell_type": "markdown",
   "metadata": {},
   "source": [
    "\n",
    "-     | **0** | **1** | **2** | **3** | **4** | **5** |\n",
    "------|-------|-------|-------|-------|-------|-------|\n",
    "**0** |   0   |   0   |   1   |   0   |   0   |   0   |\n",
    "**1** |   0   |   0   |   0   |   1   |   0   |   0   |\n",
    "**2** |   0   |   0   |   0   |   1   |   1   |   0   |\n",
    "**3** |   0   |   0   |   0   |   0   |   0   |   1   |\n",
    "**4** |   0   |   0   |   0   |   0   |   0   |   1   |\n",
    "**5** |   0   |   0   |   0   |   0   |   0   |   0   |"
   ]
  },
  {
   "cell_type": "code",
   "execution_count": 8,
   "metadata": {},
   "outputs": [
    {
     "data": {
      "text/plain": [
       "matrix([[0, 0, 1, 0, 0, 0],\n",
       "        [0, 0, 0, 1, 0, 0],\n",
       "        [0, 0, 0, 1, 1, 0],\n",
       "        [0, 0, 0, 0, 0, 1],\n",
       "        [0, 0, 0, 0, 0, 1],\n",
       "        [0, 0, 0, 0, 0, 0]])"
      ]
     },
     "execution_count": 8,
     "metadata": {},
     "output_type": "execute_result"
    }
   ],
   "source": [
    "m = np.matrix([[0, 0, 1, 0, 0, 0],\n",
    "               [0, 0, 0, 1, 0, 0],\n",
    "               [0, 0, 0, 1, 1, 0],\n",
    "               [0, 0, 0, 0, 0, 1],\n",
    "               [0, 0, 0, 0, 0, 1],\n",
    "               [0, 0, 0, 0, 0, 0]])\n",
    "\n",
    "m"
   ]
  },
  {
   "cell_type": "code",
   "execution_count": 9,
   "metadata": {},
   "outputs": [
    {
     "data": {
      "text/plain": [
       "EdgeView([(0, 2), (1, 3), (2, 3), (2, 4), (3, 5), (4, 5)])"
      ]
     },
     "execution_count": 9,
     "metadata": {},
     "output_type": "execute_result"
    }
   ],
   "source": [
    "G = nx.from_numpy_array(m)\n",
    "G.edges"
   ]
  },
  {
   "cell_type": "code",
   "execution_count": 10,
   "metadata": {},
   "outputs": [
    {
     "name": "stdout",
     "output_type": "stream",
     "text": [
      "  (0, 2)\t1\n",
      "  (1, 3)\t1\n",
      "  (2, 3)\t1\n",
      "  (2, 4)\t1\n",
      "  (3, 5)\t1\n",
      "  (4, 5)\t1\n"
     ]
    }
   ],
   "source": [
    "# Adjacency matrix representation of G (sparse matrix).\n",
    "\n",
    "adj_matrix = nx.adjacency_matrix(my_graph, nodelist=[0, 1, 2, 3, 4, 5])\n",
    "print(adj_matrix)"
   ]
  },
  {
   "cell_type": "code",
   "execution_count": 11,
   "metadata": {},
   "outputs": [
    {
     "name": "stdout",
     "output_type": "stream",
     "text": [
      "[[0. 0. 1. 0. 0. 0.]\n",
      " [0. 0. 0. 1. 0. 0.]\n",
      " [0. 0. 0. 1. 1. 0.]\n",
      " [0. 0. 0. 0. 0. 1.]\n",
      " [0. 0. 0. 0. 0. 1.]\n",
      " [0. 0. 0. 0. 0. 0.]]\n"
     ]
    }
   ],
   "source": [
    "# Return the graph adjacency matrix as a NumPy matrix.\n",
    "\n",
    "adj_matrix = nx.to_numpy_matrix(my_graph, nodelist=[0, 1, 2, 3, 4, 5])\n",
    "print(adj_matrix)"
   ]
  },
  {
   "cell_type": "code",
   "execution_count": 12,
   "metadata": {},
   "outputs": [
    {
     "data": {
      "text/plain": [
       "Text(0.5,1,'Matriz de Adyacencia')"
      ]
     },
     "execution_count": 12,
     "metadata": {},
     "output_type": "execute_result"
    },
    {
     "data": {
      "image/png": "[encoded data removed]",
      "text/plain": [
       "<Figure size 1296x360 with 2 Axes>"
      ]
     },
     "metadata": {},
     "output_type": "display_data"
    }
   ],
   "source": [
    "fig, ax = plt.subplots(nrows=1, ncols=1, figsize=(18, 5))\n",
    "heatmap1 = sns.heatmap(adj_matrix, annot=True, linewidths=.5, ax=ax)\n",
    "heatmap1.yaxis.set_ticklabels(heatmap1.yaxis.get_ticklabels(), rotation=0, ha='right', fontsize=14)\n",
    "heatmap1.xaxis.set_ticklabels(heatmap1.xaxis.get_ticklabels(), rotation=0, ha='right', fontsize=14)\n",
    "heatmap1.set_title(\"Matriz de Adyacencia\")"
   ]
  },
  {
   "cell_type": "markdown",
   "metadata": {},
   "source": [
    "# Lista de Adyacencia"
   ]
  },
  {
   "cell_type": "markdown",
   "metadata": {},
   "source": [
    "* 0 $\\longrightarrow$ 2 \n",
    "* 1 $\\longrightarrow$ 3\n",
    "* 2 $\\longrightarrow$ 3, 4\n",
    "* 3 $\\longrightarrow$ 5\n",
    "* 4 $\\longrightarrow$ 5\n",
    "* 5 $\\longrightarrow$"
   ]
  },
  {
   "cell_type": "code",
   "execution_count": 13,
   "metadata": {},
   "outputs": [
    {
     "data": {
      "text/plain": [
       "[(0, {2: {}}),\n",
       " (2, {3: {}, 4: {}}),\n",
       " (1, {3: {}}),\n",
       " (3, {5: {}}),\n",
       " (4, {5: {}}),\n",
       " (5, {})]"
      ]
     },
     "execution_count": 13,
     "metadata": {},
     "output_type": "execute_result"
    }
   ],
   "source": [
    "list(my_graph.adjacency())"
   ]
  },
  {
   "cell_type": "code",
   "execution_count": 14,
   "metadata": {},
   "outputs": [
    {
     "name": "stdout",
     "output_type": "stream",
     "text": [
      "0 ---> [2]\n",
      "2 ---> [3, 4]\n",
      "1 ---> [3]\n",
      "3 ---> [5]\n",
      "4 ---> [5]\n",
      "5 ---> []\n"
     ]
    }
   ],
   "source": [
    "adj_list = []\n",
    "for n, nbrdict in my_graph.adjacency():\n",
    "    nbr_list = list(nbrdict.keys())\n",
    "    adj_list.append((n, nbr_list))\n",
    "    print(\"{} ---> {}\".format(n, nbr_list))"
   ]
  },
  {
   "cell_type": "code",
   "execution_count": 15,
   "metadata": {},
   "outputs": [
    {
     "data": {
      "text/plain": [
       "[(0, [2]), (2, [3, 4]), (1, [3]), (3, [5]), (4, [5]), (5, [])]"
      ]
     },
     "execution_count": 15,
     "metadata": {},
     "output_type": "execute_result"
    }
   ],
   "source": [
    "adj_list"
   ]
  },
  {
   "cell_type": "code",
   "execution_count": null,
   "metadata": {},
   "outputs": [],
   "source": []
  }
 ],
 "metadata": {
  "kernelspec": {
   "display_name": "Python 3",
   "language": "python",
   "name": "python3"
  },
  "language_info": {
   "codemirror_mode": {
    "name": "ipython",
    "version": 3
   },
   "file_extension": ".py",
   "mimetype": "text/x-python",
   "name": "python",
   "nbconvert_exporter": "python",
   "pygments_lexer": "ipython3",
   "version": "3.6.5"
  }
 },
 "nbformat": 4,
 "nbformat_minor": 2
}
