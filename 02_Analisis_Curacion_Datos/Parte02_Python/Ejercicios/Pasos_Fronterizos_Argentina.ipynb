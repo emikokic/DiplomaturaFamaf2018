{
 "cells": [
  {
   "cell_type": "markdown",
   "metadata": {},
   "source": [
    "# Ejercicio: Pasos Fronterizos de Argentina"
   ]
  },
  {
   "cell_type": "markdown",
   "metadata": {},
   "source": [
    "Leer ubicaciones de pasos fronterizos y dibujar en un mapa.\n",
    "\n",
    "Libreria: [gmplot](https://github.com/vgm64/gmplot)"
   ]
  },
  {
   "cell_type": "code",
   "execution_count": 1,
   "metadata": {},
   "outputs": [],
   "source": [
    "%matplotlib inline\n",
    "import pandas as pd\n",
    "import numpy as np\n",
    "import seaborn as sns\n",
    "import matplotlib.pyplot as plt\n",
    "from IPython.display import display"
   ]
  },
  {
   "cell_type": "code",
   "execution_count": 2,
   "metadata": {},
   "outputs": [],
   "source": [
    "sns.set_style('whitegrid')\n",
    "sns.set_context('talk')"
   ]
  },
  {
   "cell_type": "markdown",
   "metadata": {},
   "source": [
    "# Lectura del JSON usando __read_json__ de Pandas"
   ]
  },
  {
   "cell_type": "code",
   "execution_count": 3,
   "metadata": {},
   "outputs": [],
   "source": [
    "pasos = pd.read_json(\"../input/pasos.json\")"
   ]
  },
  {
   "cell_type": "code",
   "execution_count": 4,
   "metadata": {},
   "outputs": [
    {
     "data": {
      "text/plain": [
       "(271, 3)"
      ]
     },
     "execution_count": 4,
     "metadata": {},
     "output_type": "execute_result"
    }
   ],
   "source": [
    "pasos.shape"
   ]
  },
  {
   "cell_type": "code",
   "execution_count": 5,
   "metadata": {},
   "outputs": [
    {
     "data": {
      "text/plain": [
       "(271, 3)"
      ]
     },
     "execution_count": 5,
     "metadata": {},
     "output_type": "execute_result"
    }
   ],
   "source": [
    "pasos.dropna().shape"
   ]
  },
  {
   "cell_type": "code",
   "execution_count": 6,
   "metadata": {},
   "outputs": [
    {
     "data": {
      "text/html": [
       "<div>\n",
       "<style scoped>\n",
       "    .dataframe tbody tr th:only-of-type {\n",
       "        vertical-align: middle;\n",
       "    }\n",
       "\n",
       "    .dataframe tbody tr th {\n",
       "        vertical-align: top;\n",
       "    }\n",
       "\n",
       "    .dataframe thead th {\n",
       "        text-align: right;\n",
       "    }\n",
       "</style>\n",
       "<table border=\"1\" class=\"dataframe\">\n",
       "  <thead>\n",
       "    <tr style=\"text-align: right;\">\n",
       "      <th></th>\n",
       "      <th>key</th>\n",
       "      <th>location</th>\n",
       "      <th>name</th>\n",
       "    </tr>\n",
       "  </thead>\n",
       "  <tbody>\n",
       "    <tr>\n",
       "      <th>0</th>\n",
       "      <td>SAN SEBASTIAN  ( USHUAIA )</td>\n",
       "      <td>[-54.832543, -68.3712885]</td>\n",
       "      <td>SAN SEBASTIAN  ( USHUAIA )</td>\n",
       "    </tr>\n",
       "    <tr>\n",
       "      <th>1</th>\n",
       "      <td>AERO PUBLICO DE USHUAIA</td>\n",
       "      <td>[-54.8249379, -68.3258626]</td>\n",
       "      <td>AERO PUBLICO DE USHUAIA</td>\n",
       "    </tr>\n",
       "    <tr>\n",
       "      <th>2</th>\n",
       "      <td>PUERTO USHUAIA (PREFECTURA)</td>\n",
       "      <td>[-54.8096728, -68.3114748]</td>\n",
       "      <td>PUERTO USHUAIA (PREFECTURA)</td>\n",
       "    </tr>\n",
       "    <tr>\n",
       "      <th>3</th>\n",
       "      <td>PUERTO USHUAIA</td>\n",
       "      <td>[-54.8019121, -68.3029511]</td>\n",
       "      <td>PUERTO USHUAIA</td>\n",
       "    </tr>\n",
       "    <tr>\n",
       "      <th>4</th>\n",
       "      <td>PASO LAURITA CASAS VIEJAS</td>\n",
       "      <td>[-51.6896359, -72.2993574]</td>\n",
       "      <td>PASO LAURITA CASAS VIEJAS</td>\n",
       "    </tr>\n",
       "    <tr>\n",
       "      <th>5</th>\n",
       "      <td>PASO DOROTEA</td>\n",
       "      <td>[-51.5866042, -72.3649779]</td>\n",
       "      <td>PASO DOROTEA</td>\n",
       "    </tr>\n",
       "    <tr>\n",
       "      <th>6</th>\n",
       "      <td>PASO RIO DON GUILLERMO</td>\n",
       "      <td>[-51.2544488, -72.2652242]</td>\n",
       "      <td>PASO RIO DON GUILLERMO</td>\n",
       "    </tr>\n",
       "    <tr>\n",
       "      <th>7</th>\n",
       "      <td>PASO SAN SEBASTIAN</td>\n",
       "      <td>[-53.3229179, -68.6063227]</td>\n",
       "      <td>PASO SAN SEBASTIAN</td>\n",
       "    </tr>\n",
       "    <tr>\n",
       "      <th>8</th>\n",
       "      <td>TERMINAL RIO GRANDE</td>\n",
       "      <td>[-53.78438, -67.7173342]</td>\n",
       "      <td>TERMINAL RIO GRANDE</td>\n",
       "    </tr>\n",
       "    <tr>\n",
       "      <th>9</th>\n",
       "      <td>PUERTO RIO GRANDE</td>\n",
       "      <td>[-53.7860374, -67.7002243]</td>\n",
       "      <td>PUERTO RIO GRANDE</td>\n",
       "    </tr>\n",
       "  </tbody>\n",
       "</table>\n",
       "</div>"
      ],
      "text/plain": [
       "                           key                    location  \\\n",
       "0   SAN SEBASTIAN  ( USHUAIA )   [-54.832543, -68.3712885]   \n",
       "1      AERO PUBLICO DE USHUAIA  [-54.8249379, -68.3258626]   \n",
       "2  PUERTO USHUAIA (PREFECTURA)  [-54.8096728, -68.3114748]   \n",
       "3               PUERTO USHUAIA  [-54.8019121, -68.3029511]   \n",
       "4    PASO LAURITA CASAS VIEJAS  [-51.6896359, -72.2993574]   \n",
       "5                 PASO DOROTEA  [-51.5866042, -72.3649779]   \n",
       "6       PASO RIO DON GUILLERMO  [-51.2544488, -72.2652242]   \n",
       "7           PASO SAN SEBASTIAN  [-53.3229179, -68.6063227]   \n",
       "8          TERMINAL RIO GRANDE    [-53.78438, -67.7173342]   \n",
       "9            PUERTO RIO GRANDE  [-53.7860374, -67.7002243]   \n",
       "\n",
       "                          name  \n",
       "0   SAN SEBASTIAN  ( USHUAIA )  \n",
       "1      AERO PUBLICO DE USHUAIA  \n",
       "2  PUERTO USHUAIA (PREFECTURA)  \n",
       "3               PUERTO USHUAIA  \n",
       "4    PASO LAURITA CASAS VIEJAS  \n",
       "5                 PASO DOROTEA  \n",
       "6       PASO RIO DON GUILLERMO  \n",
       "7           PASO SAN SEBASTIAN  \n",
       "8          TERMINAL RIO GRANDE  \n",
       "9            PUERTO RIO GRANDE  "
      ]
     },
     "execution_count": 6,
     "metadata": {},
     "output_type": "execute_result"
    }
   ],
   "source": [
    "pasos.head(10)"
   ]
  },
  {
   "cell_type": "markdown",
   "metadata": {},
   "source": [
    "# Lectura del JSON usando __json_normalize__ de Pandas"
   ]
  },
  {
   "cell_type": "code",
   "execution_count": 7,
   "metadata": {},
   "outputs": [],
   "source": [
    "import json\n",
    "from pandas.io.json import json_normalize\n",
    "\n",
    "with open('../input/pasos.json') as json_data:\n",
    "    my_json = json.load(json_data)\n",
    "\n",
    "pasos = json_normalize(my_json)"
   ]
  },
  {
   "cell_type": "code",
   "execution_count": 8,
   "metadata": {},
   "outputs": [
    {
     "data": {
      "text/plain": [
       "(271, 3)"
      ]
     },
     "execution_count": 8,
     "metadata": {},
     "output_type": "execute_result"
    }
   ],
   "source": [
    "pasos.shape"
   ]
  },
  {
   "cell_type": "code",
   "execution_count": 9,
   "metadata": {},
   "outputs": [
    {
     "data": {
      "text/plain": [
       "(271, 3)"
      ]
     },
     "execution_count": 9,
     "metadata": {},
     "output_type": "execute_result"
    }
   ],
   "source": [
    "pasos.dropna().shape"
   ]
  },
  {
   "cell_type": "code",
   "execution_count": 10,
   "metadata": {},
   "outputs": [
    {
     "data": {
      "text/html": [
       "<div>\n",
       "<style scoped>\n",
       "    .dataframe tbody tr th:only-of-type {\n",
       "        vertical-align: middle;\n",
       "    }\n",
       "\n",
       "    .dataframe tbody tr th {\n",
       "        vertical-align: top;\n",
       "    }\n",
       "\n",
       "    .dataframe thead th {\n",
       "        text-align: right;\n",
       "    }\n",
       "</style>\n",
       "<table border=\"1\" class=\"dataframe\">\n",
       "  <thead>\n",
       "    <tr style=\"text-align: right;\">\n",
       "      <th></th>\n",
       "      <th>key</th>\n",
       "      <th>location</th>\n",
       "      <th>name</th>\n",
       "    </tr>\n",
       "  </thead>\n",
       "  <tbody>\n",
       "    <tr>\n",
       "      <th>0</th>\n",
       "      <td>SAN SEBASTIAN  ( USHUAIA )</td>\n",
       "      <td>[-54.832543, -68.3712885]</td>\n",
       "      <td>SAN SEBASTIAN  ( USHUAIA )</td>\n",
       "    </tr>\n",
       "    <tr>\n",
       "      <th>1</th>\n",
       "      <td>AERO PUBLICO DE USHUAIA</td>\n",
       "      <td>[-54.8249379, -68.3258626]</td>\n",
       "      <td>AERO PUBLICO DE USHUAIA</td>\n",
       "    </tr>\n",
       "    <tr>\n",
       "      <th>2</th>\n",
       "      <td>PUERTO USHUAIA (PREFECTURA)</td>\n",
       "      <td>[-54.8096728, -68.3114748]</td>\n",
       "      <td>PUERTO USHUAIA (PREFECTURA)</td>\n",
       "    </tr>\n",
       "    <tr>\n",
       "      <th>3</th>\n",
       "      <td>PUERTO USHUAIA</td>\n",
       "      <td>[-54.8019121, -68.3029511]</td>\n",
       "      <td>PUERTO USHUAIA</td>\n",
       "    </tr>\n",
       "    <tr>\n",
       "      <th>4</th>\n",
       "      <td>PASO LAURITA CASAS VIEJAS</td>\n",
       "      <td>[-51.6896359, -72.2993574]</td>\n",
       "      <td>PASO LAURITA CASAS VIEJAS</td>\n",
       "    </tr>\n",
       "    <tr>\n",
       "      <th>5</th>\n",
       "      <td>PASO DOROTEA</td>\n",
       "      <td>[-51.5866042, -72.3649779]</td>\n",
       "      <td>PASO DOROTEA</td>\n",
       "    </tr>\n",
       "    <tr>\n",
       "      <th>6</th>\n",
       "      <td>PASO RIO DON GUILLERMO</td>\n",
       "      <td>[-51.2544488, -72.2652242]</td>\n",
       "      <td>PASO RIO DON GUILLERMO</td>\n",
       "    </tr>\n",
       "    <tr>\n",
       "      <th>7</th>\n",
       "      <td>PASO SAN SEBASTIAN</td>\n",
       "      <td>[-53.3229179, -68.6063227]</td>\n",
       "      <td>PASO SAN SEBASTIAN</td>\n",
       "    </tr>\n",
       "    <tr>\n",
       "      <th>8</th>\n",
       "      <td>TERMINAL RIO GRANDE</td>\n",
       "      <td>[-53.78438, -67.7173342]</td>\n",
       "      <td>TERMINAL RIO GRANDE</td>\n",
       "    </tr>\n",
       "    <tr>\n",
       "      <th>9</th>\n",
       "      <td>PUERTO RIO GRANDE</td>\n",
       "      <td>[-53.7860374, -67.7002243]</td>\n",
       "      <td>PUERTO RIO GRANDE</td>\n",
       "    </tr>\n",
       "  </tbody>\n",
       "</table>\n",
       "</div>"
      ],
      "text/plain": [
       "                           key                    location  \\\n",
       "0   SAN SEBASTIAN  ( USHUAIA )   [-54.832543, -68.3712885]   \n",
       "1      AERO PUBLICO DE USHUAIA  [-54.8249379, -68.3258626]   \n",
       "2  PUERTO USHUAIA (PREFECTURA)  [-54.8096728, -68.3114748]   \n",
       "3               PUERTO USHUAIA  [-54.8019121, -68.3029511]   \n",
       "4    PASO LAURITA CASAS VIEJAS  [-51.6896359, -72.2993574]   \n",
       "5                 PASO DOROTEA  [-51.5866042, -72.3649779]   \n",
       "6       PASO RIO DON GUILLERMO  [-51.2544488, -72.2652242]   \n",
       "7           PASO SAN SEBASTIAN  [-53.3229179, -68.6063227]   \n",
       "8          TERMINAL RIO GRANDE    [-53.78438, -67.7173342]   \n",
       "9            PUERTO RIO GRANDE  [-53.7860374, -67.7002243]   \n",
       "\n",
       "                          name  \n",
       "0   SAN SEBASTIAN  ( USHUAIA )  \n",
       "1      AERO PUBLICO DE USHUAIA  \n",
       "2  PUERTO USHUAIA (PREFECTURA)  \n",
       "3               PUERTO USHUAIA  \n",
       "4    PASO LAURITA CASAS VIEJAS  \n",
       "5                 PASO DOROTEA  \n",
       "6       PASO RIO DON GUILLERMO  \n",
       "7           PASO SAN SEBASTIAN  \n",
       "8          TERMINAL RIO GRANDE  \n",
       "9            PUERTO RIO GRANDE  "
      ]
     },
     "execution_count": 10,
     "metadata": {},
     "output_type": "execute_result"
    }
   ],
   "source": [
    "pasos.head(10)"
   ]
  },
  {
   "cell_type": "code",
   "execution_count": 11,
   "metadata": {},
   "outputs": [],
   "source": [
    "# Plot without labels\n",
    "\n",
    "from gmplot import gmplot\n",
    "\n",
    "gmap = gmplot.GoogleMapPlotter(-31.42008329999999, -64.18877609999998, 5)\n",
    "\n",
    "lats = []\n",
    "longs = []\n",
    "for location in pasos[\"location\"]:\n",
    "    lats.append(location[0])\n",
    "    longs.append(location[1])\n",
    "\n",
    "gmap.scatter(lats, longs)\n",
    "gmap.draw(\"output/pasos_argentina_without_labels.html\")"
   ]
  },
  {
   "cell_type": "code",
   "execution_count": 12,
   "metadata": {},
   "outputs": [],
   "source": [
    "# Plot with labels\n",
    "\n",
    "from gmplot import gmplot\n",
    "\n",
    "gmap = gmplot.GoogleMapPlotter(-31.42008329999999, -64.18877609999998, 5)\n",
    "\n",
    "for _, paso in pasos[[\"location\", \"name\"]].iterrows():\n",
    "    location = paso[0]\n",
    "    name = paso[1]\n",
    "\n",
    "    lat = location[0]\n",
    "    long = location[1]\n",
    "\n",
    "    gmap.marker(lat, long, title=name)\n",
    "\n",
    "gmap.draw(\"output/pasos_argentina_with_labels.html\")"
   ]
  },
  {
   "cell_type": "code",
   "execution_count": null,
   "metadata": {},
   "outputs": [],
   "source": []
  }
 ],
 "metadata": {
  "kernelspec": {
   "display_name": "Python 3",
   "language": "python",
   "name": "python3"
  },
  "language_info": {
   "codemirror_mode": {
    "name": "ipython",
    "version": 3
   },
   "file_extension": ".py",
   "mimetype": "text/x-python",
   "name": "python",
   "nbconvert_exporter": "python",
   "pygments_lexer": "ipython3",
   "version": "3.6.5"
  }
 },
 "nbformat": 4,
 "nbformat_minor": 2
}
