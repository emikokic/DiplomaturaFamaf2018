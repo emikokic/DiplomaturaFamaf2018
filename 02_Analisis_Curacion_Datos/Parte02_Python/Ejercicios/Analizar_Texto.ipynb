{
 "cells": [
  {
   "cell_type": "markdown",
   "metadata": {},
   "source": [
    "# Ejercicio: Analizar texto"
   ]
  },
  {
   "cell_type": "markdown",
   "metadata": {},
   "source": [
    "* Utilizar un texto de [proyecto Gutenberg en castellano](http://www.gutenberg.org/browse/languages/es) \n",
    "* Contar palabras y ordenar por frecuencia:\n",
    "    * Limpiar preludio y licencia de Project Gutenberg\n",
    "    * Omitir “palabras vacías” (stop words) y símbolos\n",
    "* Encontrar personajes\n",
    "* Hacer un análisis extra a gusto\n",
    "* Hint: Tutorial para español: [PLN Python](https://relopezbriega.github.io/blog/2017/09/23/procesamiento-del-lenguaje-natural-con-python/)\n",
    "    * Usa [spacy.io](https://spacy.io/) y [github.com/chartbeat-labs/textacy](https://github.com/chartbeat-labs/textacy)\n",
    "    * No hace falta la parte de Deep Learning"
   ]
  },
  {
   "cell_type": "code",
   "execution_count": 1,
   "metadata": {},
   "outputs": [],
   "source": [
    "import spacy\n",
    "import textacy\n",
    "from collections import defaultdict, Counter"
   ]
  },
  {
   "cell_type": "markdown",
   "metadata": {},
   "source": [
    "Ejecutar la siguiente sentencia para **descargar el modulo español de Spacy**:\n",
    "\n",
    "                        python -m spacy download es\n",
    "\n",
    "---"
   ]
  },
  {
   "cell_type": "markdown",
   "metadata": {},
   "source": [
    "Vamos a trabajar con el cuento \"**Ratón Pérez: cuento infantil**\" de Coloma, Luis, 1851-1915"
   ]
  },
  {
   "cell_type": "code",
   "execution_count": 2,
   "metadata": {},
   "outputs": [],
   "source": [
    "TEXT_FILE = '../input/raton_perez.txt'"
   ]
  },
  {
   "cell_type": "markdown",
   "metadata": {},
   "source": [
    "Encoding del cuento:"
   ]
  },
  {
   "cell_type": "code",
   "execution_count": 3,
   "metadata": {},
   "outputs": [
    {
     "data": {
      "text/plain": [
       "{'encoding': 'UTF-8-SIG', 'confidence': 1.0, 'language': ''}"
      ]
     },
     "execution_count": 3,
     "metadata": {},
     "output_type": "execute_result"
    }
   ],
   "source": [
    "import chardet\n",
    "\n",
    "with open(TEXT_FILE, 'rb') as f:\n",
    "    result = chardet.detect(f.read())\n",
    "\n",
    "result"
   ]
  },
  {
   "cell_type": "markdown",
   "metadata": {},
   "source": [
    "Eliminamos del texto, las siguientes cosas:\n",
    "* Salto de linea: \\n\n",
    "* Espacios vacios: ''\n",
    "* Inserciones de imagenes: \\[images\\]\n",
    "* Astericos: '\\*       \\*       \\*       \\*       \\*'"
   ]
  },
  {
   "cell_type": "code",
   "execution_count": 4,
   "metadata": {},
   "outputs": [],
   "source": [
    "clean_text = []\n",
    "with open(TEXT_FILE, 'r', encoding='UTF-8-SIG') as f:\n",
    "    asterisks = '*       *       *       *       *'\n",
    "    for line in f.readlines():\n",
    "        line = line.strip()  # Eliminamos los \\n\n",
    "        \n",
    "        # Eliminamos:\n",
    "        #     - Espacios vacios\n",
    "        #     - \"imagenes\" ([imagen])\n",
    "        #     - astericos (*     *     *)\n",
    "        if (line != '' and\n",
    "            not line.startswith(\"[imagen\") and\n",
    "            line != asterisks):\n",
    "            clean_text.append(line)"
   ]
  },
  {
   "cell_type": "markdown",
   "metadata": {},
   "source": [
    "Limpiamos la **Licencia del Proyecto Gutenberg** y el **Preludio**.\n",
    "\n",
    "Para saber cual es el preludio, nos fijamos donde comienza y termina el cuento.  \n",
    "Para ellos nos guiamos de la version PDF del cuento: http://www.textos.info/luis-coloma/raton-perez/pdf"
   ]
  },
  {
   "cell_type": "code",
   "execution_count": 5,
   "metadata": {},
   "outputs": [],
   "source": [
    "# Clean Prelude and Gutenberg license\n",
    "begin_story = 'Sembrad en los niños la idea, aunque no la entiendan: los años se'\n",
    "end_story = 'mayor_, acá en la tierra...'\n",
    "\n",
    "raton_perez = clean_text[clean_text.index(begin_story):\n",
    "                         clean_text.index(end_story) + 1]\n",
    "\n",
    "# Pasamos el texto a lower case\n",
    "#raton_perez = list(map(str.lower, raton_perez))"
   ]
  },
  {
   "cell_type": "code",
   "execution_count": 6,
   "metadata": {},
   "outputs": [
    {
     "name": "stdout",
     "output_type": "stream",
     "text": [
      "# Lineas del cuento: 361\n"
     ]
    }
   ],
   "source": [
    "print(\"# Lineas del cuento: {}\".format(len(raton_perez)))"
   ]
  },
  {
   "cell_type": "code",
   "execution_count": 7,
   "metadata": {},
   "outputs": [
    {
     "data": {
      "text/plain": [
       "'Sembrad en los niños la idea, aunque no la entiendan: los años se encargarán de descifrarla en su entendimiento y hacerla florecer en su corazón. Entre la muerte del rey que rabió y el advenimiento al trono de la reina Mari-Castaña existe un largo y obscuro período en las crónicas, de que quedan pocas memorias. Consta, sin embargo, que floreció en aquella época un rey Buby I, grande amigo de los niños pobres y protector decidido de los ratones. Fundó una fábrica de muñecos y caballos de cartón para los primeros, y sábese de cierto, que de esta fábrica procedían los tres caballitos cuatralbos, que regaló el rey D. Bermudo _el Diácono_ á los niños de Hissén I, después de la batalla de Bureva. Consta también que el rey Buby prohibió severamente el uso de ratoneras y dictó muy discretas leyes para encerrar en los límites de la defensa propia los instintos cazadores de los gatos: lo cual resulta probado, por los graves disturbios que hubo entre la reina doña Goto ó Gotona, viuda de D. Sanch'"
      ]
     },
     "execution_count": 7,
     "metadata": {},
     "output_type": "execute_result"
    }
   ],
   "source": [
    "raton_perez_text = \" \".join(raton_perez)\n",
    "\n",
    "raton_perez_text[:1000]"
   ]
  },
  {
   "cell_type": "markdown",
   "metadata": {},
   "source": [
    "Procesemos el cuento:"
   ]
  },
  {
   "cell_type": "code",
   "execution_count": 8,
   "metadata": {},
   "outputs": [],
   "source": [
    "# Cargamos el modulo español de Spacy\n",
    "nlp = spacy.load('es')\n",
    "\n",
    "raton_perez_doc = nlp(raton_perez_text)"
   ]
  },
  {
   "cell_type": "code",
   "execution_count": 9,
   "metadata": {},
   "outputs": [
    {
     "name": "stdout",
     "output_type": "stream",
     "text": [
      "# Sentences = 123\n"
     ]
    }
   ],
   "source": [
    "# Sentencias que hay en el texto\n",
    "rp_sents = list(raton_perez_doc.sents)\n",
    "\n",
    "print(\"# Sentences = {}\".format(len(rp_sents)))"
   ]
  },
  {
   "cell_type": "code",
   "execution_count": 10,
   "metadata": {},
   "outputs": [
    {
     "data": {
      "text/plain": [
       "[Sembrad en los niños la idea, aunque no la entiendan: los años se encargarán de descifrarla en su entendimiento y hacerla florecer en su corazón.,\n",
       " Entre la muerte del rey que rabió y el advenimiento al trono de la reina Mari-Castaña existe un largo y obscuro período en las crónicas, de que quedan pocas memorias.,\n",
       " Consta, sin embargo, que floreció en aquella época un rey Buby I, grande amigo de los niños pobres y protector decidido de los ratones.,\n",
       " Fundó una fábrica de muñecos y caballos de cartón para los primeros, y sábese de cierto, que de esta fábrica procedían los tres caballitos cuatralbos, que regaló el rey D. Bermudo _el Diácono_ á los niños de Hissén I, después de la batalla de Bureva.,\n",
       " Consta también que el rey Buby prohibió severamente el uso de ratoneras y dictó muy discretas leyes para encerrar en los límites de la defensa propia los instintos cazadores de los gatos: lo cual resulta probado, por los graves disturbios que hubo entre la reina doña Goto ó Gotona, viuda de D. Sancho Ordóñez, rey de Galicia, y la Merindad de Ribas de Sil, á causa de haberse querido aplicar en ésta las leyes del rey Buby al gato del Monasterio de Pombeyro, donde aquella Reina vivía retirada.,\n",
       " El caso fué grave y sus memorias muy duraderas, por más que unos autores digan que el gato en cuestión se llamaba Russaf Mateo, y otros le llamen simplemente Minini.,\n",
       " De todos modos el hecho resulta probado, aunque nada diga sobre ello Vaseo, ni tampoco lo mencione el Cronicón Iriense, y el bueno de D. Lucas de Tuy haga como que se olvida del caso, quizá, quizá, por razones de conveniencia.,\n",
       " Consta también que el rey Buby comenzó á reinar á los seis años bajo la tutela de su madre, señora muy prudente y cristiana, que guiaba sus pasos y velaba á su lado, como hace con todos los niños buenos el ángel de su guarda.,\n",
       " Era entonces el rey Buby un verdadero encanto, y cuando en los días de gala le ponían su corona de oro y su real manto bordado, no era el oro de su corona más brillante que el de sus cabellos, ni más suaves los armiños de su manto que la piel de sus mejillas y sus manos.,\n",
       " Parecía un muñequito de Sévres, que en vez de colocarlo sobre la chimenea, lo hubieran puesto sentadito en el trono.]"
      ]
     },
     "execution_count": 10,
     "metadata": {},
     "output_type": "execute_result"
    }
   ],
   "source": [
    "rp_sents[:10]"
   ]
  },
  {
   "cell_type": "code",
   "execution_count": 11,
   "metadata": {},
   "outputs": [
    {
     "data": {
      "text/plain": [
       "spacy.tokens.doc.Doc"
      ]
     },
     "execution_count": 11,
     "metadata": {},
     "output_type": "execute_result"
    }
   ],
   "source": [
    "type(raton_perez_doc)"
   ]
  },
  {
   "cell_type": "markdown",
   "metadata": {},
   "source": [
    "Eliminamos las Stopwords y los signos de puntuacion"
   ]
  },
  {
   "cell_type": "code",
   "execution_count": 12,
   "metadata": {},
   "outputs": [],
   "source": [
    "rp_words_list = []\n",
    "for token in raton_perez_doc:\n",
    "    if not token.is_stop and not token.is_punct:\n",
    "        token_text = token.text\n",
    "        rp_words_list.append(token_text.lower())"
   ]
  },
  {
   "cell_type": "markdown",
   "metadata": {},
   "source": [
    "10 palabras mas frecuentes, con su respectivo conteo:"
   ]
  },
  {
   "cell_type": "code",
   "execution_count": 13,
   "metadata": {},
   "outputs": [
    {
     "data": {
      "text/plain": [
       "[('y', 174),\n",
       " ('á', 82),\n",
       " ('rey', 45),\n",
       " ('buby', 44),\n",
       " ('ratón', 34),\n",
       " ('pérez', 33),\n",
       " ('diente', 12),\n",
       " ('reina', 9),\n",
       " ('oro', 9),\n",
       " ('niños', 8)]"
      ]
     },
     "execution_count": 13,
     "metadata": {},
     "output_type": "execute_result"
    }
   ],
   "source": [
    "Counter(rp_words_list).most_common(10)"
   ]
  },
  {
   "cell_type": "markdown",
   "metadata": {},
   "source": [
    "Entidades que aparecen en el cuento, con su respectiva cantidad de apariciones:"
   ]
  },
  {
   "cell_type": "code",
   "execution_count": 14,
   "metadata": {},
   "outputs": [
    {
     "data": {
      "text/plain": [
       "Counter({'PER': 120, 'MISC': 76, 'LOC': 70, 'ORG': 6})"
      ]
     },
     "execution_count": 14,
     "metadata": {},
     "output_type": "execute_result"
    }
   ],
   "source": [
    "Counter(ent.label_ for ent in raton_perez_doc.ents)"
   ]
  },
  {
   "cell_type": "markdown",
   "metadata": {},
   "source": [
    "Cojunto de Personas o Familias nombradas:"
   ]
  },
  {
   "cell_type": "code",
   "execution_count": 15,
   "metadata": {},
   "outputs": [
    {
     "name": "stdout",
     "output_type": "stream",
     "text": [
      "# PER Entities = 63\n",
      "\n",
      "{'Atáronle', 'Ratón Pérez', 'Parecía', 'D. Gaiferos', 'rey Buby', 'Sirvieron', 'Recogiólo', 'Había', 'Doblaron', 'Cheese', 'Cogió', 'la Reina', 'Ana Stuard', 'Buby', 'S. M. la Reina', 'Adolfo', 'Apretóle la Reina', 'Abel', 'Carlos Prats', 'Miss Old', 'D. Lucas de Tuy', 'Así', 'D. Sancho Ordóñez', 'Mari', 'la Virgen', 'Allí', 'Detrás', 'Gilito', 'Amanecía', 'Confesó', 'Sembrad', 'Castaña', 'Querían', 'Consta', 'Antojósele', 'Acostóse', 'Acordóse', 'Su Majestad', 'Hissén I', 'Vaseo', 'Alarmóse', 'Grande', 'Hizo', 'Sévres', 'Entró', 'Elvira', 'Á', 'Caín', 'Gilitos', 'Reina', 'Carlos Prats[A', 'Acercóse Ratón Pérez', 'Agradó', 'rey D. Bermudo', 'J. Tate', 'Pero S. M.', 'Puso', 'Quedóse', 'Dios', 'Oíale', 'Huntley', 'Rey', '¡Pero'}\n"
     ]
    }
   ],
   "source": [
    "ents_PER = set(ent.text for ent in raton_perez_doc.ents if ent.label_ == 'PER')\n",
    "\n",
    "print(\"# PER Entities = {}\\n\".format(len(ents_PER)))\n",
    "\n",
    "print(ents_PER)"
   ]
  },
  {
   "cell_type": "markdown",
   "metadata": {},
   "source": [
    "Entidades diversas, por ejemplo:\n",
    "* Eventos\n",
    "* Nacionalidades\n",
    "* Productos\n",
    "* Obras de arte."
   ]
  },
  {
   "cell_type": "code",
   "execution_count": 16,
   "metadata": {},
   "outputs": [
    {
     "name": "stdout",
     "output_type": "stream",
     "text": [
      "# MISC Entities = 63\n",
      "\n",
      "{'Ratón Pérez', 'Entraba por las innumerables rendijas el viento helado del alba', 'Le está encomendando el alma', 'Señora', 'Minini', 'rey Buby', 'Jockey-Club', 'Los médicos quisieron cloroformizarle', 'Era su carrera desatinada', 'Todo era entrada en aquella miserable habitación abierta á todos los vientos', 'El miedo', 'Fuera de sí de contento', 'Toisón de Oro', 'batalla de Ecnoma', 'Tennis_.', 'El rey Buby', 'De pronto dijo', 'Con la rapidez', 'Charcot', 'Tan sólo', 'Padre nuestro', 'Corona', 'Presidente del Consejo', 'Pero el rey Buby', 'Miróle', 'Quiso', 'Incorporóse', 'Reyecito', 'La Reina', 'La guardia ratonil', 'De pronto, sintió', 'Agradecióselo mucho el', 'Mas Ratón Pérez', 'Las señoritas hacían labor con su aya Miss Old-', 'Niño Jesús de Praga', 'Ripers', 'Vivía Ratón Pérez', 'Al calorcito de la lumbre oculta bajo el rescoldo dormía', 'De repente vió el rey Buby', 'Era entonces el rey Buby', 'La vanidad venció á Ratón Pérez', 'S. M. la hora de mudar los dientes.', 'De todos modos', 'Entre la muerte del rey', 'Era ya tarde', 'Emprendieron el viaje de vuelta silenciosos', 'Era todo él brillante como el oro', 'Tomóle de la mano Ratón Pérez', 'Polo_', 'El roce continuo', 'Era aquello un cuchitril infecto', 'Pocker', 'Las del 13 resultaban', 'De su mujer habló poco', 'Russaf Mateo', 'batalla de Bureva', 'El caso era grave', 'De Adán y Eva', 'No había allí más muebles', 'El caso fué grave', 'El niño comenzó á', 'Real Academia Española', 'Dios'}\n"
     ]
    }
   ],
   "source": [
    "ents_MISC = set(ent.text for ent in raton_perez_doc.ents if ent.label_ == 'MISC')\n",
    "\n",
    "print(\"# MISC Entities = {}\\n\".format(len(ents_MISC)))\n",
    "\n",
    "print(ents_MISC)"
   ]
  },
  {
   "cell_type": "markdown",
   "metadata": {},
   "source": [
    "Nombre de la ubicación definida política o geográficamente, por ejemplo:\n",
    "* Ciudades\n",
    "* Provincias\n",
    "* Países\n",
    "* Regiones internacionales\n",
    "* Cuerpos de agua\n",
    "* Montañas"
   ]
  },
  {
   "cell_type": "code",
   "execution_count": 17,
   "metadata": {},
   "outputs": [
    {
     "name": "stdout",
     "output_type": "stream",
     "text": [
      "# LOC Entities = 47\n",
      "\n",
      "{'Pues', 'No', 'Creyó', 'Adelaida', '¡Ni mantas quería él ya tener en su cama', 'Monasterio de Pombeyro', 'Caminaba', 'Galicia', 'Comprendió', 'Buby', 'Reyecito', 'Consejo de Ministros', 'Desdémona', 'Goto ó Gotona', 'Gilito', 'Reunióse', 'Holanda', 'Cesó', 'Gaiferos', 'Consta', 'Habló', 'Conocíase', 'Pérez', 'Convocó', 'Termópilas', 'Pareceres', 'Facultad', 'Apuradillo', 'Reina', 'Encaramóse', 'Polo', 'Fundó', 'Dejólo', 'Diácono', 'Reino', 'Gruyère', 'Cómo', 'Hospital del Rey', 'Mas', 'Ratona Pérez', 'Despertó', 'Tornó', 'Monarca', 'Ministro de Estado', 'calle del Arenal', 'Cámara', 'Cazadores'}\n"
     ]
    }
   ],
   "source": [
    "ents_LOC = set(ent.text for ent in raton_perez_doc.ents if ent.label_ == 'LOC')\n",
    "\n",
    "print(\"# LOC Entities = {}\\n\".format(len(ents_LOC)))\n",
    "\n",
    "print(ents_LOC)"
   ]
  },
  {
   "cell_type": "markdown",
   "metadata": {},
   "source": [
    "Nombre corporativo, gubernamental u otra entidad organizacional:"
   ]
  },
  {
   "cell_type": "code",
   "execution_count": 18,
   "metadata": {},
   "outputs": [
    {
     "name": "stdout",
     "output_type": "stream",
     "text": [
      "# ORG Entities = 6\n",
      "\n",
      "{'Cronicón Iriense', 'Oliva[B', 'Contestóle Ratón Pérez', 'Club', 'Embajada alemana', 'Merindad'}\n"
     ]
    }
   ],
   "source": [
    "ents_ORG = set(ent.text for ent in raton_perez_doc.ents if ent.label_ == 'ORG')\n",
    "\n",
    "print(\"# ORG Entities = {}\\n\".format(len(ents_ORG)))\n",
    "\n",
    "print(ents_ORG)"
   ]
  },
  {
   "cell_type": "markdown",
   "metadata": {},
   "source": [
    "Algunas estadisticas del cuento, usando Textacy:"
   ]
  },
  {
   "cell_type": "code",
   "execution_count": 19,
   "metadata": {},
   "outputs": [],
   "source": [
    "rp_stats = textacy.text_stats.TextStats(raton_perez_doc)"
   ]
  },
  {
   "cell_type": "code",
   "execution_count": 20,
   "metadata": {},
   "outputs": [
    {
     "name": "stdout",
     "output_type": "stream",
     "text": [
      "* # Oraciones = 123\n",
      "* # Palabras = 3869\n",
      "* # Palabras unicas = 1381\n",
      "* # Palabras de largo mayor o igual 7 = 875\n",
      "* # Caracteres = 17285\n",
      "* # Silabas = 7045\n"
     ]
    }
   ],
   "source": [
    "print(\"* # Oraciones = {}\".format(rp_stats.n_sents))\n",
    "print(\"* # Palabras = {}\".format(rp_stats.n_words))\n",
    "print(\"* # Palabras unicas = {}\".format(rp_stats.n_unique_words))\n",
    "print(\"* # Palabras de largo mayor o igual 7 = {}\".format(rp_stats.n_long_words))\n",
    "print(\"* # Caracteres = {}\".format(rp_stats.n_chars))\n",
    "print(\"* # Silabas = {}\".format(rp_stats.n_syllables))"
   ]
  },
  {
   "cell_type": "code",
   "execution_count": null,
   "metadata": {},
   "outputs": [],
   "source": []
  }
 ],
 "metadata": {
  "kernelspec": {
   "display_name": "Python 3",
   "language": "python",
   "name": "python3"
  },
  "language_info": {
   "codemirror_mode": {
    "name": "ipython",
    "version": 3
   },
   "file_extension": ".py",
   "mimetype": "text/x-python",
   "name": "python",
   "nbconvert_exporter": "python",
   "pygments_lexer": "ipython3",
   "version": "3.6.5"
  }
 },
 "nbformat": 4,
 "nbformat_minor": 2
}
